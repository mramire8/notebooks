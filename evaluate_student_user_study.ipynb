{
 "metadata": {
  "name": "",
  "signature": "sha256:bf318d571b52cf6c19053bfb14e6570a42868d71f08745ea9fb649fb0c4d00a5"
 },
 "nbformat": 3,
 "nbformat_minor": 0,
 "worksheets": [
  {
   "cells": [
    {
     "cell_type": "markdown",
     "metadata": {},
     "source": [
      "# Evalutate Student\n",
      "\n",
      "We use the user studies collected labels to test both first and SR students \n",
      "\n",
      "The procedure requires:\n",
      "\n",
      "* load the data using the same configuration\n",
      "* Get the VCT to process the doucments saved in the results \n",
      "* create a loop to train the student and graph the curves \n",
      "* Save curves on files\n"
     ]
    },
    {
     "cell_type": "code",
     "collapsed": false,
     "input": [
      "## Imports \n",
      "%matplotlib inline\n",
      "STRUCTURED = '../structured'\n",
      "IMDB_DATA = 'C:/Users/mramire8/Documents/Research/Oracle confidence and Interruption/dataset/aclImdb/raw-data'\n",
      "SRAA_DATA = 'C:/Users/mramire8/Documents/Research/Oracle confidence and Interruption/dataset/sraa/sraa/sraa/partition1/data'\n",
      "ARXIV_DATA= 'C:/Users/mramire8/Documents/Datasets/arxiv'\n",
      "\n",
      "IMDB_DATA = '/Users/maru/MyCode/data/imdb'\n",
      "SRAA_DATA = '/Users/maru/MyCode/data/sraa'\n",
      "\n",
      "# STRUCTURED = '/Users/maru/My Code/structured'\n",
      "# IMDB_DATA='/Users/maru/Dataset/aclImdb'\n",
      "# SRAA_DATA='/Users/maru/Dataset/aviation/data'\n",
      "# TWIITER_DATA = '/Users/maru/Dataset/twitter'\n",
      "\n",
      "import sys\n",
      "import os\n",
      "sys.path.append(os.path.abspath(STRUCTURED))\n",
      "import utilities.experimentutils as exputil\n",
      "import utilities.datautils as datautil\n",
      "import numpy as np\n",
      "import nltk\n",
      "from sklearn import metrics\n",
      "import matplotlib.pyplot as plt\n",
      "import matplotlib as mpl\n",
      "\n",
      "\n",
      "def load_data(dataname, path, categories=None):\n",
      "    import pickle\n",
      "\n",
      "    DATA_PKL = path + '/data_us.pkl'\n",
      "\n",
      "    if os.path.isfile(DATA_PKL):\n",
      "        vct, data = pickle.load(open(DATA_PKL, 'rb'))\n",
      "    else:\n",
      "        vct = exputil.get_vectorizer({'vectorizer':\"bow\", 'limit':2, 'min_size':100})\n",
      "        data = datautil.load_dataset(dataname, path, categories=categories, rnd=876543210, shuffle=True, keep_subject=True)\n",
      "        data.train.data = np.array(data.train.data, dtype=object)\n",
      "        data.test.data = np.array(data.test.data, dtype=object)\n",
      "        data.train.bow = vct.fit_transform(data.train.data)\n",
      "        data.test.bow = vct.transform(data.test.data)\n",
      "        pickle.dump((vct, data), open(DATA_PKL, 'wb'))\n",
      "\n",
      "    return data, vct\n",
      "\n",
      "# Get the sentences \n",
      "def _sentences(docs, doc_labels, sent_tk):\n",
      "    data = []\n",
      "    true_labels = []\n",
      "    sent = sent_tk.tokenize_sents(docs)\n",
      "    for sentences, doc_label in zip(sent, doc_labels):\n",
      "        data.extend(sentences)\n",
      "        true_labels.extend([doc_label] * len(sentences))\n",
      "    return data, np.array(true_labels), sent"
     ],
     "language": "python",
     "metadata": {},
     "outputs": [],
     "prompt_number": 1
    },
    {
     "cell_type": "code",
     "collapsed": false,
     "input": [
      "from collections import defaultdict\n",
      "\n",
      "def to_float(x):\n",
      "    f = x\n",
      "    try:\n",
      "        f = float(x)\n",
      "    except:\n",
      "        f = x\n",
      "    return f\n",
      "\n",
      "def read_data(filename, measure='expert', annotation_time=False):\n",
      "#Labels: doc_index\ttrue_label\texp_label\tdoc_text\n",
      "    if not os.path.isfile(filename):\n",
      "        raise Exception(\"Oops, no file\")\n",
      "        \n",
      "    f = open(filename)\n",
      "    with f:\n",
      "        lines = f.readlines() \n",
      "    print \"Number of fields:\", len(lines[0].split(\"\\t\"))\n",
      "    print \"Number of records:\", len(lines)-1\n",
      "    data_all =  [l.strip().split(\"\\t\") for l in lines[1:]] #discard first lines\n",
      "    data = np.array([[to_float(x) for x in row[:-1]] for row in data_all])\n",
      "    index = [float(d[0]) for d in data]\n",
      "    true = [float(d[1]) for d in data]\n",
      "    expert = [float(d[2]) for d in data]\n",
      "    time = []\n",
      "    doc_text = np.array([row[-1] for row in data_all])\n",
      "    if annotation_time:\n",
      "        time = [float(d[3]) for d in data]\n",
      "        len_snip = [row[-2].split() for row in data_all]\n",
      "        len_snip = [len(r) for r in len_snip]\n",
      "        return index, true, expert, doc_text, time, len_snip\n",
      "    return index, true, expert, doc_text, time\n",
      "\n",
      "def read_text(filename):\n",
      "#Labels: doc_index\ttrue_label\texp_label\tdoc_text\n",
      "    if not os.path.isfile(filename):\n",
      "        raise Exception(\"Oops, no file\")\n",
      "        \n",
      "    f = open(filename)\n",
      "    with f:\n",
      "        lines = f.readlines() \n",
      "    print \"Number of fields:\", len(lines[0].split(\"\\t\"))\n",
      "    print \"Number of records:\", len(lines)-1\n",
      "    data_all =  [l.strip().split(\"\\t\") for l in lines[1:]] #discard first lines\n",
      "    doc_text = np.array([row[-1] for row in data_all])\n",
      "    doc_snip = np.array([row[-2] for row in data_all])\n",
      "\n",
      "    return doc_text, doc_snip\n",
      "\n"
     ],
     "language": "python",
     "metadata": {},
     "outputs": [],
     "prompt_number": 42
    },
    {
     "cell_type": "code",
     "collapsed": false,
     "input": [
      "# IMDB_DATA = 'C:/Users/mramire8/Documents/Research/Oracle confidence and Interruption/dataset/aclImdb/raw-data'\n",
      "IMDB_DATA = '/Users/maru/MyCode/data/imdb'\n",
      "imdb, vct = load_data(\"imdb\", IMDB_DATA)"
     ],
     "language": "python",
     "metadata": {},
     "outputs": [],
     "prompt_number": 4
    },
    {
     "cell_type": "code",
     "collapsed": false,
     "input": [
      "clf = exputil.get_classifier('lrl1', parameter=1)\n",
      "\n",
      "DATA = \"C:/Users/mramire8/Google Drive/AAL-Experiments/firstk-journal/results/user_study_0\"\n",
      "DATA = \"/Users/maru/Google Drive/AAL-Experiments/firstk-journal/results/user_study_0\"\n",
      "\n",
      "f1_index, f1_true, f1_expert, f1_text, f1_time, f1_len  = read_data(DATA + \"/imdb-rnd-first1-expert2-labels.txt\", annotation_time=True)\n",
      "sr_index, sr_true, sr_expert, sr_text, sr_time, sr_len = read_data(DATA + \"/imdb-rnd-sr-expert1-labels.txt\", annotation_time=True)\n",
      "bt_index, bt_true, _, bt_text, _ = read_data(DATA + \"/imdb-rnd-sr-student-labels.txt\")"
     ],
     "language": "python",
     "metadata": {},
     "outputs": [
      {
       "output_type": "stream",
       "stream": "stdout",
       "text": [
        "Number of fields: 6\n",
        "Number of records: 200\n",
        "Number of fields: 6\n",
        "Number of records: 200\n",
        "Number of fields: 4\n",
        "Number of records: 194\n"
       ]
      }
     ],
     "prompt_number": 203
    },
    {
     "cell_type": "code",
     "collapsed": false,
     "input": [
      "# get the labels in the corresponding order\n",
      "f1_target = [f1_expert[f1_index.index(i)] for i in sr_index]\n",
      "\n",
      "# this step is not necessary, it should return the same order\n",
      "sr_target = [sr_expert[sr_index.index(i)] for i in sr_index]\n",
      "\n",
      "eval_seq = [f1_index.index(i) for i in sr_index]"
     ],
     "language": "python",
     "metadata": {},
     "outputs": [],
     "prompt_number": 67
    },
    {
     "cell_type": "code",
     "collapsed": false,
     "input": [
      "## Get the training documents ready fro evaluation\n",
      "train_tx = bt_text[:50]\n",
      "train_tx = np.append(train_tx, sr_text)\n",
      "train_bow = vct.transform(train_tx)\n",
      "train_target= bt_true[:50]\n",
      "# train_target.extend(sr_target)\n",
      "# train_target.extend(f1_target)"
     ],
     "language": "python",
     "metadata": {},
     "outputs": [],
     "prompt_number": 78
    },
    {
     "cell_type": "code",
     "collapsed": false,
     "input": [
      "len(train_tx)"
     ],
     "language": "python",
     "metadata": {},
     "outputs": [
      {
       "metadata": {},
       "output_type": "pyout",
       "prompt_number": 121,
       "text": [
        "250"
       ]
      }
     ],
     "prompt_number": 121
    },
    {
     "cell_type": "code",
     "collapsed": false,
     "input": [
      "from sklearn import metrics\n",
      "\n",
      "def evaluate_student(clf, train_bow, train_target, test):\n",
      "    x = range(50, len(train_target)+1, 1)\n",
      "    accuracy = []\n",
      "    \n",
      "    for step in x: \n",
      "        target_y = np.array(train_target[:step])\n",
      "        train_x = train_bow[:step]\n",
      "        non_neutral = target_y < 2\n",
      "        clf = exputil.get_classifier('lrl1', parameter=1)\n",
      "        clf.fit(train_x[non_neutral], target_y[non_neutral])\n",
      "        predicted = clf.predict(test.bow)\n",
      "        acc = metrics.accuracy_score(test.target, predicted)\n",
      "        accuracy.append(acc)\n",
      "#         print step, acc\n",
      "    return x, accuracy\n",
      "\n",
      "def plot_student(x,y, label=''):\n",
      "    plt.plot(x,y)\n",
      "    \n"
     ],
     "language": "python",
     "metadata": {},
     "outputs": [],
     "prompt_number": 6
    },
    {
     "cell_type": "markdown",
     "metadata": {},
     "source": [
      "# Student Evaluation\n",
      "\n",
      "Evaluate the student using the labels gathered with the user study\n",
      "\n",
      "* Bootstrap: 50 documents\n",
      "* Step: 1\n",
      "* Methods: first-1 and SR\n",
      "* Budget: 200 queries\n",
      "* Sequence: Random"
     ]
    },
    {
     "cell_type": "code",
     "collapsed": false,
     "input": [
      "# Evaluate SR\n",
      "train_target= bt_true[:50]\n",
      "train_target.extend(sr_target)\n",
      "x, y_sr = evaluate_student(clf,train_bow, train_target, imdb.test)\n",
      "\n",
      "#Evaluate First1\n",
      "train_target= bt_true[:50]\n",
      "train_target.extend(f1_target)\n",
      "x, y_f1 = evaluate_student(clf,train_bow, train_target, imdb.test)\n",
      "\n",
      "#Evaluate True\n",
      "train_target= bt_true[:50]\n",
      "train_target.extend(sr_true)\n",
      "x, y_true = evaluate_student(clf,train_bow, train_target,imdb.test)"
     ],
     "language": "python",
     "metadata": {},
     "outputs": [],
     "prompt_number": 159
    },
    {
     "cell_type": "code",
     "collapsed": false,
     "input": [
      "mpl.style.use('fivethirtyeight')\n",
      "\n",
      "def plot_eval(x, y_f1, y_sr, y_true, name='fig.png'):\n",
      "    plt.plot(x,y_f1, label='first-1')\n",
      "    plt.plot(x,y_sr, label='sr')\n",
      "    plt.plot(x,y_true, label='true')\n",
      "    plt.xlabel(\"Number of Queries\")\n",
      "    plt.ylabel(\"Accuracy\")\n",
      "    plt.ylim([.55,.75])\n",
      "    plt.legend(loc='best')\n",
      "    plt.savefig(name,bbox_inches=\"tight\", dpi=200, transparent=True)\n",
      "\n"
     ],
     "language": "python",
     "metadata": {},
     "outputs": [],
     "prompt_number": 142
    },
    {
     "cell_type": "code",
     "collapsed": false,
     "input": [
      "plot_eval(x, y_f1, y_sr, y_true)"
     ],
     "language": "python",
     "metadata": {},
     "outputs": []
    },
    {
     "cell_type": "markdown",
     "metadata": {},
     "source": [
      "# Statistical Significance of the Results\n",
      "\n",
      "Compare the three methods among each other to determine if the differences are significant"
     ]
    },
    {
     "cell_type": "code",
     "collapsed": false,
     "input": [
      "## Statistical significance\n",
      "# Paired t-test\n",
      "from scipy import stats\n",
      "print \"True vs. rest\"\n",
      "# print \"t-statistic: %f, p-value: %f\" % stats.ttest_ind(y_true, y_f1)\n",
      "print \"t-statistic: %f, p-value: %f\" % stats.ttest_rel(y_true, y_sr)\n",
      "print \"t-statistic: %f, p-value: %f\" % stats.ttest_rel(y_true, y_f1)\n",
      "\n",
      "\n",
      "print \"SR vs. rest\"\n",
      "# print \"t-statistic: %f, p-value: %f\" % stats.ttest_ind(y_sr, y_f1)\n",
      "print \"t-statistic: %f, p-value: %s\" % stats.ttest_rel(y_sr, y_true)\n",
      "print \"t-statistic: %f, p-value: %s\" % stats.ttest_rel(y_sr, y_f1)\n",
      "\n",
      "\n",
      "print \"F1 vs. rest\"\n",
      "# print \"t-statistic: %f, p-value: %f\" % stats.ttest_ind(y_f1, y_sr)\n",
      "print \"t-statistic: %f, p-value: %s\" % stats.ttest_rel(y_f1, y_true)\n",
      "print \"t-statistic: %f, p-value: %s\" % stats.ttest_rel(y_f1, y_sr)"
     ],
     "language": "python",
     "metadata": {},
     "outputs": [
      {
       "output_type": "stream",
       "stream": "stdout",
       "text": [
        "True vs. rest\n",
        "t-statistic: 36.231765, p-value: 0.000000\n",
        "SR vs. rest\n",
        "t-statistic: -36.231765, p-value: 8.08900189367e-90\n",
        "t-statistic: 5.278470, p-value: 3.37836826862e-07\n",
        "F1 vs. rest\n",
        "t-statistic: -34.326693, p-value: 8.96390237675e-86\n",
        "t-statistic: -5.278470, p-value: 3.37836826862e-07\n"
       ]
      }
     ],
     "prompt_number": 275
    },
    {
     "cell_type": "code",
     "collapsed": false,
     "input": [
      "## Statistical significance\n",
      "# Independent t-test\n",
      "# This is a two-sided test for the null hypothesis that 2 independent samples have identical average (expected) values. \n",
      "# This test assumes that the populations have identical variances\n",
      "\n",
      "#  If we observe a large p-value, for example larger than 0.05 or 0.1, then we cannot \n",
      "#     reject the null hypothesis of identical average scores. If the p-value is smaller \n",
      "#     than the threshold, e.g. 1%, 5% or 10%, then we reject the null hypothesis of equal \n",
      "#     averages\n",
      "\n",
      "print \"True vs. rest\"\n",
      "# print \"t-statistic: %f, p-value: %f\" % stats.ttest_ind(y_true, y_f1)\n",
      "print \"SR: t-statistic: %.4f, p-value: %s\" % stats.ttest_ind(y_true, y_sr)\n",
      "print \"F1: t-statistic: %.4f, p-value: %s\" % stats.ttest_ind(y_true, y_f1)\n",
      "\n",
      "\n",
      "print \"SR vs. rest\"\n",
      "# print \"t-statistic: %f, p-value: %f\" % stats.ttest_ind(y_sr, y_f1)\n",
      "print \"True: t-statistic: %.4f, p-value: %s\" % stats.ttest_ind(y_sr, y_true)\n",
      "print \"SR: t-statistic: %.4f, p-value: %s\" % stats.ttest_ind(y_sr, y_f1)\n",
      "\n",
      "\n",
      "print \"F1 vs. rest\"\n",
      "# print \"t-statistic: %f, p-value: %f\" % stats.ttest_ind(y_f1, y_sr)\n",
      "print \"True: t-statistic: %.4f, p-value: %s\" % stats.ttest_ind(y_f1, y_true)\n",
      "print \"SR: t-statistic: %.4f, p-value: %s\" % stats.ttest_ind(y_f1, y_sr)"
     ],
     "language": "python",
     "metadata": {},
     "outputs": [
      {
       "output_type": "stream",
       "stream": "stdout",
       "text": [
        "True vs. rest\n",
        "SR: t-statistic: 18.0532, p-value: 1.01833271632e-53\n",
        "F1: t-statistic: 18.9855, p-value: 9.11292794037e-58\n",
        "SR vs. rest\n",
        "True: t-statistic: -18.0532, p-value: 1.01833271632e-53\n",
        "SR: t-statistic: 2.5729, p-value: 0.010444125568\n",
        "F1 vs. rest\n",
        "True: t-statistic: -18.9855, p-value: 9.11292794037e-58\n",
        "SR: t-statistic: -2.5729, p-value: 0.010444125568\n"
       ]
      }
     ],
     "prompt_number": 282
    },
    {
     "cell_type": "markdown",
     "metadata": {},
     "source": [
      "## Oracle Measures\n",
      "\n",
      "We compute oracle accuracy, neutrality rate, class distribution"
     ]
    },
    {
     "cell_type": "code",
     "collapsed": false,
     "input": [
      "# Oracle Accuracy \n",
      "non_neutral = np.array(sr_target) < 2\n",
      "print \"SR: %.3f\" % (1. * np.sum(np.array(sr_true)[non_neutral] == np.array(sr_target)[non_neutral])/len(np.array(sr_true)[non_neutral]))\n",
      "non_neutral = np.array(f1_target) < 2\n",
      "print \"F1: %.3f\" % (1. * np.sum(np.array(sr_true)[non_neutral] == np.array(f1_target)[non_neutral])/len(np.array(sr_true)[non_neutral]))"
     ],
     "language": "python",
     "metadata": {},
     "outputs": [
      {
       "output_type": "stream",
       "stream": "stdout",
       "text": [
        "SR: 0.854\n",
        "F1: 0.833\n"
       ]
      }
     ],
     "prompt_number": 161
    },
    {
     "cell_type": "code",
     "collapsed": false,
     "input": [
      "# Oracle neutrality\n",
      "print \"SR: %.3f\"% (1. * (np.array(sr_target) == 2).sum()/ len(sr_target))\n",
      "print \"F1: %.3f\"% (1. * (np.array(f1_target) == 2).sum()/ len(f1_target))"
     ],
     "language": "python",
     "metadata": {},
     "outputs": [
      {
       "output_type": "stream",
       "stream": "stdout",
       "text": [
        "SR: 0.280\n",
        "F1: 0.250\n"
       ]
      }
     ],
     "prompt_number": 166
    },
    {
     "cell_type": "code",
     "collapsed": false,
     "input": [
      "#Class distribution\n",
      "from collections import Counter\n",
      "c = Counter(sr_target)\n",
      "print \"SR class distribution\"\n",
      "print \"\\tClass 0: %.3f\\n\\tClass 1: %.3f\\n\\tNeutral: %.3f\" % (1.*c[0]/sum(c.values()),1.*c[1]/sum(c.values()),1.*c[2]/sum(c.values()))\n",
      "\n",
      "c = Counter(f1_target)\n",
      "print \"F1 class distribution\"\n",
      "print \"\\tClass 0: %.3f\\n\\tClass 1: %.3f\\n\\tNeutral: %.3f\" % (1.*c[0]/sum(c.values()),1.*c[1]/sum(c.values()),1.*c[2]/sum(c.values()))\n",
      "\n",
      "c = Counter(sr_true)\n",
      "print \"True  class distribution\"\n",
      "print \"\\tClass 0: %.3f\\n\\tClass 1: %.3f\\n\\tNeutral: %.3f\" % (1.*c[0]/sum(c.values()),1.*c[1]/sum(c.values()),1.*c[2]/sum(c.values()))\n"
     ],
     "language": "python",
     "metadata": {},
     "outputs": [
      {
       "output_type": "stream",
       "stream": "stdout",
       "text": [
        "SR class distribution\n",
        "\tClass 0: 0.445\n",
        "\tClass 1: 0.275\n",
        "\tNeutral: 0.280\n",
        "F1 class distribution\n",
        "\tClass 0: 0.405\n",
        "\tClass 1: 0.345\n",
        "\tNeutral: 0.250\n",
        "True  class distribution\n",
        "\tClass 0: 0.510\n",
        "\tClass 1: 0.490\n",
        "\tNeutral: 0.000\n"
       ]
      }
     ],
     "prompt_number": 286
    },
    {
     "cell_type": "markdown",
     "metadata": {},
     "source": [
      "## Testing Oracle Accuracy on Full Training Set"
     ]
    },
    {
     "cell_type": "code",
     "collapsed": false,
     "input": [
      "train_target= bt_true[:50]\n",
      "train_target.extend(sr_true)\n",
      "clf = exputil.get_classifier('lrl1', parameter=1)\n",
      "clf.fit(train_bow, train_target)\n",
      "print \"True:\\t%.4f\" % metrics.accuracy_score(imdb.test.target, clf.predict(imdb.test.bow))\n",
      "\n",
      "train_target= bt_true[:50]\n",
      "train_target.extend(sr_target)\n",
      "non_neutral = np.array(train_target) < 2\n",
      "clf = exputil.get_classifier('lrl1', parameter=1)\n",
      "clf.fit(train_bow[non_neutral], np.array(train_target)[non_neutral])\n",
      "print \"SR:\\t%.4f\" % metrics.accuracy_score(imdb.test.target, clf.predict(imdb.test.bow))\n",
      "\n",
      "train_target= bt_true[:50]\n",
      "train_target.extend(f1_target)\n",
      "non_neutral = np.array(train_target) < 2\n",
      "clf = exputil.get_classifier('lrl1', parameter=1)\n",
      "clf.fit(train_bow[non_neutral], np.array(train_target)[non_neutral])\n",
      "print \"F1:\\t%.4f\" % metrics.accuracy_score(imdb.test.target, clf.predict(imdb.test.bow))\n"
     ],
     "language": "python",
     "metadata": {},
     "outputs": [
      {
       "output_type": "stream",
       "stream": "stdout",
       "text": [
        "True:\t0.7142\n",
        "SR:\t0.6539"
       ]
      },
      {
       "output_type": "stream",
       "stream": "stdout",
       "text": [
        "\n",
        "F1:\t0.6600"
       ]
      },
      {
       "output_type": "stream",
       "stream": "stdout",
       "text": [
        "\n"
       ]
      }
     ],
     "prompt_number": 164
    },
    {
     "cell_type": "code",
     "collapsed": false,
     "input": [
      "# Last point in plot\n",
      "print \"Last budget point:\", x[-1]\n",
      "print \"True:\\t%.4f\" %  y_true[-1]\n",
      "print \"SR:\\t%.4f\" % y_sr[-1]\n",
      "print \"F1:\\t%.4f\" % y_f1[-1]"
     ],
     "language": "python",
     "metadata": {},
     "outputs": [
      {
       "output_type": "stream",
       "stream": "stdout",
       "text": [
        "Last budget point: 250\n",
        "True:\t0.7147\n",
        "SR:\t0.6542\n",
        "F1:\t0.6598\n"
       ]
      }
     ],
     "prompt_number": 267
    },
    {
     "cell_type": "markdown",
     "metadata": {},
     "source": [
      "# Annotation Time\n",
      "\n",
      "Annotation time per method on IMDB data"
     ]
    },
    {
     "cell_type": "code",
     "collapsed": false,
     "input": [
      "## Annotation time vs. snippet size\n",
      "plt.plot(f1_len, f1_time, 'o', label='f1')\n",
      "plt.plot(sr_len, sr_time, 'o', label='sr1')\n",
      "\n",
      "plt.xlabel(\"Number of Words\")\n",
      "plt.ylabel(\"Annotation time (secs)\")\n",
      "plt.legend(loc='best')\n",
      "print \"Average F1 snippet size: %s, min=%.3f, max=%.3f\" % ( np.mean(f1_len), np.min(f1_len), np.max(f1_len))\n",
      "print \"Average SR snippet size: %s, min=%.3f, max=%.3f\" % (np.mean(sr_len), np.min(sr_len), np.max(sr_len))"
     ],
     "language": "python",
     "metadata": {},
     "outputs": [
      {
       "output_type": "stream",
       "stream": "stdout",
       "text": [
        "Average F1 snippet size: 20.975, min=1.000, max=115.000\n",
        "Average SR snippet size: 27.35, min=3.000, max=119.000\n"
       ]
      },
      {
       "metadata": {},
       "output_type": "display_data",
       "png": "[encoded data removed]",
       "text": [
        "<matplotlib.figure.Figure at 0x165633e10>"
       ]
      }
     ],
     "prompt_number": 268
    },
    {
     "cell_type": "code",
     "collapsed": false,
     "input": [
      "# Annotation time Histogram\n",
      "def plot_time(f1_time, sr_time, name='fig_time.png', labels=['f1','sr']):\n",
      "    a,b,c = plt.hist(f1_time, bins=20, label=labels[0], alpha=.65)\n",
      "    a,b,c = plt.hist(sr_time, bins=20, label=labels[1], alpha=.65)\n",
      "    plt.xlabel(\"Annotation time (secs)\")\n",
      "    plt.ylabel(\"Number of queries\")\n",
      "    plt.title(\"N=%s mean=%.2f\"%(len(f1_time),np.mean([f1_time, sr_time])))\n",
      "    plt.legend(loc='best')\n",
      "    print labels[0].upper() + \" Annotation avg. %.3f (+/-%.3f) max=%.3f min=%.3f\" % (np.mean(f1_time), np.std(f1_time), np.max(f1_time), np.min(f1_time))\n",
      "    print labels[1].upper() + \" Annotation avg. %.3f (+/-%.3f) max=%.3f min=%.3f\" % (np.mean(sr_time),np.std(sr_time), np.max(sr_time), np.min(sr_time))\n",
      "    plt.savefig(name,bbox_inches=\"tight\", dpi=200, transparent=True)\n"
     ],
     "language": "python",
     "metadata": {},
     "outputs": [],
     "prompt_number": 167
    },
    {
     "cell_type": "code",
     "collapsed": false,
     "input": [
      "plot_time(f1_time, sr_time)"
     ],
     "language": "python",
     "metadata": {},
     "outputs": []
    },
    {
     "cell_type": "markdown",
     "metadata": {},
     "source": [
      "## Annotation Time Significance \n",
      "\n",
      "Run an unpaired t-test on the annotation time comparing sr and f1 methods. \n",
      "\n",
      "p-value < 0.05, thus then we reject the null hypothesis, that is the two means are different"
     ]
    },
    {
     "cell_type": "code",
     "collapsed": false,
     "input": [
      "# If we observe a large p-value, for example larger than 0.05 or 0.1, then we \n",
      "# cannot reject the null hypothesis of identical average scores. If the p-value \n",
      "# is smaller than the threshold, e.g. 1%, 5% or 10%, then we reject the null \n",
      "# hypothesis of equal averages\n",
      "\n",
      "print \"t-statistic: %f, p-value: %s\" % stats.ttest_ind(sr_time, f1_time)\n",
      "print \"t-statistic: %f, p-value: %s\" % stats.ttest_rel(sr_time, f1_time)"
     ],
     "language": "python",
     "metadata": {},
     "outputs": [
      {
       "output_type": "stream",
       "stream": "stdout",
       "text": [
        "t-statistic: 5.015702, p-value: 7.97571697129e-07\n",
        "t-statistic: 5.055019, p-value: 9.72884218545e-07\n"
       ]
      }
     ],
     "prompt_number": 284
    },
    {
     "cell_type": "markdown",
     "metadata": {},
     "source": [
      "# Target Accuracy 80%\n",
      "\n",
      "How long does it take to 80% with true labels"
     ]
    },
    {
     "cell_type": "code",
     "collapsed": false,
     "input": [
      "import copy\n",
      "from scipy.sparse import vstack\n",
      "\n",
      "def add_instance(mat, to_add):\n",
      "    test_sent = []\n",
      "    if to_add.shape[0] == 0:\n",
      "        return mat\n",
      "    \n",
      "    for instance in to_add:\n",
      "        if isinstance(test_sent, list):\n",
      "            test_sent = vstack([mat, instance], format='csr')\n",
      "        else:\n",
      "            test_sent = vstack([test_sent, instance], format='csr')\n",
      "    return test_sent\n",
      "\n",
      "\n",
      "xx = copy.copy(x)\n",
      "y = copy.copy(y_true)\n",
      "\n",
      "train_target= bt_true[:50]\n",
      "train_target.extend(sr_true)\n",
      "clf = exputil.get_classifier('lrl1', parameter=1)\n",
      "clf.fit(train_bow, train_target)\n",
      "print \"True:\\t%.4f\" % metrics.accuracy_score(imdb.test.target, clf.predict(imdb.test.bow))\n",
      "accuracy = []\n",
      "budget = range(0,401)\n",
      "\n",
      "for step in budget: \n",
      "    train = add_instance(train_bow, imdb.train.bow[:step])\n",
      "    y_train = np.append(train_target, imdb.train.target[:step])\n",
      "    clf.fit(train, y_train)\n",
      "    predicted = clf.predict(imdb.test.bow)\n",
      "    acc = metrics.accuracy_score(imdb.test.target, predicted)\n",
      "    accuracy.append(acc)\n",
      "    print step, acc\n"
     ],
     "language": "python",
     "metadata": {},
     "outputs": [
      {
       "output_type": "stream",
       "stream": "stdout",
       "text": [
        "True:\t0.7144\n",
        "0"
       ]
      },
      {
       "output_type": "stream",
       "stream": "stdout",
       "text": [
        " 0.714354315899\n",
        "1"
       ]
      },
      {
       "output_type": "stream",
       "stream": "stdout",
       "text": [
        " 0.716155108248\n",
        "2"
       ]
      },
      {
       "output_type": "stream",
       "stream": "stdout",
       "text": [
        " 0.717315618872\n",
        "3"
       ]
      },
      {
       "output_type": "stream",
       "stream": "stdout",
       "text": [
        " 0.717115530834\n",
        "4"
       ]
      },
      {
       "output_type": "stream",
       "stream": "stdout",
       "text": [
        " 0.719996798591\n",
        "5"
       ]
      },
      {
       "output_type": "stream",
       "stream": "stdout",
       "text": [
        " 0.715594861739\n",
        "6"
       ]
      },
      {
       "output_type": "stream",
       "stream": "stdout",
       "text": [
        " 0.714194245468\n",
        "7"
       ]
      },
      {
       "output_type": "stream",
       "stream": "stdout",
       "text": [
        " 0.716155108248\n",
        "8"
       ]
      },
      {
       "output_type": "stream",
       "stream": "stdout",
       "text": [
        " 0.715714914562\n",
        "9"
       ]
      },
      {
       "output_type": "stream",
       "stream": "stdout",
       "text": [
        " 0.716195125855\n",
        "10"
       ]
      },
      {
       "output_type": "stream",
       "stream": "stdout",
       "text": [
        " 0.71611509064\n",
        "11"
       ]
      },
      {
       "output_type": "stream",
       "stream": "stdout",
       "text": [
        " 0.712393453119\n",
        "12"
       ]
      },
      {
       "output_type": "stream",
       "stream": "stdout",
       "text": [
        " 0.712473488335\n",
        "13"
       ]
      },
      {
       "output_type": "stream",
       "stream": "stdout",
       "text": [
        " 0.712353435512\n",
        "14"
       ]
      },
      {
       "output_type": "stream",
       "stream": "stdout",
       "text": [
        " 0.711833206611\n",
        "15"
       ]
      },
      {
       "output_type": "stream",
       "stream": "stdout",
       "text": [
        " 0.712993717236\n",
        "16"
       ]
      },
      {
       "output_type": "stream",
       "stream": "stdout",
       "text": [
        " 0.712793629197\n",
        "17"
       ]
      },
      {
       "output_type": "stream",
       "stream": "stdout",
       "text": [
        " 0.712433470727\n",
        "18"
       ]
      },
      {
       "output_type": "stream",
       "stream": "stdout",
       "text": [
        " 0.713794069391\n",
        "19"
       ]
      },
      {
       "output_type": "stream",
       "stream": "stdout",
       "text": [
        " 0.712233382688\n",
        "20"
       ]
      },
      {
       "output_type": "stream",
       "stream": "stdout",
       "text": [
        " 0.715514826524\n",
        "21"
       ]
      },
      {
       "output_type": "stream",
       "stream": "stdout",
       "text": [
        " 0.713834086998\n",
        "22"
       ]
      },
      {
       "output_type": "stream",
       "stream": "stdout",
       "text": [
        " 0.714834527192\n",
        "23"
       ]
      },
      {
       "output_type": "stream",
       "stream": "stdout",
       "text": [
        " 0.713553963744\n",
        "24"
       ]
      },
      {
       "output_type": "stream",
       "stream": "stdout",
       "text": [
        " 0.71363399896\n",
        "25"
       ]
      },
      {
       "output_type": "stream",
       "stream": "stdout",
       "text": [
        " 0.713473928529\n",
        "26"
       ]
      },
      {
       "output_type": "stream",
       "stream": "stdout",
       "text": [
        " 0.713233822882\n",
        "27"
       ]
      },
      {
       "output_type": "stream",
       "stream": "stdout",
       "text": [
        " 0.713313858098\n",
        "28"
       ]
      },
      {
       "output_type": "stream",
       "stream": "stdout",
       "text": [
        " 0.711753171395\n",
        "29"
       ]
      },
      {
       "output_type": "stream",
       "stream": "stdout",
       "text": [
        " 0.711152907279\n",
        "30"
       ]
      },
      {
       "output_type": "stream",
       "stream": "stdout",
       "text": [
        " 0.711993277042\n",
        "31"
       ]
      },
      {
       "output_type": "stream",
       "stream": "stdout",
       "text": [
        " 0.713874104606\n",
        "32"
       ]
      },
      {
       "output_type": "stream",
       "stream": "stdout",
       "text": [
        " 0.71363399896\n",
        "33"
       ]
      },
      {
       "output_type": "stream",
       "stream": "stdout",
       "text": [
        " 0.712753611589\n",
        "34"
       ]
      },
      {
       "output_type": "stream",
       "stream": "stdout",
       "text": [
        " 0.710992836848\n",
        "35"
       ]
      },
      {
       "output_type": "stream",
       "stream": "stdout",
       "text": [
        " 0.710992836848\n",
        "36"
       ]
      },
      {
       "output_type": "stream",
       "stream": "stdout",
       "text": [
        " 0.710672695986\n",
        "37"
       ]
      },
      {
       "output_type": "stream",
       "stream": "stdout",
       "text": [
        " 0.713033734843\n",
        "38"
       ]
      },
      {
       "output_type": "stream",
       "stream": "stdout",
       "text": [
        " 0.718756252751\n",
        "39"
       ]
      },
      {
       "output_type": "stream",
       "stream": "stdout",
       "text": [
        " 0.717155548441\n",
        "40"
       ]
      },
      {
       "output_type": "stream",
       "stream": "stdout",
       "text": [
        " 0.717035495618\n",
        "41"
       ]
      },
      {
       "output_type": "stream",
       "stream": "stdout",
       "text": [
        " 0.717995918204\n",
        "42"
       ]
      },
      {
       "output_type": "stream",
       "stream": "stdout",
       "text": [
        " 0.721037256393\n",
        "43"
       ]
      },
      {
       "output_type": "stream",
       "stream": "stdout",
       "text": [
        " 0.719956780984\n",
        "44"
       ]
      },
      {
       "output_type": "stream",
       "stream": "stdout",
       "text": [
        " 0.71983672816\n",
        "45"
       ]
      },
      {
       "output_type": "stream",
       "stream": "stdout",
       "text": [
        " 0.7205570451\n",
        "46"
       ]
      },
      {
       "output_type": "stream",
       "stream": "stdout",
       "text": [
        " 0.720517027492\n",
        "47"
       ]
      },
      {
       "output_type": "stream",
       "stream": "stdout",
       "text": [
        " 0.72019688663\n",
        "48"
       ]
      },
      {
       "output_type": "stream",
       "stream": "stdout",
       "text": [
        " 0.719916763376\n",
        "49"
       ]
      },
      {
       "output_type": "stream",
       "stream": "stdout",
       "text": [
        " 0.724198647405\n",
        "50"
       ]
      },
      {
       "output_type": "stream",
       "stream": "stdout",
       "text": [
        " 0.723478330465\n",
        "51"
       ]
      },
      {
       "output_type": "stream",
       "stream": "stdout",
       "text": [
        " 0.72303813678\n",
        "52"
       ]
      },
      {
       "output_type": "stream",
       "stream": "stdout",
       "text": [
        " 0.723598383289\n",
        "53"
       ]
      },
      {
       "output_type": "stream",
       "stream": "stdout",
       "text": [
        " 0.723598383289\n",
        "54"
       ]
      },
      {
       "output_type": "stream",
       "stream": "stdout",
       "text": [
        " 0.724118612189\n",
        "55"
       ]
      },
      {
       "output_type": "stream",
       "stream": "stdout",
       "text": [
        " 0.730601464644\n",
        "56"
       ]
      },
      {
       "output_type": "stream",
       "stream": "stdout",
       "text": [
        " 0.731481852015\n",
        "57"
       ]
      },
      {
       "output_type": "stream",
       "stream": "stdout",
       "text": [
        " 0.73156188723\n",
        "58"
       ]
      },
      {
       "output_type": "stream",
       "stream": "stdout",
       "text": [
        " 0.731361799192\n",
        "59"
       ]
      },
      {
       "output_type": "stream",
       "stream": "stdout",
       "text": [
        " 0.730201288567\n",
        "60"
       ]
      },
      {
       "output_type": "stream",
       "stream": "stdout",
       "text": [
        " 0.729120813158\n",
        "61"
       ]
      },
      {
       "output_type": "stream",
       "stream": "stdout",
       "text": [
        " 0.732562327424\n",
        "62"
       ]
      },
      {
       "output_type": "stream",
       "stream": "stdout",
       "text": [
        " 0.731962063308\n",
        "63"
       ]
      },
      {
       "output_type": "stream",
       "stream": "stdout",
       "text": [
        " 0.731601904838\n",
        "64"
       ]
      },
      {
       "output_type": "stream",
       "stream": "stdout",
       "text": [
        " 0.730641482252\n",
        "65"
       ]
      },
      {
       "output_type": "stream",
       "stream": "stdout",
       "text": [
        " 0.732162151347\n",
        "66"
       ]
      },
      {
       "output_type": "stream",
       "stream": "stdout",
       "text": [
        " 0.732162151347\n",
        "67"
       ]
      },
      {
       "output_type": "stream",
       "stream": "stdout",
       "text": [
        " 0.731842010485\n",
        "68"
       ]
      },
      {
       "output_type": "stream",
       "stream": "stdout",
       "text": [
        " 0.73032134139\n",
        "69"
       ]
      },
      {
       "output_type": "stream",
       "stream": "stdout",
       "text": [
        " 0.728800672296\n",
        "70"
       ]
      },
      {
       "output_type": "stream",
       "stream": "stdout",
       "text": [
        " 0.73032134139\n",
        "71"
       ]
      },
      {
       "output_type": "stream",
       "stream": "stdout",
       "text": [
        " 0.725719316499\n",
        "72"
       ]
      },
      {
       "output_type": "stream",
       "stream": "stdout",
       "text": [
        " 0.717675777342\n",
        "73"
       ]
      },
      {
       "output_type": "stream",
       "stream": "stdout",
       "text": [
        " 0.717795830165\n",
        "74"
       ]
      },
      {
       "output_type": "stream",
       "stream": "stdout",
       "text": [
        " 0.721597502901\n",
        "75"
       ]
      },
      {
       "output_type": "stream",
       "stream": "stdout",
       "text": [
        " 0.722277802233\n",
        "76"
       ]
      },
      {
       "output_type": "stream",
       "stream": "stdout",
       "text": [
        " 0.721957661371\n",
        "77"
       ]
      },
      {
       "output_type": "stream",
       "stream": "stdout",
       "text": [
        " 0.724358717836\n",
        "78"
       ]
      },
      {
       "output_type": "stream",
       "stream": "stdout",
       "text": [
        " 0.724718876306\n",
        "79"
       ]
      },
      {
       "output_type": "stream",
       "stream": "stdout",
       "text": [
        " 0.72463884109\n",
        "80"
       ]
      },
      {
       "output_type": "stream",
       "stream": "stdout",
       "text": [
        " 0.721917643763\n",
        "81"
       ]
      },
      {
       "output_type": "stream",
       "stream": "stdout",
       "text": [
        " 0.722597943095\n",
        "82"
       ]
      },
      {
       "output_type": "stream",
       "stream": "stdout",
       "text": [
        " 0.72427868262\n",
        "83"
       ]
      },
      {
       "output_type": "stream",
       "stream": "stdout",
       "text": [
        " 0.722437872664\n",
        "84"
       ]
      },
      {
       "output_type": "stream",
       "stream": "stdout",
       "text": [
        " 0.72339829525\n",
        "85"
       ]
      },
      {
       "output_type": "stream",
       "stream": "stdout",
       "text": [
        " 0.721917643763\n",
        "86"
       ]
      },
      {
       "output_type": "stream",
       "stream": "stdout",
       "text": [
        " 0.722717995918\n",
        "87"
       ]
      },
      {
       "output_type": "stream",
       "stream": "stdout",
       "text": [
        " 0.724078594582\n",
        "88"
       ]
      },
      {
       "output_type": "stream",
       "stream": "stdout",
       "text": [
        " 0.722838048741\n",
        "89"
       ]
      },
      {
       "output_type": "stream",
       "stream": "stdout",
       "text": [
        " 0.722838048741\n",
        "90"
       ]
      },
      {
       "output_type": "stream",
       "stream": "stdout",
       "text": [
        " 0.721237344432\n",
        "91"
       ]
      },
      {
       "output_type": "stream",
       "stream": "stdout",
       "text": [
        " 0.720957221177\n",
        "92"
       ]
      },
      {
       "output_type": "stream",
       "stream": "stdout",
       "text": [
        " 0.721277362039\n",
        "93"
       ]
      },
      {
       "output_type": "stream",
       "stream": "stdout",
       "text": [
        " 0.721837608548\n",
        "94"
       ]
      },
      {
       "output_type": "stream",
       "stream": "stdout",
       "text": [
        " 0.721877626156\n",
        "95"
       ]
      },
      {
       "output_type": "stream",
       "stream": "stdout",
       "text": [
        " 0.721917643763\n",
        "96"
       ]
      },
      {
       "output_type": "stream",
       "stream": "stdout",
       "text": [
        " 0.720877185962\n",
        "97"
       ]
      },
      {
       "output_type": "stream",
       "stream": "stdout",
       "text": [
        " 0.721197326824\n",
        "98"
       ]
      },
      {
       "output_type": "stream",
       "stream": "stdout",
       "text": [
        " 0.721557485294\n",
        "99"
       ]
      },
      {
       "output_type": "stream",
       "stream": "stdout",
       "text": [
        " 0.72215774941\n",
        "100"
       ]
      },
      {
       "output_type": "stream",
       "stream": "stdout",
       "text": [
        " 0.720477009884\n",
        "101"
       ]
      },
      {
       "output_type": "stream",
       "stream": "stdout",
       "text": [
        " 0.721117291608\n",
        "102"
       ]
      },
      {
       "output_type": "stream",
       "stream": "stdout",
       "text": [
        " 0.721557485294\n",
        "103"
       ]
      },
      {
       "output_type": "stream",
       "stream": "stdout",
       "text": [
        " 0.72143743247\n",
        "104"
       ]
      },
      {
       "output_type": "stream",
       "stream": "stdout",
       "text": [
        " 0.721757573332\n",
        "105"
       ]
      },
      {
       "output_type": "stream",
       "stream": "stdout",
       "text": [
        " 0.721757573332\n",
        "106"
       ]
      },
      {
       "output_type": "stream",
       "stream": "stdout",
       "text": [
        " 0.720677097923\n",
        "107"
       ]
      },
      {
       "output_type": "stream",
       "stream": "stdout",
       "text": [
        " 0.720116851415\n",
        "108"
       ]
      },
      {
       "output_type": "stream",
       "stream": "stdout",
       "text": [
        " 0.720236904238\n",
        "109"
       ]
      },
      {
       "output_type": "stream",
       "stream": "stdout",
       "text": [
        " 0.721637520509\n",
        "110"
       ]
      },
      {
       "output_type": "stream",
       "stream": "stdout",
       "text": [
        " 0.722397855056\n",
        "111"
       ]
      },
      {
       "output_type": "stream",
       "stream": "stdout",
       "text": [
        " 0.725279122814\n",
        "112"
       ]
      },
      {
       "output_type": "stream",
       "stream": "stdout",
       "text": [
        " 0.719636640122\n",
        "113"
       ]
      },
      {
       "output_type": "stream",
       "stream": "stdout",
       "text": [
        " 0.720637080315\n",
        "114"
       ]
      },
      {
       "output_type": "stream",
       "stream": "stdout",
       "text": [
        " 0.721317379647\n",
        "115"
       ]
      },
      {
       "output_type": "stream",
       "stream": "stdout",
       "text": [
        " 0.721597502901\n",
        "116"
       ]
      },
      {
       "output_type": "stream",
       "stream": "stdout",
       "text": [
        " 0.721637520509\n",
        "117"
       ]
      },
      {
       "output_type": "stream",
       "stream": "stdout",
       "text": [
        " 0.722237784625\n",
        "118"
       ]
      },
      {
       "output_type": "stream",
       "stream": "stdout",
       "text": [
        " 0.724438753051\n",
        "119"
       ]
      },
      {
       "output_type": "stream",
       "stream": "stdout",
       "text": [
        " 0.724718876306\n",
        "120"
       ]
      },
      {
       "output_type": "stream",
       "stream": "stdout",
       "text": [
        " 0.723558365681\n",
        "121"
       ]
      },
      {
       "output_type": "stream",
       "stream": "stdout",
       "text": [
        " 0.724598823482\n",
        "122"
       ]
      },
      {
       "output_type": "stream",
       "stream": "stdout",
       "text": [
        " 0.724678858698\n",
        "123"
       ]
      },
      {
       "output_type": "stream",
       "stream": "stdout",
       "text": [
        " 0.723878506543\n",
        "124"
       ]
      },
      {
       "output_type": "stream",
       "stream": "stdout",
       "text": [
        " 0.723718436112\n",
        "125"
       ]
      },
      {
       "output_type": "stream",
       "stream": "stdout",
       "text": [
        " 0.723958541758\n",
        "126"
       ]
      },
      {
       "output_type": "stream",
       "stream": "stdout",
       "text": [
        " 0.723598383289\n",
        "127"
       ]
      },
      {
       "output_type": "stream",
       "stream": "stdout",
       "text": [
        " 0.724358717836\n",
        "128"
       ]
      },
      {
       "output_type": "stream",
       "stream": "stdout",
       "text": [
        " 0.730521429429\n",
        "129"
       ]
      },
      {
       "output_type": "stream",
       "stream": "stdout",
       "text": [
        " 0.730121253351\n",
        "130"
       ]
      },
      {
       "output_type": "stream",
       "stream": "stdout",
       "text": [
        " 0.73032134139\n",
        "131"
       ]
      },
      {
       "output_type": "stream",
       "stream": "stdout",
       "text": [
        " 0.730121253351\n",
        "132"
       ]
      },
      {
       "output_type": "stream",
       "stream": "stdout",
       "text": [
        " 0.732122133739\n",
        "133"
       ]
      },
      {
       "output_type": "stream",
       "stream": "stdout",
       "text": [
        " 0.729881147705\n",
        "134"
       ]
      },
      {
       "output_type": "stream",
       "stream": "stdout",
       "text": [
        " 0.730241306175\n",
        "135"
       ]
      },
      {
       "output_type": "stream",
       "stream": "stdout",
       "text": [
        " 0.730241306175\n",
        "136"
       ]
      },
      {
       "output_type": "stream",
       "stream": "stdout",
       "text": [
        " 0.729520989235\n",
        "137"
       ]
      },
      {
       "output_type": "stream",
       "stream": "stdout",
       "text": [
        " 0.726639721477\n",
        "138"
       ]
      },
      {
       "output_type": "stream",
       "stream": "stdout",
       "text": [
        " 0.728360478611\n",
        "139"
       ]
      },
      {
       "output_type": "stream",
       "stream": "stdout",
       "text": [
        " 0.728280443395\n",
        "140"
       ]
      },
      {
       "output_type": "stream",
       "stream": "stdout",
       "text": [
        " 0.727880267318\n",
        "141"
       ]
      },
      {
       "output_type": "stream",
       "stream": "stdout",
       "text": [
        " 0.727560126456\n",
        "142"
       ]
      },
      {
       "output_type": "stream",
       "stream": "stdout",
       "text": [
        " 0.727520108848\n",
        "143"
       ]
      },
      {
       "output_type": "stream",
       "stream": "stdout",
       "text": [
        " 0.727800232102\n",
        "144"
       ]
      },
      {
       "output_type": "stream",
       "stream": "stdout",
       "text": [
        " 0.728760654688\n",
        "145"
       ]
      },
      {
       "output_type": "stream",
       "stream": "stdout",
       "text": [
        " 0.728240425787\n",
        "146"
       ]
      },
      {
       "output_type": "stream",
       "stream": "stdout",
       "text": [
        " 0.728240425787\n",
        "147"
       ]
      },
      {
       "output_type": "stream",
       "stream": "stdout",
       "text": [
        " 0.729881147705\n",
        "148"
       ]
      },
      {
       "output_type": "stream",
       "stream": "stdout",
       "text": [
        " 0.724678858698\n",
        "149"
       ]
      },
      {
       "output_type": "stream",
       "stream": "stdout",
       "text": [
        " 0.725559246068\n",
        "150"
       ]
      },
      {
       "output_type": "stream",
       "stream": "stdout",
       "text": [
        " 0.726279563008\n",
        "151"
       ]
      },
      {
       "output_type": "stream",
       "stream": "stdout",
       "text": [
        " 0.725959422146\n",
        "152"
       ]
      },
      {
       "output_type": "stream",
       "stream": "stdout",
       "text": [
        " 0.726199527792\n",
        "153"
       ]
      },
      {
       "output_type": "stream",
       "stream": "stdout",
       "text": [
        " 0.726359598223\n",
        "154"
       ]
      },
      {
       "output_type": "stream",
       "stream": "stdout",
       "text": [
        " 0.722597943095\n",
        "155"
       ]
      },
      {
       "output_type": "stream",
       "stream": "stdout",
       "text": [
        " 0.722517907879\n",
        "156"
       ]
      },
      {
       "output_type": "stream",
       "stream": "stdout",
       "text": [
        " 0.721957661371\n",
        "157"
       ]
      },
      {
       "output_type": "stream",
       "stream": "stdout",
       "text": [
        " 0.722557925487\n",
        "158"
       ]
      },
      {
       "output_type": "stream",
       "stream": "stdout",
       "text": [
        " 0.723838488935\n",
        "159"
       ]
      },
      {
       "output_type": "stream",
       "stream": "stdout",
       "text": [
        " 0.723478330465\n",
        "160"
       ]
      },
      {
       "output_type": "stream",
       "stream": "stdout",
       "text": [
        " 0.724358717836\n",
        "161"
       ]
      },
      {
       "output_type": "stream",
       "stream": "stdout",
       "text": [
        " 0.723918524151\n",
        "162"
       ]
      },
      {
       "output_type": "stream",
       "stream": "stdout",
       "text": [
        " 0.723238224819\n",
        "163"
       ]
      },
      {
       "output_type": "stream",
       "stream": "stdout",
       "text": [
        " 0.722397855056\n",
        "164"
       ]
      },
      {
       "output_type": "stream",
       "stream": "stdout",
       "text": [
        " 0.721957661371\n",
        "165"
       ]
      },
      {
       "output_type": "stream",
       "stream": "stdout",
       "text": [
        " 0.722197767017\n",
        "166"
       ]
      },
      {
       "output_type": "stream",
       "stream": "stdout",
       "text": [
        " 0.723438312858\n",
        "167"
       ]
      },
      {
       "output_type": "stream",
       "stream": "stdout",
       "text": [
        " 0.723638400896\n",
        "168"
       ]
      },
      {
       "output_type": "stream",
       "stream": "stdout",
       "text": [
        " 0.72267797831\n",
        "169"
       ]
      },
      {
       "output_type": "stream",
       "stream": "stdout",
       "text": [
        " 0.723118171996\n",
        "170"
       ]
      },
      {
       "output_type": "stream",
       "stream": "stdout",
       "text": [
        " 0.722758013526\n",
        "171"
       ]
      },
      {
       "output_type": "stream",
       "stream": "stdout",
       "text": [
        " 0.722918083957\n",
        "172"
       ]
      },
      {
       "output_type": "stream",
       "stream": "stdout",
       "text": [
        " 0.722397855056\n",
        "173"
       ]
      },
      {
       "output_type": "stream",
       "stream": "stdout",
       "text": [
        " 0.723238224819\n",
        "174"
       ]
      },
      {
       "output_type": "stream",
       "stream": "stdout",
       "text": [
        " 0.722477890272\n",
        "175"
       ]
      },
      {
       "output_type": "stream",
       "stream": "stdout",
       "text": [
        " 0.723478330465\n",
        "176"
       ]
      },
      {
       "output_type": "stream",
       "stream": "stdout",
       "text": [
        " 0.723318260034\n",
        "177"
       ]
      },
      {
       "output_type": "stream",
       "stream": "stdout",
       "text": [
        " 0.722878066349\n",
        "178"
       ]
      },
      {
       "output_type": "stream",
       "stream": "stdout",
       "text": [
        " 0.722557925487\n",
        "179"
       ]
      },
      {
       "output_type": "stream",
       "stream": "stdout",
       "text": [
        " 0.723438312858\n",
        "180"
       ]
      },
      {
       "output_type": "stream",
       "stream": "stdout",
       "text": [
        " 0.723198207211\n",
        "181"
       ]
      },
      {
       "output_type": "stream",
       "stream": "stdout",
       "text": [
        " 0.723598383289\n",
        "182"
       ]
      },
      {
       "output_type": "stream",
       "stream": "stdout",
       "text": [
        " 0.724118612189\n",
        "183"
       ]
      },
      {
       "output_type": "stream",
       "stream": "stdout",
       "text": [
        " 0.723798471327\n",
        "184"
       ]
      },
      {
       "output_type": "stream",
       "stream": "stdout",
       "text": [
        " 0.725599263676\n",
        "185"
       ]
      },
      {
       "output_type": "stream",
       "stream": "stdout",
       "text": [
        " 0.725119052383\n",
        "186"
       ]
      },
      {
       "output_type": "stream",
       "stream": "stdout",
       "text": [
        " 0.72659970387\n",
        "187"
       ]
      },
      {
       "output_type": "stream",
       "stream": "stdout",
       "text": [
        " 0.726879827124\n",
        "188"
       ]
      },
      {
       "output_type": "stream",
       "stream": "stdout",
       "text": [
        " 0.725399175637\n",
        "189"
       ]
      },
      {
       "output_type": "stream",
       "stream": "stdout",
       "text": [
        " 0.725279122814\n",
        "190"
       ]
      },
      {
       "output_type": "stream",
       "stream": "stdout",
       "text": [
        " 0.726319580615\n",
        "191"
       ]
      },
      {
       "output_type": "stream",
       "stream": "stdout",
       "text": [
        " 0.725599263676\n",
        "192"
       ]
      },
      {
       "output_type": "stream",
       "stream": "stdout",
       "text": [
        " 0.727800232102\n",
        "193"
       ]
      },
      {
       "output_type": "stream",
       "stream": "stdout",
       "text": [
        " 0.727960302533\n",
        "194"
       ]
      },
      {
       "output_type": "stream",
       "stream": "stdout",
       "text": [
        " 0.727800232102\n",
        "195"
       ]
      },
      {
       "output_type": "stream",
       "stream": "stdout",
       "text": [
        " 0.727880267318\n",
        "196"
       ]
      },
      {
       "output_type": "stream",
       "stream": "stdout",
       "text": [
        " 0.72748009124\n",
        "197"
       ]
      },
      {
       "output_type": "stream",
       "stream": "stdout",
       "text": [
        " 0.728320461003\n",
        "198"
       ]
      },
      {
       "output_type": "stream",
       "stream": "stdout",
       "text": [
        " 0.72748009124\n",
        "199"
       ]
      },
      {
       "output_type": "stream",
       "stream": "stdout",
       "text": [
        " 0.727440073632\n",
        "200"
       ]
      },
      {
       "output_type": "stream",
       "stream": "stdout",
       "text": [
        " 0.726799791908\n",
        "201"
       ]
      },
      {
       "output_type": "stream",
       "stream": "stdout",
       "text": [
        " 0.733322661971\n",
        "202"
       ]
      },
      {
       "output_type": "stream",
       "stream": "stdout",
       "text": [
        " 0.731521869623\n",
        "203"
       ]
      },
      {
       "output_type": "stream",
       "stream": "stdout",
       "text": [
        " 0.731121693545\n",
        "204"
       ]
      },
      {
       "output_type": "stream",
       "stream": "stdout",
       "text": [
        " 0.732442274601\n",
        "205"
       ]
      },
      {
       "output_type": "stream",
       "stream": "stdout",
       "text": [
        " 0.733282644364\n",
        "206"
       ]
      },
      {
       "output_type": "stream",
       "stream": "stdout",
       "text": [
        " 0.730281323782\n",
        "207"
       ]
      },
      {
       "output_type": "stream",
       "stream": "stdout",
       "text": [
        " 0.729841130097\n",
        "208"
       ]
      },
      {
       "output_type": "stream",
       "stream": "stdout",
       "text": [
        " 0.730081235744\n",
        "209"
       ]
      },
      {
       "output_type": "stream",
       "stream": "stdout",
       "text": [
        " 0.729240865981\n",
        "210"
       ]
      },
      {
       "output_type": "stream",
       "stream": "stdout",
       "text": [
        " 0.729240865981\n",
        "211"
       ]
      },
      {
       "output_type": "stream",
       "stream": "stdout",
       "text": [
        " 0.728600584257\n",
        "212"
       ]
      },
      {
       "output_type": "stream",
       "stream": "stdout",
       "text": [
        " 0.72996118292\n",
        "213"
       ]
      },
      {
       "output_type": "stream",
       "stream": "stdout",
       "text": [
        " 0.730201288567\n",
        "214"
       ]
      },
      {
       "output_type": "stream",
       "stream": "stdout",
       "text": [
        " 0.736123894514\n",
        "215"
       ]
      },
      {
       "output_type": "stream",
       "stream": "stdout",
       "text": [
        " 0.73440313738\n",
        "216"
       ]
      },
      {
       "output_type": "stream",
       "stream": "stdout",
       "text": [
        " 0.735683700828\n",
        "217"
       ]
      },
      {
       "output_type": "stream",
       "stream": "stdout",
       "text": [
        " 0.738564968586\n",
        "218"
       ]
      },
      {
       "output_type": "stream",
       "stream": "stdout",
       "text": [
        " 0.738484933371\n",
        "219"
       ]
      },
      {
       "output_type": "stream",
       "stream": "stdout",
       "text": [
        " 0.738765056625\n",
        "220"
       ]
      },
      {
       "output_type": "stream",
       "stream": "stdout",
       "text": [
        " 0.738404898155\n",
        "221"
       ]
      },
      {
       "output_type": "stream",
       "stream": "stdout",
       "text": [
        " 0.738564968586\n",
        "222"
       ]
      },
      {
       "output_type": "stream",
       "stream": "stdout",
       "text": [
        " 0.738645003802\n",
        "223"
       ]
      },
      {
       "output_type": "stream",
       "stream": "stdout",
       "text": [
        " 0.739685461603\n",
        "224"
       ]
      },
      {
       "output_type": "stream",
       "stream": "stdout",
       "text": [
        " 0.739405338349\n",
        "225"
       ]
      },
      {
       "output_type": "stream",
       "stream": "stdout",
       "text": [
        " 0.740565848974\n",
        "226"
       ]
      },
      {
       "output_type": "stream",
       "stream": "stdout",
       "text": [
        " 0.74044579615\n",
        "227"
       ]
      },
      {
       "output_type": "stream",
       "stream": "stdout",
       "text": [
        " 0.741006042659\n",
        "228"
       ]
      },
      {
       "output_type": "stream",
       "stream": "stdout",
       "text": [
        " 0.742326623714\n",
        "229"
       ]
      },
      {
       "output_type": "stream",
       "stream": "stdout",
       "text": [
        " 0.742806835007\n",
        "230"
       ]
      },
      {
       "output_type": "stream",
       "stream": "stdout",
       "text": [
        " 0.742526711753\n",
        "231"
       ]
      },
      {
       "output_type": "stream",
       "stream": "stdout",
       "text": [
        " 0.742286606107\n",
        "232"
       ]
      },
      {
       "output_type": "stream",
       "stream": "stdout",
       "text": [
        " 0.743727239986\n",
        "233"
       ]
      },
      {
       "output_type": "stream",
       "stream": "stdout",
       "text": [
        " 0.744127416063\n",
        "234"
       ]
      },
      {
       "output_type": "stream",
       "stream": "stdout",
       "text": [
        " 0.744167433671\n",
        "235"
       ]
      },
      {
       "output_type": "stream",
       "stream": "stdout",
       "text": [
        " 0.742886870223\n",
        "236"
       ]
      },
      {
       "output_type": "stream",
       "stream": "stdout",
       "text": [
        " 0.742246588499\n",
        "237"
       ]
      },
      {
       "output_type": "stream",
       "stream": "stdout",
       "text": [
        " 0.742246588499\n",
        "238"
       ]
      },
      {
       "output_type": "stream",
       "stream": "stdout",
       "text": [
        " 0.742806835007\n",
        "239"
       ]
      },
      {
       "output_type": "stream",
       "stream": "stdout",
       "text": [
        " 0.743086958262\n",
        "240"
       ]
      },
      {
       "output_type": "stream",
       "stream": "stdout",
       "text": [
        " 0.742566729361\n",
        "241"
       ]
      },
      {
       "output_type": "stream",
       "stream": "stdout",
       "text": [
        " 0.744087398455\n",
        "242"
       ]
      },
      {
       "output_type": "stream",
       "stream": "stdout",
       "text": [
        " 0.74400736324\n",
        "243"
       ]
      },
      {
       "output_type": "stream",
       "stream": "stdout",
       "text": [
        " 0.74560806755\n",
        "244"
       ]
      },
      {
       "output_type": "stream",
       "stream": "stdout",
       "text": [
        " 0.743607187162\n",
        "245"
       ]
      },
      {
       "output_type": "stream",
       "stream": "stdout",
       "text": [
        " 0.742286606107\n",
        "246"
       ]
      },
      {
       "output_type": "stream",
       "stream": "stdout",
       "text": [
        " 0.742686782184\n",
        "247"
       ]
      },
      {
       "output_type": "stream",
       "stream": "stdout",
       "text": [
        " 0.744847733003\n",
        "248"
       ]
      },
      {
       "output_type": "stream",
       "stream": "stdout",
       "text": [
        " 0.745207891472\n",
        "249"
       ]
      },
      {
       "output_type": "stream",
       "stream": "stdout",
       "text": [
        " 0.744927768218\n",
        "250"
       ]
      },
      {
       "output_type": "stream",
       "stream": "stdout",
       "text": [
        " 0.744127416063\n",
        "251"
       ]
      },
      {
       "output_type": "stream",
       "stream": "stdout",
       "text": [
        " 0.744647644964\n",
        "252"
       ]
      },
      {
       "output_type": "stream",
       "stream": "stdout",
       "text": [
        " 0.744727680179\n",
        "253"
       ]
      },
      {
       "output_type": "stream",
       "stream": "stdout",
       "text": [
        " 0.749249669855\n",
        "254"
       ]
      },
      {
       "output_type": "stream",
       "stream": "stdout",
       "text": [
        " 0.749009564208\n",
        "255"
       ]
      },
      {
       "output_type": "stream",
       "stream": "stdout",
       "text": [
        " 0.748889511385\n",
        "256"
       ]
      },
      {
       "output_type": "stream",
       "stream": "stdout",
       "text": [
        " 0.747688983153\n",
        "257"
       ]
      },
      {
       "output_type": "stream",
       "stream": "stdout",
       "text": [
        " 0.747568930329\n",
        "258"
       ]
      },
      {
       "output_type": "stream",
       "stream": "stdout",
       "text": [
        " 0.747608947937\n",
        "259"
       ]
      },
      {
       "output_type": "stream",
       "stream": "stdout",
       "text": [
        " 0.747088719036\n",
        "260"
       ]
      },
      {
       "output_type": "stream",
       "stream": "stdout",
       "text": [
        " 0.747048701429\n",
        "261"
       ]
      },
      {
       "output_type": "stream",
       "stream": "stdout",
       "text": [
        " 0.747288807075\n",
        "262"
       ]
      },
      {
       "output_type": "stream",
       "stream": "stdout",
       "text": [
        " 0.746928648605\n",
        "263"
       ]
      },
      {
       "output_type": "stream",
       "stream": "stdout",
       "text": [
        " 0.745928208412\n",
        "264"
       ]
      },
      {
       "output_type": "stream",
       "stream": "stdout",
       "text": [
        " 0.746328384489\n",
        "265"
       ]
      },
      {
       "output_type": "stream",
       "stream": "stdout",
       "text": [
        " 0.745808155588\n",
        "266"
       ]
      },
      {
       "output_type": "stream",
       "stream": "stdout",
       "text": [
        " 0.746368402097\n",
        "267"
       ]
      },
      {
       "output_type": "stream",
       "stream": "stdout",
       "text": [
        " 0.747088719036\n",
        "268"
       ]
      },
      {
       "output_type": "stream",
       "stream": "stdout",
       "text": [
        " 0.745367961903\n",
        "269"
       ]
      },
      {
       "output_type": "stream",
       "stream": "stdout",
       "text": [
        " 0.745167873865\n",
        "270"
       ]
      },
      {
       "output_type": "stream",
       "stream": "stdout",
       "text": [
        " 0.745488014726\n",
        "271"
       ]
      },
      {
       "output_type": "stream",
       "stream": "stdout",
       "text": [
        " 0.745808155588\n",
        "272"
       ]
      },
      {
       "output_type": "stream",
       "stream": "stdout",
       "text": [
        " 0.746008243627\n",
        "273"
       ]
      },
      {
       "output_type": "stream",
       "stream": "stdout",
       "text": [
        " 0.745367961903\n",
        "274"
       ]
      },
      {
       "output_type": "stream",
       "stream": "stdout",
       "text": [
        " 0.743967345632\n",
        "275"
       ]
      },
      {
       "output_type": "stream",
       "stream": "stdout",
       "text": [
        " 0.746088278843\n",
        "276"
       ]
      },
      {
       "output_type": "stream",
       "stream": "stdout",
       "text": [
        " 0.747328824683\n",
        "277"
       ]
      },
      {
       "output_type": "stream",
       "stream": "stdout",
       "text": [
        " 0.745528032334\n",
        "278"
       ]
      },
      {
       "output_type": "stream",
       "stream": "stdout",
       "text": [
        " 0.745648085157\n",
        "279"
       ]
      },
      {
       "output_type": "stream",
       "stream": "stdout",
       "text": [
        " 0.745447997119\n",
        "280"
       ]
      },
      {
       "output_type": "stream",
       "stream": "stdout",
       "text": [
        " 0.745407979511\n",
        "281"
       ]
      },
      {
       "output_type": "stream",
       "stream": "stdout",
       "text": [
        " 0.74612829645\n",
        "282"
       ]
      },
      {
       "output_type": "stream",
       "stream": "stdout",
       "text": [
        " 0.746408419705\n",
        "283"
       ]
      },
      {
       "output_type": "stream",
       "stream": "stdout",
       "text": [
        " 0.747889071191\n",
        "284"
       ]
      },
      {
       "output_type": "stream",
       "stream": "stdout",
       "text": [
        " 0.748569370523\n",
        "285"
       ]
      },
      {
       "output_type": "stream",
       "stream": "stdout",
       "text": [
        " 0.750090039617\n",
        "286"
       ]
      },
      {
       "output_type": "stream",
       "stream": "stdout",
       "text": [
        " 0.749889951579\n",
        "287"
       ]
      },
      {
       "output_type": "stream",
       "stream": "stdout",
       "text": [
        " 0.750290127656\n",
        "288"
       ]
      },
      {
       "output_type": "stream",
       "stream": "stdout",
       "text": [
        " 0.750890391772\n",
        "289"
       ]
      },
      {
       "output_type": "stream",
       "stream": "stdout",
       "text": [
        " 0.749489775501\n",
        "290"
       ]
      },
      {
       "output_type": "stream",
       "stream": "stdout",
       "text": [
        " 0.749489775501\n",
        "291"
       ]
      },
      {
       "output_type": "stream",
       "stream": "stdout",
       "text": [
        " 0.749569810717\n",
        "292"
       ]
      },
      {
       "output_type": "stream",
       "stream": "stdout",
       "text": [
        " 0.749049581816\n",
        "293"
       ]
      },
      {
       "output_type": "stream",
       "stream": "stdout",
       "text": [
        " 0.748889511385\n",
        "294"
       ]
      },
      {
       "output_type": "stream",
       "stream": "stdout",
       "text": [
        " 0.74880947617\n",
        "295"
       ]
      },
      {
       "output_type": "stream",
       "stream": "stdout",
       "text": [
        " 0.748569370523\n",
        "296"
       ]
      },
      {
       "output_type": "stream",
       "stream": "stdout",
       "text": [
        " 0.747048701429\n",
        "297"
       ]
      },
      {
       "output_type": "stream",
       "stream": "stdout",
       "text": [
        " 0.749449757893\n",
        "298"
       ]
      },
      {
       "output_type": "stream",
       "stream": "stdout",
       "text": [
        " 0.748929528993\n",
        "299"
       ]
      },
      {
       "output_type": "stream",
       "stream": "stdout",
       "text": [
        " 0.749089599424\n",
        "300"
       ]
      },
      {
       "output_type": "stream",
       "stream": "stdout",
       "text": [
        " 0.750290127656\n"
       ]
      },
      {
       "ename": "TypeError",
       "evalue": "can only concatenate list (not \"int\") to list",
       "output_type": "pyerr",
       "traceback": [
        "\u001b[0;31m---------------------------------------------------------------------------\u001b[0m\n\u001b[0;31mTypeError\u001b[0m                                 Traceback (most recent call last)",
        "\u001b[0;32m<ipython-input-245-4d9af3f577ce>\u001b[0m in \u001b[0;36m<module>\u001b[0;34m()\u001b[0m\n\u001b[1;32m     35\u001b[0m     \u001b[0maccuracy\u001b[0m\u001b[0;34m.\u001b[0m\u001b[0mappend\u001b[0m\u001b[0;34m(\u001b[0m\u001b[0macc\u001b[0m\u001b[0;34m)\u001b[0m\u001b[0;34m\u001b[0m\u001b[0m\n\u001b[1;32m     36\u001b[0m     \u001b[0;32mprint\u001b[0m \u001b[0mstep\u001b[0m\u001b[0;34m,\u001b[0m \u001b[0macc\u001b[0m\u001b[0;34m\u001b[0m\u001b[0m\n\u001b[0;32m---> 37\u001b[0;31m \u001b[0mxx\u001b[0m\u001b[0;34m.\u001b[0m\u001b[0mextend\u001b[0m\u001b[0;34m(\u001b[0m\u001b[0mbudget\u001b[0m\u001b[0;34m+\u001b[0m\u001b[0;36m50\u001b[0m\u001b[0;34m)\u001b[0m\u001b[0;34m\u001b[0m\u001b[0m\n\u001b[0m\u001b[1;32m     38\u001b[0m \u001b[0my\u001b[0m\u001b[0;34m.\u001b[0m\u001b[0mextend\u001b[0m\u001b[0;34m(\u001b[0m\u001b[0maccuracy\u001b[0m\u001b[0;34m)\u001b[0m\u001b[0;34m\u001b[0m\u001b[0m\n",
        "\u001b[0;31mTypeError\u001b[0m: can only concatenate list (not \"int\") to list"
       ]
      }
     ],
     "prompt_number": 245
    },
    {
     "cell_type": "code",
     "collapsed": false,
     "input": [
      "xx = range(50, 250+300+2)\n",
      "y = copy.copy(y_true)\n",
      "y.extend(accuracy)\n"
     ],
     "language": "python",
     "metadata": {},
     "outputs": [],
     "prompt_number": 262
    },
    {
     "cell_type": "markdown",
     "metadata": {},
     "source": [
      "## Student Evaluation\n",
      "\n",
      "* True labels\n",
      "* Budget: 550\n",
      "* Student does not reach .80 accuracy before 500"
     ]
    },
    {
     "cell_type": "code",
     "collapsed": false,
     "input": [
      "mpl.style.use('fivethirtyeight')\n",
      "plt.plot(xx,y, label='true')\n",
      "plt.xlabel(\"Number of Queries\")\n",
      "plt.ylabel(\"Accuracy\")\n",
      "# plt.ylim([.55,.75])\n",
      "plt.legend(loc='best')\n",
      "plt.savefig('fig_extend.png',bbox_inches=\"tight\", dpi=200, transparent=True)\n"
     ],
     "language": "python",
     "metadata": {},
     "outputs": [
      {
       "metadata": {},
       "output_type": "display_data",
       "png": "[encoded data removed]",
       "text": [
        "<matplotlib.figure.Figure at 0x16561a250>"
       ]
      }
     ],
     "prompt_number": 266
    },
    {
     "cell_type": "markdown",
     "metadata": {},
     "source": [
      "------------------\n",
      "# Study with SR-predicted calibration\n",
      "\n"
     ]
    },
    {
     "cell_type": "code",
     "collapsed": false,
     "input": [
      "clf = exputil.get_classifier('lrl1', parameter=1)\n",
      "\n",
      "# DATA = \"C:/Users/mramire8/Google Drive/AAL-Experiments/firstk-journal/results/user_study_0_v2\"\n",
      "DATA = \"/Users/maru/Google Drive/AAL-Experiments/firstk-journal/results/user_study_0_v2\"\n",
      "\n",
      "f1_index, f1_true, f1_expert, f1_text, f1_time, f1_len  = read_data(DATA + \"/imdb-rnd-first1-expert2-labels.txt\", annotation_time=True)\n",
      "sr_index, sr_true, sr_expert, sr_text, sr_time, sr_len = read_data(DATA + \"/imdb-rnd-sr-expert1-labels.txt\", annotation_time=True)\n",
      "bt_index, bt_true, _, bt_text, _ = read_data(DATA + \"/imdb-rnd-sr-student-labels.txt\")"
     ],
     "language": "python",
     "metadata": {},
     "outputs": [
      {
       "output_type": "stream",
       "stream": "stdout",
       "text": [
        "Number of fields: 7\n",
        "Number of records: 200\n",
        "Number of fields:"
       ]
      },
      {
       "output_type": "stream",
       "stream": "stdout",
       "text": [
        " 7\n",
        "Number of records: 200\n",
        "Number of fields:"
       ]
      },
      {
       "output_type": "stream",
       "stream": "stdout",
       "text": [
        " 4\n",
        "Number of records: 204\n"
       ]
      }
     ],
     "prompt_number": 10
    },
    {
     "cell_type": "code",
     "collapsed": false,
     "input": [
      "# get the labels in the corresponding order\n",
      "f1_target = [f1_expert[f1_index.index(i)] for i in sr_index]\n",
      "\n",
      "# this step is not necessary, it should return the same order\n",
      "sr_target = [sr_expert[sr_index.index(i)] for i in sr_index]\n",
      "\n",
      "eval_seq = [f1_index.index(i) for i in sr_index]\n",
      "## Get the training documents ready fro evaluation\n",
      "train_tx = bt_text[:50]\n",
      "train_tx = np.append(train_tx, sr_text)\n",
      "train_bow = vct.transform(train_tx)\n",
      "train_target= bt_true[:50]\n",
      "# train_target.extend(sr_target)\n",
      "# train_target.extend(f1_target)"
     ],
     "language": "python",
     "metadata": {},
     "outputs": [],
     "prompt_number": 11
    },
    {
     "cell_type": "code",
     "collapsed": false,
     "input": [
      "# Evaluate SR\n",
      "train_target= bt_true[:50]\n",
      "train_target.extend(sr_target)\n",
      "x, y_sr = evaluate_student(clf,train_bow, train_target, imdb.test)\n",
      "\n",
      "#Evaluate First1\n",
      "train_target= bt_true[:50]\n",
      "train_target.extend(f1_target)\n",
      "x, y_f1 = evaluate_student(clf,train_bow, train_target, imdb.test)\n",
      "\n",
      "#Evaluate True\n",
      "train_target= bt_true[:50]\n",
      "train_target.extend(sr_true)\n",
      "x, y_true = evaluate_student(clf,train_bow, train_target,imdb.test)\n",
      "\n",
      "plot_eval(x, y_f1, y_sr, y_true, name='user0_eval.pdf')"
     ],
     "language": "python",
     "metadata": {},
     "outputs": [
      {
       "metadata": {},
       "output_type": "display_data",
       "png": "[encoded data removed]",
       "text": [
        "<matplotlib.figure.Figure at 0x12a933950>"
       ]
      }
     ],
     "prompt_number": 143
    },
    {
     "cell_type": "code",
     "collapsed": false,
     "input": [
      "## Statistical significance\n",
      "# Independent t-test\n",
      "# This is a two-sided test for the null hypothesis that 2 independent samples have identical average (expected) values. \n",
      "# This test assumes that the populations have identical variances\n",
      "\n",
      "#  If we observe a large p-value, for example larger than 0.05 or 0.1, then we cannot \n",
      "#     reject the null hypothesis of identical average scores. If the p-value is smaller \n",
      "#     than the threshold, e.g. 1%, 5% or 10%, then we reject the null hypothesis of equal \n",
      "#     averages\n",
      "from scipy import stats\n",
      "print \"\\nTrue vs. rest\"\n",
      "# print \"t-statistic: %f, p-value: %f\" % stats.ttest_ind(y_true, y_f1)\n",
      "print \"SR: t-statistic: %.4f, p-value: %s\" % stats.ttest_ind(y_true, y_sr)\n",
      "print \"F1: t-statistic: %.4f, p-value: %s\" % stats.ttest_ind(y_true, y_f1)\n",
      "\n",
      "print \"\\nSR vs. rest\"\n",
      "# print \"t-statistic: %f, p-value: %f\" % stats.ttest_ind(y_sr, y_f1)\n",
      "print \"True: t-statistic: %.4f, p-value: %s\" % stats.ttest_ind(y_sr, y_true)\n",
      "print \"F1: t-statistic: %.4f, p-value: %s\" % stats.ttest_ind(y_sr, y_f1)\n",
      "\n",
      "print \"\\nF1 vs. rest\"\n",
      "# print \"t-statistic: %f, p-value: %f\" % stats.ttest_ind(y_f1, y_sr)\n",
      "print \"True: t-statistic: %.4f, p-value: %s\" % stats.ttest_ind(y_f1, y_true)\n",
      "print \"SR: t-statistic: %.4f, p-value: %s\" % stats.ttest_ind(y_f1, y_sr)"
     ],
     "language": "python",
     "metadata": {},
     "outputs": [
      {
       "output_type": "stream",
       "stream": "stdout",
       "text": [
        "\n",
        "True vs. rest\n",
        "SR: t-statistic: 0.3792, p-value: 0.704751391357\n",
        "F1: t-statistic: -2.6705, p-value: 0.00788244417835\n",
        "\n",
        "SR vs. rest\n",
        "True: t-statistic: -0.3792, p-value: 0.704751391357\n",
        "F1: t-statistic: -4.5122, p-value: 8.44515983226e-06\n",
        "\n",
        "F1 vs. rest\n",
        "True: t-statistic: 2.6705, p-value: 0.00788244417835\n",
        "SR: t-statistic: 4.5122, p-value: 8.44515983226e-06\n"
       ]
      }
     ],
     "prompt_number": 36
    },
    {
     "cell_type": "code",
     "collapsed": false,
     "input": [
      "# Oracle Accuracy \n",
      "print \"\\nORACLE ACCURACY\"\n",
      "non_neutral = np.array(sr_target) < 2\n",
      "print \"SR: %.3f\" % (1. * np.sum(np.array(sr_true)[non_neutral] == np.array(sr_target)[non_neutral])/len(np.array(sr_true)[non_neutral]))\n",
      "non_neutral = np.array(f1_target) < 2\n",
      "print \"F1: %.3f\" % (1. * np.sum(np.array(sr_true)[non_neutral] == np.array(f1_target)[non_neutral])/len(np.array(sr_true)[non_neutral]))\n",
      "\n",
      "# Oracle neutrality\n",
      "print \"\\nNEUTRALS\"\n",
      "print \"SR: %.3f\"% (1. * (np.array(sr_target) == 2).sum()/ len(sr_target))\n",
      "print \"F1: %.3f\"% (1. * (np.array(f1_target) == 2).sum()/ len(f1_target))\n",
      "\n",
      "#Class distribution\n",
      "from collections import Counter\n",
      "c = Counter(sr_target)\n",
      "print \"\\nDISTRIBUTION\"\n",
      "print \"SR class distribution\"\n",
      "print \"\\tClass 0: %.3f\\n\\tClass 1: %.3f\\n\\tNeutral: %.3f\" % (1.*c[0]/sum(c.values()),1.*c[1]/sum(c.values()),1.*c[2]/sum(c.values()))\n",
      "\n",
      "c = Counter(f1_target)\n",
      "print \"F1 class distribution\"\n",
      "print \"\\tClass 0: %.3f\\n\\tClass 1: %.3f\\n\\tNeutral: %.3f\" % (1.*c[0]/sum(c.values()),1.*c[1]/sum(c.values()),1.*c[2]/sum(c.values()))\n",
      "\n",
      "c = Counter(sr_true)\n",
      "print \"True  class distribution\"\n",
      "print \"\\tClass 0: %.3f\\n\\tClass 1: %.3f\\n\\tNeutral: %.3f\" % (1.*c[0]/sum(c.values()),1.*c[1]/sum(c.values()),1.*c[2]/sum(c.values()))\n"
     ],
     "language": "python",
     "metadata": {},
     "outputs": [
      {
       "output_type": "stream",
       "stream": "stdout",
       "text": [
        "\n",
        "ORACLE ACCURACY\n",
        "SR: 0.838\n",
        "F1: 0.850\n",
        "\n",
        "NEUTRALS\n",
        "SR: 0.230\n",
        "F1: 0.300\n",
        "\n",
        "DISTRIBUTION\n",
        "SR class distribution\n",
        "\tClass 0: 0.445\n",
        "\tClass 1: 0.325\n",
        "\tNeutral: 0.230\n",
        "F1 class distribution\n",
        "\tClass 0: 0.370\n",
        "\tClass 1: 0.330\n",
        "\tNeutral: 0.300\n",
        "True  class distribution\n",
        "\tClass 0: 0.560\n",
        "\tClass 1: 0.440\n",
        "\tNeutral: 0.000\n"
       ]
      }
     ],
     "prompt_number": 30
    },
    {
     "cell_type": "code",
     "collapsed": false,
     "input": [
      "from sklearn import metrics\n",
      "\n",
      "print \"CONFUSION MATRIX\"\n",
      "print \"SR\"\n",
      "\n",
      "cm = metrics.confusion_matrix(sr_true, sr_target)\n",
      "print 1.*cm.sum(0)/cm.sum()\n",
      "print \"\\n\".join(\"\\t\".join([str(r) for r in row]) for row in cm)\n",
      "print\n",
      "print \"F1\"\n",
      "cm = metrics.confusion_matrix(sr_true, f1_target)\n",
      "print 1.*cm.sum(0)/cm.sum()\n",
      "print  \"\\n\".join(\"\\t\".join([str(r) for r in row]) for row in cm)\n",
      "\n"
     ],
     "language": "python",
     "metadata": {},
     "outputs": [
      {
       "output_type": "stream",
       "stream": "stdout",
       "text": [
        "CONFUSION MATRIX\n",
        "SR\n",
        "[ 0.445  0.325  0.23 ]\n",
        "80\t16\t16\n",
        "9\t49\t30\n",
        "0\t0\t0\n",
        "\n",
        "F1\n",
        "[ 0.37  0.33  0.3 ]\n",
        "67\t14\t31\n",
        "7\t52\t29\n",
        "0\t0\t0\n"
       ]
      }
     ],
     "prompt_number": 102
    },
    {
     "cell_type": "code",
     "collapsed": false,
     "input": [
      "## Annotation time vs. snippet size\n",
      "plt.plot(f1_len, f1_time, 'o', label='f1')\n",
      "plt.plot(sr_len, sr_time, 'o', label='sr1')\n",
      "\n",
      "plt.xlabel(\"Number of Words\")\n",
      "plt.ylabel(\"Annotation time (secs)\")\n",
      "plt.legend(loc='best')\n",
      "print \"Average F1 snippet size: %s, min=%.3f, max=%.3f\" % ( np.mean(f1_len), np.min(f1_len), np.max(f1_len))\n",
      "print \"Average SR snippet size: %s, min=%.3f, max=%.3f\" % (np.mean(sr_len), np.min(sr_len), np.max(sr_len))\n",
      "print \"t-statistic: %f, p-value: %s\" % stats.ttest_ind(f1_len, sr_len)"
     ],
     "language": "python",
     "metadata": {},
     "outputs": [
      {
       "output_type": "stream",
       "stream": "stdout",
       "text": [
        "Average F1 snippet size: 18.8, min=1.000, max=223.000\n",
        "Average SR snippet size: 24.93, min=2.000, max=100.000\n",
        "t-statistic: -3.606305, p-value: 0.000350074718709\n"
       ]
      },
      {
       "metadata": {},
       "output_type": "display_data",
       "png": "[encoded data removed]",
       "text": [
        "<matplotlib.figure.Figure at 0x189a48210>"
       ]
      }
     ],
     "prompt_number": 166
    },
    {
     "cell_type": "code",
     "collapsed": false,
     "input": [
      "plot_time(f1_time, sr_time,name='fig_time.pdf')"
     ],
     "language": "python",
     "metadata": {},
     "outputs": [
      {
       "output_type": "stream",
       "stream": "stdout",
       "text": [
        "F1 Annotation avg. 7.368 (+/-3.946) max=26.637 min=1.774\n",
        "SR Annotation avg. 9.277 (+/-4.326) max=25.327 min=2.116\n"
       ]
      },
      {
       "metadata": {},
       "output_type": "display_data",
       "png": "[encoded data removed]",
       "text": [
        "<matplotlib.figure.Figure at 0x1690ad550>"
       ]
      }
     ],
     "prompt_number": 168
    },
    {
     "cell_type": "code",
     "collapsed": false,
     "input": [
      "# If we observe a large p-value, for example larger than 0.05 or 0.1, then we \n",
      "# cannot reject the null hypothesis of identical average scores. If the p-value \n",
      "# is smaller than the threshold, e.g. 1%, 5% or 10%, then we reject the null \n",
      "# hypothesis of equal averages\n",
      "\n",
      "print \"t-statistic: %f, p-value: %s\" % stats.ttest_ind(sr_time, f1_time)\n",
      "print \"t-statistic: %f, p-value: %s\" % stats.ttest_rel(sr_time, f1_time)"
     ],
     "language": "python",
     "metadata": {},
     "outputs": [
      {
       "output_type": "stream",
       "stream": "stdout",
       "text": [
        "t-statistic: 4.598137, p-value: 5.73504502481e-06\n",
        "t-statistic: 4.932205, p-value: 1.71206677776e-06\n"
       ]
      }
     ],
     "prompt_number": 18
    },
    {
     "cell_type": "code",
     "collapsed": false,
     "input": [
      "#plot histogram of 3 classes\n",
      "def plot_time_byclass(p1, p2, p3, name='fig_time_class.png', labels=['Neg','Pos', 'Neutral'], title='Performance', xtitle='x-axis'):\n",
      "    fig = plt.figure(figsize=(8,6))\n",
      "    a,b,c = plt.hist([p1, p2, p3], bins=20,  label=labels, alpha=.65, color=['b', 'r', 'g'])#, histtype='step', normed=1, fill=True)\n",
      "\n",
      "#     a,b,c = plt.hist(p1, bins=20, label=labels[0], alpha=.75)\n",
      "#     a,b,c = plt.hist(p2, bins=20, label=labels[1], alpha=.75)\n",
      "#     a,b,c = plt.hist(p3, bins=20, label=labels[2], alpha=.75)\n",
      "    plt.xlabel(xtitle)\n",
      "    plt.ylabel(\"Number of queries\")\n",
      "    plt.title(title)\n",
      "    plt.legend(loc='best')\n",
      "    print labels[0].upper() + \" Annotation avg. %.3f (+/-%.3f) max=%.3f min=%.3f\" % (np.mean(p1), np.std(p1), np.max(p1), np.min(p1))\n",
      "    print labels[1].upper() + \" Annotation avg. %.3f (+/-%.3f) max=%.3f min=%.3f\" % (np.mean(p2), np.std(p2), np.max(p2), np.min(p2))\n",
      "    print labels[2].upper() + \" Annotation avg. %.3f (+/-%.3f) max=%.3f min=%.3f\" % (np.mean(p3), np.std(p3), np.max(p3), np.min(p3))\n",
      "\n",
      "    plt.savefig(name,bbox_inches=\"tight\", dpi=200, transparent=True)\n"
     ],
     "language": "python",
     "metadata": {},
     "outputs": [],
     "prompt_number": 231
    },
    {
     "cell_type": "code",
     "collapsed": false,
     "input": [
      "def info_time_byclass(m_time, m_expert, name='time_byclass.png'):\n",
      "    cl0 = np.array(m_time)[np.array(m_expert) == 0]\n",
      "    cl1 = np.array(m_time)[np.array(m_expert) == 1]\n",
      "    cl2 = np.array(m_time)[np.array(m_expert) == 2]\n",
      "    plot_time_byclass(cl0, cl1, cl2, name='f1_time_byclass.png', title=\"Annotation time (secs)\", xtitle=\"Annotation time (secs)\")\n",
      "\n",
      "    print\"C0 vs. C1, C2\"\n",
      "    print \"t-statistic: %f, p-value: %s\" % stats.ttest_ind(cl0,cl1)\n",
      "    print \"t-statistic: %f, p-value: %s\" % stats.ttest_ind(cl0,cl2)\n",
      "    print\"C1 vs. C0, C2\"\n",
      "    print \"t-statistic: %f, p-value: %s\" % stats.ttest_ind(cl1,cl0)\n",
      "    print \"t-statistic: %f, p-value: %s\" % stats.ttest_ind(cl1,cl2)\n",
      "    \n",
      "info_time_byclass(f1_time, f1_expert, name='f1_time_byclass.png')"
     ],
     "language": "python",
     "metadata": {},
     "outputs": [
      {
       "output_type": "stream",
       "stream": "stdout",
       "text": [
        "NEG Annotation avg. 6.611 (+/-3.286) max=15.500 min=1.774\n",
        "POS Annotation avg. 6.667 (+/-3.512) max=22.860 min=1.808\n",
        "NEUTRAL Annotation avg. 9.072 (+/-4.570) max=26.637 min=3.311\n",
        "C0 vs. C1, C2"
       ]
      },
      {
       "output_type": "stream",
       "stream": "stdout",
       "text": [
        "\n",
        "t-statistic: -0.096271, p-value: 0.923444660504\n",
        "t-statistic: -3.591945, p-value: 0.000461869089872\n",
        "C1 vs. C0, C2\n",
        "t-statistic: 0.096271, p-value: 0.923444660504\n",
        "t-statistic: -3.301567, p-value: 0.00125617113974\n"
       ]
      },
      {
       "metadata": {},
       "output_type": "display_data",
       "png": "[encoded data removed]",
       "text": [
        "<matplotlib.figure.Figure at 0x16815e510>"
       ]
      }
     ],
     "prompt_number": 232
    },
    {
     "cell_type": "code",
     "collapsed": false,
     "input": [
      "info_time_byclass(sr_time, sr_expert, name='sr_time_byclass.png')"
     ],
     "language": "python",
     "metadata": {},
     "outputs": [
      {
       "output_type": "stream",
       "stream": "stdout",
       "text": [
        "NEG Annotation avg. 9.059 (+/-4.206) max=25.327 min=2.275\n",
        "POS Annotation avg. 8.478 (+/-3.938) max=19.267 min=2.116\n",
        "NEUTRAL Annotation avg. 10.825 (+/-4.673) max=24.228 min=4.041\n",
        "C0 vs. C1, C2"
       ]
      },
      {
       "output_type": "stream",
       "stream": "stdout",
       "text": [
        "\n",
        "t-statistic: 0.863916, p-value: 0.388995162551\n",
        "t-statistic: -2.208143, p-value: 0.0289475677899\n",
        "C1 vs. C0, C2\n",
        "t-statistic: -0.863916, p-value: 0.388995162551\n",
        "t-statistic: -2.834583, p-value: 0.00546959382901\n"
       ]
      },
      {
       "metadata": {},
       "output_type": "display_data",
       "png": "[encoded data removed]",
       "text": [
        "<matplotlib.figure.Figure at 0x12b08bad0>"
       ]
      }
     ],
     "prompt_number": 230
    },
    {
     "cell_type": "markdown",
     "metadata": {},
     "source": [
      "## Size of the Snippets per Class"
     ]
    },
    {
     "cell_type": "code",
     "collapsed": false,
     "input": [
      "def info_size_byclass(m_time, m_expert, name='snip_byclass.png'):\n",
      "    cl0 = np.array(m_time)[np.array(m_expert) == 0]\n",
      "    cl1 = np.array(m_time)[np.array(m_expert) == 1]\n",
      "    cl2 = np.array(m_time)[np.array(m_expert) == 2]\n",
      "    \n",
      "    plot_time_byclass(cl0, cl1, cl2, name='f1_time_byclass.png', title=\"Snippet Size\", xtitle=\"Snippet size (words)\")\n",
      "\n",
      "    print\"C0 vs. C1, C2\"\n",
      "    print \"t-statistic: %f, p-value: %s\" % stats.ttest_ind(cl0,cl1)\n",
      "    print \"t-statistic: %f, p-value: %s\" % stats.ttest_ind(cl0,cl2)\n",
      "    print\"C1 vs. C0, C2\"\n",
      "    print \"t-statistic: %f, p-value: %s\" % stats.ttest_ind(cl1,cl0)\n",
      "    print \"t-statistic: %f, p-value: %s\" % stats.ttest_ind(cl1,cl2)\n",
      "\n",
      "info_size_byclass(f1_len, f1_expert, name='f1_size_byclass.png')\n"
     ],
     "language": "python",
     "metadata": {},
     "outputs": [
      {
       "output_type": "stream",
       "stream": "stdout",
       "text": [
        "NEG Annotation avg. 15.446 (+/-9.143) max=46.000 min=2.000\n",
        "POS Annotation avg. 18.939 (+/-11.664) max=66.000 min=1.000\n",
        "NEUTRAL Annotation avg. 22.783 (+/-28.047) max=223.000 min=1.000\n",
        "C0 vs. C1, C2"
       ]
      },
      {
       "output_type": "stream",
       "stream": "stdout",
       "text": [
        "\n",
        "t-statistic: -1.968256, p-value: 0.0510429277546\n",
        "t-statistic: -2.100197, p-value: 0.0376143613644\n",
        "C1 vs. C0, C2\n",
        "t-statistic: 1.968256, p-value: 0.0510429277546\n",
        "t-statistic: -1.012434, p-value: 0.313301983342\n"
       ]
      },
      {
       "metadata": {},
       "output_type": "display_data",
       "png": "[encoded data removed]",
       "text": [
        "<matplotlib.figure.Figure at 0x15a344a90>"
       ]
      }
     ],
     "prompt_number": 234
    },
    {
     "cell_type": "code",
     "collapsed": false,
     "input": [
      "info_size_byclass(sr_len, sr_expert, name='sr_size_byclass.png')"
     ],
     "language": "python",
     "metadata": {},
     "outputs": [
      {
       "output_type": "stream",
       "stream": "stdout",
       "text": [
        "NEG Annotation avg. 24.674 (+/-15.355) max=99.000 min=2.000\n",
        "POS Annotation avg. 23.462 (+/-13.663) max=71.000 min=5.000\n",
        "NEUTRAL Annotation avg. 27.500 (+/-19.380) max=100.000 min=5.000\n",
        "C0 vs. C1, C2"
       ]
      },
      {
       "output_type": "stream",
       "stream": "stdout",
       "text": [
        "\n",
        "t-statistic: 0.503509, p-value: 0.615335308778\n",
        "t-statistic: -0.917492, p-value: 0.360545536053\n",
        "C1 vs. C0, C2\n",
        "t-statistic: -0.503509, p-value: 0.615335308778\n",
        "t-statistic: -1.275979, p-value: 0.204675198451\n"
       ]
      },
      {
       "metadata": {},
       "output_type": "display_data",
       "png": "[encoded data removed]",
       "text": [
        "<matplotlib.figure.Figure at 0x18c0f77d0>"
       ]
      }
     ],
     "prompt_number": 235
    },
    {
     "cell_type": "markdown",
     "metadata": {},
     "source": [
      "## Simulated Oracle Evaluation\n",
      "\n",
      "Using a simulated oracle (with the same parameters as the paper) simulate the evaluation of the "
     ]
    },
    {
     "cell_type": "code",
     "collapsed": false,
     "input": [
      "def eval_simulated(clf, snippets, train_bow, train_target, test, oracle):\n",
      "    x = range(50, len(train_target)+1, 1)\n",
      "    accuracy = []\n",
      "    train_y = oracle.predict(snippets)\n",
      "    train_target.extend(train_y)\n",
      "    print len(x), x[-1]\n",
      "    for step in x: \n",
      "        target_y = np.array(train_target[:step])\n",
      "        train_x = train_bow[:step]\n",
      "        non_neutral = target_y < 2\n",
      "        clf = exputil.get_classifier('lrl1', parameter=1)\n",
      "        clf.fit(train_x[non_neutral], target_y[non_neutral])\n",
      "        predicted = clf.predict(test.bow)\n",
      "        acc = metrics.accuracy_score(test.target, predicted)\n",
      "        accuracy.append(acc)\n",
      "#         print step, acc\n",
      "    return x, accuracy\n",
      "\n"
     ],
     "language": "python",
     "metadata": {},
     "outputs": [],
     "prompt_number": 57
    },
    {
     "cell_type": "code",
     "collapsed": false,
     "input": [
      "train_target= bt_true[:50]\n",
      "train_y = oracle.predict(snippets)\n",
      "train_target.extend(train_y)\n",
      "\n",
      "\n",
      "sim_oracle = exputil.get_classifier('lrl1', parameter=1)\n",
      "sim_oracle.fit(imdb.train.bow, imdb.train.target)\n",
      "\n",
      "\n",
      "snip_text, doc_text = read_text(DATA + \"/imdb-rnd-sr-expert1-labels.txt\")\n",
      "snip_bow = vct.transform(snip_text)\n"
     ],
     "language": "python",
     "metadata": {},
     "outputs": [
      {
       "output_type": "stream",
       "stream": "stdout",
       "text": [
        "Number of fields: 7\n",
        "Number of records: 200\n",
        "250"
       ]
      },
      {
       "output_type": "stream",
       "stream": "stdout",
       "text": [
        "\n"
       ]
      }
     ],
     "prompt_number": 52
    },
    {
     "cell_type": "code",
     "collapsed": false,
     "input": [
      "# train_target= bt_true[:50]\n",
      "# x_sim, sim_sr = eval_simulated(clf, snip_bow, train_bow, train_target, imdb.test, sim_oracle)\n",
      "sim_oracle = exputil.get_classifier('lrl1', parameter=.3)\n",
      "sim_oracle.fit(imdb.train.bow, imdb.train.target)\n"
     ],
     "language": "python",
     "metadata": {},
     "outputs": [
      {
       "output_type": "stream",
       "stream": "stdout",
       "text": [
        "1 50\n",
        "204"
       ]
      },
      {
       "output_type": "stream",
       "stream": "stdout",
       "text": [
        "\n"
       ]
      }
     ],
     "prompt_number": 61
    },
    {
     "cell_type": "code",
     "collapsed": false,
     "input": [
      "def evaluate_sim_student(clf, train_bow, oracle, test):\n",
      "    # train the student on the go\n",
      "    pass\n"
     ],
     "language": "python",
     "metadata": {},
     "outputs": []
    },
    {
     "cell_type": "code",
     "collapsed": false,
     "input": [
      "# Get SR snippets\n",
      "doc_text, snip_text = read_text(DATA + \"/imdb-rnd-sr-expert1-labels.txt\")\n",
      "snip_bow = vct.transform(snip_text)\n",
      "\n",
      "\n",
      "#Evaluate simulated\n",
      "simsr_target= bt_true[:50]\n",
      "\n",
      "train_y = sim_oracle.predict(snip_bow)\n",
      "probs = sim_oracle.predict_proba(snip_bow)\n",
      "unc = 1. - probs.max(1)\n",
      "neutral = unc > .4\n",
      "train_y[neutral] = 2\n",
      "simsr_target.extend(train_y)\n",
      "\n",
      "# x, sim_sr = evaluate_student(clf,train_bow, simsr_target, imdb.test)\n",
      "x, sim_sr = evaluate_sim_student(clf,train_bow, simsr_target, imdb.test)\n",
      "\n",
      "\n",
      "\n"
     ],
     "language": "python",
     "metadata": {},
     "outputs": [
      {
       "output_type": "stream",
       "stream": "stdout",
       "text": [
        "Number of fields: 7\n",
        "Number of records: 200\n"
       ]
      }
     ],
     "prompt_number": 149
    },
    {
     "cell_type": "code",
     "collapsed": false,
     "input": [
      "# Get F1 snippets\n",
      "doc_text, snip_text = read_text(DATA + \"/imdb-rnd-first1-expert2-labels.txt\")\n",
      "snip_bow = vct.transform(snip_text)\n",
      "\n",
      "\n",
      "#Evaluate simulated\n",
      "simf1_target= bt_true[:50]\n",
      "train_y = sim_oracle.predict(snip_bow)\n",
      "probs = sim_oracle.predict_proba(snip_bow)\n",
      "unc = 1. - probs.max(1)\n",
      "neutral = unc > .4\n",
      "train_y[neutral] = 2  #targets by oracle\n",
      "\n",
      "#reorder targets based on sequence\n",
      "new_target = [train_y[f1_index.index(i)] for i in sr_index]\n",
      "simf1_target.extend(new_target)\n",
      "\n",
      "\n",
      "x, sim_f1 = evaluate_student(clf,train_bow, simf1_target, imdb.test)\n",
      "\n",
      "\n"
     ],
     "language": "python",
     "metadata": {},
     "outputs": [
      {
       "output_type": "stream",
       "stream": "stdout",
       "text": [
        "Number of fields: 7\n",
        "Number of records: 200\n"
       ]
      }
     ],
     "prompt_number": 150
    },
    {
     "cell_type": "code",
     "collapsed": false,
     "input": [
      "fig = plt.figure(figsize=(8,6))\n",
      "plt.plot(x,y_f1, label='first-1')\n",
      "plt.plot(x,y_sr, label='sr')\n",
      "plt.plot(x,y_true, label='true')\n",
      "# plt.plot(x, sim_sr, label='sim-sr')\n",
      "plt.plot(x, sim_f1, label='sim-first1')\n",
      "\n",
      "plt.xlabel(\"Number of Queries\")\n",
      "plt.ylabel(\"Accuracy\")\n",
      "plt.ylim([.55,.75])\n",
      "plt.legend(loc='best')\n",
      "plt.title(\"Student Accuracy\")\n",
      "plt.savefig('simulated.png',bbox_inches=\"tight\", dpi=200, transparent=True)\n",
      "\n"
     ],
     "language": "python",
     "metadata": {},
     "outputs": [
      {
       "metadata": {},
       "output_type": "display_data",
       "png": "[encoded data removed]",
       "text": [
        "<matplotlib.figure.Figure at 0x15a1e1250>"
       ]
      }
     ],
     "prompt_number": 237
    },
    {
     "cell_type": "markdown",
     "metadata": {},
     "source": [
      "## Comparing Human vs. Simulated Evaluations\n",
      "\n",
      "Using the user study labels compared to the simulated oracle labels"
     ]
    },
    {
     "cell_type": "code",
     "collapsed": false,
     "input": [
      "# SR vs SIM-SR targets\n",
      "print \"SR vs Sim-SR\"\n",
      "cm = metrics.confusion_matrix(sr_target, simsr_target[50:])\n",
      "print 1.*cm.sum(0)/cm.sum()\n",
      "print  \"\\n\".join(\"\\t\".join([str(r) for r in row]) for row in cm)\n",
      "\n",
      "\n",
      "print \"Percent\"\n",
      "print  \"\\n\".join(\"\\t\".join([str(r) for r in row]) for row in 1.*cm/cm.sum())\n",
      "\n",
      "print \"\\nF1 vs Sim-F1\"\n",
      "cm = metrics.confusion_matrix(f1_target, simf1_target[50:])\n",
      "print 1.*cm.sum(0)/cm.sum()\n",
      "print  \"\\n\".join(\"\\t\".join([str(r) for r in row]) for row in cm)\n",
      "\n",
      "print \"Percent\"\n",
      "print  \"\\n\".join(\"\\t\".join([str(r) for r in row]) for row in 1.*cm/cm.sum())\n",
      "\n",
      "\n"
     ],
     "language": "python",
     "metadata": {},
     "outputs": [
      {
       "output_type": "stream",
       "stream": "stdout",
       "text": [
        "SR vs Sim-SR\n",
        "[ 0.37  0.42  0.21]\n",
        "59\t13\t17\n",
        "6\t52\t7\n",
        "9\t19\t18\n",
        "Percent\n",
        "0.295\t0.065\t0.085\n",
        "0.03\t0.26\t0.035\n",
        "0.045\t0.095\t0.09\n",
        "\n",
        "F1 vs Sim-F1\n",
        "[ 0.33  0.4   0.27]\n",
        "45\t12\t17\n",
        "7\t44\t15\n",
        "14\t24\t22\n",
        "Percent\n",
        "0.225\t0.06\t0.085\n",
        "0.035\t0.22\t0.075\n",
        "0.07\t0.12\t0.11\n"
       ]
      }
     ],
     "prompt_number": 164
    },
    {
     "cell_type": "code",
     "collapsed": false,
     "input": [
      "# examples that f1 and sim oracle said neutral\n",
      "a =  np.array(f1_target) == np.array(train_target[50:])\n",
      "\n",
      "print 1.* np.sum(a[np.array(f1_target) == 2]) / len(a)\n",
      "print np.sum(a[np.array(f1_target) == 2]) \n",
      "print np.sum(a[np.array(f1_target) == 2]) / (28.+26.)"
     ],
     "language": "python",
     "metadata": {},
     "outputs": [
      {
       "output_type": "stream",
       "stream": "stdout",
       "text": [
        "0.11\n",
        "22\n",
        "0.407407407407\n"
       ]
      }
     ],
     "prompt_number": 123
    },
    {
     "cell_type": "code",
     "collapsed": false,
     "input": [
      "stats.pearsonr(sr_target, train_target[50:])"
     ],
     "language": "python",
     "metadata": {},
     "outputs": [
      {
       "metadata": {},
       "output_type": "pyout",
       "prompt_number": 148,
       "text": [
        "(0.50709876430093415, 1.8245832572681687e-14)"
       ]
      }
     ],
     "prompt_number": 148
    },
    {
     "cell_type": "code",
     "collapsed": false,
     "input": [],
     "language": "python",
     "metadata": {},
     "outputs": []
    }
   ],
   "metadata": {}
  }
 ]
}