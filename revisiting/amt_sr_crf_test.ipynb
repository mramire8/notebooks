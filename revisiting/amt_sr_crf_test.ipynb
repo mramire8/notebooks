{
 "cells": [
  {
   "cell_type": "markdown",
   "metadata": {},
   "source": [
    "# AMT Test of SR Model\n",
    "\n",
    "Implement a CRF to test model on data"
   ]
  },
  {
   "cell_type": "code",
   "execution_count": 1,
   "metadata": {
    "collapsed": true
   },
   "outputs": [],
   "source": [
    "## Imports \n",
    "%matplotlib inline\n",
    "\n",
    "STRUCTURED = '/Users/maru/MyCode/structured'\n",
    "IMDB_DATA='/Users/maru/MyCode/data/imdb'\n",
    "SRAA_DATA='/Users/maru/MyCode/data/sraa'\n",
    "TWIITER_DATA = '/Users/maru/MyCode/data/twitter'\n",
    "\n",
    "# STRUCTURED = '/Users/maru/My Code/structured'\n",
    "# IMDB_DATA='/Users/maru/Dataset/aclImdb'\n",
    "# SRAA_DATA='/Users/maru/Dataset/aviation/data'\n",
    "# TWIITER_DATA = '/Users/maru/Dataset/twitter'\n",
    "\n",
    "import sys\n",
    "import os\n",
    "sys.path.append(os.path.abspath(STRUCTURED))\n",
    "sys.path.append(os.path.abspath('C:/cygwin/home/mramire8/python_code/structured/'))\n",
    "\n",
    "import learner\n",
    "\n",
    "from utilities.datautils import load_dataset\n",
    "import experiment.base as exp\n",
    "\n",
    "\n",
    "import utilities.experimentutils as exputil\n",
    "import utilities.datautils as datautil\n",
    "import numpy as np\n",
    "import nltk\n",
    "from sklearn import metrics\n",
    "import matplotlib.pyplot as plt\n",
    "import matplotlib as mpl\n",
    "\n",
    "mpl.style.use('bmh')"
   ]
  },
  {
   "cell_type": "code",
   "execution_count": 3,
   "metadata": {
    "collapsed": false
   },
   "outputs": [],
   "source": [
    "# Load data \n",
    "from utilities.amt_datautils import load_amt_imdb\n",
    "amt = load_amt_imdb(IMDB_DATA, shuffle=True, rnd=1928374, amt_labels='labels')  # should bring with training labels as the amt annotations\n"
   ]
  },
  {
   "cell_type": "code",
   "execution_count": 20,
   "metadata": {
    "collapsed": false
   },
   "outputs": [
    {
     "data": {
      "text/plain": [
       "<expert.amt_expert.AMTExpert at 0x10b80f210>"
      ]
     },
     "execution_count": 20,
     "metadata": {},
     "output_type": "execute_result"
    }
   ],
   "source": [
    "## Get the data ready\n",
    "\n",
    "vct = exputil.get_vectorizer({'vectorizer':'bow', 'limit':None, 'min_size':2})\n",
    "\n",
    "amt.train.bow = vct.fit_transform(amt.train.alldata)\n",
    "amt.test.bow = vct.transform(amt.test.data)\n",
    "\n",
    "\n",
    "# GET THE EXPERT\n",
    "expert_config = {\n",
    "    'type'           : \"amtexpert\", \n",
    "    'model'          : \"lrl1\",\n",
    "    'parameter'      : 0.3,\n",
    "    'costmodel'      : 1,\n",
    "    'sent_tokenizer' : \"amt-sent\", #windowsnippet, first1snippet\",\n",
    "    'snip_size'      : (1,1),\n",
    "    'threshold'      : .4,\n",
    "    'scale': 0.\n",
    "}\n",
    "amt_expert = exputil.get_expert(expert_config, size=len(amt.train.data))\n",
    "amt_expert.fit(amt.train.data, y=amt.train.target, vct=vct)\n",
    "\n",
    "# file_name        : 'amt.results.csv'\n",
    "# lbl_file        : 'amt_lbl_neucoin.csv'\n",
    "\n"
   ]
  },
  {
   "cell_type": "code",
   "execution_count": 40,
   "metadata": {
    "collapsed": true
   },
   "outputs": [],
   "source": [
    "sent_k = exputil.get_tokenizer(expert_config['sent_tokenizer'],snip_size=expert_config['snip_size'])"
   ]
  },
  {
   "cell_type": "code",
   "execution_count": 5,
   "metadata": {
    "collapsed": false
   },
   "outputs": [
    {
     "name": "stdout",
     "output_type": "stream",
     "text": [
      "['docid', 'target', 'DESCR', 'alltarget', 'doctarget', 'filenames', 'target_names', 'data', 'alldata']\n"
     ]
    }
   ],
   "source": [
    "print amt.train.keys()"
   ]
  },
  {
   "cell_type": "code",
   "execution_count": 37,
   "metadata": {
    "collapsed": false
   },
   "outputs": [
    {
     "name": "stdout",
     "output_type": "stream",
     "text": [
      "250\n"
     ]
    }
   ],
   "source": [
    "print len(amt.train.data)"
   ]
  },
  {
   "cell_type": "code",
   "execution_count": 39,
   "metadata": {
    "collapsed": false
   },
   "outputs": [
    {
     "data": {
      "text/plain": [
       "\"'Smokey And The Bandit' wasn't exactly Shakespeare, but then nobody wanted it to be.THIS_IS_A_SEPARATORIt was lowdown slapstick, but it did have brains.THIS_IS_A_SEPARATORIt had a very smart script with definable characters and a fun wrap-up.THIS_IS_A_SEPARATORPeople came out of the theater smiling.THIS_IS_A_SEPARATOR'Hooper' provides none of this.THIS_IS_A_SEPARATORThere is no reason to smile.THIS_IS_A_SEPARATORIf it's supposed to be a tribute to the Hollywood Stuntman, it makes them look awfully lazy by providing nothing but badly-choreographed fight scenes and one of the most unconvincing car-jumps I've ever seen.THIS_IS_A_SEPARATORIt all looks phony, badly-filmed almost on purpose.THIS_IS_A_SEPARATORPoor Sally Field (as the girlfriend who wrings her hands on the sidelines) is given her weakest role, with not a single funny or smart line ('If you do that jump, I won't be here when you get back').THIS_IS_A_SEPARATORBurt Reynolds keeps looking at the camera and winking, but the joke is on any audience who sits through 'Hooper'.THIS_IS_A_SEPARATOR* from ****\""
      ]
     },
     "execution_count": 39,
     "metadata": {},
     "output_type": "execute_result"
    }
   ],
   "source": [
    "amt.train.data[0]"
   ]
  },
  {
   "cell_type": "code",
   "execution_count": 116,
   "metadata": {
    "collapsed": false
   },
   "outputs": [],
   "source": [
    "## Get learning curve data\n",
    "from sklearn import cross_validation\n",
    "from sklearn.learning_curve import learning_curve\n",
    "\n",
    "def get_learning_curve(estimator, X, y, cv=None,\n",
    "                        n_jobs=1, train_sizes=np.linspace(.1, 1.0, 5)):\n",
    "    \"\"\"\n",
    "    Generate a simple plot of the test and traning learning curve.\n",
    "    \"\"\"\n",
    "    train_sizes, train_scores, test_scores = learning_curve(\n",
    "        estimator, X, y, cv=cv, n_jobs=n_jobs, train_sizes=train_sizes)\n",
    "    train_scores_mean = np.mean(train_scores, axis=1)\n",
    "    train_scores_std = np.std(train_scores, axis=1)\n",
    "    test_scores_mean = np.mean(test_scores, axis=1)\n",
    "    test_scores_std = np.std(test_scores, axis=1)\n",
    "    \n",
    "    return train_sizes, test_scores_mean, test_scores_std\n",
    "\n",
    "def relabel_curve(x, y, clf, rnd=123):\n",
    "#     kcv = cross_validation.StratifiedKFold(y, n_folds=5, shuffle=True, random_state=rnd)\n",
    "    kcv = cross_validation.LeaveOneOut(len(y))\n",
    "\n",
    "    sizes = np.linspace(.1, 1.0, 5)#\n",
    "\n",
    "    x, y , st = get_learning_curve(clf, x, y, cv=kcv, train_sizes=sizes)\n",
    "    plt.errorbar(x, y, yerr=st, label='')\n",
    "\n",
    "    plt.legend(loc='best')\n",
    "    plt.title(\"Sentence Student Test - LRL1\")\n",
    "    plt.show()\n",
    "\n",
    "\n"
   ]
  },
  {
   "cell_type": "code",
   "execution_count": 117,
   "metadata": {
    "collapsed": false
   },
   "outputs": [],
   "source": [
    "rnd = np.random.RandomState(2345)\n",
    "clf = exputil.get_classifier('lrl1', parameter=1)\n",
    "sents = sent_k.tokenize_sents(amt.train.data)\n",
    "sents_txt = []\n",
    "sents_lbl = []\n",
    "for s,t in zip(sents, amt.train.target):\n",
    "    sents_txt.extend(s)\n",
    "    sents_lbl.extend(t)\n",
    "sents_bow = vct.transform(sents_txt)\n",
    "sents_lbl = np.array(sents_lbl)\n",
    "# "
   ]
  },
  {
   "cell_type": "code",
   "execution_count": 118,
   "metadata": {
    "collapsed": false
   },
   "outputs": [
    {
     "data": {
      "image/png": "[encoded data removed]",
      "text/plain": [
       "<matplotlib.figure.Figure at 0x105e93ed0>"
      ]
     },
     "metadata": {},
     "output_type": "display_data"
    }
   ],
   "source": [
    "relabel_curve(sents_bow[sents_lbl != 2], sents_lbl[sents_lbl !=2], clf, rnd=rnd)"
   ]
  },
  {
   "cell_type": "code",
   "execution_count": 102,
   "metadata": {
    "collapsed": false
   },
   "outputs": [
    {
     "data": {
      "text/plain": [
       "(1489, 267154)"
      ]
     },
     "execution_count": 102,
     "metadata": {},
     "output_type": "execute_result"
    }
   ],
   "source": [
    "sents_bow[sents_lbl != 2].shape"
   ]
  },
  {
   "cell_type": "code",
   "execution_count": 103,
   "metadata": {
    "collapsed": false
   },
   "outputs": [
    {
     "data": {
      "text/plain": [
       "2852"
      ]
     },
     "execution_count": 103,
     "metadata": {},
     "output_type": "execute_result"
    }
   ],
   "source": [
    "len(sents_lbl)"
   ]
  },
  {
   "cell_type": "code",
   "execution_count": null,
   "metadata": {
    "collapsed": true
   },
   "outputs": [],
   "source": []
  }
 ],
 "metadata": {
  "kernelspec": {
   "display_name": "Python 2",
   "language": "python",
   "name": "python2"
  },
  "language_info": {
   "codemirror_mode": {
    "name": "ipython",
    "version": 2
   },
   "file_extension": ".py",
   "mimetype": "text/x-python",
   "name": "python",
   "nbconvert_exporter": "python",
   "pygments_lexer": "ipython2",
   "version": "2.7.10"
  }
 },
 "nbformat": 4,
 "nbformat_minor": 0
}
