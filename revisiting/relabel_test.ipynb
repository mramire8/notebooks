{
 "metadata": {
  "name": "",
  "signature": "sha256:47a5ccb2b00441dbb04d5524f3bba6ac9e90327b5b09ea191dbad343d351bbe8"
 },
 "nbformat": 3,
 "nbformat_minor": 0,
 "worksheets": [
  {
   "cells": [
    {
     "cell_type": "markdown",
     "metadata": {},
     "source": [
      "# Revisiting Preliminary Experiments\n",
      "\n",
      "## Learning Curve Testing REvisting Probability $p$\n",
      "\n",
      "Experiment is to see the effect of revisting and getting the correct label in the second time arround, regardless of getting it the first time. \n",
      "\n",
      "* Expert is $LR-L_1$, with C=.3 as seen in the papers\n",
      "* Random sampling with bootstrap of 200\n",
      "* $p=\\{.5, .9\\}$"
     ]
    },
    {
     "cell_type": "code",
     "collapsed": false,
     "input": [
      "## Imports \n",
      "%matplotlib inline\n",
      "\n",
      "STRUCTURED = '/Users/maru/MyCode/structured'\n",
      "IMDB_DATA='/Users/maru/MyCode/data/imdb'\n",
      "SRAA_DATA='/Users/maru/MyCode/data/sraa'\n",
      "TWIITER_DATA = '/Users/maru/MyCode/data/twitter'\n",
      "\n",
      "# STRUCTURED = '/Users/maru/My Code/structured'\n",
      "# IMDB_DATA='/Users/maru/Dataset/aclImdb'\n",
      "# SRAA_DATA='/Users/maru/Dataset/aviation/data'\n",
      "# TWIITER_DATA = '/Users/maru/Dataset/twitter'\n",
      "\n",
      "import sys\n",
      "import os\n",
      "sys.path.append(os.path.abspath(STRUCTURED))\n",
      "\n",
      "import utilities.experimentutils as exputil\n",
      "import utilities.datautils as datautil\n",
      "import numpy as np\n",
      "import nltk\n",
      "from sklearn import metrics\n",
      "import matplotlib.pyplot as plt\n",
      "import matplotlib as mpl\n",
      "\n",
      "mpl.style.use('bmh')"
     ],
     "language": "python",
     "metadata": {},
     "outputs": [],
     "prompt_number": 1
    },
    {
     "cell_type": "code",
     "collapsed": false,
     "input": [
      "# Loading Data\n",
      "\n",
      "def load_data(dataname, path, vct):\n",
      "    import pickle\n",
      "\n",
      "    DATA_PKL = path + '/data.pkl'\n",
      "\n",
      "    if os.path.isfile(DATA_PKL):\n",
      "        vct, data = pickle.load(open(DATA_PKL, 'rb'))\n",
      "    else:\n",
      "        data = datautil.load_dataset(dataname, path, categories=None, rnd=5463, shuffle=True)\n",
      "        data.train.data = np.array(data.train.data, dtype=object)\n",
      "        data.test.data = np.array(data.test.data, dtype=object)\n",
      "        data.train.bow = vct.fit_transform(data.train.data)\n",
      "        data.test.bow = vct.transform(data.test.data)\n",
      "        pickle.dump((vct, data), open(DATA_PKL, 'wb'))\n",
      "\n",
      "    return data, vct\n",
      "\n"
     ],
     "language": "python",
     "metadata": {},
     "outputs": [],
     "prompt_number": 3
    },
    {
     "cell_type": "code",
     "collapsed": false,
     "input": [
      "# Expert Settings\n",
      "vct = exputil.get_vectorizer({'vectorizer':\"bow\", 'limit':None, 'min_size':100})\n",
      "\n",
      "imdb, vct = load_data('imdb', IMDB_DATA, vct)\n",
      "\n",
      "expertl1 = exputil.get_classifier('lrl1', parameter=.3)\n",
      "\n",
      "expertl1.fit(imdb.train.bow, imdb.train.target)\n",
      "\n",
      "sent_tk = nltk.data.load('tokenizers/punkt/english.pickle')\n",
      "\n",
      "\n",
      "## Get Test data ready\n",
      "rnd = np.random.RandomState(2345)\n",
      "test_docs = rnd.permutation(len(imdb.test.target))\n",
      "\n",
      "\n"
     ],
     "language": "python",
     "metadata": {},
     "outputs": [],
     "prompt_number": 5
    },
    {
     "cell_type": "code",
     "collapsed": false,
     "input": [
      "## Get learning curve data\n",
      "from sklearn import cross_validation\n",
      "from sklearn.learning_curve import learning_curve\n",
      "\n",
      "def get_learning_curve(estimator, X, y, cv=None,\n",
      "                        n_jobs=1, train_sizes=np.linspace(.1, 1.0, 5)):\n",
      "    \"\"\"\n",
      "    Generate a simple plot of the test and traning learning curve.\n",
      "    \"\"\"\n",
      "    train_sizes, train_scores, test_scores = learning_curve(\n",
      "        estimator, X, y, cv=cv, n_jobs=n_jobs, train_sizes=train_sizes)\n",
      "    train_scores_mean = np.mean(train_scores, axis=1)\n",
      "    train_scores_std = np.std(train_scores, axis=1)\n",
      "    test_scores_mean = np.mean(test_scores, axis=1)\n",
      "    test_scores_std = np.std(test_scores, axis=1)\n",
      "    \n",
      "    return train_sizes, test_scores_mean, test_scores_std\n",
      "\n",
      "def get_learning_curve2(estimator, data, new_target, train_sizes=np.linspace(.1, 1.0, 5)):\n",
      "    \"\"\"\n",
      "    Generate a simple plot of the test and traning learning curve. This uses \n",
      "    as fixed test set.\n",
      "    \"\"\"\n",
      "    cv = cross_validation.ShuffleSplit(data.train.target.shape[0], n_iter=5, test_size=.0, random_state=12345)\n",
      "    \n",
      "    test_scores = []\n",
      "    \n",
      "    for train_index, _ in cv:\n",
      "        trial_score = []\n",
      "        for size in train_sizes:\n",
      "            estimator.fit(data.train.bow[train_index[:size]], new_target[train_index[:size]])\n",
      "            score = metrics.accuracy_score(data.test.target, estimator.predict(data.test.bow))\n",
      "            trial_score.append(score)\n",
      "        test_scores.append(trial_score)\n",
      "    \n",
      "    test_scores_mean = np.mean(test_scores, axis=0)\n",
      "    test_scores_std = np.std(test_scores, axis=0)\n",
      "    \n",
      "    return train_sizes, test_scores_mean, test_scores_std\n",
      "\n",
      "\n",
      "## Plot noise graph based on cross validation\n",
      "def plot_relabel(kvc, noise_p=.3):\n",
      "    \n",
      "    expert = NoisyExpert(None, noise_p)\n",
      "\n",
      "    noisy_y = expert.label(None, y=data.train.target)\n",
      "    \n",
      "    plot_learning_curve(clf, \"Accuracy of LRL2 with 30% Noise\", data.train.bow, noisy_y, ylim=(0.4, 1.01), \n",
      "                        cv=kcv, n_jobs=4, train_sizes=sizes, label='Noise '+str(noise_p))\n",
      "\n",
      "\n",
      "def get_relabel_curve(data, expert, clf, kcv, sizes, p):\n",
      "    \n",
      "    rnd_gen = np.random.RandomState(12345)\n",
      "    \n",
      "    # get the predicted labels of the training data\n",
      "    new_target = expert.predict(data.train.bow)\n",
      "    \n",
      "    # Flip a coin for every instance\n",
      "    rnd_probs = rnd_gen.random_sample(data.train.target.shape[0])\n",
      "    \n",
      "    #relabeling the target\n",
      "    new_target[rnd_probs < p] = data.train.target[rnd_probs < p]\n",
      "    \n",
      "    return get_learning_curve2(clf, data, new_target, train_sizes=sizes)\n",
      "\n",
      "\n",
      "\n",
      "def relabel_curve(data, expert, clf, p_range=np.arange(.0, .5,.1)):\n",
      "    kcv = cross_validation.KFold(len(data.train.target), n_folds=5, random_state=rnd,shuffle=True)\n",
      "    sizes = range(50, 1500, 200)\n",
      "\n",
      "    for p in p_range:\n",
      "        x, y , st = get_relabel_curve(data, expert,clf, kcv, sizes, p)\n",
      "        plt.errorbar(x, y, yerr=st, label='p= '+str(p))\n",
      "\n",
      "    plt.legend(loc='best')\n",
      "    plt.title(\"Relabel Test - LRL1\")\n",
      "    plt.show()\n",
      "\n"
     ],
     "language": "python",
     "metadata": {},
     "outputs": [],
     "prompt_number": 37
    },
    {
     "cell_type": "code",
     "collapsed": false,
     "input": [
      "clf = exputil.get_classifier('lrl1', parameter=1)\n",
      "relabel_curve(imdb, expertl1, clf, p_range=np.arange(.0, 1.01, .25))"
     ],
     "language": "python",
     "metadata": {},
     "outputs": [
      {
       "metadata": {},
       "output_type": "display_data",
       "png": "[encoded data removed]",
       "text": [
        "<matplotlib.figure.Figure at 0x114ee4690>"
       ]
      }
     ],
     "prompt_number": 38
    },
    {
     "cell_type": "code",
     "collapsed": false,
     "input": [
      "import sklearn.metrics as metrics\n",
      "pr = expertl1.predict(imdb.train.bow)\n",
      "print \"Accuracy of expert on train: %.4f\" % metrics.accuracy_score(imdb.train.target, pr)"
     ],
     "language": "python",
     "metadata": {},
     "outputs": [
      {
       "output_type": "stream",
       "stream": "stdout",
       "text": [
        "Accuracy of expert: 0.8567\n"
       ]
      }
     ],
     "prompt_number": 15
    },
    {
     "cell_type": "code",
     "collapsed": false,
     "input": [
      "# Testing learning curve\n",
      "sizes = range(50, 1500, 200)\n",
      "kcv = cross_validation.KFold(len(imdb.train.target), n_folds=5, random_state=rnd,shuffle=True)\n",
      "\n",
      "x, y , st = get_learning_curve2(clf, imdb, imdb.train.target,train_sizes=sizes)\n",
      "print len(x),len(y)\n",
      "plt.errorbar(x, y, yerr=st, label='True labels')\n",
      "\n",
      "x, y , st = get_learning_curve2(clf, imdb, expertl1.predict(imdb.train.bow), train_sizes=sizes)\n",
      "\n",
      "plt.errorbar(x, y, yerr=st, label='Oracle labels')\n",
      "\n",
      "plt.legend(loc='best')"
     ],
     "language": "python",
     "metadata": {},
     "outputs": [
      {
       "output_type": "stream",
       "stream": "stdout",
       "text": [
        "15 15\n"
       ]
      },
      {
       "metadata": {},
       "output_type": "pyout",
       "prompt_number": 32,
       "text": [
        "<matplotlib.legend.Legend at 0x1154e0f90>"
       ]
      },
      {
       "metadata": {},
       "output_type": "display_data",
       "png": "[encoded data removed]",
       "text": [
        "<matplotlib.figure.Figure at 0x115455210>"
       ]
      }
     ],
     "prompt_number": 32
    },
    {
     "cell_type": "code",
     "collapsed": false,
     "input": [
      "print range(50, 1500, 150)"
     ],
     "language": "python",
     "metadata": {},
     "outputs": [
      {
       "output_type": "stream",
       "stream": "stdout",
       "text": [
        "[50, 200, 350, 500, 650, 800, 950, 1100, 1250, 1400]\n"
       ]
      }
     ],
     "prompt_number": 36
    },
    {
     "cell_type": "code",
     "collapsed": false,
     "input": [],
     "language": "python",
     "metadata": {},
     "outputs": []
    }
   ],
   "metadata": {}
  }
 ]
}