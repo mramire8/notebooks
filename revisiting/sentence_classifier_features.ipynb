{
 "cells": [
  {
   "cell_type": "markdown",
   "metadata": {},
   "source": [
    "# Sentence Classifier with Feature Template\n",
    "\n",
    "## Settings\n",
    "\n",
    "### Feature Function\n",
    "The feature function $\\mathbf{f}$ uses the following features to represent a sentence: \n",
    "\n",
    "* Features for sentence context, each sentnece and its neighbors will have the following:\n",
    "    * Number of tokens\n",
    "    * Number of positive, negative and neutral tokens\n",
    "    * Proportion of positive over negative\n",
    "    * Proportion of negative over postive\n",
    "    * Proportion of neutral \n",
    "* Feature for document context:\n",
    "    * Same as the sentences but for the full document\n",
    "* Labels\n",
    "    * Sentence level label from DaS classifier ($y_i^s$)\n",
    "    \n",
    "\n",
    "### Training the Classifier\n",
    "\n",
    "We select N random documents and train a DaS classifier (trained on documents) to predict the label of the sentence $y^s_i$. We create a logistic regression classifier that will be trained on data using the feature fucntion representation $P_E(y^s|\\mathbf{f}(x))$."
   ]
  },
  {
   "cell_type": "code",
   "execution_count": 12,
   "metadata": {
    "collapsed": false
   },
   "outputs": [],
   "source": [
    "## Imports \n",
    "%matplotlib inline\n",
    "\n",
    "STRUCTURED = '/Users/maru/MyCode/structured'\n",
    "IMDB_DATA='/Users/maru/MyCode/data/imdb'\n",
    "SRAA_DATA='/Users/maru/MyCode/data/sraa'\n",
    "TWIITER_DATA = '/Users/maru/MyCode/data/twitter'\n",
    "\n",
    "# IMDB_DATA = 'C:/Users/mramire8/Documents/Research/Oracle confidence and Interruption/dataset/aclImdb/raw-data'\n",
    "\n",
    "import sys\n",
    "import os\n",
    "\n",
    "sys.path.append(os.path.abspath(STRUCTURED))\n",
    "sys.path.append(os.path.abspath('C:/cygwin/home/mramire8/python_code/structured/'))\n",
    "\n",
    "import learner\n",
    "\n",
    "from utilities.datautils import load_dataset\n",
    "import experiment.base as exp\n",
    "\n",
    "\n",
    "import utilities.experimentutils as exputil\n",
    "import utilities.datautils as datautil\n",
    "import numpy as np\n",
    "import nltk\n",
    "from sklearn import metrics\n",
    "from sklearn.feature_extraction.text import CountVectorizer\n",
    "import matplotlib.pyplot as plt\n",
    "import matplotlib as mpl\n",
    "\n",
    "mpl.style.use('bmh')"
   ]
  },
  {
   "cell_type": "code",
   "execution_count": 13,
   "metadata": {
    "collapsed": false
   },
   "outputs": [],
   "source": [
    "## Get the data ready\n",
    "import re \n",
    "vct = CountVectorizer(min_df=2, token_pattern=re.compile(r'(?u)\\b\\w+\\b'))\n",
    "\n",
    "# vct_doc = CountVectorizer(encoding='ISO-8859-1', min_df=2, max_df=1.0, binary=True, token_pattern='\\\\b\\\\w+\\\\b')\n",
    "vct_doc = exputil.get_vectorizer({'vectorizer':'bow', 'limit':None, 'min_size':2})\n",
    "\n",
    "# IMDB_DATA = 'C:/Users/mramire8/Documents/Research/Oracle confidence and Interruption/dataset/aclImdb/raw-data'\n",
    "\n",
    "sent_tk = nltk.data.load('tokenizers/punkt/english.pickle')\n",
    "\n",
    "imdb =  load_dataset(\"imdb\",IMDB_DATA, keep_subject=True)\n",
    "\n",
    "imdb.train.bow = vct_doc.fit_transform(imdb.train.data)\n",
    "imdb.test.bow = vct_doc.transform(imdb.test.data)"
   ]
  },
  {
   "cell_type": "code",
   "execution_count": 14,
   "metadata": {
    "collapsed": true
   },
   "outputs": [],
   "source": [
    "class Document(object):\n",
    "    def __init__(self, raw_text, lbl, sent_tk, vct_gral, sent_lbl=None):\n",
    "        sentences = sent_tk.tokenize_sents([raw_text])[0]\n",
    "        self.doc_label = lbl\n",
    "        self.sent_bow = vct_gral.transform(sentences) # counts per sentence\n",
    "        if sent_lbl is not None:\n",
    "            self.sent_labels = [lbl] * len(sentences)\n",
    "        else:\n",
    "            self.sent_labels = sent_lbl#np.array([s.split('\\t')[0] for s in self.sentences])\n",
    "            \n",
    "    def __init__(self,  sents_bow, sents_lbl, doc_lbl):\n",
    "#         self.sentences = sents\n",
    "        self.doc_label = doc_lbl\n",
    "        self.sent_labels = sents_lbl\n",
    "        self.sent_bow = sents_bow\n",
    "        "
   ]
  },
  {
   "cell_type": "code",
   "execution_count": 15,
   "metadata": {
    "collapsed": false
   },
   "outputs": [],
   "source": [
    "def iterate_sentences(documents):\n",
    "    for d in documents:\n",
    "        for s in d:\n",
    "            yield s\n",
    " \n",
    "    \n",
    "def load_documents(data, vct, sent_tk ):\n",
    "    # sents, sents_bow, sents_lbl, doc_lbl\n",
    "    \n",
    "    sents_doc = sent_tk.tokenize_sents(data.data)\n",
    "    sents_bow = [vct.transform(d) for d in sents_doc]\n",
    "    sents_lbl = [[l]*len(s) for l,s in  zip(data.target, sents_doc)]\n",
    "    \n",
    "    x = np.array([Document(a,b,c) for a,b,c in zip( sents_bow, sents_lbl, data.target)])\n",
    "    y = data.target\n",
    "    return x,y\n",
    "\n",
    "def load_documents_v2(data, vct, sent_tk, doc_clf ):\n",
    "    # sents, sents_bow, sents_lbl, doc_lbl\n",
    "    \n",
    "    sents_doc = sent_tk.tokenize_sents(data.data)\n",
    "\n",
    "    X = vec.fit_transform(iterate_sentences(sents_doc))\n",
    "    start = 0\n",
    "    sents_bow = []\n",
    "    for d in sents_doc:\n",
    "        end = start + len(d)\n",
    "        sents_bow.append(X[start:end])\n",
    "        start = end\n",
    "\n",
    "#     sents_bow = [vct.transform(d) for d in sents_doc]\n",
    "    sents_lbl = [[l]*len(s) for l,s in  zip(data.target, sents_doc)]\n",
    "    \n",
    "    x = np.array([Document(a,b,c) for a,b,c in zip( sents_bow, sents_lbl, data.target)])\n",
    "    y = data.target\n",
    "    return x,y\n",
    "\n",
    "\n",
    "def features_per_document(doc, doc_clf, feature_fn, top=10, threshold=.47):\n",
    "    x = np.vstack((feature_fn(doc, i, doc_clf, top=top, threshold=threshold) for i in range(len(doc.sent_labels))))\n",
    "    return x\n",
    "\n",
    "def get_training_sentence(documents, doc_clf, feature_fn, top=10, threshold=.47):\n",
    "    x = np.vstack((features_per_document(d, doc_clf, feature_fn, top=top, threshold=threshold) for d in documents))\n",
    "    return x[:,:-1], x[:,-1]\n",
    "    \n",
    "      "
   ]
  },
  {
   "cell_type": "code",
   "execution_count": 16,
   "metadata": {
    "collapsed": false
   },
   "outputs": [
    {
     "data": {
      "text/plain": [
       "LogisticRegression(C=1, class_weight=None, dual=False, fit_intercept=True,\n",
       "          intercept_scaling=1, max_iter=100, multi_class='ovr',\n",
       "          penalty='l1', random_state=None, solver='liblinear', tol=0.0001,\n",
       "          verbose=0)"
      ]
     },
     "execution_count": 16,
     "metadata": {},
     "output_type": "execute_result"
    }
   ],
   "source": [
    "from sklearn.linear_model import LogisticRegression\n",
    "\n",
    "x,y = load_documents(imdb.train, vct_doc, sent_tk)\n",
    "\n",
    "\n",
    "doc_clf = LogisticRegression(penalty='l1', C=1)\n",
    "doc_clf.fit(imdb.train.bow, imdb.train.target)\n",
    "\n"
   ]
  },
  {
   "cell_type": "code",
   "execution_count": 17,
   "metadata": {
    "collapsed": false
   },
   "outputs": [
    {
     "name": "stdout",
     "output_type": "stream",
     "text": [
      "Document-doc accuracy: 0.8884\n",
      "Test size: 24989\n"
     ]
    }
   ],
   "source": [
    "# Testing document classifier\n",
    "\n",
    "print \"Document-doc accuracy: %.4f\" % metrics.accuracy_score(imdb.test.target, doc_clf.predict(imdb.test.bow))\n",
    "print \"Test size: %s\" % imdb.test.bow.shape[0]"
   ]
  },
  {
   "cell_type": "code",
   "execution_count": 18,
   "metadata": {
    "collapsed": false
   },
   "outputs": [
    {
     "name": "stdout",
     "output_type": "stream",
     "text": [
      "Document-sentence accuracy: 0.6511\n",
      "Test size: 304952\n"
     ]
    }
   ],
   "source": [
    "# Testing Document-sentence \n",
    "# Sentences take label of the document\n",
    "\n",
    "def doc_to_sents(docs_text, doc_labels, vct):\n",
    "    '''Create bow features for sentences of one document'''\n",
    "    \n",
    "    sent_splitter = nltk.data.load('tokenizers/punkt/english.pickle')\n",
    "    doc_sents = sent_splitter.tokenize_sents(docs_text)\n",
    "    sizes = [len(d) for d in doc_sents]\n",
    "    labels = [[l]*s for l, s in zip(doc_labels, sizes)]\n",
    "    \n",
    "    sents_bow = vct.transform(iterate_sentences(doc_sents))\n",
    "    labels = np.array([l for l in iterate_sentences(labels)])\n",
    "    \n",
    "    return sents_bow, labels\n",
    "\n",
    "test_sx, test_sy = doc_to_sents(imdb.test.data, imdb.test.target, vct_doc)\n",
    "print \"Document-sentence accuracy: %.4f\" % metrics.accuracy_score(test_sy, doc_clf.predict(test_sx))\n",
    "print \"Test size: %s\" % len(test_sy)"
   ]
  },
  {
   "cell_type": "code",
   "execution_count": 19,
   "metadata": {
    "collapsed": false
   },
   "outputs": [
    {
     "name": "stdout",
     "output_type": "stream",
     "text": [
      "Sent-doc accuracy: 0.9005\n",
      "Sent-sentence accuracy: 0.6982\n",
      "Test size: 304952\n"
     ]
    }
   ],
   "source": [
    "# Testing sentence to sentence\n",
    "train_sx, train_sy = doc_to_sents(imdb.train.data, imdb.train.target, vct_doc)\n",
    "s2s_clf = LogisticRegression(penalty='l1', C=1)\n",
    "s2s_clf.fit(train_sx, train_sy)\n",
    "print \"Sent-doc accuracy: %.4f\" % metrics.accuracy_score(imdb.test.target, s2s_clf.predict(imdb.test.bow))\n",
    "print \"Sent-sentence accuracy: %.4f\" % metrics.accuracy_score(test_sy, s2s_clf.predict(test_sx))\n",
    "print \"Test size: %s\" % len(test_sy)"
   ]
  },
  {
   "cell_type": "code",
   "execution_count": 20,
   "metadata": {
    "collapsed": false
   },
   "outputs": [
    {
     "name": "stdout",
     "output_type": "stream",
     "text": [
      "Perc. neutrals: 0.24362343236\n",
      "Accuracy: 0.719345782882\n"
     ]
    }
   ],
   "source": [
    "## Neutrality and accuracy of the oracle on sentences, on training data\n",
    "pred_prob = doc_clf.predict_proba(train_sx)\n",
    "pred_sent = doc_clf.predict(train_sx)\n",
    "unc_sent = 1- pred_prob.max(axis=1)\n",
    "thres = 0.42\n",
    "pred_sent[unc_sent > thres] = 2\n",
    "print \"Perc. neutrals: %s\" % (1. * len(pred_sent[unc_sent > thres]) / len(pred_sent))\n",
    "non_neu = pred_sent < 2\n",
    "print \"Accuracy: %s\" % (metrics.accuracy_score(np.array(train_sy)[non_neu], pred_sent[non_neu]))\n"
   ]
  },
  {
   "cell_type": "code",
   "execution_count": 138,
   "metadata": {
    "collapsed": false
   },
   "outputs": [],
   "source": [
    "from sklearn.base import BaseEstimator,  TransformerMixin,ClassifierMixin\n",
    "from scipy.sparse import csr_matrix\n",
    "from scipy.sparse import vstack, hstack\n",
    "\n",
    "\n",
    "class ContextVectorizer(BaseEstimator, TransformerMixin):\n",
    "# class TextStats(BaseEstimator, TransformerMixin):\n",
    "    \"\"\"Extract features from each document for Vectorizer\"\"\"\n",
    "    def __init__(self, doc_clf, vct, feature_fn,top=10, threshold=.47):\n",
    "        self.doc_clf = doc_clf\n",
    "        self.vct = vct\n",
    "        self.feature_fn = feature_fn \n",
    "        self.top = top\n",
    "        self.threshold = threshold \n",
    "        self.feature_fn = self.feature_context\n",
    "        self.lexicon =  self.get_lexicon(self.doc_clf, top=self.top)\n",
    "        \n",
    "    def fit(self, x, y=None):\n",
    "        return self\n",
    "\n",
    "    def transform(self, documents):\n",
    "        x = self.get_training_sentence(documents,  self.feature_fn, \n",
    "                                       threshold=self.threshold)\n",
    "\n",
    "        return x\n",
    "\n",
    "    def get_lexicon(self, clf, top=10):\n",
    "        '''\n",
    "        Return lexicon of top K terms according to classifier clf. \n",
    "        The function returns feat_index-class pairs\n",
    "        '''\n",
    "    #     feats = np.array(vct.get_feature_names())\n",
    "        coefs = clf.coef_\n",
    "        if coefs.shape[0] == 1:\n",
    "            coefs = [-1 * coefs[0], coefs[0]]\n",
    "\n",
    "        res = []\n",
    "        for ci, cname in enumerate(clf.classes_): # for every class\n",
    "            coef = coefs[ci]\n",
    "            res.extend([(i, cname) for i in np.argsort(coef)[::-1][:top]])\n",
    "        return res\n",
    "\n",
    "\n",
    "    def get_context(self, doc, i):\n",
    "        ''' Get surrounding sentences for context '''\n",
    "        zero_mat = csr_matrix(doc.sent_bow[0].shape, dtype=np.int64)\n",
    "        if i >= len(doc.sent_labels):\n",
    "            raise Exception(\"This doc is not that long.\")\n",
    "        if len(doc.sent_labels) == 1: # there is only one sentence\n",
    "            return np.array([zero_mat, doc.sent_bow[0], zero_mat])\n",
    "        elif i==0: # for the first1\n",
    "            return np.array([zero_mat, doc.sent_bow[0], doc.sent_bow[1]])\n",
    "        elif i == len(doc.sent_labels)-1: # for the last one \n",
    "            return np.array([doc.sent_bow[i-1], doc.sent_bow[i], zero_mat])\n",
    "        else: \n",
    "            return np.array([doc.sent_bow[i-1], doc.sent_bow[i], doc.sent_bow[i+1]])\n",
    "\n",
    "    def get_sentence_label(self,  x, threshold=.4):\n",
    "        '''Get a label or a neutral answer by uncertainty threshold. We use a document classifier to return the label'''\n",
    "\n",
    "        unc = 1 - self.doc_clf.predict_proba(x).max(axis=1)\n",
    "        preds = self.doc_clf.predict(x)\n",
    "        preds[unc >= threshold] = 2  # assign neutral labels\n",
    "        return preds\n",
    "\n",
    "\n",
    "    def feature_context(self, doc, i,  threshold=.47):\n",
    "        '''Feature function, context and lexicon counts, for one sentence '''\n",
    "        context = self.get_context(doc, i)\n",
    "#         doc_lbl = self.get_sentence_label(doc.sent_bow.sum(axis=0), threshold=self.threshold)\n",
    "        doc_lbl = self.get_sentence_label(doc.sent_bow[i], threshold=self.threshold)\n",
    "\n",
    "\n",
    "        n_lex = len(self.lexicon)\n",
    "        n_feat = (3 * n_lex) + 1  # 2 context sentences and current sentence + label\n",
    "        lex_index = [x[0] for x in self.lexicon]\n",
    "\n",
    "        # Add context sentences + Add sentence label, predicted\n",
    "        lbl_mat = csr_matrix((doc_lbl, ([0] , [0])), shape=(1, 1), dtype=np.int64)\n",
    "        new_feat =  hstack([c[:,lex_index] for c in context]+[lbl_mat])\n",
    "\n",
    "        if new_feat.shape[1] != n_feat:\n",
    "            raise ValueError(\"Oops, convertion did not work. The features are no correct.\")\n",
    "\n",
    "        return new_feat\n",
    "    \n",
    "\n",
    "    def features_per_document(self, doc,  feature_fn,  threshold=.47):\n",
    "        x = vstack([self.feature_fn(doc, i, threshold=threshold) for i in range(len(doc.sent_labels))])\n",
    "        return x\n",
    "\n",
    "    def get_training_sentence(self, documents,  feature_fn,  threshold=.47):\n",
    "        x = vstack([self.features_per_document(d, feature_fn,  threshold=threshold) for d in documents])\n",
    "        return x\n",
    "\n",
    "    def set_top(top):\n",
    "        self.top = top\n",
    "        \n",
    "    def set_unc_threshold(thr):\n",
    "        self.threshold = thr \n",
    "        \n",
    "        \n",
    "class SentenceClassifier(BaseEstimator, ClassifierMixin):\n",
    "    \"\"\"Sentence Classifier. Takes data from ContextVectorizer\"\"\"\n",
    "    def __init__(self):\n",
    "        self.clf = LogisticRegression(penalty='l1', C=1)\n",
    "        self.doc_clf = LogisticRegression(penalty='l1', C=1)\n",
    "        \n",
    "    def __init__(self, doc_clf, vct, feature_fn,top=10, threshold=.47):\n",
    "        self.clf = LogisticRegression(penalty='l1', C=1)\n",
    "        self.converter = ContextVectorizer(doc_clf, vct, feature_fn, top=top, threshold=threshold)\n",
    "        self.threshold = threshold\n",
    "        if doc_clf is not None:\n",
    "            self.doc_clf = doc_clf\n",
    "        else:\n",
    "            self.doc_clf = LogisticRegression(penalty='l1', C=1)        \n",
    "            \n",
    "        \n",
    "    def convert(self, x):\n",
    "        xx = self.converter.transform(x)\n",
    "        return xx\n",
    "\n",
    "    def get_sentence_label(self,  x, threshold=.4):\n",
    "        '''Get a label or a neutral answer by uncertainty threshold.'''\n",
    "\n",
    "        unc = 1 - self.doc_clf.predict_proba(x).max(axis=1)\n",
    "        preds = self.doc_clf.predict(x)\n",
    "        preds[unc >= threshold] = 2  # assign neutral labels\n",
    "        return preds\n",
    "\n",
    "    def get_label(self,  x, threshold=.4):\n",
    "        '''Get a label or a neutral answer by uncertainty threshold.'''\n",
    "\n",
    "#         unc = 1 - self.clf.predict_proba(x).max(axis=1)\n",
    "#         preds = self.clf.predict(x)\n",
    "#         preds[unc >= threshold] = 2\n",
    "#         return preds\n",
    "        return self.clf.predict(x)\n",
    "    \n",
    "    def fit(self, x,y):\n",
    "\n",
    "        docx = np.vstack([d.sent_bow.sum(axis=0) for d in x])\n",
    "        docy = np.array([d.doc_label for d in x])\n",
    "        \n",
    "        self.doc_clf.fit(docx,docy)\n",
    "        self.converter.doc_clf=self.doc_clf\n",
    "        xx = self.convert(x)\n",
    "\n",
    "        \n",
    "        self.fit2(xx,y)\n",
    "        return self\n",
    "    \n",
    "    def fit2(self, X, y):\n",
    "        self.clf.fit(X,y)\n",
    "        self.classes_ = self.clf.classes_        \n",
    "        return self\n",
    "    \n",
    "    def predict(self, X):\n",
    "        xx = self.convert(X)\n",
    "        return self.predict2(xx)\n",
    "\n",
    "\n",
    "    def predict2(self, X):\n",
    "        pred = self.get_label(X, threshold=self.threshold)\n",
    "        return pred\n",
    "\n",
    "    def predict_proba(self, X):\n",
    "        xx = self.convert(X)\n",
    "        return self.predict_proba2(xx)\n",
    "\n",
    "    def predict_proba2(self, X):\n",
    "        return self.clf.predict_proba(X)\n"
   ]
  },
  {
   "cell_type": "code",
   "execution_count": 95,
   "metadata": {
    "collapsed": false
   },
   "outputs": [
    {
     "name": "stdout",
     "output_type": "stream",
     "text": [
      "24989\n"
     ]
    }
   ],
   "source": [
    "## Convert testing documents \n",
    "te_x, te_y = load_documents(imdb.test, vct_doc, sent_tk)\n",
    "print \"%s\" % (len(te_x))\n"
   ]
  },
  {
   "cell_type": "markdown",
   "metadata": {},
   "source": [
    "## Implement\n",
    "\n",
    "* create a training funtion for data with label from te document \n",
    "* create a function for data from amt with original labels (should work for other data as well)\n",
    "* create a fnction for testing same as training options \n",
    "* create a cv test \n",
    "* create a plot with cv\n",
    "* test base liens\n",
    "* test classifiers\n",
    "* test classifier with simple fieatures\n",
    "* with features for sentiment analysis \n",
    "* with fancy features \n"
   ]
  },
  {
   "cell_type": "code",
   "execution_count": 141,
   "metadata": {
    "collapsed": false
   },
   "outputs": [
    {
     "name": "stdout",
     "output_type": "stream",
     "text": [
      "{'accu': 0.81147540983606559, 'train_size': 10, 'neutrals': 0.0}\n"
     ]
    }
   ],
   "source": [
    "## Training with Documents\n",
    "def extract_y(x):\n",
    "    yy = []\n",
    "    for d in x:\n",
    "        yy.extend(d.sent_labels)\n",
    "    yy = np.array(yy)\n",
    "    return yy\n",
    "    \n",
    "def train_clf(x, y, clf, convert=False):\n",
    "    if y is None:\n",
    "        yy = extract_y(x)\n",
    "    else: \n",
    "        yy = y\n",
    "        \n",
    "    if convert:\n",
    "        clf.fit(x, yy)\n",
    "    else:\n",
    "        clf.fit2(x,yy)\n",
    "        \n",
    "    return clf\n",
    "\n",
    "def test_clf(x, y, clf, convert=False):\n",
    "    '''\n",
    "    Effective accuracy and neutrality percentage test\n",
    "    :param x: list of Document instances\n",
    "    '''\n",
    "    if y is None:\n",
    "        yy = extract_y(x)\n",
    "    else:\n",
    "        yy = y\n",
    "    \n",
    "    if convert:\n",
    "        pred = clf.predict(x)\n",
    "    else:\n",
    "        pred = clf.predict2(x)\n",
    "\n",
    "    non_neu = pred < 2\n",
    "\n",
    "    return {'accu':metrics.accuracy_score(yy[non_neu], pred[non_neu]), 'neutrals':1- 1.* sum(non_neu) / len(pred), 'train_size':x.shape[0]}\n",
    "\n",
    "s = SentenceClassifier(doc_clf, vct_doc, None, top=2500, threshold=.4)\n",
    "ss = train_clf(x[:10], None, s, convert=True)\n",
    "print test_clf(x[:10], None, ss, convert=True)\n",
    "\n",
    "    "
   ]
  },
  {
   "cell_type": "code",
   "execution_count": 98,
   "metadata": {
    "collapsed": false
   },
   "outputs": [
    {
     "name": "stdout",
     "output_type": "stream",
     "text": [
      "(311296, 15001)\n",
      "(311296,)\n",
      "24991\n"
     ]
    }
   ],
   "source": [
    "# %%timeit\n",
    "train_x = s.converter.transform(x)\n",
    "train_x = train_x.tocsr()\n",
    "train_y = extract_y(x)\n",
    "sent_len = np.array([d.sent_bow.shape[0] for d in x])\n",
    "print train_x.shape\n",
    "print train_y.shape\n",
    "print len(sent_len)"
   ]
  },
  {
   "cell_type": "code",
   "execution_count": 100,
   "metadata": {
    "collapsed": true
   },
   "outputs": [
    {
     "name": "stdout",
     "output_type": "stream",
     "text": [
      "115 Accuracy: {'accu': 0.9698562079013997, 'train_size': 62799, 'neutrals': 0.0}\n",
      "585 Accuracy: {'accu': 0.96979833699703721, 'train_size': 62799, 'neutrals': 0.00033440022930297797}\n",
      "1242 Accuracy: {'accu': 0.96943669827105405, 'train_size': 62799, 'neutrals': 0.0007006480994919961}\n",
      "4270 Accuracy: {'accu': 0.96719683500712761, 'train_size': 62799, 'neutrals': 0.0058281182821382504}\n",
      "7455 Accuracy: {'accu': 0.9681202959459243, 'train_size': 62799, 'neutrals': 0.0035032404974602027}\n",
      "10696 Accuracy: {'accu': 0.96815785269212329, 'train_size': 62799, 'neutrals': 0.0033280784725870927}\n",
      "13889 Accuracy: {'accu': 0.96813811607627687, 'train_size': 62799, 'neutrals': 0.0029459067819551654}\n",
      "16818 Accuracy: {'accu': 0.96749268105392827, 'train_size': 62799, 'neutrals': 0.004617907928470166}\n",
      "20230 Accuracy: {'accu': 0.96744208370664275, 'train_size': 62799, 'neutrals': 0.004697527030685156}\n",
      "23446 Accuracy: {'accu': 0.96798683032860244, 'train_size': 62799, 'neutrals': 0.0036784025223332018}\n",
      "26497 Accuracy: {'accu': 0.96775792064963717, 'train_size': 62799, 'neutrals': 0.0038376407267631807}\n",
      "29489 Accuracy: {'accu': 0.9677290390673724, 'train_size': 62799, 'neutrals': 0.004235736237838128}\n",
      "32352 Accuracy: {'accu': 0.96789870827471547, 'train_size': 62799, 'neutrals': 0.00393318364942119}\n",
      "35495 Accuracy: {'accu': 0.96794666837191456, 'train_size': 62799, 'neutrals': 0.00393318364942119}\n",
      "100 Accuracy: {'accu': 0.97152067909734485, 'train_size': 61729, 'neutrals': 0.0}\n",
      "577 Accuracy: {'accu': 0.97143458958488604, 'train_size': 61729, 'neutrals': 0.00017819825365716913}\n",
      "1250 Accuracy: {'accu': 0.97151883353584445, 'train_size': 61729, 'neutrals': 6.479936496617267e-05}\n",
      "4201 Accuracy: {'accu': 0.97086307592472421, 'train_size': 61729, 'neutrals': 0.0014417858704984798}\n",
      "7236 Accuracy: {'accu': 0.97093928386092376, 'train_size': 61729, 'neutrals': 0.0010529896807011108}\n",
      "10651 Accuracy: {'accu': 0.96945225289634884, 'train_size': 61729, 'neutrals': 0.003013170470929416}\n",
      "13884 Accuracy: {'accu': 0.96926502616779897, 'train_size': 61729, 'neutrals': 0.0032885677720357886}\n",
      "16973 Accuracy: {'accu': 0.96859525671097213, 'train_size': 61729, 'neutrals': 0.005459346498404294}\n",
      "20506 Accuracy: {'accu': 0.96795738511411211, 'train_size': 61729, 'neutrals': 0.0055403457046121485}\n",
      "23727 Accuracy: {'accu': 0.96856789400006515, 'train_size': 61729, 'neutrals': 0.004778953166258981}\n",
      "26795 Accuracy: {'accu': 0.96858008009637608, 'train_size': 61729, 'neutrals': 0.004908551896191438}\n",
      "29724 Accuracy: {'accu': 0.96841350774593971, 'train_size': 61729, 'neutrals': 0.0055403457046121485}\n",
      "32652 Accuracy: {'accu': 0.96841350774593971, 'train_size': 61729, 'neutrals': 0.0055403457046121485}\n",
      "35766 Accuracy: {'accu': 0.96834288692027093, 'train_size': 61729, 'neutrals': 0.005200149038539381}\n",
      "116 Accuracy: {'accu': 0.97160143814245215, 'train_size': 63137, 'neutrals': 0.0}\n",
      "533 Accuracy: {'accu': 0.97157028984358906, 'train_size': 63137, 'neutrals': 0.0005385114908849076}\n",
      "1202 Accuracy: {'accu': 0.97101173485569303, 'train_size': 63137, 'neutrals': 0.0012195701411217286}\n",
      "4066 Accuracy: {'accu': 0.96942056669850363, 'train_size': 63137, 'neutrals': 0.005020827723838606}\n",
      "7439 Accuracy: {'accu': 0.96873159160019739, 'train_size': 63137, 'neutrals': 0.005163374883190519}\n",
      "10582 Accuracy: {'accu': 0.96904379364650117, 'train_size': 63137, 'neutrals': 0.004339769073601896}\n",
      "13705 Accuracy: {'accu': 0.96884893803197836, 'train_size': 63137, 'neutrals': 0.004466477659692436}\n",
      "16784 Accuracy: {'accu': 0.96808391920544579, 'train_size': 63137, 'neutrals': 0.006493815037141415}\n",
      "20303 Accuracy: {'accu': 0.9684295994395975, 'train_size': 63137, 'neutrals': 0.005147536309929257}\n",
      "23426 Accuracy: {'accu': 0.96795423399305225, 'train_size': 63137, 'neutrals': 0.006066173559085786}\n",
      "26431 Accuracy: {'accu': 0.96796659601255841, 'train_size': 63137, 'neutrals': 0.006177043571915064}\n",
      "29459 Accuracy: {'accu': 0.96847256092701506, 'train_size': 63137, 'neutrals': 0.006303752158005604}\n",
      "32437 Accuracy: {'accu': 0.96867135985729302, 'train_size': 63137, 'neutrals': 0.005559339214723513}\n",
      "35635 Accuracy: {'accu': 0.96892016686303861, 'train_size': 63137, 'neutrals': 0.005242567749497162}\n",
      "103 Accuracy: {'accu': 0.96785702754189407, 'train_size': 61942, 'neutrals': 0.0}\n",
      "567 Accuracy: {'accu': 0.96783517140042952, 'train_size': 61942, 'neutrals': 0.00017758548319390943}\n",
      "1237 Accuracy: {'accu': 0.9672753716871364, 'train_size': 61942, 'neutrals': 0.001000936359820459}\n",
      "4171 Accuracy: {'accu': 0.96573643159448019, 'train_size': 61942, 'neutrals': 0.004407348810177236}\n",
      "7540 Accuracy: {'accu': 0.96550549218762671, 'train_size': 61942, 'neutrals': 0.004988537664266546}\n",
      "10677 Accuracy: {'accu': 0.96547306282637602, 'train_size': 61942, 'neutrals': 0.004520357754027926}\n",
      "13805 Accuracy: {'accu': 0.96541889483065957, 'train_size': 61942, 'neutrals': 0.0037454392819088467}\n",
      "16821 Accuracy: {'accu': 0.96510363409131483, 'train_size': 61942, 'neutrals': 0.005343708630654476}\n",
      "20411 Accuracy: {'accu': 0.9653667007481701, 'train_size': 61942, 'neutrals': 0.005246843821639646}\n",
      "23668 Accuracy: {'accu': 0.96504495147836811, 'train_size': 61942, 'neutrals': 0.005166123147460566}\n",
      "26691 Accuracy: {'accu': 0.9654220779220779, 'train_size': 61942, 'neutrals': 0.005521294113848385}\n",
      "29771 Accuracy: {'accu': 0.96548142618348232, 'train_size': 61942, 'neutrals': 0.005214555551967925}\n",
      "32768 Accuracy: {'accu': 0.96497694356043384, 'train_size': 61942, 'neutrals': 0.005715023731878155}\n",
      "35859 Accuracy: {'accu': 0.96539354294154889, 'train_size': 61942, 'neutrals': 0.005408285169997695}\n",
      "108 Accuracy: {'accu': 0.97109695407609131, 'train_size': 61689, 'neutrals': 0.0}\n",
      "587 Accuracy: {'accu': 0.97109695407609131, 'train_size': 61689, 'neutrals': 0.0}\n",
      "1212 Accuracy: {'accu': 0.97073661329829508, 'train_size': 61689, 'neutrals': 0.0006808345085833611}\n",
      "4236 Accuracy: {'accu': 0.96829896067507248, 'train_size': 61689, 'neutrals': 0.004911734669065804}\n",
      "7573 Accuracy: {'accu': 0.96784440209157996, 'train_size': 61689, 'neutrals': 0.0048631036327384525}\n",
      "10888 Accuracy: {'accu': 0.96812995426208959, 'train_size': 61689, 'neutrals': 0.004085007051500278}\n",
      "14183 Accuracy: {'accu': 0.96876678439478525, 'train_size': 61689, 'neutrals': 0.004020165669730402}\n",
      "17202 Accuracy: {'accu': 0.96775928672719269, 'train_size': 61689, 'neutrals': 0.005479096759551938}\n",
      "20569 Accuracy: {'accu': 0.96804456171210784, 'train_size': 61689, 'neutrals': 0.004717210523756288}\n",
      "23600 Accuracy: {'accu': 0.96833588382769509, 'train_size': 61689, 'neutrals': 0.00426332085136738}\n",
      "26443 Accuracy: {'accu': 0.96864259069214353, 'train_size': 61689, 'neutrals': 0.0048631036327384525}\n",
      "29528 Accuracy: {'accu': 0.96836824445385539, 'train_size': 61689, 'neutrals': 0.004782051905526052}\n",
      "32517 Accuracy: {'accu': 0.96824802059235604, 'train_size': 61689, 'neutrals': 0.004976576050835679}\n",
      "35772 Accuracy: {'accu': 0.96863600833767582, 'train_size': 61689, 'neutrals': 0.004555107069331599}\n"
     ]
    }
   ],
   "source": [
    "def sent_iterator(data, sizes, order):\n",
    "    for i in order:\n",
    "        yield get_sents(data, sizes,i)\n",
    "\n",
    "def get_sents(data, sizes, i):\n",
    "    ranges =  np.cumsum(sizes)\n",
    "#     print 0 if i==0 else ranges[i-1],ranges[i]\n",
    "    return data[0 if i==0 else ranges[i-1]:ranges[i]]\n",
    "\n",
    "        \n",
    "def experiment_v2(x, y, train_fn, test_fn, clf, train_sizes=np.linspace(.1,1.,5), n_folds=5, seed=12222, sent_size=None):\n",
    "\n",
    "    cross_val = cv.KFold(len(sent_size), n_folds=n_folds, shuffle=True, random_state=seed)\n",
    "    \n",
    "    test_scores = []\n",
    "\n",
    "    for train_index, test_index in cross_val:\n",
    "        trial_score = []\n",
    "        #stack matrix in order of training\n",
    "        trainx = vstack([d for d in sent_iterator(x, sent_size, train_index[:max(train_sizes)])])\n",
    "        trainy = np.hstack((d for d in sent_iterator(y, sent_size, train_index[:max(train_sizes)])))\n",
    "\n",
    "        testx = vstack([d for d in sent_iterator(x, sent_size, test_index)])\n",
    "        testy = np.hstack((d for d in sent_iterator(y, sent_size, test_index)))\n",
    "        \n",
    "        for size in train_sizes:\n",
    "            adj_size = sum([s for s in sent_size[train_index[:size]]])\n",
    "            print adj_size, \n",
    "            trained = train_fn(trainx[:adj_size], trainy[:adj_size],clf, convert=False)\n",
    "            \n",
    "            trial_score.append(test_fn(testx, testy, trained, convert=False))\n",
    "            \n",
    "            print \"Accuracy: %s\" % trial_score[-1]\n",
    "        test_scores.append(trial_score)\n",
    "#     print test_scores\n",
    "    test_scores_mean = np.mean([[s['accu'] for s in t] for t in test_scores], axis=0)\n",
    "    test_scores_std = np.std([[s['accu'] for s in t] for t in test_scores], axis=0)\n",
    "    \n",
    "\n",
    "    return test_scores, test_scores_mean, test_scores_std\n",
    "sizes = [10, 50] + range(100, 3000, 250)\n",
    "scores, mean, std = experiment_v2(train_x,train_y, train_clf, test_clf, s,sent_size=sent_len,n_folds=5, train_sizes=sizes)"
   ]
  },
  {
   "cell_type": "code",
   "execution_count": 156,
   "metadata": {
    "collapsed": true
   },
   "outputs": [],
   "source": [
    "## Get learning curve data\n",
    "from sklearn import cross_validation as cv\n",
    "from sklearn.learning_curve import learning_curve\n",
    "\n",
    "\n",
    "def experiment(x, y, clf, train_sizes=np.linspace(.1,1.,5), n_folds=5, seed=12222):\n",
    "#     clf = SentenceClassifier(doc_clf, vct_doc, None, top=2500, threshold=.42)\n",
    "#     cv = cv.ShuffleSplit(len(y), n_iter=5, test_size=.0, random_state=12345)\n",
    "    cross_val = cv.KFold(len(y), n_folds=n_folds, shuffle=True, random_state=seed)\n",
    "    \n",
    "    test_scores = []\n",
    "        \n",
    "    for train_index, test_index in cross_val:\n",
    "        trial_score = []\n",
    "        print \"Train size: %s, Test size: %s\" % (len(train_index), len(test_index))\n",
    "#         x_test = clf.converter.transform(x[test_index])\n",
    "        te_yy = extract_y(x[test_index])\n",
    "        for size in train_sizes:\n",
    "            yy = extract_y(x[train_index[:size]])\n",
    "            clf.fit(x[train_index[:size]],yy)\n",
    "\n",
    "#             train_score.append(metrics.accuracy_score(y[test_index], trained.predict2(x_test)))\n",
    "            \n",
    "            trial_score.append(metrics.accuracy_score(te_yy, clf.predict(x[test_index])))\n",
    "\n",
    "\n",
    "            print \"Accuracy: %s\" % trial_score[-1]\n",
    "        test_scores.append(trial_score)\n",
    "    \n",
    "    test_scores_mean = np.mean([t['accu'] for t in test_scores], axis=0)\n",
    "    test_scores_std = np.std([t['accu'] for t in test_scores], axis=0)\n",
    "    \n",
    "\n",
    "    return test_scores, test_scores_mean, test_scores_std \n",
    "\n"
   ]
  },
  {
   "cell_type": "code",
   "execution_count": null,
   "metadata": {
    "collapsed": false
   },
   "outputs": [
    {
     "name": "stdout",
     "output_type": "stream",
     "text": [
      "Train size: 19992, Test size: 4999\n",
      "Accuracy: 0.507380690775\n",
      "Accuracy: 0.494991958471\n",
      "Accuracy: 0.499832799885\n",
      "Accuracy: 0.531887450437"
     ]
    }
   ],
   "source": [
    "sizes = [10, 50] + range(100, 3000, 250)\n",
    "scores, mean, std = experiment(x, y, s, n_folds=5, train_sizes=sizes)"
   ]
  },
  {
   "cell_type": "code",
   "execution_count": 82,
   "metadata": {
    "collapsed": false
   },
   "outputs": [
    {
     "name": "stdout",
     "output_type": "stream",
     "text": [
      "[11 16 13 15]\n",
      "[11 27 40 55]\n",
      "(15, 15001)\n"
     ]
    },
    {
     "data": {
      "text/plain": [
       "scipy.sparse.csr.csr_matrix"
      ]
     },
     "execution_count": 82,
     "metadata": {},
     "output_type": "execute_result"
    }
   ],
   "source": [
    "\n",
    "# print [get_sents(r,[10,5,5,10,20], i) for i in range(0,5,1)]\n",
    "print sent_len[:4]\n",
    "print np.cumsum(sent_len[:4])\n",
    "print get_sents(train_x, sent_len, 3).shape\n",
    "type(x[0].sent_bow)\n",
    "# print np.cumsum(sent_len[:3])\n"
   ]
  },
  {
   "cell_type": "code",
   "execution_count": 101,
   "metadata": {
    "collapsed": false
   },
   "outputs": [
    {
     "data": {
      "image/png": "[encoded data removed]",
      "text/plain": [
       "<matplotlib.figure.Figure at 0x136cab4d0>"
      ]
     },
     "metadata": {},
     "output_type": "display_data"
    }
   ],
   "source": [
    "def exp_plot(results, sizes=None):\n",
    "    \n",
    "    for m, res in results.items():\n",
    "        avg = res['mean']\n",
    "        std = res['std']# / np.sqrt(5)\n",
    "#         plt.plot(sizes,avg,  label=m)\n",
    "        plt.errorbar(sizes,avg,yerr=std, label=m)\n",
    "    plt.legend(loc='best')\n",
    "    plt.xlabel('Training Size - |D|')\n",
    "    plt.ylabel('Accuracy of Student')\n",
    "            \n",
    "exp_plot({'method1':{'mean':mean, 'std':std}}, sizes=sizes)\n",
    "\n",
    "\n",
    "\n"
   ]
  },
  {
   "cell_type": "code",
   "execution_count": 35,
   "metadata": {
    "collapsed": false
   },
   "outputs": [
    {
     "data": {
      "image/png": "[encoded data removed]",
      "text/plain": [
       "<matplotlib.figure.Figure at 0x12a12f5d0>"
      ]
     },
     "metadata": {},
     "output_type": "display_data"
    }
   ],
   "source": [
    "exp_plot({'method1':{'mean':np.mean([[s['neutrals'] for s in t] for t in scores], axis=0), 'std':std}}, sizes=sizes)"
   ]
  },
  {
   "cell_type": "code",
   "execution_count": null,
   "metadata": {
    "collapsed": true
   },
   "outputs": [],
   "source": [
    "def feature_no_context_counts():\n",
    "    '''Feature function, counts without context of sentences, but includes document label.'''\n",
    "\n",
    "    doc_lbl = self.get_sentence_label(doc.sent_bow.sum(axis=0), threshold=threshold)\n",
    "    n_feat = doc.sent_bow[0].shape[1] +1\n",
    "\n",
    "    # Sentence counts + document label, predicted\n",
    "    lbl_mat = csr_matrix((doc_lbl, ([0] , [0])), shape=(1, 1), dtype=np.int64)\n",
    "    new_feat =  hstack([doc.sent_bow[i]] + [lbl_mat])\n",
    "\n",
    "    return new_feat\n",
    "\n",
    "def get_sentiment_sentence(x, ...)\n",
    "\n",
    "def feature_no_context_sentiment():\n",
    "    pass\n",
    "\n",
    "def feature_context_counts():\n",
    "    pass\n",
    "\n",
    "\n",
    "def feature_context_sentiment():\n",
    "    pass\n",
    "\n"
   ]
  },
  {
   "cell_type": "markdown",
   "metadata": {},
   "source": [
    "##############"
   ]
  },
  {
   "cell_type": "markdown",
   "metadata": {},
   "source": [
    "# Alternative Feature Spaces \n",
    "\n",
    "## 1. Sentiment-based Features\n",
    "\n",
    "Based on (McDonald, 2011): \n",
    "\n",
    "Features are s :"
   ]
  },
  {
   "cell_type": "code",
   "execution_count": null,
   "metadata": {
    "collapsed": false
   },
   "outputs": [],
   "source": [
    "# Train sentence classifier\n",
    "from sklearn.pipeline import Pipeline\n",
    "\n",
    "context_vect = ContextVectorizer(doc_clf, vct_doc, feature_context ,top=2500, threshold=.45)\n",
    "sent_cla = SentenceClassifier()\n",
    "\n",
    "## Get the training data\n",
    "# Get all and train classifier, fully trained\n",
    "ss2s_clf = Pipeline(steps=[('context', context_vect),('estimator', sent_cla)])\n",
    "ss2s_clf.fit(x, y)\n",
    "\n"
   ]
  },
  {
   "cell_type": "code",
   "execution_count": null,
   "metadata": {
    "collapsed": true
   },
   "outputs": [],
   "source": []
  },
  {
   "cell_type": "code",
   "execution_count": null,
   "metadata": {
    "collapsed": true
   },
   "outputs": [],
   "source": [
    "\n",
    "## Get the test data\n",
    "# Transform all test\n",
    "text_x,test_y = load_documents(imdb.test, vct_doc, sent_tk)\n",
    "testx_ss2s = context_vect.transform(test_x)\n",
    "\n",
    "# print \"Sent-doc accuracy: %.4f\" % metrics.accuracy_score(testx_ss2s[:,-1], s2s_clf.predict(testx_ss2s[:,:-1]))\n",
    "print \"Sent-sentence accuracy: %.4f\" % metrics.accuracy_score(testx_ss2s[:,-1], s2s_clf.predict(testx_ss2s[:,:-1]))\n",
    "print \"Test size: %s\" % (testx_ss2s.shape)\n",
    "\n"
   ]
  },
  {
   "cell_type": "code",
   "execution_count": null,
   "metadata": {
    "collapsed": false,
    "scrolled": true
   },
   "outputs": [],
   "source": [
    "# from sklearn.utils import resample\n",
    "# >>> X, X_sparse, y = resample(X, X_sparse, y, random_state=0)\n",
    "\n",
    "sent_x\n",
    "\n",
    "# # prueba =  context_vect.transform(x[:10])\n",
    "# # print prueba[:,-1]\n",
    "\n",
    "\n",
    "# # prueba2 = get_training_sentence(x[:10], doc_clf, feature_context, top=10, threshold=.47)\n",
    "# # print prueba2[1]\n"
   ]
  },
  {
   "cell_type": "code",
   "execution_count": null,
   "metadata": {
    "collapsed": true
   },
   "outputs": [],
   "source": [
    "\n",
    "sent_cla = SentenceClassifier()\n",
    "clf_sent = Pipeline(steps=[('context', context_vect),('estimator', sent_cla)])\n",
    "\n",
    "# clf_sent.fit(sub_x, sub_y)\n",
    "\n",
    "# t_x = context_vect.transform(sub_x)\n",
    "print metrics.accuracy_score(t_x[:,-1], sent_cla.predict(t_x))\n",
    "print metrics.accuracy_score(t_x[:,-1], clf_sent.predict(sub_x))\n",
    "\n",
    "\n"
   ]
  },
  {
   "cell_type": "code",
   "execution_count": null,
   "metadata": {
    "collapsed": false
   },
   "outputs": [],
   "source": [
    "## train on bootstraps, test on amt data sentences\n",
    "#_# train on bootstraps, test on sentences as documents \n",
    "t_x"
   ]
  },
  {
   "cell_type": "code",
   "execution_count": null,
   "metadata": {
    "collapsed": false
   },
   "outputs": [],
   "source": [
    "t_x.shape"
   ]
  },
  {
   "cell_type": "markdown",
   "metadata": {},
   "source": [
    "# Testing on AMT Data"
   ]
  },
  {
   "cell_type": "code",
   "execution_count": null,
   "metadata": {
    "collapsed": true
   },
   "outputs": [],
   "source": [
    "# Load data \n",
    "from utilities.amt_datautils import load_amt_imdb\n",
    "amt = load_amt_imdb(IMDB_DATA, shuffle=True, rnd=1928374, amt_labels='labels')  # should bring with training labels as the amt annotations\n"
   ]
  },
  {
   "cell_type": "code",
   "execution_count": null,
   "metadata": {
    "collapsed": false
   },
   "outputs": [],
   "source": [
    "def load_documents_amt(data, vct, sent_tk ):\n",
    "    # sents, sents_bow, sents_lbl, doc_lbl\n",
    "    \n",
    "    sents_doc = [d.split('THIS_IS_A_SEPARATOR') for d in data.data]\n",
    "    sents_bow = [vct.transform(d) for d in sents_doc]\n",
    "    sents_lbl = data.target\n",
    "    \n",
    "    x = np.array([Document(a,b,c,d) for a,b,c,d in zip(sents_doc, sents_bow, sents_lbl, data.doctarget)])\n",
    "    y = data.doctarget\n",
    "    return x,y\n",
    "\n",
    "\n",
    "print amt.keys()"
   ]
  },
  {
   "cell_type": "code",
   "execution_count": null,
   "metadata": {
    "collapsed": false
   },
   "outputs": [],
   "source": [
    "print amt.train.keys()\n",
    "print len(amt.train.doctarget)"
   ]
  },
  {
   "cell_type": "code",
   "execution_count": null,
   "metadata": {
    "collapsed": true
   },
   "outputs": [],
   "source": [
    "# Convert document to new feature space\n",
    "from scipy.sparse import vstack\n",
    "from scipy.sparse import csr_matrix\n",
    "from sklearn.feature_extraction.text import DictVectorizer\n",
    "\n",
    "\n",
    "\n",
    "    \n",
    "#     row = [0] * n_features\n",
    "#     col = [l[0] for l in lexicon]\n",
    "#     counts = d.sent_bow[:,col]\n",
    "    \n",
    "#     data= counts.sum(axis=0)\n",
    "#     return csr_matrix( (data,(row,col)), shape=(1,n_features) )\n",
    "\n",
    "#     csr_matrix()\n",
    "\n",
    "def feature_simple_counts(doc, i, doc_clf):\n",
    "    '''Feature function bag of words, no context'''\n",
    "    return doc.sent_bow[i]\n",
    "    \n",
    "def featurize(documents, labels, clf_d, feature_fn):\n",
    "    '''Create a feature vector from documents'''\n",
    "\n",
    "    lexicon = get_lexicon(clf_d, top=10) \n",
    "    x = vstack((feature_fn(d, lexicon, clf_d) for d in documents))\n",
    "    return x\n",
    "    \n",
    "def feature_counts(doc, lexicon, clf_d):\n",
    "    n_features = len(lexicon) * 4 + 1\n",
    "    row = [0] * n_features\n",
    "    col = [l[0] for l in lexicon]\n",
    "    counts = d.sent_bow[:,col]\n",
    "    \n",
    "    data= counts.sum(axis=0)\n",
    "    return csr_matrix( (data,(row,col)), shape=(1,n_features) )\n",
    "\n",
    "\n",
    "    "
   ]
  },
  {
   "cell_type": "markdown",
   "metadata": {},
   "source": [
    "## Process\n",
    "\n",
    "1. Load train and test\n",
    "1. Features for train:\n",
    "    1. for documents: vectorizer like before\n",
    "    1. for sentences: lexicon counts\n",
    "1. features for test: same as for sentences (this is amt data)\n",
    "1. for every size of the bootstrap\n",
    "    1. train a document classifier\n",
    "    1. obtain sentences and featurize\n",
    "    1. test document\n",
    "    1. test sentence\n",
    "    1. save results\n",
    "    \n",
    "### Features per sentence\n",
    "\n",
    "1. For every document\n",
    "    1. for every sentence\n",
    "        1. get context, document, and label, and lexicon\n",
    "        1. build a vector\n",
    "        1. return vecotr"
   ]
  },
  {
   "cell_type": "code",
   "execution_count": null,
   "metadata": {
    "collapsed": true
   },
   "outputs": [],
   "source": [
    "\n",
    "\n",
    "\n",
    "def experiment(data, vct, runs, rnd=123):\n",
    "    x_doc, y_doc = load_documents(data, vct)\n",
    "    for train, test in cv:\n",
    "        clf_d = LogisticRegression(penalty=\"l1\", C=1)\n",
    "        clf_s = LogisticRegression(penalty=\"l1\", C=1)\n",
    "        \n",
    "        clf_d.fit(data.train.bow[train], data.train.target[train])\n",
    "\n",
    "\n"
   ]
  },
  {
   "cell_type": "code",
   "execution_count": null,
   "metadata": {
    "collapsed": true
   },
   "outputs": [],
   "source": [
    "def lr_predict():\n",
    "    pass\n",
    "def lr_fit():\n",
    "    pass\n",
    "\n",
    "\n",
    "\n"
   ]
  }
 ],
 "metadata": {
  "kernelspec": {
   "display_name": "Python 2",
   "language": "python",
   "name": "python2"
  },
  "language_info": {
   "codemirror_mode": {
    "name": "ipython",
    "version": 2
   },
   "file_extension": ".py",
   "mimetype": "text/x-python",
   "name": "python",
   "nbconvert_exporter": "python",
   "pygments_lexer": "ipython2",
   "version": "2.7.11"
  }
 },
 "nbformat": 4,
 "nbformat_minor": 0
}
