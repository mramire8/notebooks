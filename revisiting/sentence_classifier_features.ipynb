{
 "cells": [
  {
   "cell_type": "markdown",
   "metadata": {},
   "source": [
    "# Sentence Classifier with Feature Template\n",
    "\n",
    "## Settings\n",
    "\n",
    "### Feature Function\n",
    "The feature function $\\mathbf{f}$ uses the following features to represent a sentence: \n",
    "\n",
    "* Features for sentence context, each sentnece and its neighbors will have the following:\n",
    "    * Number of tokens\n",
    "    * Number of positive, negative and neutral tokens\n",
    "    * Proportion of positive over negative\n",
    "    * Proportion of negative over postive\n",
    "    * Proportion of neutral \n",
    "* Feature for document context:\n",
    "    * Same as the sentences but for the full document\n",
    "* Labels\n",
    "    * Sentence level label from DaS classifier ($y_i^s$)\n",
    "    \n",
    "\n",
    "### Training the Classifier\n",
    "\n",
    "We select N random documents and train a DaS classifier (trained on documents) to predict the label of the sentence $y^s_i$. We create a logistic regression classifier that will be trained on data using the feature fucntion representation $P_E(y^s|\\mathbf{f}(x))$."
   ]
  },
  {
   "cell_type": "code",
   "execution_count": 1,
   "metadata": {
    "collapsed": false
   },
   "outputs": [
    {
     "name": "stderr",
     "output_type": "stream",
     "text": [
      "/opt/local/Library/Frameworks/Python.framework/Versions/2.7/lib/python2.7/site-packages/matplotlib/font_manager.py:273: UserWarning: Matplotlib is building the font cache using fc-list. This may take a moment.\n",
      "  warnings.warn('Matplotlib is building the font cache using fc-list. This may take a moment.')\n"
     ]
    }
   ],
   "source": [
    "## Imports \n",
    "%matplotlib inline\n",
    "\n",
    "STRUCTURED = '/Users/maru/MyCode/structured'\n",
    "IMDB_DATA='/Users/maru/MyCode/data/imdb'\n",
    "SRAA_DATA='/Users/maru/MyCode/data/sraa'\n",
    "TWIITER_DATA = '/Users/maru/MyCode/data/twitter'\n",
    "\n",
    "# IMDB_DATA = 'C:/Users/mramire8/Documents/Research/Oracle confidence and Interruption/dataset/aclImdb/raw-data'\n",
    "\n",
    "import sys\n",
    "import os\n",
    "\n",
    "sys.path.append(os.path.abspath(STRUCTURED))\n",
    "sys.path.append(os.path.abspath('C:/cygwin/home/mramire8/python_code/structured/'))\n",
    "\n",
    "import learner\n",
    "\n",
    "from utilities.datautils import load_dataset\n",
    "import experiment.base as exp\n",
    "\n",
    "\n",
    "import utilities.experimentutils as exputil\n",
    "import utilities.datautils as datautil\n",
    "import numpy as np\n",
    "import nltk\n",
    "from sklearn import metrics\n",
    "from sklearn.feature_extraction.text import CountVectorizer\n",
    "import matplotlib.pyplot as plt\n",
    "import matplotlib as mpl\n",
    "\n",
    "mpl.style.use('bmh')"
   ]
  },
  {
   "cell_type": "code",
   "execution_count": 2,
   "metadata": {
    "collapsed": false
   },
   "outputs": [],
   "source": [
    "## Get the data ready\n",
    "import re \n",
    "vct = CountVectorizer(min_df=2, token_pattern=re.compile(r'(?u)\\b\\w+\\b'))\n",
    "\n",
    "# vct_doc = CountVectorizer(encoding='ISO-8859-1', min_df=2, max_df=1.0, binary=True, token_pattern='\\\\b\\\\w+\\\\b')\n",
    "vct_doc = exputil.get_vectorizer({'vectorizer':'bow', 'limit':None, 'min_size':2})\n",
    "\n",
    "# IMDB_DATA = 'C:/Users/mramire8/Documents/Research/Oracle confidence and Interruption/dataset/aclImdb/raw-data'\n",
    "\n",
    "sent_tk = nltk.data.load('tokenizers/punkt/english.pickle')\n",
    "\n",
    "imdb =  load_dataset(\"imdb\",IMDB_DATA, keep_subject=True)\n",
    "\n",
    "imdb.train.bow = vct_doc.fit_transform(imdb.train.data)\n",
    "imdb.test.bow = vct_doc.transform(imdb.test.data)"
   ]
  },
  {
   "cell_type": "code",
   "execution_count": 3,
   "metadata": {
    "collapsed": false
   },
   "outputs": [
    {
     "name": "stdout",
     "output_type": "stream",
     "text": [
      "Features: 267154\n",
      "Train/Test: 24991/24989\n"
     ]
    }
   ],
   "source": [
    "print \"Features: %s\" % imdb.train.bow.shape[1]\n",
    "print \"Train/Test: %s/%s\" % (len(imdb.train.data), len(imdb.test.data))"
   ]
  },
  {
   "cell_type": "code",
   "execution_count": 4,
   "metadata": {
    "collapsed": true
   },
   "outputs": [],
   "source": [
    "class Document(object):\n",
    "    def __init__(self, raw_text, lbl, sent_tk, vct_gral, sent_lbl=None):\n",
    "        sentences = sent_tk.tokenize_sents([raw_text])[0]\n",
    "        self.doc_label = lbl\n",
    "        self.sent_bow = vct_gral.transform(sentences) # counts per sentence\n",
    "        if sent_lbl is not None:\n",
    "            self.sent_labels = [lbl] * len(sentences)\n",
    "        else:\n",
    "            self.sent_labels = sent_lbl#np.array([s.split('\\t')[0] for s in self.sentences])\n",
    "            \n",
    "    def __init__(self,  sents_bow, sents_lbl, doc_lbl):\n",
    "#         self.sentences = sents\n",
    "        self.doc_label = doc_lbl\n",
    "        self.sent_labels = sents_lbl\n",
    "        self.sent_bow = sents_bow\n",
    "        "
   ]
  },
  {
   "cell_type": "code",
   "execution_count": 9,
   "metadata": {
    "collapsed": false
   },
   "outputs": [],
   "source": [
    "def iterate_sentences(documents):\n",
    "    for d in documents:\n",
    "        for s in d:\n",
    "            yield s\n",
    " \n",
    "    \n",
    "def load_documents(data, vct, sent_tk ):\n",
    "    # sents, sents_bow, sents_lbl, doc_lbl\n",
    "    \n",
    "    sents_doc = sent_tk.tokenize_sents(data.data)\n",
    "    sents_bow = [vct.transform(d) for d in sents_doc]\n",
    "    sents_lbl = [[l]*len(s) for l,s in  zip(data.target, sents_doc)]\n",
    "    \n",
    "    x = np.array([Document(a,b,c) for a,b,c in zip( sents_bow, sents_lbl, data.target)])\n",
    "    y = data.target\n",
    "    return x,y\n",
    "\n",
    "def load_documents_v2(data, vct, sent_tk, doc_clf, threshold=.4 ):\n",
    "    # sents, sents_bow, sents_lbl, doc_lbl\n",
    "    \n",
    "    sents_doc = sent_tk.tokenize_sents(data.data)\n",
    "\n",
    "    X = vct.transform(iterate_sentences(sents_doc))\n",
    "\n",
    "    pred_x = doc_clf.predict(X)\n",
    "    unc_x = doc_clf.predict_proba(X)\n",
    "    unc_x = 1 - unc_x.max(axis=1)\n",
    "    pred_x[unc_x > threshold] = 2 \n",
    "\n",
    "    print \"Neutrality: %s\" % (sum(unc_x == 2) / unc_x.shape[0])\n",
    "    start = 0\n",
    "    sents_bow = []\n",
    "    sents_lbl = []\n",
    "    for d in sents_doc:\n",
    "        end = start + len(d)\n",
    "        sents_bow.append(X[start:end])\n",
    "        sents_lbl.append(pred_x[start:end])\n",
    "        start = end\n",
    "\n",
    "#     sents_bow = [vct.transform(d) for d in sents_doc]\n",
    "\n",
    "#     sents_lbl = [[l]*len(s) for l,s in  zip(data.target, sents_doc)]\n",
    "\n",
    "    x = np.array([Document(a,b,c) for a,b,c in zip( sents_bow, sents_lbl, data.target)])\n",
    "    y = data.target\n",
    "    return x,y\n",
    "\n",
    "\n",
    "def features_per_document(doc, doc_clf, feature_fn, top=10, threshold=.47):\n",
    "    x = np.vstack((feature_fn(doc, i, doc_clf, top=top, threshold=threshold) for i in range(len(doc.sent_labels))))\n",
    "    return x\n",
    "\n",
    "def get_training_sentence(documents, doc_clf, feature_fn, top=10, threshold=.47):\n",
    "    x = np.vstack((features_per_document(d, doc_clf, feature_fn, top=top, threshold=threshold) for d in documents))\n",
    "    return x[:,:-1], x[:,-1]\n",
    "    \n",
    "      "
   ]
  },
  {
   "cell_type": "code",
   "execution_count": 10,
   "metadata": {
    "collapsed": false
   },
   "outputs": [
    {
     "name": "stdout",
     "output_type": "stream",
     "text": [
      "Neutrality: 0.0\n"
     ]
    }
   ],
   "source": [
    "from sklearn.linear_model import LogisticRegression\n",
    "\n",
    "doc_clf = LogisticRegression(penalty='l1', C=1)\n",
    "doc_clf.fit(imdb.train.bow, imdb.train.target)\n",
    "\n",
    "x,y = load_documents_v2(imdb.train, vct_doc, sent_tk, doc_clf, threshold=.42)\n"
   ]
  },
  {
   "cell_type": "code",
   "execution_count": 11,
   "metadata": {
    "collapsed": false
   },
   "outputs": [
    {
     "name": "stdout",
     "output_type": "stream",
     "text": [
      "Document-doc accuracy: 0.8884\n",
      "Test size: 24989\n"
     ]
    }
   ],
   "source": [
    "# Testing document classifier\n",
    "\n",
    "print \"Document-doc accuracy: %.4f\" % metrics.accuracy_score(imdb.test.target, doc_clf.predict(imdb.test.bow))\n",
    "print \"Test size: %s\" % imdb.test.bow.shape[0]"
   ]
  },
  {
   "cell_type": "code",
   "execution_count": 12,
   "metadata": {
    "collapsed": false
   },
   "outputs": [
    {
     "name": "stdout",
     "output_type": "stream",
     "text": [
      "Document-sentence accuracy: 0.6513\n",
      "Test size: 304952\n"
     ]
    }
   ],
   "source": [
    "# Testing Document-sentence \n",
    "# Sentences take label of the document\n",
    "\n",
    "def doc_to_sents(docs_text, doc_labels, vct):\n",
    "    '''Create bow features for sentences of one document'''\n",
    "    \n",
    "    sent_splitter = nltk.data.load('tokenizers/punkt/english.pickle')\n",
    "    doc_sents = sent_splitter.tokenize_sents(docs_text)\n",
    "    sizes = [len(d) for d in doc_sents]\n",
    "    labels = [[l]*s for l, s in zip(doc_labels, sizes)]\n",
    "    \n",
    "    sents_bow = vct.transform(iterate_sentences(doc_sents))\n",
    "    labels = np.array([l for l in iterate_sentences(labels)])\n",
    "    \n",
    "    return sents_bow, labels\n",
    "\n",
    "test_sx, test_sy = doc_to_sents(imdb.test.data, imdb.test.target, vct_doc)\n",
    "print \"Document-sentence accuracy: %.4f\" % metrics.accuracy_score(test_sy, doc_clf.predict(test_sx))\n",
    "print \"Test size: %s\" % len(test_sy)"
   ]
  },
  {
   "cell_type": "code",
   "execution_count": 13,
   "metadata": {
    "collapsed": false
   },
   "outputs": [
    {
     "name": "stdout",
     "output_type": "stream",
     "text": [
      "Sent-doc accuracy: 0.9004\n",
      "Sent-sentence accuracy: 0.6982\n",
      "Test size: 304952\n"
     ]
    }
   ],
   "source": [
    "# Testing sentence to sentence\n",
    "train_sx, train_sy = doc_to_sents(imdb.train.data, imdb.train.target, vct_doc)\n",
    "s2s_clf = LogisticRegression(penalty='l1', C=1)\n",
    "s2s_clf.fit(train_sx, train_sy)\n",
    "print \"Sent-doc accuracy: %.4f\" % metrics.accuracy_score(imdb.test.target, s2s_clf.predict(imdb.test.bow))\n",
    "print \"Sent-sentence accuracy: %.4f\" % metrics.accuracy_score(test_sy, s2s_clf.predict(test_sx))\n",
    "print \"Test size: %s\" % len(test_sy)"
   ]
  },
  {
   "cell_type": "code",
   "execution_count": 14,
   "metadata": {
    "collapsed": false
   },
   "outputs": [
    {
     "name": "stdout",
     "output_type": "stream",
     "text": [
      "Perc. neutrals: 0.244291606702\n",
      "Accuracy: 0.719841529613\n"
     ]
    }
   ],
   "source": [
    "## Neutrality and accuracy of the oracle on sentences, on training data\n",
    "pred_prob = doc_clf.predict_proba(train_sx)\n",
    "pred_sent = doc_clf.predict(train_sx)\n",
    "unc_sent = 1- pred_prob.max(axis=1)\n",
    "thres = 0.42\n",
    "pred_sent[unc_sent > thres] = 2\n",
    "print \"Perc. neutrals: %s\" % (1. * len(pred_sent[unc_sent > thres]) / len(pred_sent))\n",
    "non_neu = pred_sent < 2\n",
    "print \"Accuracy: %s\" % (metrics.accuracy_score(np.array(train_sy)[non_neu], pred_sent[non_neu]))\n"
   ]
  },
  {
   "cell_type": "code",
   "execution_count": 121,
   "metadata": {
    "collapsed": false
   },
   "outputs": [],
   "source": [
    "from sklearn.base import BaseEstimator,  TransformerMixin,ClassifierMixin\n",
    "from scipy.sparse import csr_matrix\n",
    "from scipy.sparse import vstack, hstack\n",
    "\n",
    "\n",
    "class ContextVectorizer(BaseEstimator, TransformerMixin):\n",
    "# class TextStats(BaseEstimator, TransformerMixin):\n",
    "    \"\"\"Extract features from each document for Vectorizer\"\"\"\n",
    "    def __init__(self, doc_clf, vct, feature_fn,top=10, threshold=.47):\n",
    "        self.doc_clf = doc_clf\n",
    "        self.vct = vct\n",
    "        self.feature_fn = feature_fn \n",
    "        self.top = top\n",
    "        self.threshold = threshold \n",
    "        self.feature_fn = self.feature_context_counts\n",
    "        self.lexicon =  self.get_lexicon(self.doc_clf, top=self.top)\n",
    "        self.sentence_level = False\n",
    "        \n",
    "    def fit(self, x, y=None):\n",
    "        return self\n",
    "\n",
    "    def transform(self, documents):\n",
    "        x = self.get_training_sentence(documents,  self.feature_fn, \n",
    "                                       threshold=self.threshold)\n",
    "\n",
    "        return x\n",
    "\n",
    "    def get_lexicon(self, clf, top=10):\n",
    "        '''\n",
    "        Return lexicon of top K terms according to classifier clf. \n",
    "        The function returns feat_index-class pairs\n",
    "        '''\n",
    "    #     feats = np.array(vct.get_feature_names())\n",
    "        coefs = clf.coef_\n",
    "        if coefs.shape[0] == 1:\n",
    "            coefs = [-1 * coefs[0], coefs[0]]\n",
    "\n",
    "        res = []\n",
    "        for ci, cname in enumerate(clf.classes_): # for every class\n",
    "            coef = coefs[ci]\n",
    "            res.extend([(i, cname) for i in np.argsort(coef)[::-1][:top]])\n",
    "        return res\n",
    "\n",
    "\n",
    "    def get_context(self, doc, i):\n",
    "        ''' Get surrounding sentences for context '''\n",
    "        zero_mat = csr_matrix(doc.sent_bow[0].shape, dtype=np.int64)\n",
    "        if i >= len(doc.sent_labels):\n",
    "            raise Exception(\"This doc is not that long.\")\n",
    "        if len(doc.sent_labels) == 1: # there is only one sentence\n",
    "            return np.array([zero_mat, doc.sent_bow[0], zero_mat])\n",
    "        elif i==0: # for the first1\n",
    "            return np.array([zero_mat, doc.sent_bow[0], doc.sent_bow[1]])\n",
    "        elif i == len(doc.sent_labels)-1: # for the last one \n",
    "            return np.array([doc.sent_bow[i-1], doc.sent_bow[i], zero_mat])\n",
    "        else: \n",
    "            return np.array([doc.sent_bow[i-1], doc.sent_bow[i], doc.sent_bow[i+1]])\n",
    "\n",
    "    def get_sentence_label(self,  x, threshold=.4):\n",
    "        '''Get a label or a neutral answer by uncertainty threshold. We use a document classifier to return the label'''\n",
    "\n",
    "        unc = 1 - self.doc_clf.predict_proba(x).max(axis=1)\n",
    "        preds = self.doc_clf.predict(x)\n",
    "        preds[unc >= threshold] = 2  # assign neutral labels\n",
    "        return preds\n",
    "\n",
    "\n",
    "    def feature_context(self, doc, i,  threshold=.47):\n",
    "        '''Feature function, context and lexicon counts, for one sentence '''\n",
    "        context = self.get_context(doc, i)\n",
    "        if self.sentence_level:\n",
    "            doc_lbl = self.get_sentence_label(doc.sent_bow[i], threshold=self.threshold)\n",
    "        else:\n",
    "#             doc_lbl = self.get_sentence_label(doc.sent_bow.sum(axis=0), threshold=self.threshold) # there are no neutrals\n",
    "            doc_lbl = np.array([doc.doc_label])\n",
    "\n",
    "        n_lex = len(self.lexicon)\n",
    "        n_feat = (3 * n_lex) + 1  # 2 context sentences and current sentence + label\n",
    "        lex_index = [x[0] for x in self.lexicon]\n",
    "\n",
    "        # Add context sentences + Add sentence label, predicted\n",
    "        lbl_mat = csr_matrix((doc_lbl, ([0] , [0])), shape=(1, 1), dtype=np.int64)\n",
    "        new_feat =  hstack([c[:,lex_index] for c in context]+[lbl_mat])\n",
    "\n",
    "        if new_feat.shape[1] != n_feat:\n",
    "            raise ValueError(\"Oops, convertion did not work. The features are no correct.\")\n",
    "\n",
    "        return new_feat\n",
    "    \n",
    "    def feature_no_context_counts(self, doc, i,  threshold=.47):\n",
    "        '''Feature function, counts without context of sentences, but includes document label.'''\n",
    "\n",
    "        if self.sentence_level:\n",
    "            doc_lbl = self.get_sentence_label(doc.sent_bow[i], threshold=self.threshold)\n",
    "        else:\n",
    "    #             doc_lbl = self.get_sentence_label(doc.sent_bow.sum(axis=0), threshold=self.threshold) # there are no neutrals\n",
    "            doc_lbl = np.array([doc.doc_label])\n",
    "\n",
    "        n_feat = doc.sent_bow[0].shape[1] +1\n",
    "\n",
    "        # Sentence counts + document label, predicted\n",
    "        lbl_mat = csr_matrix((doc_lbl, ([0] , [0])), shape=(1, 1), dtype=np.int64)\n",
    "        new_feat =  hstack([doc.sent_bow[i]] + [lbl_mat])\n",
    "\n",
    "        return new_feat\n",
    "\n",
    "    def feature_context_counts(self, doc, i,  threshold=.47):\n",
    "        context = self.get_context(doc, i)\n",
    "        if self.sentence_level:\n",
    "            doc_lbl = self.get_sentence_label(doc.sent_bow[i], threshold=self.threshold)\n",
    "        else:\n",
    "    #             doc_lbl = self.get_sentence_label(doc.sent_bow.sum(axis=0), threshold=self.threshold) # there are no neutrals\n",
    "            doc_lbl = np.array([doc.doc_label])\n",
    "\n",
    "        n_lex = len(self.lexicon)\n",
    "        n_feat = (3 * n_lex) + 1  # 2 context sentences and current sentence + label\n",
    "        lex_index = [x[0] for x in self.lexicon]\n",
    "\n",
    "        # Add context sentences + Add sentence label, predicted\n",
    "        lbl_mat = csr_matrix((doc_lbl, ([0] , [0])), shape=(1, 1), dtype=np.int64)\n",
    "        new_feat =  hstack([c[:,lex_index] for c in context]+[lbl_mat])\n",
    "\n",
    "        if new_feat.shape[1] != n_feat:\n",
    "            raise ValueError(\"Oops, convertion did not work. The features are no correct.\")\n",
    "\n",
    "        return new_feat\n",
    "\n",
    "    def sentence_sentiment(self, sent_list):\n",
    "        feats = []\n",
    "        lex_0 = [l[0] for l in self.lexicon if l[1] == 0]\n",
    "        lex_1 = [l[0] for l in self.lexicon if l[1] == 1]\n",
    "\n",
    "        for sent in sent_list:\n",
    "            sent_feat = [sent.sum()] ## number of tokens\n",
    "            \n",
    "            tk_0 = sent[:,lex_0].sum()\n",
    "            sent_feat.append(tk_0) # tokens of class 0\n",
    "            \n",
    "            tk_1 = sent[:,lex_1].sum()\n",
    "            sent_feat.append(tk_1) # tokens of class 1\n",
    "\n",
    "            sent_feat.append(tk_0 > tk_1) # pos > neg\n",
    "\n",
    "            sent_feat.append(tk_0 > 2 * tk_1) # pos > 2 times neg\n",
    "\n",
    "            sent_feat.append(tk_0 < tk_1)\n",
    "            sent_feat.append(tk_0 * 2 < tk_1)\n",
    "            sent_feat.append(tk_0 == tk_1) # pos same as neg\n",
    "\n",
    "            new_feat =  hstack(sent_feat)\n",
    "            feats.append(new_feat)\n",
    "            \n",
    "        return feats\n",
    "    \n",
    "    def feature_no_context_sentiment(self, doc, i,  threshold=.47):\n",
    "        if self.sentence_level:\n",
    "            doc_lbl = self.get_sentence_label(doc.sent_bow[i], threshold=self.threshold)\n",
    "        else:\n",
    "    #             doc_lbl = self.get_sentence_label(doc.sent_bow.sum(axis=0), threshold=self.threshold) # there are no neutrals\n",
    "            doc_lbl = np.array([doc.doc_label])\n",
    "\n",
    "        sent_feat = self.sentence_sentiment([doc.sent_bow[i]])\n",
    "\n",
    "        n_feat = 8 +1\n",
    "\n",
    "        # Sentence counts + document label, predicted\n",
    "        lbl_mat = csr_matrix((doc_lbl, ([0] , [0])), shape=(1, 1), dtype=np.int64)\n",
    "        new_feat =  hstack(sent_feat + [lbl_mat])\n",
    "        \n",
    "        if new_feat.shape[1] != n_feat:\n",
    "            raise ValueError(\"Oops, convertion did not work. The features are no correct.\")\n",
    "\n",
    "        return new_feat\n",
    "    \n",
    "    def feature_context_sentiment(self, doc, i,  threshold=.47):\n",
    "        \n",
    "        context = self.get_context(doc, i)\n",
    "        \n",
    "        if self.sentence_level:\n",
    "            doc_lbl = self.get_sentence_label(doc.sent_bow[i], threshold=self.threshold)\n",
    "        else:\n",
    "    #             doc_lbl = self.get_sentence_label(doc.sent_bow.sum(axis=0), threshold=self.threshold) # there are no neutrals\n",
    "            doc_lbl = np.array([doc.doc_label])\n",
    "\n",
    "        n_lex = 8 # sentiment features\n",
    "        n_feat = (n_lex * 3 ) + 1\n",
    "        lex_index = [x[0] for x in self.lexicon]\n",
    "\n",
    "        # Add context sentences + Add sentence label, predicted\n",
    "        lbl_mat = csr_matrix((doc_lbl, ([0] , [0])), shape=(1, 1), dtype=np.int64)\n",
    "        new_feat =  hstack(self.sentence_sentiment(context)+[lbl_mat])\n",
    "\n",
    "        if new_feat.shape[1] != n_feat:\n",
    "            raise ValueError(\"Oops, convertion did not work. The features are no correct.\")\n",
    "\n",
    "        return new_feat\n",
    "\n",
    "\n",
    "    def features_per_document(self, doc,  feature_fn,  threshold=.47):\n",
    "        x = vstack([self.feature_fn(doc, i, threshold=threshold) for i in range(len(doc.sent_labels))])\n",
    "        return x\n",
    "\n",
    "    def get_training_sentence(self, documents,  feature_fn,  threshold=.47):\n",
    "        x = vstack([self.features_per_document(d, feature_fn,  threshold=threshold) for d in documents])\n",
    "        return x\n",
    "\n",
    "    def set_top(self, top):\n",
    "        self.top = top\n",
    "        \n",
    "    def set_unc_threshold(self, thr):\n",
    "        self.threshold = thr \n",
    "\n",
    "    def set_sentence_level(self, sent):\n",
    "        self.sentence_level = sent\n",
    "    \n",
    "    def set_feature_function(self, fn):\n",
    "        self.feature_fn = fn\n",
    "        \n",
    "        \n",
    "class SentenceClassifier(BaseEstimator, ClassifierMixin):\n",
    "    \"\"\"Sentence Classifier. Takes data from ContextVectorizer\"\"\"\n",
    "    def __init__(self):\n",
    "        self.clf = LogisticRegression(penalty='l1', C=1)\n",
    "        self.doc_clf = LogisticRegression(penalty='l1', C=1)\n",
    "        \n",
    "    def __init__(self, doc_clf, vct, feature_fn,top=10, threshold=.47):\n",
    "        self.clf = LogisticRegression(penalty='l1', C=1)\n",
    "        self.converter = ContextVectorizer(doc_clf, vct, feature_fn, top=top, threshold=threshold)\n",
    "        self.threshold = threshold\n",
    "        if doc_clf is not None:\n",
    "            self.doc_clf = doc_clf\n",
    "        else:\n",
    "            self.doc_clf = LogisticRegression(penalty='l1', C=1)        \n",
    "            \n",
    "        \n",
    "    def convert(self, x):\n",
    "        xx = self.converter.transform(x)\n",
    "        return xx\n",
    "\n",
    "    def get_sentence_label(self,  x, threshold=.4):\n",
    "        '''Get a label or a neutral answer by uncertainty threshold.'''\n",
    "\n",
    "        unc = 1 - self.doc_clf.predict_proba(x).max(axis=1)\n",
    "        preds = self.doc_clf.predict(x)\n",
    "        preds[unc >= threshold] = 2  # assign neutral labels\n",
    "        return preds\n",
    "\n",
    "    def get_label(self,  x, threshold=.4):\n",
    "        '''Get a label or a neutral answer by uncertainty threshold.'''\n",
    "\n",
    "#         unc = 1 - self.clf.predict_proba(x).max(axis=1)\n",
    "#         preds = self.clf.predict(x)\n",
    "#         preds[unc >= threshold] = 2\n",
    "#         return preds\n",
    "        return self.clf.predict(x)\n",
    "    \n",
    "    def fit(self, x,y):\n",
    "\n",
    "        docx = np.vstack([d.sent_bow.sum(axis=0) for d in x])\n",
    "        docy = np.array([d.doc_label for d in x])\n",
    "       \n",
    "        self.converter.doc_clf=self.doc_clf.fit(docx,docy)\n",
    "        xx = self.convert(x)\n",
    "\n",
    "        \n",
    "        self.fit2(xx,y)\n",
    "        return self\n",
    "    \n",
    "    def fit2(self, X, y):\n",
    "        self.clf.fit(X,y)\n",
    "        self.classes_ = self.clf.classes_        \n",
    "        return self\n",
    "    \n",
    "    def predict(self, X):\n",
    "        xx = self.convert(X)\n",
    "        return self.predict2(xx)\n",
    "\n",
    "\n",
    "    def predict2(self, X):\n",
    "        pred = self.get_label(X, threshold=self.threshold)\n",
    "        return pred\n",
    "\n",
    "    def predict_proba(self, X):\n",
    "        xx = self.convert(X)\n",
    "        return self.predict_proba2(xx)\n",
    "\n",
    "    def predict_proba2(self, X):\n",
    "        return self.clf.predict_proba(X)\n"
   ]
  },
  {
   "cell_type": "code",
   "execution_count": null,
   "metadata": {
    "collapsed": false
   },
   "outputs": [],
   "source": [
    "## Convert testing documents \n",
    "te_x, te_y = load_documents(imdb.test, vct_doc, sent_tk)\n",
    "print \"%s\" % (len(te_x))\n"
   ]
  },
  {
   "cell_type": "markdown",
   "metadata": {},
   "source": [
    "## Implement\n",
    "\n",
    "* create a training funtion for data with label from te document \n",
    "* create a function for data from amt with original labels (should work for other data as well)\n",
    "* create a fnction for testing same as training options \n",
    "* create a cv test \n",
    "* create a plot with cv\n",
    "* test base liens\n",
    "* test classifiers\n",
    "* test classifier with simple fieatures\n",
    "* with features for sentiment analysis \n",
    "* with fancy features \n"
   ]
  },
  {
   "cell_type": "code",
   "execution_count": 16,
   "metadata": {
    "collapsed": false
   },
   "outputs": [
    {
     "name": "stdout",
     "output_type": "stream",
     "text": [
      "{'accu': 0.95417348608837971, 'train_size': 200, 'neutrals': 0.23241206030150752}\n"
     ]
    }
   ],
   "source": [
    "## Training with Documents\n",
    "def extract_y(x):\n",
    "    yy = []\n",
    "    for d in x:\n",
    "        yy.extend(d.sent_labels)\n",
    "    yy = np.array(yy)\n",
    "    return yy\n",
    "    \n",
    "def train_clf(x, y, clf, convert=False):\n",
    "    if y is None:\n",
    "        yy = extract_y(x)\n",
    "    else: \n",
    "        yy = y\n",
    "        \n",
    "    if convert:\n",
    "        clf.fit(x, yy)\n",
    "    else:\n",
    "        clf.fit2(x,yy)\n",
    "        \n",
    "    return clf\n",
    "\n",
    "def test_clf(x, y, clf, convert=False):\n",
    "    '''\n",
    "    Effective accuracy and neutrality percentage test\n",
    "    :param x: list of Document instances\n",
    "    '''\n",
    "    if y is None:\n",
    "        yy = extract_y(x)\n",
    "    else:\n",
    "        yy = y\n",
    "    \n",
    "    if convert:\n",
    "        pred = clf.predict(x)\n",
    "    else:\n",
    "        pred = clf.predict2(x)\n",
    "\n",
    "    non_neu = pred < 2\n",
    "\n",
    "    return {'accu':metrics.accuracy_score(yy[non_neu], pred[non_neu]), 'neutrals':1- 1.* sum(non_neu) / len(pred), 'train_size':x.shape[0]}\n",
    "\n",
    "s = SentenceClassifier(doc_clf, vct_doc, None, top=2500, threshold=0.)\n",
    "s.converter.set_sentence_level(False)\n",
    "ss = train_clf(x[:200], None, s, convert=True)\n",
    "print test_clf(x[:200], None, ss, convert=True)\n",
    "\n",
    "    "
   ]
  },
  {
   "cell_type": "code",
   "execution_count": 18,
   "metadata": {
    "collapsed": false
   },
   "outputs": [
    {
     "name": "stdout",
     "output_type": "stream",
     "text": [
      "[0 1 2]\n",
      "(311296,)\n"
     ]
    }
   ],
   "source": [
    "train_y = extract_y(x)\n",
    "print np.unique(train_y)\n",
    "print train_y.shape"
   ]
  },
  {
   "cell_type": "code",
   "execution_count": 19,
   "metadata": {
    "collapsed": false
   },
   "outputs": [
    {
     "name": "stdout",
     "output_type": "stream",
     "text": [
      "(311296, 15001)\n",
      "(311296,)\n",
      "24991\n"
     ]
    }
   ],
   "source": [
    "# %%timeit\n",
    "s = SentenceClassifier(doc_clf, vct_doc, None, top=2500, threshold=0.42)\n",
    "s.converter.set_sentence_level(False)\n",
    "\n",
    "train_x = s.converter.transform(x)\n",
    "train_x = train_x.tocsr()\n",
    "train_y = extract_y(x)\n",
    "sent_len = np.array([d.sent_bow.shape[0] for d in x])\n",
    "print train_x.shape\n",
    "print train_y.shape\n",
    "print len(sent_len)"
   ]
  },
  {
   "cell_type": "code",
   "execution_count": 53,
   "metadata": {
    "collapsed": false
   },
   "outputs": [],
   "source": [
    "import pickle \n",
    "\n",
    "pickle.dump((train_x, train_y, sent_len), open( \"./data_context_counts.pkl\", \"wb\" ))\n"
   ]
  },
  {
   "cell_type": "code",
   "execution_count": 118,
   "metadata": {
    "collapsed": false
   },
   "outputs": [],
   "source": [
    "import pickle\n",
    "\n",
    "def load_converted_data(data, name, fn=None):\n",
    "    DATA_PKL = \"./\" + name + \".pkl\"\n",
    "    \n",
    "    s = SentenceClassifier(doc_clf, vct_doc, None, top=2500, threshold=0.42)\n",
    "    s.converter.set_sentence_level(False)\n",
    "    # feature_no_context_counts\n",
    "    # feature_context_counts\n",
    "    # feature_no_context_sentiment\n",
    "    # feature_context_sentiment\n",
    "\n",
    "    if fn == 'feature_no_context_counts':\n",
    "        s.converter.set_feature_function(s.converter.feature_no_context_counts)\n",
    "    elif fn == 'feature_no_context_sentiment':\n",
    "        s.converter.set_feature_function(s.converter.feature_no_context_sentiment)\n",
    "    elif fn == 'feature_context_counts':\n",
    "        s.converter.set_feature_function(s.converter.feature_context_counts)\n",
    "    elif fn == 'feature_context_sentiment':\n",
    "        s.converter.set_feature_function(s.converter.feature_context_sentiment)\n",
    "    else:\n",
    "        raise Exception(\"Oops, %s is not a valid feature functions %s\" % (fn) )\n",
    "\n",
    "    \n",
    "    if os.path.isfile(DATA_PKL):\n",
    "        try:\n",
    "            x, y, sent_len = pickle.load(open(DATA_PKL , 'rb'))\n",
    "        except ValueError:\n",
    "            sent_len = np.array([d.sent_bow.shape[0] for d in data])\n",
    "            x,y = pickle.load(open(DATA_PKL , 'rb'))\n",
    "\n",
    "    else:\n",
    "        x = s.converter.transform(data)\n",
    "        x = x.tocsr()\n",
    "        y = extract_y(data)\n",
    "        sent_len = np.array([d.sent_bow.shape[0] for d in data])\n",
    "\n",
    "        pickle.dump((x, y, sent_len), open( DATA_PKL, \"wb\" ) )\n",
    "    return x, y, sent_len, s"
   ]
  },
  {
   "cell_type": "code",
   "execution_count": 41,
   "metadata": {
    "collapsed": false
   },
   "outputs": [
    {
     "name": "stdout",
     "output_type": "stream",
     "text": [
      "Neutrality in dataset 0.244291606702\n"
     ]
    }
   ],
   "source": [
    "print \"Neutrality in dataset %s\" % (1. * train_y[train_y == 2].shape[0] / train_y.shape[0])"
   ]
  },
  {
   "cell_type": "code",
   "execution_count": 95,
   "metadata": {
    "collapsed": true
   },
   "outputs": [
    {
     "name": "stdout",
     "output_type": "stream",
     "text": [
      "115 Accuracy: {'accu': 0.43854442607604516, 'train_size': 62799, 'neutrals': 0.2005127470182646}\n",
      "585 Accuracy: {'accu': 0.50818795667412531, 'train_size': 62799, 'neutrals': 0.19583114380802247}\n",
      "1242 Accuracy: {'accu': 0.5652183039462636, 'train_size': 62799, 'neutrals': 0.24138919409544735}\n",
      "4270 Accuracy: {'accu': 0.66643604248911315, 'train_size': 62799, 'neutrals': 0.21747161579006036}\n",
      "7455 Accuracy: {'accu': 0.71129368435963336, 'train_size': 62799, 'neutrals': 0.21309256516823516}\n",
      "10696 Accuracy: {'accu': 0.73809139676521596, 'train_size': 62799, 'neutrals': 0.2104014395133681}\n",
      "13889 Accuracy: {'accu': 0.75436040710437036, 'train_size': 62799, 'neutrals': 0.20205735760123567}\n",
      "16818 Accuracy: {'accu': 0.7704751063447367, 'train_size': 62799, 'neutrals': 0.20264653895762674}\n",
      "20230 Accuracy: {'accu': 0.78473083850310188, 'train_size': 62799, 'neutrals': 0.20428669246325581}\n",
      "23446 Accuracy: {'accu': 0.79627368968760637, 'train_size': 62799, 'neutrals': 0.20430261628369883}\n",
      "26497 Accuracy: {'accu': 0.80485270016388855, 'train_size': 62799, 'neutrals': 0.20326756795490375}\n",
      "29489 Accuracy: {'accu': 0.81242263307111773, 'train_size': 62799, 'neutrals': 0.2024395292918677}\n",
      "32352 Accuracy: {'accu': 0.81662061974518496, 'train_size': 62799, 'neutrals': 0.1988566696921925}\n",
      "35495 Accuracy: {'accu': 0.82113612089085808, 'train_size': 62799, 'neutrals': 0.19492348604277143}\n",
      "100 Accuracy: {'accu': 0.43728423475258921, 'train_size': 61729, 'neutrals': 0.11310729154854282}\n",
      "577 Accuracy: {'accu': 0.5157742584213173, 'train_size': 61729, 'neutrals': 0.22668437849309075}\n",
      "1250 Accuracy: {'accu': 0.56324222052252326, 'train_size': 61729, 'neutrals': 0.19515948743702316}\n",
      "4201 Accuracy: {'accu': 0.66258320635175239, 'train_size': 61729, 'neutrals': 0.1920167182361613}\n",
      "7236 Accuracy: {'accu': 0.70087168051895399, 'train_size': 61729, 'neutrals': 0.2008618315540508}\n",
      "10651 Accuracy: {'accu': 0.73261252505618657, 'train_size': 61729, 'neutrals': 0.199906040920799}\n",
      "13884 Accuracy: {'accu': 0.75375217444071363, 'train_size': 61729, 'neutrals': 0.1991122486999627}\n",
      "16973 Accuracy: {'accu': 0.76968838526912187, 'train_size': 61729, 'neutrals': 0.19940384584231075}\n",
      "20506 Accuracy: {'accu': 0.78575051224311765, 'train_size': 61729, 'neutrals': 0.20146122567998836}\n",
      "23727 Accuracy: {'accu': 0.79541314116837381, 'train_size': 61729, 'neutrals': 0.1996954429846588}\n",
      "26795 Accuracy: {'accu': 0.80375474900978094, 'train_size': 61729, 'neutrals': 0.1983670560028512}\n",
      "29724 Accuracy: {'accu': 0.81018425190501153, 'train_size': 61729, 'neutrals': 0.19639067537138133}\n",
      "32652 Accuracy: {'accu': 0.81697436310867466, 'train_size': 61729, 'neutrals': 0.19622867695896584}\n",
      "35766 Accuracy: {'accu': 0.82218872475128124, 'train_size': 61729, 'neutrals': 0.1939768990263896}\n",
      "116 Accuracy: {'accu': 0.43782681333940854, 'train_size': 63137, 'neutrals': 0.2700159969589939}\n",
      "533 Accuracy: {'accu': 0.50276726449723275, 'train_size': 63137, 'neutrals': 0.16722365649302307}\n",
      "1202 Accuracy: {'accu': 0.54903012794056949, 'train_size': 63137, 'neutrals': 0.23246273975640275}\n",
      "4066 Accuracy: {'accu': 0.66083256392758216, 'train_size': 63137, 'neutrals': 0.21089060297448403}\n",
      "7439 Accuracy: {'accu': 0.71023762296077397, 'train_size': 63137, 'neutrals': 0.21747944945119346}\n",
      "10582 Accuracy: {'accu': 0.73374879769156776, 'train_size': 63137, 'neutrals': 0.20959183996705577}\n",
      "13705 Accuracy: {'accu': 0.75372224553830169, 'train_size': 63137, 'neutrals': 0.20748530972330015}\n",
      "16784 Accuracy: {'accu': 0.77067443996326324, 'train_size': 63137, 'neutrals': 0.20670921963349542}\n",
      "20303 Accuracy: {'accu': 0.78706350316816243, 'train_size': 63137, 'neutrals': 0.2076120183093907}\n",
      "23426 Accuracy: {'accu': 0.79875634822249775, 'train_size': 63137, 'neutrals': 0.2078495969083105}\n",
      "26431 Accuracy: {'accu': 0.80598738032206052, 'train_size': 63137, 'neutrals': 0.20428591792451334}\n",
      "29459 Accuracy: {'accu': 0.81207680546454597, 'train_size': 63137, 'neutrals': 0.20235361198663226}\n",
      "32437 Accuracy: {'accu': 0.81731699133558333, 'train_size': 63137, 'neutrals': 0.1975070085686681}\n",
      "35635 Accuracy: {'accu': 0.82305888842918218, 'train_size': 63137, 'neutrals': 0.1960815369751493}\n",
      "103 Accuracy: {'accu': 0.42384044954170697, 'train_size': 61942, 'neutrals': 0.298989377159278}\n",
      "567 Accuracy: {'accu': 0.5203154067309318, 'train_size': 61942, 'neutrals': 0.2363178457266475}\n",
      "1237 Accuracy: {'accu': 0.56609451154905699, 'train_size': 61942, 'neutrals': 0.23815827709793036}\n",
      "4171 Accuracy: {'accu': 0.65895587905020514, 'train_size': 61942, 'neutrals': 0.2092764198766588}\n",
      "7540 Accuracy: {'accu': 0.70888911725413628, 'train_size': 61942, 'neutrals': 0.21450711956346258}\n",
      "10677 Accuracy: {'accu': 0.73219442749644092, 'train_size': 61942, 'neutrals': 0.20619289012301834}\n",
      "13805 Accuracy: {'accu': 0.7524842646374289, 'train_size': 61942, 'neutrals': 0.20230215362758708}\n",
      "16821 Accuracy: {'accu': 0.76719523075675233, 'train_size': 61942, 'neutrals': 0.2038358464369895}\n",
      "20411 Accuracy: {'accu': 0.78252160012949956, 'train_size': 61942, 'neutrals': 0.20214071227922892}\n",
      "23668 Accuracy: {'accu': 0.79212595234235694, 'train_size': 61942, 'neutrals': 0.20325465758290018}\n",
      "26691 Accuracy: {'accu': 0.8000847269572936, 'train_size': 61942, 'neutrals': 0.19971909205385685}\n",
      "29771 Accuracy: {'accu': 0.80844109992535351, 'train_size': 61942, 'neutrals': 0.19978366859320007}\n",
      "32768 Accuracy: {'accu': 0.81242078580481625, 'train_size': 61942, 'neutrals': 0.19752348971618616}\n",
      "35859 Accuracy: {'accu': 0.81848813654505703, 'train_size': 61942, 'neutrals': 0.19506958122114237}\n",
      "108 Accuracy: {'accu': 0.44984476216029745, 'train_size': 61689, 'neutrals': 0.15417659550325014}\n",
      "587 Accuracy: {'accu': 0.50977717144156431, 'train_size': 61689, 'neutrals': 0.18012935855663081}\n",
      "1212 Accuracy: {'accu': 0.54913282877234948, 'train_size': 61689, 'neutrals': 0.2139441391496053}\n",
      "4236 Accuracy: {'accu': 0.65859266280781714, 'train_size': 61689, 'neutrals': 0.19624244192643747}\n",
      "7573 Accuracy: {'accu': 0.70753193663771075, 'train_size': 61689, 'neutrals': 0.20690884922757702}\n",
      "10888 Accuracy: {'accu': 0.73936343630287715, 'train_size': 61689, 'neutrals': 0.20446108706576538}\n",
      "14183 Accuracy: {'accu': 0.75775944209053869, 'train_size': 61689, 'neutrals': 0.20039229035970751}\n",
      "17202 Accuracy: {'accu': 0.77234631189226577, 'train_size': 61689, 'neutrals': 0.20313183873948348}\n",
      "20569 Accuracy: {'accu': 0.78502543234994915, 'train_size': 61689, 'neutrals': 0.20326152150302323}\n",
      "23600 Accuracy: {'accu': 0.79490202455484182, 'train_size': 61689, 'neutrals': 0.20251584561267}\n",
      "26443 Accuracy: {'accu': 0.80327136942933675, 'train_size': 61689, 'neutrals': 0.20121901797727304}\n",
      "29528 Accuracy: {'accu': 0.81025859101310171, 'train_size': 61689, 'neutrals': 0.1994845110149297}\n",
      "32517 Accuracy: {'accu': 0.81647538996201408, 'train_size': 61689, 'neutrals': 0.19771758336170142}\n",
      "35772 Accuracy: {'accu': 0.82178617571059431, 'train_size': 61689, 'neutrals': 0.19700432816223312}\n"
     ]
    }
   ],
   "source": [
    "def sent_iterator(data, sizes, order):\n",
    "    for i in order:\n",
    "        yield get_sents(data, sizes,i)\n",
    "\n",
    "def get_sents(data, sizes, i):\n",
    "    ranges =  np.cumsum(sizes)\n",
    "#     print 0 if i==0 else ranges[i-1],ranges[i]\n",
    "    return data[0 if i==0 else ranges[i-1]:ranges[i]]\n",
    "\n",
    "from sklearn import cross_validation as cv        \n",
    "def experiment_v2(x, y, train_fn, test_fn, clf, train_sizes=np.linspace(.1,1.,5), n_folds=5, seed=12222, sent_size=None):\n",
    "\n",
    "    cross_val = cv.KFold(len(sent_size), n_folds=n_folds, shuffle=True, random_state=seed)\n",
    "    \n",
    "    test_scores = []\n",
    "\n",
    "    for train_index, test_index in cross_val:\n",
    "        trial_score = []\n",
    "        #stack matrix in order of training\n",
    "        trainx = vstack([d for d in sent_iterator(x, sent_size, train_index[:max(train_sizes)])])\n",
    "        trainy = np.hstack((d for d in sent_iterator(y, sent_size, train_index[:max(train_sizes)])))\n",
    "\n",
    "        testx = vstack([d for d in sent_iterator(x, sent_size, test_index)])\n",
    "        testy = np.hstack((d for d in sent_iterator(y, sent_size, test_index)))\n",
    "        \n",
    "        for size in train_sizes:\n",
    "            adj_size = sum([s for s in sent_size[train_index[:size]]])\n",
    "            print adj_size, \n",
    "            trained = train_fn(trainx[:adj_size], trainy[:adj_size],clf, convert=False)\n",
    "            \n",
    "            trial_score.append(test_fn(testx, testy, trained, convert=False))\n",
    "            \n",
    "            print \"Accuracy: %s\" % trial_score[-1]\n",
    "        test_scores.append(trial_score)\n",
    "#     print test_scores\n",
    "    test_scores_mean = np.mean([[s['accu'] for s in t] for t in test_scores], axis=0)\n",
    "    test_scores_std = np.std([[s['accu'] for s in t] for t in test_scores], axis=0)\n",
    "    \n",
    "\n",
    "    return test_scores, test_scores_mean, test_scores_std\n",
    "\n",
    "sizes = [10, 50] + range(100, 3000, 250)\n",
    "s = SentenceClassifier(doc_clf, vct_doc, None, top=2500, threshold=0.42)\n",
    "scores, mean, std = experiment_v2(train_x,train_y, train_clf, test_clf, s,sent_size=sent_len,n_folds=5, train_sizes=sizes)"
   ]
  },
  {
   "cell_type": "code",
   "execution_count": 132,
   "metadata": {
    "collapsed": false
   },
   "outputs": [
    {
     "data": {
      "image/png": "[encoded data removed]",
      "text/plain": [
       "<matplotlib.figure.Figure at 0x124cc7910>"
      ]
     },
     "metadata": {},
     "output_type": "display_data"
    }
   ],
   "source": [
    "def exp_plot(results, sizes=None):\n",
    "    side = 6\n",
    "    fig = plt.figure(figsize=(1.618 * side,side))\n",
    "    for m, res in results.items():\n",
    "        avg = res['mean']\n",
    "        std = res['std']# / np.sqrt(5)\n",
    "#         plt.plot(sizes,avg,  label=m)\n",
    "        plt.errorbar(sizes,avg,yerr=std, label=m, fmt='o-', capthick=2)\n",
    "    plt.legend(loc='best')\n",
    "    plt.xlabel('Training Size - |D|')\n",
    "    plt.ylabel('Accuracy of Student')\n",
    "\n",
    "dats = np.array([[s['accu'] for s in t] for t in scores])\n",
    "exp_plot({'method1':{'mean':dats.mean(axis=0), 'std':dats.std(axis=0)}}, sizes=sizes)\n",
    "\n",
    "def save_fig(name_graph):\n",
    "    plt.savefig(\"../graphs/\" + \"-\".join([\"accu\"] + name_graph) + \".pdf\", bbox_inches=\"tight\", dpi=200, transparent=True)\n",
    "\n",
    "save_fig([\"context\", \"counts\"])"
   ]
  },
  {
   "cell_type": "code",
   "execution_count": 28,
   "metadata": {
    "collapsed": false
   },
   "outputs": [
    {
     "data": {
      "image/png": "[encoded data removed]",
      "text/plain": [
       "<matplotlib.figure.Figure at 0x1249c8a10>"
      ]
     },
     "metadata": {},
     "output_type": "display_data"
    }
   ],
   "source": [
    "dats = np.array([[s['neutrals'] for s in t] for t in scores])\n",
    "exp_plot({'method1':{'mean':dats.mean(axis=0), 'std':dats.std(axis=0)}}, sizes=sizes)"
   ]
  },
  {
   "cell_type": "code",
   "execution_count": 94,
   "metadata": {
    "collapsed": true
   },
   "outputs": [
    {
     "name": "stdout",
     "output_type": "stream",
     "text": [
      " 115 Accuracy: {'accu': 0.4385021412209939, 'train_size': 62799, 'neutrals': 0.20054459465915064}\n",
      "585 Accuracy: {'accu': 0.50814932171502125, 'train_size': 62799, 'neutrals': 0.19592668673068048}\n",
      "1242 Accuracy: {'accu': 0.56505037783375311, 'train_size': 62799, 'neutrals': 0.24138919409544735}\n",
      "4270 Accuracy: {'accu': 0.66641570861735677, 'train_size': 62799, 'neutrals': 0.2174238443287313}\n",
      "7455 Accuracy: {'accu': 0.71127658282916173, 'train_size': 62799, 'neutrals': 0.2130288698864632}\n",
      "10696 Accuracy: {'accu': 0.73807122978259998, 'train_size': 62799, 'neutrals': 0.2104014395133681}\n",
      "13889 Accuracy: {'accu': 0.75436040710437036, 'train_size': 62799, 'neutrals': 0.20205735760123567}\n",
      "16818 Accuracy: {'accu': 0.77050588164805978, 'train_size': 62799, 'neutrals': 0.20267838659851267}\n",
      "20230 Accuracy: {'accu': 0.78473514638490327, 'train_size': 62799, 'neutrals': 0.2042707686428128}\n",
      "23446 Accuracy: {'accu': 0.79628925404799555, 'train_size': 62799, 'neutrals': 0.20439815920635684}\n",
      "26497 Accuracy: {'accu': 0.80485708574855086, 'train_size': 62799, 'neutrals': 0.20333126323667572}\n",
      "29489 Accuracy: {'accu': 0.81242387332521315, 'train_size': 62799, 'neutrals': 0.2025191483940827}\n",
      "32352 Accuracy: {'accu': 0.81658451264111942, 'train_size': 62799, 'neutrals': 0.1988407458717496}\n",
      "35495 Accuracy: {'accu': 0.82116860511116385, 'train_size': 62799, 'neutrals': 0.19495533368365736}\n",
      "100 Accuracy: {'accu': 0.43729680365296802, 'train_size': 61729, 'neutrals': 0.11305869202481811}\n",
      "577 Accuracy: {'accu': 0.51574250581310099, 'train_size': 61729, 'neutrals': 0.22666817865184918}\n",
      "1250 Accuracy: {'accu': 0.56327623341854705, 'train_size': 61729, 'neutrals': 0.19520808696074776}\n",
      "4201 Accuracy: {'accu': 0.66256315662843857, 'train_size': 61729, 'neutrals': 0.1920167182361613}\n",
      "7236 Accuracy: {'accu': 0.70087168051895399, 'train_size': 61729, 'neutrals': 0.2008618315540508}\n",
      "10651 Accuracy: {'accu': 0.73261252505618657, 'train_size': 61729, 'neutrals': 0.199906040920799}\n",
      "13884 Accuracy: {'accu': 0.75372666410469047, 'train_size': 61729, 'neutrals': 0.1990636491762381}\n",
      "16973 Accuracy: {'accu': 0.76964166481192964, 'train_size': 61729, 'neutrals': 0.19935524631858603}\n",
      "20506 Accuracy: {'accu': 0.78576645297411341, 'train_size': 61729, 'neutrals': 0.20147742552122994}\n",
      "23727 Accuracy: {'accu': 0.795392899072912, 'train_size': 61729, 'neutrals': 0.1996954429846588}\n",
      "26795 Accuracy: {'accu': 0.80369809033040318, 'train_size': 61729, 'neutrals': 0.19835085616160963}\n",
      "29724 Accuracy: {'accu': 0.8101592420882886, 'train_size': 61729, 'neutrals': 0.19632587600641516}\n",
      "32652 Accuracy: {'accu': 0.81698714072640788, 'train_size': 61729, 'neutrals': 0.19626107664144887}\n",
      "35766 Accuracy: {'accu': 0.82228564537524618, 'train_size': 61729, 'neutrals': 0.19399309886763105}\n",
      "116 Accuracy: {'accu': 0.43778341903708046, 'train_size': 63137, 'neutrals': 0.2700159969589939}\n",
      "533 Accuracy: {'accu': 0.50284344865625652, 'train_size': 63137, 'neutrals': 0.1672553336395457}\n",
      "1202 Accuracy: {'accu': 0.54899290077596175, 'train_size': 63137, 'neutrals': 0.23252609404944802}\n",
      "4066 Accuracy: {'accu': 0.66086084077455598, 'train_size': 63137, 'neutrals': 0.21068470152208685}\n",
      "7439 Accuracy: {'accu': 0.71028075218104159, 'train_size': 63137, 'neutrals': 0.21752696517097736}\n",
      "10582 Accuracy: {'accu': 0.73372472799406896, 'train_size': 63137, 'neutrals': 0.20954432424727176}\n",
      "13705 Accuracy: {'accu': 0.75371732352706056, 'train_size': 63137, 'neutrals': 0.2075011482965614}\n",
      "16784 Accuracy: {'accu': 0.77068982729360092, 'train_size': 63137, 'neutrals': 0.20672505820675668}\n",
      "20303 Accuracy: {'accu': 0.7870163095618804, 'train_size': 63137, 'neutrals': 0.20756450258960668}\n",
      "23426 Accuracy: {'accu': 0.798748425535318, 'train_size': 63137, 'neutrals': 0.2078020811885265}\n",
      "26431 Accuracy: {'accu': 0.80593152866242035, 'train_size': 63137, 'neutrals': 0.20427007935125208}\n",
      "29459 Accuracy: {'accu': 0.8121041240593293, 'train_size': 63137, 'neutrals': 0.20232193484010963}\n",
      "32437 Accuracy: {'accu': 0.81734564977104063, 'train_size': 63137, 'neutrals': 0.1975545242884521}\n",
      "35635 Accuracy: {'accu': 0.82310526212100321, 'train_size': 63137, 'neutrals': 0.19604985982862666}\n",
      "103 Accuracy: {'accu': 0.42435279743654764, 'train_size': 61942, 'neutrals': 0.2996835749572181}\n",
      "567 Accuracy: {'accu': 0.52030440756791041, 'train_size': 61942, 'neutrals': 0.23630170159181174}\n",
      "1237 Accuracy: {'accu': 0.56615808433990256, 'train_size': 61942, 'neutrals': 0.23815827709793036}\n",
      "4171 Accuracy: {'accu': 0.65891551998693398, 'train_size': 61942, 'neutrals': 0.20922798747215132}\n",
      "7540 Accuracy: {'accu': 0.70886258067168162, 'train_size': 61942, 'neutrals': 0.21452326369829844}\n",
      "10677 Accuracy: {'accu': 0.73222421086885781, 'train_size': 61942, 'neutrals': 0.20622517839268995}\n",
      "13805 Accuracy: {'accu': 0.75245901639344259, 'train_size': 61942, 'neutrals': 0.20231829776242294}\n",
      "16821 Accuracy: {'accu': 0.76718578902542889, 'train_size': 61942, 'neutrals': 0.2038681347066611}\n",
      "20411 Accuracy: {'accu': 0.78249873545776427, 'train_size': 61942, 'neutrals': 0.2020761357398857}\n",
      "23668 Accuracy: {'accu': 0.79208542713567842, 'train_size': 61942, 'neutrals': 0.20325465758290018}\n",
      "26691 Accuracy: {'accu': 0.80006454736162658, 'train_size': 61942, 'neutrals': 0.19963837137967777}\n",
      "29771 Accuracy: {'accu': 0.80845354584888529, 'train_size': 61942, 'neutrals': 0.19981595686287168}\n",
      "32768 Accuracy: {'accu': 0.81244970223724444, 'train_size': 61942, 'neutrals': 0.19757192212069352}\n",
      "35859 Accuracy: {'accu': 0.81852096997412604, 'train_size': 61942, 'neutrals': 0.19510186949081398}\n",
      "108 Accuracy: {'accu': 0.44982460175973316, 'train_size': 61689, 'neutrals': 0.15435490930311724}\n",
      "587 Accuracy: {'accu': 0.50975817135625734, 'train_size': 61689, 'neutrals': 0.1801941999384007}\n",
      "1212 Accuracy: {'accu': 0.54916274849459701, 'train_size': 61689, 'neutrals': 0.21392792880416278}\n",
      "4236 Accuracy: {'accu': 0.65859363971848595, 'train_size': 61689, 'neutrals': 0.19614517985378266}\n",
      "7573 Accuracy: {'accu': 0.70751149718957584, 'train_size': 61689, 'neutrals': 0.20690884922757702}\n",
      "10888 Accuracy: {'accu': 0.73934837092731831, 'train_size': 61689, 'neutrals': 0.20444487672032297}\n",
      "14183 Accuracy: {'accu': 0.75773916921766982, 'train_size': 61689, 'neutrals': 0.20039229035970751}\n",
      "17202 Accuracy: {'accu': 0.77229918024450273, 'train_size': 61689, 'neutrals': 0.20308320770315613}\n",
      "20569 Accuracy: {'accu': 0.78502543234994915, 'train_size': 61689, 'neutrals': 0.20326152150302323}\n",
      "23600 Accuracy: {'accu': 0.7948978554731172, 'train_size': 61689, 'neutrals': 0.20253205595811252}\n",
      "26443 Accuracy: {'accu': 0.8032876712328767, 'train_size': 61689, 'neutrals': 0.20123522832271556}\n",
      "29528 Accuracy: {'accu': 0.81034063753088414, 'train_size': 61689, 'neutrals': 0.199565562742142}\n",
      "32517 Accuracy: {'accu': 0.81653026169546328, 'train_size': 61689, 'neutrals': 0.19783105577979865}\n",
      "35772 Accuracy: {'accu': 0.82177318422221324, 'train_size': 61689, 'neutrals': 0.19697190747134818}\n"
     ]
    },
    {
     "data": {
      "image/png": "[encoded data removed]",
      "text/plain": [
       "<matplotlib.figure.Figure at 0x124725cd0>"
      ]
     },
     "metadata": {},
     "output_type": "display_data"
    }
   ],
   "source": [
    "scores, mean, std = experiment_v2(train_x,train_y, train_clf, test_clf, s_clf, sent_size=sent_len, n_folds=5, train_sizes=sizes)\n",
    "dats = np.array([[s['accu'] for s in t] for t in scores])\n",
    "exp_plot({'method1':{'mean':dats.mean(axis=0), 'std':dats.std(axis=0)}}, sizes=sizes)\n",
    "save_fig([\"no_context\", \"counts\"])\n"
   ]
  },
  {
   "cell_type": "code",
   "execution_count": 113,
   "metadata": {
    "collapsed": true
   },
   "outputs": [
    {
     "name": "stdout",
     "output_type": "stream",
     "text": [
      "115 Accuracy: {'accu': 0.51654985419757504, 'train_size': 62799, 'neutrals': 0.06621124540199685}\n",
      "585 Accuracy: {'accu': 0.58716117036892068, 'train_size': 62799, 'neutrals': 0.18637239446487996}\n",
      "1242 Accuracy: {'accu': 0.6284873124912379, 'train_size': 62799, 'neutrals': 0.20490772146053282}\n",
      "4270 Accuracy: {'accu': 0.70588118141443112, 'train_size': 62799, 'neutrals': 0.20044905173649263}\n",
      "7455 Accuracy: {'accu': 0.73956099027763855, 'train_size': 62799, 'neutrals': 0.20564021720091086}\n",
      "10696 Accuracy: {'accu': 0.76066180862501498, 'train_size': 62799, 'neutrals': 0.20021019442984755}\n",
      "13889 Accuracy: {'accu': 0.77444563449561665, 'train_size': 62799, 'neutrals': 0.19715282090479147}\n",
      "16818 Accuracy: {'accu': 0.78711918229631839, 'train_size': 62799, 'neutrals': 0.19767830697941047}\n",
      "20230 Accuracy: {'accu': 0.79957466261204857, 'train_size': 62799, 'neutrals': 0.19882482205130658}\n",
      "23446 Accuracy: {'accu': 0.80888261267353512, 'train_size': 62799, 'neutrals': 0.19938215576681162}\n",
      "26497 Accuracy: {'accu': 0.81669777971958535, 'train_size': 62799, 'neutrals': 0.19817194541314354}\n",
      "29489 Accuracy: {'accu': 0.82294249499137129, 'train_size': 62799, 'neutrals': 0.19723244000700646}\n",
      "32352 Accuracy: {'accu': 0.8275848374734418, 'train_size': 62799, 'neutrals': 0.1980604786700425}\n",
      "35495 Accuracy: {'accu': 0.83137612135374384, 'train_size': 62799, 'neutrals': 0.19589483908979444}\n",
      "100 Accuracy: {'accu': 0.51967702537657756, 'train_size': 61729, 'neutrals': 0.044986959127800596}\n",
      "577 Accuracy: {'accu': 0.58467224275432794, 'train_size': 61729, 'neutrals': 0.16716616177161459}\n",
      "1250 Accuracy: {'accu': 0.62321299709398714, 'train_size': 61729, 'neutrals': 0.1693855400217078}\n",
      "4201 Accuracy: {'accu': 0.69312706061374585, 'train_size': 61729, 'neutrals': 0.16961233779908957}\n",
      "7236 Accuracy: {'accu': 0.73156839786461336, 'train_size': 61729, 'neutrals': 0.18370619967924318}\n",
      "10651 Accuracy: {'accu': 0.75601711178634257, 'train_size': 61729, 'neutrals': 0.189619141732411}\n",
      "13884 Accuracy: {'accu': 0.770628811356593, 'train_size': 61729, 'neutrals': 0.18976494030358504}\n",
      "16973 Accuracy: {'accu': 0.78308012987533571, 'train_size': 61729, 'neutrals': 0.19172512109381323}\n",
      "20506 Accuracy: {'accu': 0.79753220393480839, 'train_size': 61729, 'neutrals': 0.19387969997894017}\n",
      "23727 Accuracy: {'accu': 0.80675384336402656, 'train_size': 61729, 'neutrals': 0.1959856793403425}\n",
      "26795 Accuracy: {'accu': 0.81519966169274449, 'train_size': 61729, 'neutrals': 0.19553208378557885}\n",
      "29724 Accuracy: {'accu': 0.82020981550705419, 'train_size': 61729, 'neutrals': 0.19392829950266488}\n",
      "32652 Accuracy: {'accu': 0.82627928018498042, 'train_size': 61729, 'neutrals': 0.19430089585122068}\n",
      "35766 Accuracy: {'accu': 0.83042684272842204, 'train_size': 61729, 'neutrals': 0.1927457110920313}\n",
      "116 Accuracy: {'accu': 0.53674205293376276, 'train_size': 63137, 'neutrals': 0.09517398672727562}\n",
      "533 Accuracy: {'accu': 0.57278697622791597, 'train_size': 63137, 'neutrals': 0.14384592235931393}\n",
      "1202 Accuracy: {'accu': 0.62960078694974997, 'train_size': 63137, 'neutrals': 0.22714097914059905}\n",
      "4066 Accuracy: {'accu': 0.69781436832304222, 'train_size': 63137, 'neutrals': 0.1919951850737286}\n",
      "7439 Accuracy: {'accu': 0.73986291844640906, 'train_size': 63137, 'neutrals': 0.20276541489142663}\n",
      "10582 Accuracy: {'accu': 0.76042324699936825, 'train_size': 63137, 'neutrals': 0.19768123287454265}\n",
      "13705 Accuracy: {'accu': 0.77512709433663685, 'train_size': 63137, 'neutrals': 0.19931260592045863}\n",
      "16784 Accuracy: {'accu': 0.78769377155770526, 'train_size': 63137, 'neutrals': 0.20100733325942}\n",
      "20303 Accuracy: {'accu': 0.8039739322797298, 'train_size': 63137, 'neutrals': 0.20526790946671525}\n",
      "23426 Accuracy: {'accu': 0.8119249611662086, 'train_size': 63137, 'neutrals': 0.20468188225604633}\n",
      "26431 Accuracy: {'accu': 0.81788295870878303, 'train_size': 63137, 'neutrals': 0.20023124316961527}\n",
      "29459 Accuracy: {'accu': 0.82545541135849509, 'train_size': 63137, 'neutrals': 0.20183093906900862}\n",
      "32437 Accuracy: {'accu': 0.82818154850192827, 'train_size': 63137, 'neutrals': 0.19912254304132282}\n",
      "35635 Accuracy: {'accu': 0.83320854350567464, 'train_size': 63137, 'neutrals': 0.19616072984145583}\n",
      "103 Accuracy: {'accu': 0.51745001753770603, 'train_size': 61942, 'neutrals': 0.2635691453295018}\n",
      "567 Accuracy: {'accu': 0.59666028373175206, 'train_size': 61942, 'neutrals': 0.2159278034290142}\n",
      "1237 Accuracy: {'accu': 0.62729115723033835, 'train_size': 61942, 'neutrals': 0.22755158051080038}\n",
      "4171 Accuracy: {'accu': 0.69224313631459056, 'train_size': 61942, 'neutrals': 0.19205062800684514}\n",
      "7540 Accuracy: {'accu': 0.73208515107448702, 'train_size': 61942, 'neutrals': 0.20067159600916984}\n",
      "10677 Accuracy: {'accu': 0.75511713440473338, 'train_size': 61942, 'neutrals': 0.19234122243388974}\n",
      "13805 Accuracy: {'accu': 0.77098732047352925, 'train_size': 61942, 'neutrals': 0.1940363565916503}\n",
      "16821 Accuracy: {'accu': 0.78309480318753888, 'train_size': 61942, 'neutrals': 0.1957153466145749}\n",
      "20411 Accuracy: {'accu': 0.79390555008737917, 'train_size': 61942, 'neutrals': 0.1962965354686642}\n",
      "23668 Accuracy: {'accu': 0.80224895713681155, 'train_size': 61942, 'neutrals': 0.19887959704239455}\n",
      "26691 Accuracy: {'accu': 0.81045240244758754, 'train_size': 61942, 'neutrals': 0.19529559910884375}\n",
      "29771 Accuracy: {'accu': 0.81892103519585602, 'train_size': 61942, 'neutrals': 0.19590907623260467}\n",
      "32768 Accuracy: {'accu': 0.82113999999999998, 'train_size': 61942, 'neutrals': 0.1927932582092926}\n",
      "35859 Accuracy: {'accu': 0.82520106168552554, 'train_size': 61942, 'neutrals': 0.19103354751218882}\n",
      "108 Accuracy: {'accu': 0.49104905769998913, 'train_size': 61689, 'neutrals': 0.10716659372011217}\n",
      "587 Accuracy: {'accu': 0.58372074852521783, 'train_size': 61689, 'neutrals': 0.17012757541863222}\n",
      "1212 Accuracy: {'accu': 0.61397295556986475, 'train_size': 61689, 'neutrals': 0.19441067289143932}\n",
      "4236 Accuracy: {'accu': 0.70145549135243546, 'train_size': 61689, 'neutrals': 0.18363079317220254}\n",
      "7573 Accuracy: {'accu': 0.73997105876678193, 'train_size': 61689, 'neutrals': 0.19343805216489163}\n",
      "10888 Accuracy: {'accu': 0.75985957873620857, 'train_size': 61689, 'neutrals': 0.19191427969330022}\n",
      "14183 Accuracy: {'accu': 0.77561512302460489, 'train_size': 61689, 'neutrals': 0.18964483133135568}\n",
      "17202 Accuracy: {'accu': 0.78717850904491338, 'train_size': 61689, 'neutrals': 0.1926113245473261}\n",
      "20569 Accuracy: {'accu': 0.79926955749712469, 'train_size': 61689, 'neutrals': 0.1966314902170565}\n",
      "23600 Accuracy: {'accu': 0.8074625660895185, 'train_size': 61689, 'neutrals': 0.1967125419442688}\n",
      "26443 Accuracy: {'accu': 0.81378018569615918, 'train_size': 61689, 'neutrals': 0.19514013843635003}\n",
      "29528 Accuracy: {'accu': 0.82039255158530444, 'train_size': 61689, 'neutrals': 0.194751090145731}\n",
      "32517 Accuracy: {'accu': 0.82522159548751006, 'train_size': 61689, 'neutrals': 0.19531845223621713}\n",
      "35772 Accuracy: {'accu': 0.8291230893000805, 'train_size': 61689, 'neutrals': 0.19402162460082029}\n"
     ]
    },
    {
     "data": {
      "image/png": "[encoded data removed]",
      "text/plain": [
       "<matplotlib.figure.Figure at 0x12489a0d0>"
      ]
     },
     "metadata": {},
     "output_type": "display_data"
    }
   ],
   "source": [
    "# Test with no_context_counts\n",
    "\n",
    "# feature_no_context_counts\n",
    "# feature_context_counts\n",
    "# feature_no_context_sentiment\n",
    "# feature_context_sentiment\n",
    "\n",
    "# train_x2, train_y2, sent_len2, s_clf = load_converted_data(x, 'data_no_context_counts', fn='feature_no_context_counts')\n",
    "# print train_x2.shape\n",
    "# print train_y2.shape\n",
    "# print len(sent_len2)\n",
    "\n",
    "scores2, mean2, std2 = experiment_v2(train_x2,train_y2, train_clf, test_clf, s_clf, sent_size=sent_len, n_folds=5, train_sizes=sizes)\n",
    "dats = np.array([[s['accu'] for s in t] for t in scores2])\n",
    "exp_plot({'method1':{'mean':dats.mean(axis=0), 'std':dats.std(axis=0)}}, sizes=sizes)\n",
    "save_fig([\"no_context\", \"counts\"])\n",
    "\n",
    "\n"
   ]
  },
  {
   "cell_type": "code",
   "execution_count": 114,
   "metadata": {
    "collapsed": false
   },
   "outputs": [
    {
     "data": {
      "image/png": "[encoded data removed]",
      "text/plain": [
       "<matplotlib.figure.Figure at 0x1237e4f50>"
      ]
     },
     "metadata": {},
     "output_type": "display_data"
    }
   ],
   "source": [
    "dats = np.array([[s['accu'] for s in t] for t in scores])\n",
    "all_methods = {'context_counts':{'mean':dats.mean(axis=0), 'std':dats.std(axis=0)}}\n",
    "dats = np.array([[s['accu'] for s in t] for t in scores2])\n",
    "all_methods.update({'no_context_counts':{'mean':dats.mean(axis=0), 'std':dats.std(axis=0)}})\n",
    "exp_plot(all_methods, sizes=sizes)\n",
    "\n"
   ]
  },
  {
   "cell_type": "code",
   "execution_count": 119,
   "metadata": {
    "collapsed": true
   },
   "outputs": [
    {
     "name": "stdout",
     "output_type": "stream",
     "text": [
      "(311296, 9)\n",
      "(311296,)\n",
      "24991\n",
      "115 Accuracy: {'accu': 0.5236563921863775, 'train_size': 62799, 'neutrals': 0.06906160926129401}\n",
      "585 Accuracy: {'accu': 0.56536664779161949, 'train_size': 62799, 'neutrals': 0.10011305912514534}\n",
      "1242 Accuracy: {'accu': 0.56243132467079449, 'train_size': 62799, 'neutrals': 0.08700775490055579}\n",
      "4270 Accuracy: {'accu': 0.56374813322682593, 'train_size': 62799, 'neutrals': 0.08301087596936252}\n",
      "7455 Accuracy: {'accu': 0.56105268523080587, 'train_size': 62799, 'neutrals': 0.06273985254542269}\n",
      "10696 Accuracy: {'accu': 0.5578215411295836, 'train_size': 62799, 'neutrals': 0.04506441185369192}\n",
      "13889 Accuracy: {'accu': 0.55806537780894183, 'train_size': 62799, 'neutrals': 0.046195003105145016}\n",
      "16818 Accuracy: {'accu': 0.55796123139490306, 'train_size': 62799, 'neutrals': 0.044618544881287914}\n",
      "20230 Accuracy: {'accu': 0.55826005550168845, 'train_size': 62799, 'neutrals': 0.04746890874058507}\n",
      "23446 Accuracy: {'accu': 0.55911759771850356, 'train_size': 62799, 'neutrals': 0.05078106339272914}\n",
      "26497 Accuracy: {'accu': 0.55951740825379759, 'train_size': 62799, 'neutrals': 0.052341597796143224}\n",
      "29489 Accuracy: {'accu': 0.5604942856660533, 'train_size': 62799, 'neutrals': 0.05672064841796842}\n",
      "32352 Accuracy: {'accu': 0.56090057807376359, 'train_size': 62799, 'neutrals': 0.057914934951193486}\n",
      "35495 Accuracy: {'accu': 0.55956569312347448, 'train_size': 62799, 'neutrals': 0.054045446583544376}\n",
      "100 Accuracy: {'accu': 0.49798298906439853, 'train_size': 61729, 'neutrals': 6.479936496617267e-05}\n",
      "577 Accuracy: {'accu': 0.55741664478865849, 'train_size': 61729, 'neutrals': 0.07442207066370754}\n",
      "1250 Accuracy: {'accu': 0.55852900552486184, 'train_size': 61729, 'neutrals': 0.061705195289086134}\n",
      "4201 Accuracy: {'accu': 0.55605640510979948, 'train_size': 61729, 'neutrals': 0.0476275332501741}\n",
      "7236 Accuracy: {'accu': 0.55983323897266968, 'train_size': 61729, 'neutrals': 0.05575985355343516}\n",
      "10651 Accuracy: {'accu': 0.5571130735461125, 'train_size': 61729, 'neutrals': 0.04425796627193057}\n",
      "13884 Accuracy: {'accu': 0.55658401459360851, 'train_size': 61729, 'neutrals': 0.0409045991349285}\n",
      "16973 Accuracy: {'accu': 0.5556416954579928, 'train_size': 61729, 'neutrals': 0.038782419932284706}\n",
      "20506 Accuracy: {'accu': 0.55714140421059766, 'train_size': 61729, 'neutrals': 0.04430656579565517}\n",
      "23727 Accuracy: {'accu': 0.55834924314741574, 'train_size': 61729, 'neutrals': 0.04965251340536858}\n",
      "26795 Accuracy: {'accu': 0.55885618626261935, 'train_size': 61729, 'neutrals': 0.05164509387808003}\n",
      "29724 Accuracy: {'accu': 0.55913794870043376, 'train_size': 61729, 'neutrals': 0.051369696576973545}\n",
      "32652 Accuracy: {'accu': 0.56047369776023337, 'train_size': 61729, 'neutrals': 0.056116250060749384}\n",
      "35766 Accuracy: {'accu': 0.55988490588658435, 'train_size': 61729, 'neutrals': 0.05413986942927962}\n",
      "116 Accuracy: {'accu': 0.51635184902330156, 'train_size': 63137, 'neutrals': 0.06674374772320513}\n",
      "533 Accuracy: {'accu': 0.55520010775680639, 'train_size': 63137, 'neutrals': 0.05929961829038444}\n",
      "1202 Accuracy: {'accu': 0.55321067508280297, 'train_size': 63137, 'neutrals': 0.08663699573942374}\n",
      "4066 Accuracy: {'accu': 0.55823476657021509, 'train_size': 63137, 'neutrals': 0.06398783597573532}\n",
      "7439 Accuracy: {'accu': 0.55875311888866408, 'train_size': 63137, 'neutrals': 0.060519188431506055}\n",
      "10582 Accuracy: {'accu': 0.55355605589033841, 'train_size': 63137, 'neutrals': 0.043286820723189234}\n",
      "13705 Accuracy: {'accu': 0.55467519766613071, 'train_size': 63137, 'neutrals': 0.04447471371778833}\n",
      "16784 Accuracy: {'accu': 0.55564063722470991, 'train_size': 63137, 'neutrals': 0.0485293884726864}\n",
      "20303 Accuracy: {'accu': 0.55527270307144516, 'train_size': 63137, 'neutrals': 0.04807006984810813}\n",
      "23426 Accuracy: {'accu': 0.55501397391535801, 'train_size': 63137, 'neutrals': 0.047911684115494846}\n",
      "26431 Accuracy: {'accu': 0.55613938514403904, 'train_size': 63137, 'neutrals': 0.050493371557090105}\n",
      "29459 Accuracy: {'accu': 0.55705585115282941, 'train_size': 63137, 'neutrals': 0.05339183046391183}\n",
      "32437 Accuracy: {'accu': 0.55668602218912633, 'train_size': 63137, 'neutrals': 0.053502700476741105}\n",
      "35635 Accuracy: {'accu': 0.55611843975188513, 'train_size': 63137, 'neutrals': 0.05267909466715237}\n",
      "103 Accuracy: {'accu': 0.52051353020077074, 'train_size': 61942, 'neutrals': 0.2417261308966453}\n",
      "567 Accuracy: {'accu': 0.56291438979963571, 'train_size': 61942, 'neutrals': 0.11368699751380329}\n",
      "1237 Accuracy: {'accu': 0.55817037979674866, 'train_size': 61942, 'neutrals': 0.09927028510542124}\n",
      "4171 Accuracy: {'accu': 0.56199655281578664, 'train_size': 61942, 'neutrals': 0.08207678150527908}\n",
      "7540 Accuracy: {'accu': 0.56196175994711117, 'train_size': 61942, 'neutrals': 0.07205127377223852}\n",
      "10677 Accuracy: {'accu': 0.55882403125906466, 'train_size': 61942, 'neutrals': 0.05384068967744016}\n",
      "13805 Accuracy: {'accu': 0.55865712975076032, 'train_size': 61942, 'neutrals': 0.04977236769881499}\n",
      "16821 Accuracy: {'accu': 0.55878752847574031, 'train_size': 61942, 'neutrals': 0.05036970068774016}\n",
      "20411 Accuracy: {'accu': 0.55966093584441334, 'train_size': 61942, 'neutrals': 0.055342094217170956}\n",
      "23668 Accuracy: {'accu': 0.55976327312534213, 'train_size': 61942, 'neutrals': 0.056149300958961645}\n",
      "26691 Accuracy: {'accu': 0.55954128127239833, 'train_size': 61942, 'neutrals': 0.05398598689096257}\n",
      "29771 Accuracy: {'accu': 0.5603198297901546, 'train_size': 61942, 'neutrals': 0.05910367763391555}\n",
      "32768 Accuracy: {'accu': 0.56051304914434652, 'train_size': 61942, 'neutrals': 0.05850634464499049}\n",
      "35859 Accuracy: {'accu': 0.560423142312514, 'train_size': 61942, 'neutrals': 0.05991088437570635}\n",
      "108 Accuracy: {'accu': 0.47676903660075726, 'train_size': 61689, 'neutrals': 0.036700222081732514}\n",
      "587 Accuracy: {'accu': 0.55454466833866645, 'train_size': 61689, 'neutrals': 0.06279887824409536}\n",
      "1212 Accuracy: {'accu': 0.56234971412286483, 'train_size': 61689, 'neutrals': 0.08990257582389083}\n",
      "4236 Accuracy: {'accu': 0.56275926438053092, 'train_size': 61689, 'neutrals': 0.06213425408095441}\n",
      "7573 Accuracy: {'accu': 0.56260419710224641, 'train_size': 61689, 'neutrals': 0.056833471121269574}\n",
      "10888 Accuracy: {'accu': 0.55922692209883873, 'train_size': 61689, 'neutrals': 0.043832774076415615}\n",
      "14183 Accuracy: {'accu': 0.55914632087258975, 'train_size': 61689, 'neutrals': 0.03992608082478233}\n",
      "17202 Accuracy: {'accu': 0.55914905121576186, 'train_size': 61689, 'neutrals': 0.04065554636969315}\n",
      "20569 Accuracy: {'accu': 0.55976112515481058, 'train_size': 61689, 'neutrals': 0.044513608584998976}\n",
      "23600 Accuracy: {'accu': 0.56038836272125958, 'train_size': 61689, 'neutrals': 0.04665337418340387}\n",
      "26443 Accuracy: {'accu': 0.56145108473188698, 'train_size': 61689, 'neutrals': 0.04955502601760442}\n",
      "29528 Accuracy: {'accu': 0.56260176536121342, 'train_size': 61689, 'neutrals': 0.05420739515959083}\n",
      "32517 Accuracy: {'accu': 0.56234379814440749, 'train_size': 61689, 'neutrals': 0.05302403994229121}\n",
      "35772 Accuracy: {'accu': 0.56200608942560981, 'train_size': 61689, 'neutrals': 0.05231078474282291}\n"
     ]
    },
    {
     "data": {
      "image/png": "[encoded data removed]",
      "text/plain": [
       "<matplotlib.figure.Figure at 0x126a3a0d0>"
      ]
     },
     "metadata": {},
     "output_type": "display_data"
    }
   ],
   "source": [
    "# Test with sentiment without context \n",
    "train_x3, train_y3, sent_len3, s_clf3 = load_converted_data(x, 'data_no_context_sentiment', fn='feature_no_context_sentiment')\n",
    "print train_x3.shape\n",
    "print train_y3.shape\n",
    "print len(sent_len3)\n",
    "\n",
    "scores3, mean3, std3 = experiment_v2(train_x3,train_y3, train_clf, test_clf, s_clf3, sent_size=sent_len3, n_folds=5, train_sizes=sizes)\n",
    "dats = np.array([[s['accu'] for s in t] for t in scores3])\n",
    "all_methods.update({'no_context_sentiment':{'mean':dats.mean(axis=0), 'std':dats.std(axis=0)}})\n",
    "exp_plot({'no_context_sentiment':{'mean':dats.mean(axis=0), 'std':dats.std(axis=0)}}, sizes=sizes)\n",
    "save_fig([\"no_context\", \"sentiment\"])\n",
    "\n",
    "\n"
   ]
  },
  {
   "cell_type": "code",
   "execution_count": 122,
   "metadata": {
    "collapsed": false,
    "scrolled": true
   },
   "outputs": [
    {
     "name": "stdout",
     "output_type": "stream",
     "text": [
      "(311296, 9)\n",
      "(311296,)\n",
      "24991\n",
      "115 Accuracy: {'accu': 0.49604382227632382, 'train_size': 62799, 'neutrals': 0.1366263794009459}\n",
      "585 Accuracy: {'accu': 0.55336824995484923, 'train_size': 62799, 'neutrals': 0.11829806207105209}\n",
      "1242 Accuracy: {'accu': 0.55355720962437249, 'train_size': 62799, 'neutrals': 0.08008089300785048}\n",
      "4270 Accuracy: {'accu': 0.56234247075388066, 'train_size': 62799, 'neutrals': 0.08391853373461355}\n",
      "7455 Accuracy: {'accu': 0.56026435920147166, 'train_size': 62799, 'neutrals': 0.06514434943231584}\n",
      "10696 Accuracy: {'accu': 0.55799126491407147, 'train_size': 62799, 'neutrals': 0.048408414146722034}\n",
      "13889 Accuracy: {'accu': 0.55886935978419316, 'train_size': 62799, 'neutrals': 0.04961862450039012}\n",
      "16818 Accuracy: {'accu': 0.55885704709234119, 'train_size': 62799, 'neutrals': 0.04982563416614916}\n",
      "20230 Accuracy: {'accu': 0.55904244618788979, 'train_size': 62799, 'neutrals': 0.050112262934123186}\n",
      "23446 Accuracy: {'accu': 0.55955324552993224, 'train_size': 62799, 'neutrals': 0.05331295084316634}\n",
      "26497 Accuracy: {'accu': 0.55997169477532727, 'train_size': 62799, 'neutrals': 0.05487348524658031}\n",
      "29489 Accuracy: {'accu': 0.56084306754697821, 'train_size': 62799, 'neutrals': 0.05937992643194956}\n",
      "32352 Accuracy: {'accu': 0.56092024124144468, 'train_size': 62799, 'neutrals': 0.060048726890555626}\n",
      "35495 Accuracy: {'accu': 0.56015889114266393, 'train_size': 62799, 'neutrals': 0.057946782592079527}\n",
      "100 Accuracy: {'accu': 0.49268674760339864, 'train_size': 61729, 'neutrals': 0.04859952372466747}\n",
      "577 Accuracy: {'accu': 0.55515478866091494, 'train_size': 61729, 'neutrals': 0.10622235902088162}\n",
      "1250 Accuracy: {'accu': 0.55278974430239025, 'train_size': 61729, 'neutrals': 0.06740753940611377}\n",
      "4201 Accuracy: {'accu': 0.55731083232067369, 'train_size': 61729, 'neutrals': 0.05349187577961734}\n",
      "7236 Accuracy: {'accu': 0.55819742489270385, 'train_size': 61729, 'neutrals': 0.056359247679372726}\n",
      "10651 Accuracy: {'accu': 0.55732240344223538, 'train_size': 61729, 'neutrals': 0.047465534837758616}\n",
      "13884 Accuracy: {'accu': 0.55695044472681066, 'train_size': 61729, 'neutrals': 0.04380437071716692}\n",
      "16973 Accuracy: {'accu': 0.55616475445899749, 'train_size': 61729, 'neutrals': 0.042686581671499635}\n",
      "20506 Accuracy: {'accu': 0.55762360066691619, 'train_size': 61729, 'neutrals': 0.04780573150383127}\n",
      "23727 Accuracy: {'accu': 0.55850282003076401, 'train_size': 61729, 'neutrals': 0.05214728895656817}\n",
      "26795 Accuracy: {'accu': 0.5591990415882252, 'train_size': 61729, 'neutrals': 0.053443276255892735}\n",
      "29724 Accuracy: {'accu': 0.55927062089767099, 'train_size': 61729, 'neutrals': 0.05472306371397562}\n",
      "32652 Accuracy: {'accu': 0.56001374098248025, 'train_size': 61729, 'neutrals': 0.05684524291661941}\n",
      "35766 Accuracy: {'accu': 0.55978503485457232, 'train_size': 61729, 'neutrals': 0.05648884640930518}\n",
      "116 Accuracy: {'accu': 0.47411579101849133, 'train_size': 63137, 'neutrals': 0.1366076943788903}\n",
      "533 Accuracy: {'accu': 0.54172601376280616, 'train_size': 63137, 'neutrals': 0.07703882034306353}\n",
      "1202 Accuracy: {'accu': 0.55045855316738079, 'train_size': 63137, 'neutrals': 0.10540570505408875}\n",
      "4066 Accuracy: {'accu': 0.55830136800298724, 'train_size': 63137, 'neutrals': 0.06682294058951166}\n",
      "7439 Accuracy: {'accu': 0.55852531442016351, 'train_size': 63137, 'neutrals': 0.06430460744096167}\n",
      "10582 Accuracy: {'accu': 0.55421086707505351, 'train_size': 63137, 'neutrals': 0.045931862457829764}\n",
      "13705 Accuracy: {'accu': 0.55515842670479099, 'train_size': 63137, 'neutrals': 0.0472464640385194}\n",
      "16784 Accuracy: {'accu': 0.55543683323037885, 'train_size': 63137, 'neutrals': 0.05131697736667884}\n",
      "20303 Accuracy: {'accu': 0.55546473610462399, 'train_size': 63137, 'neutrals': 0.05050921013035148}\n",
      "23426 Accuracy: {'accu': 0.55558151566228864, 'train_size': 63137, 'neutrals': 0.05093685160840711}\n",
      "26431 Accuracy: {'accu': 0.55567065428055873, 'train_size': 63137, 'neutrals': 0.052029713163438185}\n",
      "29459 Accuracy: {'accu': 0.55633058904408195, 'train_size': 63137, 'neutrals': 0.055403329268099544}\n",
      "32437 Accuracy: {'accu': 0.55655820194565586, 'train_size': 63137, 'neutrals': 0.05570426216006463}\n",
      "35635 Accuracy: {'accu': 0.55565604796837842, 'train_size': 63137, 'neutrals': 0.0543421448595911}\n",
      "103 Accuracy: {'accu': 0.45099130291414202, 'train_size': 61942, 'neutrals': 0.2166542894966259}\n",
      "567 Accuracy: {'accu': 0.54696801139801321, 'train_size': 61942, 'neutrals': 0.17282296341739045}\n",
      "1237 Accuracy: {'accu': 0.55524681268388365, 'train_size': 61942, 'neutrals': 0.11107164767040134}\n",
      "4171 Accuracy: {'accu': 0.56207607336022969, 'train_size': 61942, 'neutrals': 0.0836427625843531}\n",
      "7540 Accuracy: {'accu': 0.5611724797773332, 'train_size': 61942, 'neutrals': 0.07195440896322369}\n",
      "10677 Accuracy: {'accu': 0.55929424223273605, 'train_size': 61942, 'neutrals': 0.054809337767589006}\n",
      "13805 Accuracy: {'accu': 0.55910336493455648, 'train_size': 61942, 'neutrals': 0.05148364599141131}\n",
      "16821 Accuracy: {'accu': 0.55940349382190024, 'train_size': 61942, 'neutrals': 0.05274288850860487}\n",
      "20411 Accuracy: {'accu': 0.55999931517403145, 'train_size': 61942, 'neutrals': 0.057037228374931415}\n",
      "23668 Accuracy: {'accu': 0.5598985554432202, 'train_size': 61942, 'neutrals': 0.057876723386393714}\n",
      "26691 Accuracy: {'accu': 0.55973981513180415, 'train_size': 61942, 'neutrals': 0.056859642891737394}\n",
      "29771 Accuracy: {'accu': 0.56053310404127255, 'train_size': 61942, 'neutrals': 0.06121855929740727}\n",
      "32768 Accuracy: {'accu': 0.56025275593255264, 'train_size': 61942, 'neutrals': 0.05979787543185555}\n",
      "35859 Accuracy: {'accu': 0.56045392022008256, 'train_size': 61942, 'neutrals': 0.06105711794904911}\n",
      "108 Accuracy: {'accu': 0.46582170044584625, 'train_size': 61689, 'neutrals': 0.16738802703885625}\n",
      "587 Accuracy: {'accu': 0.54960205662769401, 'train_size': 61689, 'neutrals': 0.07938206163173334}\n",
      "1212 Accuracy: {'accu': 0.55623394446985963, 'train_size': 61689, 'neutrals': 0.07870122712314997}\n",
      "4236 Accuracy: {'accu': 0.56095953376233676, 'train_size': 61689, 'neutrals': 0.0654249542057741}\n",
      "7573 Accuracy: {'accu': 0.56188110271538483, 'train_size': 61689, 'neutrals': 0.06035111608228372}\n",
      "10888 Accuracy: {'accu': 0.55983458697797894, 'train_size': 61689, 'neutrals': 0.04744768111008446}\n",
      "14183 Accuracy: {'accu': 0.5593444401132146, 'train_size': 61689, 'neutrals': 0.043540987858451285}\n",
      "17202 Accuracy: {'accu': 0.55991994844136905, 'train_size': 61689, 'neutrals': 0.04420561202159223}\n",
      "20569 Accuracy: {'accu': 0.56068970217406122, 'train_size': 61689, 'neutrals': 0.04858240529105673}\n",
      "23600 Accuracy: {'accu': 0.56114837762643588, 'train_size': 61689, 'neutrals': 0.05028449156251524}\n",
      "26443 Accuracy: {'accu': 0.5618202339421301, 'train_size': 61689, 'neutrals': 0.05208383990662846}\n",
      "29528 Accuracy: {'accu': 0.56273934023663563, 'train_size': 61689, 'neutrals': 0.05602295384914657}\n",
      "32517 Accuracy: {'accu': 0.56247427630676361, 'train_size': 61689, 'neutrals': 0.05474233655919203}\n",
      "35772 Accuracy: {'accu': 0.56263623101347293, 'train_size': 61689, 'neutrals': 0.05550422279498779}\n"
     ]
    },
    {
     "data": {
      "image/png": "[encoded data removed]",
      "text/plain": [
       "<matplotlib.figure.Figure at 0x1254cd890>"
      ]
     },
     "metadata": {},
     "output_type": "display_data"
    }
   ],
   "source": [
    "# Test with context information and sentiment features\n",
    "train_x4, train_y4, sent_len4, s_clf4 = load_converted_data(x, 'data_context_sentiment', fn='feature_context_sentiment')\n",
    "print train_x3.shape\n",
    "print train_y3.shape\n",
    "print len(sent_len3)\n",
    "\n",
    "scores4, mean4, std4 = experiment_v2(train_x4,train_y4, train_clf, test_clf, s_clf4, sent_size=sent_len3, n_folds=5, train_sizes=sizes)\n",
    "dats = np.array([[s['accu'] for s in t] for t in scores4])\n",
    "all_methods.update({'context_sentiment':{'mean':dats.mean(axis=0), 'std':dats.std(axis=0)}})\n",
    "exp_plot({'context_sentiment':{'mean':dats.mean(axis=0), 'std':dats.std(axis=0)}}, sizes=sizes)\n",
    "save_fig([\"context\", \"sentiment\"])\n",
    "\n",
    "\n",
    "\n"
   ]
  },
  {
   "cell_type": "code",
   "execution_count": 135,
   "metadata": {
    "collapsed": false,
    "scrolled": true
   },
   "outputs": [
    {
     "data": {
      "image/png": "[encoded data removed]",
      "text/plain": [
       "<matplotlib.figure.Figure at 0x1237d94d0>"
      ]
     },
     "metadata": {},
     "output_type": "display_data"
    }
   ],
   "source": [
    "# dats = np.array([[s['accu'] for s in t] for t in scores3])\n",
    "# all_methods.update({'no_context_sentiment':{'mean':dats.mean(axis=0), 'std':dats.std(axis=0)}})\n",
    "\n",
    "# all_methods.keys()\n",
    "exp_plot(all_methods, sizes=sizes)\n",
    "plt.title('Feature Space Methods - IMDB')\n",
    "save_fig([\"all_methods\", \"feature_space\"])"
   ]
  },
  {
   "cell_type": "code",
   "execution_count": 145,
   "metadata": {
    "collapsed": false,
    "scrolled": true
   },
   "outputs": [
    {
     "name": "stdout",
     "output_type": "stream",
     "text": [
      "115 Accuracy: {'accu': 0.50898899664007391, 'train_size': 62799, 'neutrals': 0.0}\n",
      "585 Accuracy: {'accu': 0.53486520485995004, 'train_size': 62799, 'neutrals': 0.0}\n",
      "1242 Accuracy: {'accu': 0.55537508559053483, 'train_size': 62799, 'neutrals': 0.0}\n",
      "4270 Accuracy: {'accu': 0.61051927578464626, 'train_size': 62799, 'neutrals': 0.0}\n",
      "7455 Accuracy: {'accu': 0.62564690520549693, 'train_size': 62799, 'neutrals': 0.0}\n",
      "10696 Accuracy: {'accu': 0.64260577397729268, 'train_size': 62799, 'neutrals': 0.0}\n",
      "13889 Accuracy: {'accu': 0.65034475071259101, 'train_size': 62799, 'neutrals': 0.0}\n",
      "16818 Accuracy: {'accu': 0.65485119189796015, 'train_size': 62799, 'neutrals': 0.0}\n",
      "20230 Accuracy: {'accu': 0.65854551824073637, 'train_size': 62799, 'neutrals': 0.0}\n",
      "23446 Accuracy: {'accu': 0.66125256771604646, 'train_size': 62799, 'neutrals': 0.0}\n",
      "26497 Accuracy: {'accu': 0.66790872466122075, 'train_size': 62799, 'neutrals': 0.0}\n",
      "29489 Accuracy: {'accu': 0.66945333524419182, 'train_size': 62799, 'neutrals': 0.0}\n",
      "32352 Accuracy: {'accu': 0.66927817321931882, 'train_size': 62799, 'neutrals': 0.0}\n",
      "35495 Accuracy: {'accu': 0.6711890316724789, 'train_size': 62799, 'neutrals': 0.0}\n",
      "100 Accuracy: {'accu': 0.48231787328484182, 'train_size': 61729, 'neutrals': 0.0}\n",
      "577 Accuracy: {'accu': 0.54421746666882664, 'train_size': 61729, 'neutrals': 0.0}\n",
      "1250 Accuracy: {'accu': 0.58084530771598442, 'train_size': 61729, 'neutrals': 0.0}\n",
      "4201 Accuracy: {'accu': 0.61497837321194249, 'train_size': 61729, 'neutrals': 0.0}\n",
      "7236 Accuracy: {'accu': 0.62795444604642869, 'train_size': 61729, 'neutrals': 0.0}\n",
      "10651 Accuracy: {'accu': 0.63641076317452094, 'train_size': 61729, 'neutrals': 0.0}\n",
      "13884 Accuracy: {'accu': 0.64515867744496103, 'train_size': 61729, 'neutrals': 0.0}\n",
      "16973 Accuracy: {'accu': 0.64898183997796821, 'train_size': 61729, 'neutrals': 0.0}\n",
      "20506 Accuracy: {'accu': 0.65646616663156698, 'train_size': 61729, 'neutrals': 0.0}\n",
      "23727 Accuracy: {'accu': 0.6581023505969642, 'train_size': 61729, 'neutrals': 0.0}\n",
      "26795 Accuracy: {'accu': 0.66025692948209103, 'train_size': 61729, 'neutrals': 0.0}\n",
      "29724 Accuracy: {'accu': 0.66305950201688024, 'train_size': 61729, 'neutrals': 0.0}\n",
      "32652 Accuracy: {'accu': 0.66561907693304601, 'train_size': 61729, 'neutrals': 0.0}\n",
      "35766 Accuracy: {'accu': 0.66958803803722722, 'train_size': 61729, 'neutrals': 0.0}\n",
      "116 Accuracy: {'accu': 0.49676101176805992, 'train_size': 63137, 'neutrals': 0.0}\n",
      "533 Accuracy: {'accu': 0.52772542249394172, 'train_size': 63137, 'neutrals': 0.0}\n",
      "1202 Accuracy: {'accu': 0.5644867510334669, 'train_size': 63137, 'neutrals': 0.0}\n",
      "4066 Accuracy: {'accu': 0.60744096171816842, 'train_size': 63137, 'neutrals': 0.0}\n",
      "7439 Accuracy: {'accu': 0.62156896906726644, 'train_size': 63137, 'neutrals': 0.0}\n",
      "10582 Accuracy: {'accu': 0.63157894736842102, 'train_size': 63137, 'neutrals': 0.0}\n",
      "13705 Accuracy: {'accu': 0.64231750003959642, 'train_size': 63137, 'neutrals': 0.0}\n",
      "16784 Accuracy: {'accu': 0.64846286646498885, 'train_size': 63137, 'neutrals': 0.0}\n",
      "20303 Accuracy: {'accu': 0.65161474254399165, 'train_size': 63137, 'neutrals': 0.0}\n",
      "23426 Accuracy: {'accu': 0.65544767727323128, 'train_size': 63137, 'neutrals': 0.0}\n",
      "26431 Accuracy: {'accu': 0.65833029760679163, 'train_size': 63137, 'neutrals': 0.0}\n",
      "29459 Accuracy: {'accu': 0.66190981516385006, 'train_size': 63137, 'neutrals': 0.0}\n",
      "32437 Accuracy: {'accu': 0.66428560115304813, 'train_size': 63137, 'neutrals': 0.0}\n",
      "35635 Accuracy: {'accu': 0.66639213139680376, 'train_size': 63137, 'neutrals': 0.0}\n",
      "103 Accuracy: {'accu': 0.49207322979561524, 'train_size': 61942, 'neutrals': 0.0}\n",
      "567 Accuracy: {'accu': 0.54355687578702661, 'train_size': 61942, 'neutrals': 0.0}\n",
      "1237 Accuracy: {'accu': 0.56801524006328497, 'train_size': 61942, 'neutrals': 0.0}\n",
      "4171 Accuracy: {'accu': 0.60882761292822318, 'train_size': 61942, 'neutrals': 0.0}\n",
      "7540 Accuracy: {'accu': 0.6210971554034419, 'train_size': 61942, 'neutrals': 0.0}\n",
      "10677 Accuracy: {'accu': 0.63325368893480993, 'train_size': 61942, 'neutrals': 0.0}\n",
      "13805 Accuracy: {'accu': 0.64445771851086497, 'train_size': 61942, 'neutrals': 0.0}\n",
      "16821 Accuracy: {'accu': 0.647847986826386, 'train_size': 61942, 'neutrals': 0.0}\n",
      "20411 Accuracy: {'accu': 0.65579090116560657, 'train_size': 61942, 'neutrals': 0.0}\n",
      "23668 Accuracy: {'accu': 0.65571018049142749, 'train_size': 61942, 'neutrals': 0.0}\n",
      "26691 Accuracy: {'accu': 0.66013367343644058, 'train_size': 61942, 'neutrals': 0.0}\n",
      "29771 Accuracy: {'accu': 0.66397597752736426, 'train_size': 61942, 'neutrals': 0.0}\n",
      "32768 Accuracy: {'accu': 0.66801201123631782, 'train_size': 61942, 'neutrals': 0.0}\n",
      "35859 Accuracy: {'accu': 0.66927125375351137, 'train_size': 61942, 'neutrals': 0.0}\n",
      "108 Accuracy: {'accu': 0.49175703934250836, 'train_size': 61689, 'neutrals': 0.0}\n",
      "587 Accuracy: {'accu': 0.53354730989317378, 'train_size': 61689, 'neutrals': 0.0}\n",
      "1212 Accuracy: {'accu': 0.55274035889704809, 'train_size': 61689, 'neutrals': 0.0}\n",
      "4236 Accuracy: {'accu': 0.61432346123295889, 'train_size': 61689, 'neutrals': 0.0}\n",
      "7573 Accuracy: {'accu': 0.62926939973090823, 'train_size': 61689, 'neutrals': 0.0}\n",
      "10888 Accuracy: {'accu': 0.63975749323218079, 'train_size': 61689, 'neutrals': 0.0}\n",
      "14183 Accuracy: {'accu': 0.64800855906239363, 'train_size': 61689, 'neutrals': 0.0}\n",
      "17202 Accuracy: {'accu': 0.65069947640584225, 'train_size': 61689, 'neutrals': 0.0}\n",
      "20569 Accuracy: {'accu': 0.65656762145601322, 'train_size': 61689, 'neutrals': 0.0}\n",
      "23600 Accuracy: {'accu': 0.65849665256366618, 'train_size': 61689, 'neutrals': 0.0}\n",
      "26443 Accuracy: {'accu': 0.66323007343286489, 'train_size': 61689, 'neutrals': 0.0}\n",
      "29528 Accuracy: {'accu': 0.667979704647506, 'train_size': 61689, 'neutrals': 0.0}\n",
      "32517 Accuracy: {'accu': 0.66951968746453983, 'train_size': 61689, 'neutrals': 0.0}\n",
      "35772 Accuracy: {'accu': 0.67225923584431579, 'train_size': 61689, 'neutrals': 0.0}\n"
     ]
    },
    {
     "data": {
      "image/png": "[encoded data removed]",
      "text/plain": [
       "<matplotlib.figure.Figure at 0x124043e10>"
      ]
     },
     "metadata": {},
     "output_type": "display_data"
    }
   ],
   "source": [
    "# Train using the normal vector representation, learning curve \n",
    "\n",
    "s5 = SentenceClassifier(doc_clf, vct_doc, None, top=2500, threshold=0.42)\n",
    "s5.converter.set_sentence_level(False)\n",
    "\n",
    "\n",
    "scores5, mean5, std5 = experiment_v2(train_sx,train_sy, train_clf, test_clf, s5, sent_size=sent_len, n_folds=5, train_sizes=sizes)\n",
    "dats = np.array([[s['accu'] for s in t] for t in scores5])\n",
    "all_methods.update({'no_context_all_counts':{'mean':dats.mean(axis=0), 'std':dats.std(axis=0)}})\n",
    "exp_plot({'method1':{'mean':dats.mean(axis=0), 'std':dats.std(axis=0)}}, sizes=sizes)\n",
    "save_fig([\"no_context\", \"counts_original_features\"])\n",
    "\n"
   ]
  },
  {
   "cell_type": "code",
   "execution_count": 147,
   "metadata": {
    "collapsed": false,
    "scrolled": true
   },
   "outputs": [
    {
     "data": {
      "image/png": "[encoded data removed]",
      "text/plain": [
       "<matplotlib.figure.Figure at 0x158c7fa90>"
      ]
     },
     "metadata": {},
     "output_type": "display_data"
    }
   ],
   "source": [
    "exp_plot(all_methods, sizes=sizes)\n",
    "plt.title('Feature Space Methods - IMDB')\n",
    "save_fig([\"all_methods\", \"feature_space\"])"
   ]
  },
  {
   "cell_type": "code",
   "execution_count": 148,
   "metadata": {
    "collapsed": false
   },
   "outputs": [
    {
     "name": "stdout",
     "output_type": "stream",
     "text": [
      "Method                   Average\n",
      "---------------------  ---------\n",
      "no_context_counts         0.7412\n",
      "context_sentiment         0.5521\n",
      "no_context_all_counts     0.6245\n",
      "context_counts            0.7120\n",
      "no_context_sentiment      0.5553\n"
     ]
    }
   ],
   "source": [
    "from tabulate import tabulate\n",
    "print tabulate([(k, np.mean(v['mean'])) for k,v in all_methods.items()], headers=['Method', 'Average'], floatfmt=\".4f\")"
   ]
  },
  {
   "cell_type": "code",
   "execution_count": 155,
   "metadata": {
    "collapsed": false,
    "scrolled": true
   },
   "outputs": [
    {
     "name": "stdout",
     "output_type": "stream",
     "text": [
      "115 Accuracy: {'accu': 0.43696462369997463, 'train_size': 62799, 'neutrals': 0.18392012611665787}\n",
      "585 Accuracy: {'accu': 0.50767311538385373, 'train_size': 62799, 'neutrals': 0.19583114380802247}\n",
      "1242 Accuracy: {'accu': 0.56502759764108379, 'train_size': 62799, 'neutrals': 0.2412458797114604}\n",
      "4270 Accuracy: {'accu': 0.66636836967133095, 'train_size': 62799, 'neutrals': 0.21705759645854228}\n",
      "7455 Accuracy: {'accu': 0.71112999150382328, 'train_size': 62799, 'neutrals': 0.21282186022070415}\n",
      "10696 Accuracy: {'accu': 0.73790948493095454, 'train_size': 62799, 'neutrals': 0.21009888692495104}\n",
      "13889 Accuracy: {'accu': 0.75423965524121139, 'train_size': 62799, 'neutrals': 0.20186627175591965}\n",
      "16818 Accuracy: {'accu': 0.77053337859696069, 'train_size': 62799, 'neutrals': 0.20258284367585466}\n",
      "20230 Accuracy: {'accu': 0.78457813969308332, 'train_size': 62799, 'neutrals': 0.20411153043838282}\n",
      "23446 Accuracy: {'accu': 0.79623811905952979, 'train_size': 62799, 'neutrals': 0.20420707336104083}\n",
      "26497 Accuracy: {'accu': 0.80491216850856329, 'train_size': 62799, 'neutrals': 0.20318794885268876}\n",
      "29489 Accuracy: {'accu': 0.81232034493771954, 'train_size': 62799, 'neutrals': 0.20228029108743772}\n",
      "32352 Accuracy: {'accu': 0.8164997217584864, 'train_size': 62799, 'neutrals': 0.19877705058997752}\n",
      "35495 Accuracy: {'accu': 0.82107116015980386, 'train_size': 62799, 'neutrals': 0.19485979076099935}\n",
      "100 Accuracy: {'accu': 0.43982394623420262, 'train_size': 61729, 'neutrals': 0.1129614929773688}\n",
      "577 Accuracy: {'accu': 0.51574209755076406, 'train_size': 61729, 'neutrals': 0.2261335838908779}\n",
      "1250 Accuracy: {'accu': 0.56332132579340322, 'train_size': 61729, 'neutrals': 0.19501368886584913}\n",
      "4201 Accuracy: {'accu': 0.66246341365622874, 'train_size': 61729, 'neutrals': 0.19191951918871197}\n",
      "7236 Accuracy: {'accu': 0.70094859737311499, 'train_size': 61729, 'neutrals': 0.20076463250660148}\n",
      "10651 Accuracy: {'accu': 0.73256543654729855, 'train_size': 61729, 'neutrals': 0.1997440425083834}\n",
      "13884 Accuracy: {'accu': 0.75372077974601637, 'train_size': 61729, 'neutrals': 0.19888545092258092}\n",
      "16973 Accuracy: {'accu': 0.769599611548344, 'train_size': 61729, 'neutrals': 0.19929044695361986}\n",
      "20506 Accuracy: {'accu': 0.78566792422214105, 'train_size': 61729, 'neutrals': 0.20131542710881434}\n",
      "23727 Accuracy: {'accu': 0.79538969055473474, 'train_size': 61729, 'neutrals': 0.19954964441348477}\n",
      "26795 Accuracy: {'accu': 0.80366560914987772, 'train_size': 61729, 'neutrals': 0.1983184564791265}\n",
      "29724 Accuracy: {'accu': 0.81016306867428589, 'train_size': 61729, 'neutrals': 0.19630967616517359}\n",
      "32652 Accuracy: {'accu': 0.81697265270752306, 'train_size': 61729, 'neutrals': 0.196147677752758}\n",
      "35766 Accuracy: {'accu': 0.82219721479814323, 'train_size': 61729, 'neutrals': 0.19384730029645714}\n",
      "116 Accuracy: {'accu': 0.43622339970942653, 'train_size': 63137, 'neutrals': 0.2586914170771497}\n",
      "533 Accuracy: {'accu': 0.50261560996024268, 'train_size': 63137, 'neutrals': 0.16738204222563635}\n",
      "1202 Accuracy: {'accu': 0.54854588894381284, 'train_size': 63137, 'neutrals': 0.2310055910163612}\n",
      "4066 Accuracy: {'accu': 0.66042577075732667, 'train_size': 63137, 'neutrals': 0.2098769342857595}\n",
      "7439 Accuracy: {'accu': 0.70998684609936258, 'train_size': 63137, 'neutrals': 0.21733690229184155}\n",
      "10582 Accuracy: {'accu': 0.73374073331997591, 'train_size': 63137, 'neutrals': 0.20949680852748787}\n",
      "13705 Accuracy: {'accu': 0.75372194800263781, 'train_size': 63137, 'neutrals': 0.20742195543025488}\n",
      "16784 Accuracy: {'accu': 0.77073268117388705, 'train_size': 63137, 'neutrals': 0.20664586534045015}\n",
      "20303 Accuracy: {'accu': 0.78703037569944045, 'train_size': 63137, 'neutrals': 0.20743779400351614}\n",
      "23426 Accuracy: {'accu': 0.79878036589023294, 'train_size': 63137, 'neutrals': 0.20783375833504913}\n",
      "26431 Accuracy: {'accu': 0.8058828212068142, 'train_size': 63137, 'neutrals': 0.20414337076516142}\n",
      "29459 Accuracy: {'accu': 0.81206694593897044, 'train_size': 63137, 'neutrals': 0.20222690340054172}\n",
      "32437 Accuracy: {'accu': 0.81732420217489987, 'train_size': 63137, 'neutrals': 0.19747533142214546}\n",
      "35635 Accuracy: {'accu': 0.82310526212100321, 'train_size': 63137, 'neutrals': 0.19604985982862666}\n",
      "103 Accuracy: {'accu': 0.42137605863556121, 'train_size': 61942, 'neutrals': 0.277533821962481}\n",
      "567 Accuracy: {'accu': 0.51946356765405588, 'train_size': 61942, 'neutrals': 0.2331697394336637}\n",
      "1237 Accuracy: {'accu': 0.5654995982916825, 'train_size': 61942, 'neutrals': 0.23641471053566243}\n",
      "4171 Accuracy: {'accu': 0.65865404236215974, 'train_size': 61942, 'neutrals': 0.20884052823609178}\n",
      "7540 Accuracy: {'accu': 0.70883761070129658, 'train_size': 61942, 'neutrals': 0.2143133899454328}\n",
      "10677 Accuracy: {'accu': 0.73216355244698372, 'train_size': 61942, 'neutrals': 0.2059830163701527}\n",
      "13805 Accuracy: {'accu': 0.75242315708533158, 'train_size': 61942, 'neutrals': 0.20217300054890064}\n",
      "16821 Accuracy: {'accu': 0.7671566142929549, 'train_size': 61942, 'neutrals': 0.20369054922346708}\n",
      "20411 Accuracy: {'accu': 0.78248290373487639, 'train_size': 61942, 'neutrals': 0.20205999160504984}\n",
      "23668 Accuracy: {'accu': 0.79207780366730829, 'train_size': 61942, 'neutrals': 0.2032062251783927}\n",
      "26691 Accuracy: {'accu': 0.79991127780130256, 'train_size': 61942, 'neutrals': 0.19936392108746892}\n",
      "29771 Accuracy: {'accu': 0.80846127463836825, 'train_size': 61942, 'neutrals': 0.19978366859320007}\n",
      "32768 Accuracy: {'accu': 0.81243210621605311, 'train_size': 61942, 'neutrals': 0.1974750573116787}\n",
      "35859 Accuracy: {'accu': 0.81841698919124872, 'train_size': 61942, 'neutrals': 0.19494042814245582}\n",
      "108 Accuracy: {'accu': 0.44902414695198839, 'train_size': 61689, 'neutrals': 0.1386957156056996}\n",
      "587 Accuracy: {'accu': 0.50957642361591526, 'train_size': 61689, 'neutrals': 0.17986999302955142}\n",
      "1212 Accuracy: {'accu': 0.54893108211186015, 'train_size': 61689, 'neutrals': 0.21368477362252591}\n",
      "4236 Accuracy: {'accu': 0.65847953216374266, 'train_size': 61689, 'neutrals': 0.19612896950834025}\n",
      "7573 Accuracy: {'accu': 0.70737039988557182, 'train_size': 61689, 'neutrals': 0.20668190439138256}\n",
      "10888 Accuracy: {'accu': 0.73936430317848412, 'train_size': 61689, 'neutrals': 0.2043962456839955}\n",
      "14183 Accuracy: {'accu': 0.75766665991041204, 'train_size': 61689, 'neutrals': 0.20023018690528294}\n",
      "17202 Accuracy: {'accu': 0.77230844334153737, 'train_size': 61689, 'neutrals': 0.2030507870122712}\n",
      "20569 Accuracy: {'accu': 0.78503855308933335, 'train_size': 61689, 'neutrals': 0.20321289046669588}\n",
      "23600 Accuracy: {'accu': 0.7948822178411008, 'train_size': 61689, 'neutrals': 0.2024347938854577}\n",
      "26443 Accuracy: {'accu': 0.80320983646471611, 'train_size': 61689, 'neutrals': 0.20105691452284846}\n",
      "29528 Accuracy: {'accu': 0.81021705677492506, 'train_size': 61689, 'neutrals': 0.1994034592877174}\n",
      "32517 Accuracy: {'accu': 0.81650301046591511, 'train_size': 61689, 'neutrals': 0.19768516267081648}\n",
      "35772 Accuracy: {'accu': 0.82166646481773042, 'train_size': 61689, 'neutrals': 0.19690706608957842}\n"
     ]
    },
    {
     "data": {
      "image/png": "[encoded data removed]",
      "text/plain": [
       "<matplotlib.figure.Figure at 0x1049fcdd0>"
      ]
     },
     "metadata": {},
     "output_type": "display_data"
    }
   ],
   "source": [
    "import  copy\n",
    "\n",
    "prueba_x = copy.copy(train_x)\n",
    "prueba_y = copy.copy(train_y)\n",
    "prueba_len = copy.copy(sent_len)\n",
    "\n",
    "prueba_x = prueba_x[:,:-1]\n",
    "\n",
    "sco, st, cl = experiment_v2(prueba_x,prueba_y, train_clf, test_clf, s5, sent_size=prueba_len, n_folds=5, train_sizes=sizes)\n",
    "dats = np.array([[s['accu'] for s in t] for t in sco])\n",
    "exp_plot({'no_doc_label':{'mean':dats.mean(axis=0), 'std':dats.std(axis=0)}}, sizes=sizes)\n",
    "# save_fig([\"no_context\", \"counts_original_features\"])\n",
    "\n"
   ]
  },
  {
   "cell_type": "code",
   "execution_count": 156,
   "metadata": {
    "collapsed": false
   },
   "outputs": [
    {
     "name": "stdout",
     "output_type": "stream",
     "text": [
      "0.711878353967\n"
     ]
    }
   ],
   "source": [
    "print dats.mean()"
   ]
  },
  {
   "cell_type": "code",
   "execution_count": null,
   "metadata": {
    "collapsed": true
   },
   "outputs": [],
   "source": [
    "## Get learning curve data\n",
    "from sklearn.learning_curve import learning_curve\n",
    "\n",
    "\n",
    "def experiment(x, y, clf, train_sizes=np.linspace(.1,1.,5), n_folds=5, seed=12222):\n",
    "#     clf = SentenceClassifier(doc_clf, vct_doc, None, top=2500, threshold=.42)\n",
    "#     cv = cv.ShuffleSplit(len(y), n_iter=5, test_size=.0, random_state=12345)\n",
    "    cross_val = cv.KFold(len(y), n_folds=n_folds, shuffle=True, random_state=seed)\n",
    "    \n",
    "    test_scores = []\n",
    "        \n",
    "    for train_index, test_index in cross_val:\n",
    "        trial_score = []\n",
    "        print \"Train size: %s, Test size: %s\" % (len(train_index), len(test_index))\n",
    "#         x_test = clf.converter.transform(x[test_index])\n",
    "        te_yy = extract_y(x[test_index])\n",
    "        for size in train_sizes:\n",
    "            yy = extract_y(x[train_index[:size]])\n",
    "            clf.fit(x[train_index[:size]],yy)\n",
    "\n",
    "            trial_score.append(metrics.accuracy_score(te_yy, clf.predict(x[test_index])))\n",
    "\n",
    "\n",
    "            print \"Accuracy: %s\" % trial_score[-1]\n",
    "        test_scores.append(trial_score)\n",
    "    \n",
    "    test_scores_mean = np.mean( test_scores, axis=0)\n",
    "    test_scores_std = np.std(test_scores, axis=0)\n",
    "    \n",
    "\n",
    "    return test_scores, test_scores_mean, test_scores_std \n",
    "\n"
   ]
  },
  {
   "cell_type": "code",
   "execution_count": null,
   "metadata": {
    "collapsed": true
   },
   "outputs": [],
   "source": [
    "sizes = [10, 50] + range(100, 3000, 250)\n",
    "scores, mean, std = experiment(x, y, s, n_folds=5, train_sizes=sizes)"
   ]
  },
  {
   "cell_type": "code",
   "execution_count": null,
   "metadata": {
    "collapsed": true
   },
   "outputs": [],
   "source": [
    "## Get learning curve data\n",
    "\n",
    "from sklearn.learning_curve import learning_curve\n",
    "\n",
    "\n",
    "def experiment_v3(x, y, clf, train_sizes=np.linspace(.1,1.,5), n_folds=5, seed=12222):\n",
    "#     clf = SentenceClassifier(doc_clf, vct_doc, None, top=2500, threshold=.42)\n",
    "#     cv = cv.ShuffleSplit(len(y), n_iter=5, test_size=.0, random_state=12345)\n",
    "    cross_val = cv.KFold(len(y), n_folds=n_folds, shuffle=True, random_state=seed)\n",
    "    \n",
    "    test_scores = []\n",
    "    sizes = np.array([d.sent_bow.shape[0] for d in x])\n",
    "    \n",
    "    for train_index, test_index in cross_val:\n",
    "        trial_score = []\n",
    "        print \"Train size: %s, Test size: %s\" % (len(train_index), len(test_index))\n",
    "        \n",
    "        x_train = clf.converter.transform(x[train_index[:max(train_sizes)]])\n",
    "\n",
    "        x_test =clf.converter.transform(x[test_index])\n",
    "        \n",
    "        \n",
    "#         x_test = clf.converter.transform(x[test_index])\n",
    "        te_yy = extract_y(x[test_index])\n",
    "        for size in train_sizes:\n",
    "            yy = extract_y(x[train_index[:size]])\n",
    "            \n",
    "            adj_size = sum(sizes[train_index[:size]])\n",
    "            \n",
    "            clf.fit(x_train[:adj_size],yy)\n",
    "\n",
    "#             train_score.append(metrics.accuracy_score(y[test_index], trained.predict2(x_test)))\n",
    "            \n",
    "            trial_score.append(metrics.accuracy_score(te_yy, clf.predict(x_test)))\n",
    "\n",
    "\n",
    "            print \"Accuracy: %s\" % trial_score[-1]\n",
    "        test_scores.append(trial_score)\n",
    "    \n",
    "    test_scores_mean = np.mean( test_scores, axis=0)\n",
    "    test_scores_std = np.std(test_scores, axis=0)\n",
    "    \n",
    "\n",
    "    return test_scores, test_scores_mean, test_scores_std \n",
    "\n",
    "\n"
   ]
  },
  {
   "cell_type": "code",
   "execution_count": null,
   "metadata": {
    "collapsed": false
   },
   "outputs": [],
   "source": [
    "exp_plot({'method1':{'mean':np.mean([[s['neutrals'] for s in t] for t in scores], axis=0), 'std':std}}, sizes=sizes)"
   ]
  },
  {
   "cell_type": "markdown",
   "metadata": {},
   "source": [
    "##############"
   ]
  },
  {
   "cell_type": "code",
   "execution_count": 168,
   "metadata": {
    "collapsed": false
   },
   "outputs": [],
   "source": [
    "from collections import Counter \n",
    "\n",
    "def data_stats():\n",
    "    sents = sent_tk.tokenize_sents(imdb.train.data)\n",
    "    num_sents = [len(s) for s in sents]\n",
    "    num_words = [len(sss.split()) for ss in sents for sss in ss]\n",
    "    return Counter(num_sents), Counter(num_words)\n",
    "\n",
    "sentStats, wordsStats = data_stats()"
   ]
  },
  {
   "cell_type": "code",
   "execution_count": 193,
   "metadata": {
    "collapsed": false
   },
   "outputs": [
    {
     "name": "stdout",
     "output_type": "stream",
     "text": [
      "Most common: [(7, 2062), (8, 2062), (9, 1959), (6, 1852), (10, 1794)]\n",
      "Average:12.4563242767\n"
     ]
    },
    {
     "data": {
      "image/png": "[encoded data removed]",
      "text/plain": [
       "<matplotlib.figure.Figure at 0x123863150>"
      ]
     },
     "metadata": {},
     "output_type": "display_data"
    }
   ],
   "source": [
    "a = plt.hist(sentStats.keys(), 50, weights=sentStats.values(),histtype='bar')\n",
    "plt.xlim([0,100])\n",
    "print \"Most common: %s\" % (sentStats.most_common(5))\n",
    "print \"Average:%s\" % (1. * np.sum([k*v for k,v in sentStats.items()])/ sum(sentStats.values()))"
   ]
  },
  {
   "cell_type": "code",
   "execution_count": 192,
   "metadata": {
    "collapsed": false
   },
   "outputs": [
    {
     "name": "stdout",
     "output_type": "stream",
     "text": [
      "Most common: [(13, 12216), (12, 12170), (14, 12002), (11, 11967), (15, 11875)]\n",
      "Average:18.5957352488\n"
     ]
    },
    {
     "data": {
      "image/png": "[encoded data removed]",
      "text/plain": [
       "<matplotlib.figure.Figure at 0x12380f550>"
      ]
     },
     "metadata": {},
     "output_type": "display_data"
    }
   ],
   "source": [
    "a = plt.hist(wordsStats.keys(), 100, weights=wordsStats.values(),histtype='bar')\n",
    "plt.xlim([0,100])\n",
    "print \"Most common: %s\" % (wordsStats.most_common(5))\n",
    "print \"Average:%s\" % (1. * np.sum([k*v for k,v in wordsStats.items()])/ sum(wordsStats.values()))"
   ]
  },
  {
   "cell_type": "code",
   "execution_count": 195,
   "metadata": {
    "collapsed": false
   },
   "outputs": [
    {
     "name": "stdout",
     "output_type": "stream",
     "text": [
      "4.21723071622\n",
      "474.244862229\n"
     ]
    }
   ],
   "source": [
    "print np.log2(18.6)\n",
    "print 2000 / np.log2(18.6)"
   ]
  },
  {
   "cell_type": "markdown",
   "metadata": {},
   "source": [
    "# Alternative Feature Spaces \n",
    "\n",
    "## 1. Sentiment-based Features\n",
    "\n",
    "Based on (McDonald, 2011): \n",
    "\n",
    "Features are s :"
   ]
  },
  {
   "cell_type": "code",
   "execution_count": null,
   "metadata": {
    "collapsed": false
   },
   "outputs": [],
   "source": [
    "# Train sentence classifier\n",
    "from sklearn.pipeline import Pipeline\n",
    "\n",
    "context_vect = ContextVectorizer(doc_clf, vct_doc, feature_context ,top=2500, threshold=.45)\n",
    "sent_cla = SentenceClassifier()\n",
    "\n",
    "## Get the training data\n",
    "# Get all and train classifier, fully trained\n",
    "ss2s_clf = Pipeline(steps=[('context', context_vect),('estimator', sent_cla)])\n",
    "ss2s_clf.fit(x, y)\n",
    "\n"
   ]
  },
  {
   "cell_type": "code",
   "execution_count": null,
   "metadata": {
    "collapsed": true
   },
   "outputs": [],
   "source": []
  },
  {
   "cell_type": "code",
   "execution_count": null,
   "metadata": {
    "collapsed": true
   },
   "outputs": [],
   "source": [
    "\n",
    "## Get the test data\n",
    "# Transform all test\n",
    "text_x,test_y = load_documents(imdb.test, vct_doc, sent_tk)\n",
    "testx_ss2s = context_vect.transform(test_x)\n",
    "\n",
    "# print \"Sent-doc accuracy: %.4f\" % metrics.accuracy_score(testx_ss2s[:,-1], s2s_clf.predict(testx_ss2s[:,:-1]))\n",
    "print \"Sent-sentence accuracy: %.4f\" % metrics.accuracy_score(testx_ss2s[:,-1], s2s_clf.predict(testx_ss2s[:,:-1]))\n",
    "print \"Test size: %s\" % (testx_ss2s.shape)\n",
    "\n"
   ]
  },
  {
   "cell_type": "code",
   "execution_count": null,
   "metadata": {
    "collapsed": false,
    "scrolled": true
   },
   "outputs": [],
   "source": [
    "# from sklearn.utils import resample\n",
    "# >>> X, X_sparse, y = resample(X, X_sparse, y, random_state=0)\n",
    "\n",
    "sent_x\n",
    "\n",
    "# # prueba =  context_vect.transform(x[:10])\n",
    "# # print prueba[:,-1]\n",
    "\n",
    "\n",
    "# # prueba2 = get_training_sentence(x[:10], doc_clf, feature_context, top=10, threshold=.47)\n",
    "# # print prueba2[1]\n"
   ]
  },
  {
   "cell_type": "code",
   "execution_count": null,
   "metadata": {
    "collapsed": true
   },
   "outputs": [],
   "source": [
    "\n",
    "sent_cla = SentenceClassifier()\n",
    "clf_sent = Pipeline(steps=[('context', context_vect),('estimator', sent_cla)])\n",
    "\n",
    "# clf_sent.fit(sub_x, sub_y)\n",
    "\n",
    "# t_x = context_vect.transform(sub_x)\n",
    "print metrics.accuracy_score(t_x[:,-1], sent_cla.predict(t_x))\n",
    "print metrics.accuracy_score(t_x[:,-1], clf_sent.predict(sub_x))\n",
    "\n",
    "\n"
   ]
  },
  {
   "cell_type": "code",
   "execution_count": null,
   "metadata": {
    "collapsed": false
   },
   "outputs": [],
   "source": [
    "## train on bootstraps, test on amt data sentences\n",
    "#_# train on bootstraps, test on sentences as documents \n",
    "t_x"
   ]
  },
  {
   "cell_type": "code",
   "execution_count": null,
   "metadata": {
    "collapsed": false
   },
   "outputs": [],
   "source": [
    "t_x.shape"
   ]
  },
  {
   "cell_type": "markdown",
   "metadata": {},
   "source": [
    "# Testing on AMT Data"
   ]
  },
  {
   "cell_type": "code",
   "execution_count": null,
   "metadata": {
    "collapsed": true
   },
   "outputs": [],
   "source": [
    "# Load data \n",
    "from utilities.amt_datautils import load_amt_imdb\n",
    "amt = load_amt_imdb(IMDB_DATA, shuffle=True, rnd=1928374, amt_labels='labels')  # should bring with training labels as the amt annotations\n"
   ]
  },
  {
   "cell_type": "code",
   "execution_count": null,
   "metadata": {
    "collapsed": false
   },
   "outputs": [],
   "source": [
    "def load_documents_amt(data, vct, sent_tk ):\n",
    "    # sents, sents_bow, sents_lbl, doc_lbl\n",
    "    \n",
    "    sents_doc = [d.split('THIS_IS_A_SEPARATOR') for d in data.data]\n",
    "    sents_bow = [vct.transform(d) for d in sents_doc]\n",
    "    sents_lbl = data.target\n",
    "    \n",
    "    x = np.array([Document(a,b,c,d) for a,b,c,d in zip(sents_doc, sents_bow, sents_lbl, data.doctarget)])\n",
    "    y = data.doctarget\n",
    "    return x,y\n",
    "\n",
    "\n",
    "print amt.keys()"
   ]
  },
  {
   "cell_type": "code",
   "execution_count": null,
   "metadata": {
    "collapsed": false
   },
   "outputs": [],
   "source": [
    "print amt.train.keys()\n",
    "print len(amt.train.doctarget)"
   ]
  },
  {
   "cell_type": "code",
   "execution_count": null,
   "metadata": {
    "collapsed": true
   },
   "outputs": [],
   "source": [
    "# Convert document to new feature space\n",
    "from scipy.sparse import vstack\n",
    "from scipy.sparse import csr_matrix\n",
    "from sklearn.feature_extraction.text import DictVectorizer\n",
    "\n",
    "\n",
    "\n",
    "    \n",
    "#     row = [0] * n_features\n",
    "#     col = [l[0] for l in lexicon]\n",
    "#     counts = d.sent_bow[:,col]\n",
    "    \n",
    "#     data= counts.sum(axis=0)\n",
    "#     return csr_matrix( (data,(row,col)), shape=(1,n_features) )\n",
    "\n",
    "#     csr_matrix()\n",
    "\n",
    "def feature_simple_counts(doc, i, doc_clf):\n",
    "    '''Feature function bag of words, no context'''\n",
    "    return doc.sent_bow[i]\n",
    "    \n",
    "def featurize(documents, labels, clf_d, feature_fn):\n",
    "    '''Create a feature vector from documents'''\n",
    "\n",
    "    lexicon = get_lexicon(clf_d, top=10) \n",
    "    x = vstack((feature_fn(d, lexicon, clf_d) for d in documents))\n",
    "    return x\n",
    "    \n",
    "def feature_counts(doc, lexicon, clf_d):\n",
    "    n_features = len(lexicon) * 4 + 1\n",
    "    row = [0] * n_features\n",
    "    col = [l[0] for l in lexicon]\n",
    "    counts = d.sent_bow[:,col]\n",
    "    \n",
    "    data= counts.sum(axis=0)\n",
    "    return csr_matrix( (data,(row,col)), shape=(1,n_features) )\n",
    "\n",
    "\n",
    "    "
   ]
  },
  {
   "cell_type": "markdown",
   "metadata": {},
   "source": [
    "## Process\n",
    "\n",
    "1. Load train and test\n",
    "1. Features for train:\n",
    "    1. for documents: vectorizer like before\n",
    "    1. for sentences: lexicon counts\n",
    "1. features for test: same as for sentences (this is amt data)\n",
    "1. for every size of the bootstrap\n",
    "    1. train a document classifier\n",
    "    1. obtain sentences and featurize\n",
    "    1. test document\n",
    "    1. test sentence\n",
    "    1. save results\n",
    "    \n",
    "### Features per sentence\n",
    "\n",
    "1. For every document\n",
    "    1. for every sentence\n",
    "        1. get context, document, and label, and lexicon\n",
    "        1. build a vector\n",
    "        1. return vecotr"
   ]
  },
  {
   "cell_type": "code",
   "execution_count": null,
   "metadata": {
    "collapsed": true
   },
   "outputs": [],
   "source": [
    "\n",
    "\n",
    "\n",
    "def experiment(data, vct, runs, rnd=123):\n",
    "    x_doc, y_doc = load_documents(data, vct)\n",
    "    for train, test in cv:\n",
    "        clf_d = LogisticRegression(penalty=\"l1\", C=1)\n",
    "        clf_s = LogisticRegression(penalty=\"l1\", C=1)\n",
    "        \n",
    "        clf_d.fit(data.train.bow[train], data.train.target[train])\n",
    "\n",
    "\n"
   ]
  },
  {
   "cell_type": "code",
   "execution_count": null,
   "metadata": {
    "collapsed": true
   },
   "outputs": [],
   "source": [
    "def lr_predict():\n",
    "    pass\n",
    "def lr_fit():\n",
    "    pass\n",
    "\n",
    "\n",
    "\n"
   ]
  }
 ],
 "metadata": {
  "kernelspec": {
   "display_name": "Python 2",
   "language": "python",
   "name": "python2"
  },
  "language_info": {
   "codemirror_mode": {
    "name": "ipython",
    "version": 2
   },
   "file_extension": ".py",
   "mimetype": "text/x-python",
   "name": "python",
   "nbconvert_exporter": "python",
   "pygments_lexer": "ipython2",
   "version": "2.7.9"
  }
 },
 "nbformat": 4,
 "nbformat_minor": 0
}
