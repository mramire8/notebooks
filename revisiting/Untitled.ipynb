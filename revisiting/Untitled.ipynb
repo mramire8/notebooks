{
 "cells": [
  {
   "cell_type": "markdown",
   "metadata": {},
   "source": [
    "# Expected Utility Tree\n",
    "\n",
    "How does noise and correctness affect the expected utility\n",
    "\n",
    "\\begin{equation}\n",
    "E[U(x)] = P(N|x) * Utility(n) + P(\\neg N|x) \\times []\n",
    "\\end{equation}"
   ]
  },
  {
   "cell_type": "code",
   "execution_count": 5,
   "metadata": {
    "collapsed": true
   },
   "outputs": [],
   "source": [
    "%matplotlib inline\n",
    "\n",
    "STRUCTURED = '/Users/maru/MyCode/structured'\n",
    "IMDB_DATA='/Users/maru/MyCode/data/imdb'\n",
    "SRAA_DATA='/Users/maru/MyCode/data/sraa'\n",
    "TWIITER_DATA = '/Users/maru/MyCode/data/twitter'\n",
    "\n",
    "\n",
    "import sys\n",
    "import os\n",
    "sys.path.append(os.path.abspath(STRUCTURED))\n",
    "\n",
    "import utilities.experimentutils as exputil\n",
    "import utilities.datautils as datautil\n",
    "import numpy as np\n",
    "\n",
    "from sklearn import metrics\n",
    "import matplotlib.pyplot as plt\n",
    "import matplotlib as mpl\n",
    "\n",
    "from mpl_toolkits.mplot3d import Axes3D\n",
    "from matplotlib import cm\n",
    "from matplotlib.ticker import LinearLocator, FormatStrFormatter\n",
    "\n",
    "mpl.style.use('ggplot')\n"
   ]
  },
  {
   "cell_type": "code",
   "execution_count": 11,
   "metadata": {
    "collapsed": true
   },
   "outputs": [],
   "source": [
    "N =100\n",
    "utility = np.array([.5, .5, .5]) # neutral, postive, negative\n",
    "neutral = np.linspace(0., 1., N)\n",
    "correct = np.linspace(0., 1., N)\n",
    "yclass = np.linspace(0., 1., N)\n",
    "\n",
    "def exp_util(n, c, y, u):\n",
    "#     eu = 1. * n *u[0] + (1-n)*( y*(c*u[1] + (1-c)*u[2] )  + (1-y)*(c*u[2] + (1-c)*u[1])  )\n",
    "\n",
    "    eu = 1. *( y*(c*u[1] + (1-c)*u[2] )  + (1-y)*(c*u[2] + (1-c)*u[1])  )\n",
    "    return eu\n",
    "\n"
   ]
  },
  {
   "cell_type": "code",
   "execution_count": 22,
   "metadata": {
    "collapsed": false
   },
   "outputs": [
    {
     "data": {
      "image/png": "[encoded data removed]",
      "text/plain": [
       "<matplotlib.figure.Figure at 0x10cb18d50>"
      ]
     },
     "metadata": {},
     "output_type": "display_data"
    }
   ],
   "source": [
    "# output = [exp_util(n,c,y,utility) for n,c,y in zip(neutral, correct, yclass)]\n",
    "\n",
    "\n",
    "\n",
    "fig = plt.figure()\n",
    "ax = fig.gca(projection='3d')\n",
    "X, Y = np.meshgrid(correct, yclass)\n",
    "output = exp_util(neutral, X,Y, utility)\n",
    "\n",
    "# R = np.sqrt(X**2 + Y**2)\n",
    "# Z = np.sin(R)\n",
    "surf = ax.plot_surface(X,Y, output, rstride=1, cstride=1, cmap=cm.coolwarm,\n",
    "        linewidth=0, antialiased=False)\n",
    "\n",
    "# ax.set_zlim(-1.01, 1.01)\n",
    "\n",
    "ax.zaxis.set_major_locator(LinearLocator(10))\n",
    "ax.zaxis.set_major_formatter(FormatStrFormatter('%.02f'))\n",
    "\n",
    "# fig.colorbar(surf, shrink=0.5, aspect=5)\n",
    "\n",
    "plt.show()\n",
    "\n",
    "\n"
   ]
  },
  {
   "cell_type": "code",
   "execution_count": 21,
   "metadata": {
    "collapsed": false
   },
   "outputs": [
    {
     "name": "stdout",
     "output_type": "stream",
     "text": [
      "[[  0.00000000e+00   0.00000000e+00   0.00000000e+00 ...,   0.00000000e+00\n",
      "    0.00000000e+00   0.00000000e+00]\n",
      " [  0.00000000e+00   1.02030405e-04   2.04060810e-04 ...,   9.89694929e-03\n",
      "    9.99897970e-03   1.01010101e-02]\n",
      " [  0.00000000e+00   2.04060810e-04   4.08121620e-04 ...,   1.97938986e-02\n",
      "    1.99979594e-02   2.02020202e-02]\n",
      " ..., \n",
      " [  0.00000000e+00   9.89694929e-03   1.97938986e-02 ...,   9.60004081e-01\n",
      "    9.69901031e-01   9.79797980e-01]\n",
      " [  0.00000000e+00   9.99897970e-03   1.99979594e-02 ...,   9.69901031e-01\n",
      "    9.79900010e-01   9.89898990e-01]\n",
      " [  0.00000000e+00   1.01010101e-02   2.02020202e-02 ...,   9.79797980e-01\n",
      "    9.89898990e-01   1.00000000e+00]]\n"
     ]
    }
   ],
   "source": [
    "print X*Y"
   ]
  },
  {
   "cell_type": "code",
   "execution_count": null,
   "metadata": {
    "collapsed": true
   },
   "outputs": [],
   "source": []
  }
 ],
 "metadata": {
  "kernelspec": {
   "display_name": "Python 2",
   "language": "python",
   "name": "python2"
  },
  "language_info": {
   "codemirror_mode": {
    "name": "ipython",
    "version": 2
   },
   "file_extension": ".py",
   "mimetype": "text/x-python",
   "name": "python",
   "nbconvert_exporter": "python",
   "pygments_lexer": "ipython2",
   "version": "2.7.10"
  }
 },
 "nbformat": 4,
 "nbformat_minor": 0
}
