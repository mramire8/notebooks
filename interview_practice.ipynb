{
 "cells": [
  {
   "cell_type": "markdown",
   "metadata": {},
   "source": [
    "# Practice for Technical Interviews\n"
   ]
  },
  {
   "cell_type": "code",
   "execution_count": 30,
   "metadata": {
    "collapsed": true
   },
   "outputs": [],
   "source": [
    "#Quicksort implementation:\n",
    "\n",
    "\n",
    "def myquicksort(data):\n",
    "    \n",
    "    #base case\n",
    "    if len(data) < 2:\n",
    "        return data\n",
    "    \n",
    "    #find pivot\n",
    "    piv_position = len(data) / 2\n",
    "    piv_value = data[piv_position]\n",
    "\n",
    "    #sort left and right\n",
    "    left =  myquicksort([v for v in data if v < piv_value])\n",
    "    pivs = [v for v in data if v == piv_value]\n",
    "    right = myquicksort([v for v in data if v > piv_value])\n",
    "    \n",
    "    \n",
    "    #merge\n",
    "    res = left\n",
    "    res.extend(pivs)\n",
    "    res.extend(right)\n",
    "    \n",
    "    return res\n",
    "    \n",
    "    \n",
    "\n"
   ]
  },
  {
   "cell_type": "code",
   "execution_count": 32,
   "metadata": {
    "collapsed": false
   },
   "outputs": [
    {
     "name": "stdout",
     "output_type": "stream",
     "text": [
      "[1, 2, 4, 5, 7, 10, 10]\n",
      "[0, 1, 2, 3, 4, 5, 6, 7, 8, 9]\n"
     ]
    }
   ],
   "source": [
    "print myquicksort([5,1,10,4,10,7,2])\n",
    "print myquicksort(range(10))"
   ]
  },
  {
   "cell_type": "code",
   "execution_count": 33,
   "metadata": {
    "collapsed": false
   },
   "outputs": [
    {
     "name": "stdout",
     "output_type": "stream",
     "text": [
      "[3, 1, 3, 5, 0, 9, 3, 4, 5, 0]\n",
      "[0, 0, 1, 3, 3, 3, 4, 5, 5, 9]\n"
     ]
    }
   ],
   "source": [
    "import numpy as np\n",
    "a = [np.random.randint(10) for i in range(10)]\n",
    "print a\n",
    "print myquicksort(a)"
   ]
  },
  {
   "cell_type": "code",
   "execution_count": 24,
   "metadata": {
    "collapsed": false
   },
   "outputs": [],
   "source": [
    "def mymergesort(data):\n",
    "    if len(data) < 2:\n",
    "        return data\n",
    "\n",
    "    # split\n",
    "    mid = len(data) /2\n",
    "    \n",
    "    left = data[:mid]\n",
    "    right = data[mid:]\n",
    "    \n",
    "    #sort left and right\n",
    "    left = mymergesort(left)\n",
    "    right = mymergesort(right)\n",
    "    \n",
    "    #merge\n",
    "    merge = mymerge(data, left, right)\n",
    "    return merge\n",
    "\n",
    "def mymerge(data, left, right):\n",
    "    res = []\n",
    "    lind = 0\n",
    "    rind = 0\n",
    "    \n",
    "    while lind < len(left) and rind < len(right):\n",
    "        if left[lind]< right[rind]:\n",
    "            res.append(left[lind])\n",
    "            lind+=1\n",
    "        else: \n",
    "            res.append(right[rind])\n",
    "            rind+=1\n",
    "    res.extend(left[lind:])\n",
    "    res.extend(right[rind:])\n",
    "    return res\n"
   ]
  },
  {
   "cell_type": "code",
   "execution_count": 28,
   "metadata": {
    "collapsed": false
   },
   "outputs": [
    {
     "name": "stdout",
     "output_type": "stream",
     "text": [
      "[]\n"
     ]
    }
   ],
   "source": [
    "print mymergesort([5,1,10,4,7,2])"
   ]
  },
  {
   "cell_type": "code",
   "execution_count": 35,
   "metadata": {
    "collapsed": false
   },
   "outputs": [
    {
     "name": "stdout",
     "output_type": "stream",
     "text": [
      "[1, 2, 3, 5, 6, 7]\n"
     ]
    }
   ],
   "source": [
    "print [1,2,3] + [5,6,7]+[]"
   ]
  },
  {
   "cell_type": "code",
   "execution_count": null,
   "metadata": {
    "collapsed": true
   },
   "outputs": [],
   "source": []
  }
 ],
 "metadata": {
  "kernelspec": {
   "display_name": "Python 2",
   "language": "python",
   "name": "python2"
  },
  "language_info": {
   "codemirror_mode": {
    "name": "ipython",
    "version": 2
   },
   "file_extension": ".py",
   "mimetype": "text/x-python",
   "name": "python",
   "nbconvert_exporter": "python",
   "pygments_lexer": "ipython2",
   "version": "2.7.9"
  }
 },
 "nbformat": 4,
 "nbformat_minor": 0
}
