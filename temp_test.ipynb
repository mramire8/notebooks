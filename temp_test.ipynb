{
 "metadata": {
  "name": "",
  "signature": "sha256:64505f29914e64f0fe1aac9b036bac9942965ba4a3c7487fb613fdf0362baf87"
 },
 "nbformat": 3,
 "nbformat_minor": 0,
 "worksheets": [
  {
   "cells": [
    {
     "cell_type": "code",
     "collapsed": false,
     "input": [
      "## Imports \n",
      "%matplotlib inline\n",
      "\n",
      "STRUCTURED = '/Users/maru/MyCode/structured'\n",
      "IMDB_DATA='/Users/maru/MyCode/data/imdb'\n",
      "SRAA_DATA='/Users/maru/MyCode/data/sraa'\n",
      "TWIITER_DATA = '/Users/maru/MyCode/data/twitter'\n",
      "\n",
      "# STRUCTURED = '/Users/maru/My Code/structured'\n",
      "# IMDB_DATA='/Users/maru/Dataset/aclImdb'\n",
      "# SRAA_DATA='/Users/maru/Dataset/aviation/data'\n",
      "# TWIITER_DATA = '/Users/maru/Dataset/twitter'\n",
      "\n",
      "import sys\n",
      "import os\n",
      "sys.path.append(os.path.abspath(STRUCTURED))\n",
      "\n",
      "\n"
     ],
     "language": "python",
     "metadata": {},
     "outputs": [],
     "prompt_number": 2
    },
    {
     "cell_type": "code",
     "collapsed": false,
     "input": [
      "import utilities.experimentutils as exputil\n",
      "import utilities.datautils as datautil\n",
      "import numpy as np\n",
      "import nltk\n",
      "from sklearn import metrics\n",
      "import matplotlib.pyplot as plt\n",
      "import matplotlib as mpl\n",
      "\n",
      "mpl.style.use('bmh')\n",
      "vct = exputil.get_vectorizer({'vectorizer':\"tfidf\", 'limit':None, 'min_size':None})\n",
      "# Sentence tokenizers\n",
      "sent_tk = nltk.data.load('tokenizers/punkt/english.pickle')\n",
      "\n",
      "def load_data(dataname, path, vct):\n",
      "    import pickle\n",
      "\n",
      "    DATA_PKL = path + '/data.pkl'\n",
      "\n",
      "    if os.path.isfile(DATA_PKL):\n",
      "        print \"Loading existing.\"\n",
      "        _ , data = pickle.load(open(DATA_PKL, 'rb'))\n",
      "\n",
      "#         data = pickle.load(open(DATA_PKL, 'rb'))\n",
      "        data.train.bow = vct.fit_transform(data.train.data)\n",
      "        data.test.bow = vct.transform(data.test.data)\n",
      "\n",
      "    else:\n",
      "        #vct = exputil.get_vectorizer({'vectorizer':\"tfidf\", 'limit':None, 'min_size':None})\n",
      "        data = datautil.load_dataset(dataname, path, categories=None, rnd=5463, shuffle=True)\n",
      "        data.train.data = np.array(data.train.data, dtype=object)\n",
      "        data.test.data = np.array(data.test.data, dtype=object)\n",
      "        data.train.bow = vct.fit_transform(data.train.data)\n",
      "        data.test.bow = vct.transform(data.test.data)\n",
      "        pickle.dump((vct, data), open(DATA_PKL, 'wb'))\n",
      "#         pickle.dump(data, open(DATA_PKL, 'wb'))\n",
      "\n",
      "\n",
      "    return data, vct\n",
      "\n"
     ],
     "language": "python",
     "metadata": {},
     "outputs": [],
     "prompt_number": 76
    },
    {
     "cell_type": "code",
     "collapsed": false,
     "input": [
      "sraa, vct = load_data('sraa', SRAA_DATA)\n",
      "\n",
      "\n"
     ],
     "language": "python",
     "metadata": {},
     "outputs": [],
     "prompt_number": 14
    },
    {
     "cell_type": "code",
     "collapsed": false,
     "input": [
      "print 1. * sraa.train.target.sum() / len(sraa.train.target)\n",
      "print sraa.train.target_names"
     ],
     "language": "python",
     "metadata": {},
     "outputs": [
      {
       "output_type": "stream",
       "stream": "stdout",
       "text": [
        "0.371892010175\n",
        "['auto', 'aviation']\n"
       ]
      }
     ],
     "prompt_number": 28
    },
    {
     "cell_type": "code",
     "collapsed": false,
     "input": [
      "print 1. * sraa.test.target.sum() / len(sraa.test.target)"
     ],
     "language": "python",
     "metadata": {},
     "outputs": [
      {
       "output_type": "stream",
       "stream": "stdout",
       "text": [
        "0.367665162085\n"
       ]
      }
     ],
     "prompt_number": 18
    },
    {
     "cell_type": "code",
     "collapsed": false,
     "input": [
      "from collections import Counter\n",
      "c = Counter(sraa.train.target)\n",
      "print c.most_common(2)"
     ],
     "language": "python",
     "metadata": {},
     "outputs": [
      {
       "output_type": "stream",
       "stream": "stdout",
       "text": [
        "[(0, 22963), (1, 13596)]\n"
       ]
      }
     ],
     "prompt_number": 19
    },
    {
     "cell_type": "code",
     "collapsed": false,
     "input": [
      "print 1- 1. * c[1] / (c[0] + c[1])\n"
     ],
     "language": "python",
     "metadata": {},
     "outputs": [
      {
       "output_type": "stream",
       "stream": "stdout",
       "text": [
        "0.628107989825\n"
       ]
      }
     ],
     "prompt_number": 27
    },
    {
     "cell_type": "markdown",
     "metadata": {},
     "source": [
      "# IMDB Testing Representation\n",
      "\n",
      "We test the SR methods using a the same cofiguration as the AAAI-14 paper. The previous results that relied on LR-L2 were not producing good results for the SR methods. However, after using the A3I configuration we obtained a big boost in the performance of the student. \n",
      "\n",
      "SR config:\n",
      "\n",
      "* LR-L2-C=1\n",
      "\n",
      "A3I config: \n",
      "\n",
      "* LR-L1-C=.3\n",
      "\n",
      "\n",
      "Here, I will test how much does the data representation changes the peformance of L1 and L2 with 1 and .3 C parameter. \n",
      "\n",
      "First we test with tf-idf vectorization using a 5-fold cross validation. We test L1 and L2 using C=1\n",
      "\n"
     ]
    },
    {
     "cell_type": "code",
     "collapsed": false,
     "input": [
      "reload(exputil)\n",
      "\n",
      "from sklearn import metrics\n",
      "from sklearn import cross_validation\n",
      "\n",
      "\n",
      "aaai = exputil.get_classifier('lrl1', parameter=.3)\n",
      "sr = exputil.get_classifier('lrl2', parameter=1)\n",
      "\n",
      "vct = exputil.get_vectorizer({'vectorizer':\"tfidf\", 'limit':None, 'min_size':None})\n",
      "data, vct = load_data('imdb', IMDB_DATA)\n",
      "\n",
      "print \"TFIDF - L1-C=.3\"\n",
      "scores = cross_validation.cross_val_score(aaai, data.train.bow, data.train.target, cv=5)\n",
      "print(\"Accuracy: %0.2f (+/- %0.2f)\" % (scores.mean(), scores.std() * 2))\n",
      "\n",
      "print \"TFIDF - L2-C=1\"\n",
      "scores = cross_validation.cross_val_score(aaai, data.train.bow, data.train.target, cv=5)\n",
      "print(\"Accuracy: %0.2f (+/- %0.2f)\" % (scores.mean(), scores.std() * 2))"
     ],
     "language": "python",
     "metadata": {},
     "outputs": [
      {
       "output_type": "stream",
       "stream": "stdout",
       "text": [
        "TFIDF - L1-C=.3\n",
        "Accuracy: 0.84 (+/- 0.01)"
       ]
      },
      {
       "output_type": "stream",
       "stream": "stdout",
       "text": [
        "\n",
        "TFIDF - L2-C=1\n",
        "Accuracy: 0.84 (+/- 0.01)"
       ]
      },
      {
       "output_type": "stream",
       "stream": "stdout",
       "text": [
        "\n"
       ]
      }
     ],
     "prompt_number": 30
    },
    {
     "cell_type": "code",
     "collapsed": false,
     "input": [
      "vct = exputil.get_vectorizer({'vectorizer':\"bow\", 'limit':None, 'min_size':None})\n",
      "data, vct = load_data('imdb', IMDB_DATA)\n",
      "\n",
      "print \"BOW - L1-C=.3\"\n",
      "scores = cross_validation.cross_val_score(aaai, data.train.bow, data.train.target, cv=5)\n",
      "print(\"Accuracy: %0.2f (+/- %0.2f)\" % (scores.mean(), scores.std() * 2))\n",
      "\n",
      "print \"BOW - L2-C=1\"\n",
      "scores = cross_validation.cross_val_score(aaai, data.train.bow, data.train.target, cv=5)\n",
      "print(\"Accuracy: %0.2f (+/- %0.2f)\" % (scores.mean(), scores.std() * 2))"
     ],
     "language": "python",
     "metadata": {},
     "outputs": [
      {
       "output_type": "stream",
       "stream": "stdout",
       "text": [
        "BOW - L1-C=.3\n",
        "Accuracy: 0.84 (+/- 0.01)"
       ]
      },
      {
       "output_type": "stream",
       "stream": "stdout",
       "text": [
        "\n",
        "BOW - L2-C=1\n",
        "Accuracy: 0.84 (+/- 0.01)"
       ]
      },
      {
       "output_type": "stream",
       "stream": "stdout",
       "text": [
        "\n"
       ]
      }
     ],
     "prompt_number": 33
    },
    {
     "cell_type": "code",
     "collapsed": false,
     "input": [
      "data.train.bow.shape"
     ],
     "language": "python",
     "metadata": {},
     "outputs": [
      {
       "metadata": {},
       "output_type": "pyout",
       "prompt_number": 34,
       "text": [
        "(24991, 27316)"
       ]
      }
     ],
     "prompt_number": 34
    },
    {
     "cell_type": "code",
     "collapsed": false,
     "input": [
      "print data.test.bow.shape"
     ],
     "language": "python",
     "metadata": {},
     "outputs": [
      {
       "output_type": "stream",
       "stream": "stdout",
       "text": [
        "(24989, 27316)\n"
       ]
      }
     ],
     "prompt_number": 37
    },
    {
     "cell_type": "code",
     "collapsed": false,
     "input": [
      "def plot_learning_curve(estimator, title, X, y, ylim=None, cv=None,\n",
      "                        n_jobs=1, train_sizes=np.linspace(.1, 1.0, 5)):\n",
      "    \"\"\"\n",
      "    Generate a simple plot of the test and traning learning curve.\n",
      "\n",
      "    Parameters\n",
      "    ----------\n",
      "    estimator : object type that implements the \"fit\" and \"predict\" methods\n",
      "        An object of that type which is cloned for each validation.\n",
      "\n",
      "    title : string\n",
      "        Title for the chart.\n",
      "\n",
      "    X : array-like, shape (n_samples, n_features)\n",
      "        Training vector, where n_samples is the number of samples and\n",
      "        n_features is the number of features.\n",
      "\n",
      "    y : array-like, shape (n_samples) or (n_samples, n_features), optional\n",
      "        Target relative to X for classification or regression;\n",
      "        None for unsupervised learning.\n",
      "\n",
      "    ylim : tuple, shape (ymin, ymax), optional\n",
      "        Defines minimum and maximum yvalues plotted.\n",
      "\n",
      "    cv : integer, cross-validation generator, optional\n",
      "        If an integer is passed, it is the number of folds (defaults to 3).\n",
      "        Specific cross-validation objects can be passed, see\n",
      "        sklearn.cross_validation module for the list of possible objects\n",
      "\n",
      "    n_jobs : integer, optional\n",
      "        Number of jobs to run in parallel (default 1).\n",
      "    \"\"\"\n",
      "    from sklearn.learning_curve import learning_curve\n",
      "\n",
      "    train_sizes, train_scores, test_scores = learning_curve(\n",
      "        estimator, X, y, cv=cv, n_jobs=n_jobs, train_sizes=train_sizes)\n",
      "    train_scores_mean = np.mean(train_scores, axis=1)\n",
      "    train_scores_std = np.std(train_scores, axis=1)\n",
      "    test_scores_mean = np.mean(test_scores, axis=1)\n",
      "    test_scores_std = np.std(test_scores, axis=1)\n",
      "    \n",
      "    return test_scores_mean, test_scores_std\n",
      "#     plt.fill_between(train_sizes, train_scores_mean - train_scores_std,\n",
      "#                      train_scores_mean + train_scores_std, alpha=0.1,\n",
      "#                      color=\"r\")\n",
      "#     return plt\n",
      "\n",
      "\n",
      "def plot_cross_validation(title, test, stdev, ylim=None, train_sizes=np.linspace(.1, 1.0, 5), labels=None):\n",
      "    plt.figure()\n",
      "    plt.title(title)\n",
      "    if ylim is not None:\n",
      "        plt.ylim(*ylim)\n",
      "    plt.xlabel(\"Training examples\")\n",
      "    plt.ylabel(\"Score\")\n",
      "\n",
      "    \n",
      "    for test_scores_mean, test_scores_std,l in zip(test, stdev, labels):\n",
      "        plt.fill_between(train_sizes, test_scores_mean - test_scores_std,\n",
      "                         test_scores_mean + test_scores_std, alpha=0.1#, color=\"g\"\n",
      "                         )\n",
      "        plt.plot(train_sizes, test_scores_mean, 'o-', #color=\"g\",\n",
      "                 label=l)\n",
      "\n",
      "    plt.legend(loc=\"best\")\n",
      "\n",
      "    return plt\n",
      "\n",
      "vct = exputil.get_vectorizer({'vectorizer':\"tfidf\", 'limit':None, 'min_size':None})\n",
      "data, vct = load_data('imdb', IMDB_DATA, vct)\n",
      "\n",
      "\n",
      "title = \"Learning Curves \" + \"{}-Penalty={}-C={}\".format(aaai.__class__.__name__, aaai.penalty, aaai.C)\n",
      "\n",
      "cv = cross_validation.ShuffleSplit(data.train.bow.shape[0], n_iter=100,\n",
      "                                   test_size=0.2, random_state=0)\n",
      "\n",
      "avg1, std1 = plot_learning_curve(aaai, title, data.train.bow, data.train.target, ylim=(0.45, 1.01), cv=cv, n_jobs=4, train_sizes=range(10, 1001, 100))\n",
      "\n",
      "title = \"Learning Curves \" + \"{}-Penalty={}-C={}\".format(sr.__class__.__name__,sr.penalty, sr.C)\n",
      "\n",
      "cv = cross_validation.ShuffleSplit(data.train.bow.shape[0], n_iter=10,\n",
      "                                   test_size=0.2, random_state=0)\n",
      "\n",
      "avg2, std2 = plot_learning_curve(sr, title, data.train.bow, data.train.target, (0.45, 1.01), cv=cv, n_jobs=4, train_sizes=range(10, 1001, 100))\n",
      "\n",
      "plot_cross_validation('Learning Curves TF-IDF',[avg1, avg2], [std1, std2], (0.45, 1.01), \n",
      "                      train_sizes=range(10, 1001, 100),\n",
      "                      labels=[\"{}-Penalty={}-C={}\".format(aaai.__class__.__name__, aaai.penalty, aaai.C),\n",
      "                              \"{}-Penalty={}-C={}\".format(sr.__class__.__name__, sr.penalty, sr.C)] )"
     ],
     "language": "python",
     "metadata": {},
     "outputs": [
      {
       "output_type": "stream",
       "stream": "stdout",
       "text": [
        "Loading existing.\n"
       ]
      },
      {
       "metadata": {},
       "output_type": "pyout",
       "prompt_number": 79,
       "text": [
        "<module 'matplotlib.pyplot' from '/opt/local/Library/Frameworks/Python.framework/Versions/2.7/lib/python2.7/site-packages/matplotlib/pyplot.pyc'>"
       ]
      },
      {
       "metadata": {},
       "output_type": "display_data",
       "png": "[encoded data removed]",
       "text": [
        "<matplotlib.figure.Figure at 0x114613cd0>"
       ]
      }
     ],
     "prompt_number": 79
    },
    {
     "cell_type": "code",
     "collapsed": false,
     "input": [
      "print \"BOW\"\n",
      "vct = exputil.get_vectorizer({'vectorizer':\"bow\", 'limit':None, 'min_size':None})\n",
      "data, vct = load_data('imdb', IMDB_DATA, vct)\n",
      "\n",
      "title = \"Learning Curves \" + \"{}-Penalty={}-C={}\".format(aaai.__class__.__name__, aaai.penalty, aaai.C)\n",
      "\n",
      "cv = cross_validation.ShuffleSplit(data.train.bow.shape[0], n_iter=100,\n",
      "                                   test_size=0.2, random_state=0)\n",
      "\n",
      "avg1, std1 = plot_learning_curve(aaai, title, data.train.bow, data.train.target, ylim=(0.45, 1.01), cv=cv, n_jobs=4, train_sizes=range(10, 1001, 100))\n",
      "\n",
      "title = \"Learning Curves \" + \"{}-Penalty={}-C={}\".format(sr.__class__.__name__,sr.penalty, sr.C)\n",
      "\n",
      "cv = cross_validation.ShuffleSplit(data.train.bow.shape[0], n_iter=10,\n",
      "                                   test_size=0.2, random_state=0)\n",
      "\n",
      "avg2, std2 = plot_learning_curve(sr, title, data.train.bow, data.train.target, (0.45, 1.01), cv=cv, n_jobs=4, train_sizes=range(10, 1001, 100))\n",
      "\n",
      "plot_cross_validation('Learning Curves BOW',[avg1, avg2], [std1, std2], (0.45, 1.01), \n",
      "                      train_sizes=range(10, 1001, 100),\n",
      "                      labels=[\"{}-Penalty={}-C={}\".format(aaai.__class__.__name__, aaai.penalty, aaai.C),\n",
      "                              \"{}-Penalty={}-C={}\".format(sr.__class__.__name__, sr.penalty, sr.C)] )"
     ],
     "language": "python",
     "metadata": {},
     "outputs": [
      {
       "output_type": "stream",
       "stream": "stdout",
       "text": [
        "BOW\n",
        "Loading existing.\n"
       ]
      }
     ]
    },
    {
     "cell_type": "markdown",
     "metadata": {},
     "source": [
      "# Testing C=1"
     ]
    },
    {
     "cell_type": "code",
     "collapsed": false,
     "input": [
      "\n",
      "clf = exputil.get_classifier('lrl1', parameter=1)\n",
      "\n",
      "title = \"Learning Curves \" + \"{}-Penalty={}-C={}\".format(clf.__class__.__name__, clf.penalty, clf.C)\n",
      "labels = [\"{}-Penalty={}-C={}\".format(clf.__class__.__name__, clf.penalty, clf.C)]\n",
      "cv = cross_validation.ShuffleSplit(data.train.bow.shape[0], n_iter=100,\n",
      "                                   test_size=0.2, random_state=0)\n",
      "\n",
      "avg1, std1 = plot_learning_curve(clf, title, data.train.bow, data.train.target, ylim=(0.45, 1.01), cv=cv, n_jobs=4, train_sizes=range(10, 1001, 100))\n",
      "\n",
      "clf = exputil.get_classifier('lrl2', parameter=1)\n",
      "\n",
      "title = \"Learning Curves \" + \"{}-Penalty={}-C={}\".format(clf.__class__.__name__,clf.penalty, clf.C)\n",
      "\n",
      "cv = cross_validation.ShuffleSplit(data.train.bow.shape[0], n_iter=10,\n",
      "                                   test_size=0.2, random_state=0)\n",
      "\n",
      "avg2, std2 = plot_learning_curve(clf, title, data.train.bow, data.train.target, (0.45, 1.01), cv=cv, n_jobs=4, train_sizes=range(10, 1001, 100))\n",
      "labels.append(\"{}-Penalty={}-C={}\".format(clf.__class__.__name__, clf.penalty, clf.C))\n",
      "plot_cross_validation('Learning Curves - BOW C=1',[avg1, avg2], [std1, std2], (0.45, 1.01), \n",
      "                      train_sizes=range(10, 1001, 100),\n",
      "                      labels=labels )"
     ],
     "language": "python",
     "metadata": {},
     "outputs": []
    },
    {
     "cell_type": "code",
     "collapsed": false,
     "input": [
      "print \"TFIDF\"\n",
      "vct = exputil.get_vectorizer({'vectorizer':\"tfidf\", 'limit':None, 'min_size':None})\n",
      "data, vct = load_data('imdb', IMDB_DATA, vct)\n",
      "\n",
      "clf = exputil.get_classifier('lrl1', parameter=1)\n",
      "labels = [\"{}-Penalty={}-C={}\".format(clf.__class__.__name__, clf.penalty, clf.C)]\n",
      "\n",
      "title = \"Learning Curves \" + \"{}-Penalty={}-C={}\".format(clf.__class__.__name__, clf.penalty, clf.C)\n",
      "\n",
      "cv = cross_validation.ShuffleSplit(data.train.bow.shape[0], n_iter=100,\n",
      "                                   test_size=0.2, random_state=0)\n",
      "\n",
      "avg3, std3 = plot_learning_curve(clf, title, data.train.bow, data.train.target, ylim=(0.45, 1.01), cv=cv, n_jobs=4, train_sizes=range(10, 1001, 100))\n",
      "\n",
      "clf = exputil.get_classifier('lrl2', parameter=1)\n",
      "\n",
      "title = \"Learning Curves \" + \"{}-Penalty={}-C={}\".format(clf.__class__.__name__,clf.penalty, clf.C)\n",
      "\n",
      "cv = cross_validation.ShuffleSplit(data.train.bow.shape[0], n_iter=10,\n",
      "                                   test_size=0.2, random_state=0)\n",
      "\n",
      "avg4, std4 = plot_learning_curve(clf, title, data.train.bow, data.train.target, (0.45, 1.01), cv=cv, n_jobs=4, train_sizes=range(10, 1001, 100))\n",
      "\n",
      "abels.append(\"{}-Penalty={}-C={}\".format(clf.__class__.__name__, clf.penalty, clf.C))\n",
      "plot_cross_validation('Learning Curves - TF-IDF C=1',[avg1, avg2], [std1, std2], (0.45, 1.01), \n",
      "                      train_sizes=range(10, 1001, 100),\n",
      "                      labels=labels )"
     ],
     "language": "python",
     "metadata": {},
     "outputs": []
    },
    {
     "cell_type": "code",
     "collapsed": false,
     "input": [
      "plot_cross_validation(\"LR-L1-C=1\",[avg1, avg3], [std1, std3], (0.45, 1.01), \n",
      "                      train_sizes=range(10, 1001, 100),\n",
      "                      labels=['BOW', 'TFIDF'] )\n",
      "plt.savefig('l1')"
     ],
     "language": "python",
     "metadata": {},
     "outputs": []
    },
    {
     "cell_type": "code",
     "collapsed": false,
     "input": [
      "plot_cross_validation(\"LR-L2-C=1\",[avg2, avg4], [std2, std4], (0.45, 1.01), \n",
      "                      train_sizes=range(10, 1001, 100),\n",
      "                      labels=['BOW', 'TFIDF'] )\n",
      "plt.savefig('l2')"
     ],
     "language": "python",
     "metadata": {},
     "outputs": []
    },
    {
     "cell_type": "code",
     "collapsed": false,
     "input": [],
     "language": "python",
     "metadata": {},
     "outputs": []
    }
   ],
   "metadata": {}
  }
 ]
}