{
 "cells": [
  {
   "cell_type": "code",
   "execution_count": 2,
   "metadata": {
    "collapsed": false
   },
   "outputs": [],
   "source": [
    "%matplotlib inline\n",
    "\n",
    "import sys\n",
    "import os\n",
    "sys.path.append(os.path.abspath('C:/cygwin/home/mramire8/python_code/sr/active'))\n",
    "sys.path.append(os.path.abspath('/Users/maru/MyCode/sr/active'))\n",
    "\n",
    "from sklearn import linear_model\n",
    "\n",
    "from datautil.textutils import StemTokenizer\n",
    "from datautil.load_data import *\n",
    "\n",
    "import numpy as np\n",
    "from time import time\n",
    "import pickle\n",
    "\n",
    "import matplotlib.pyplot as plt\n",
    "import matplotlib as mpl\n",
    "import numpy as np\n",
    "\n",
    "mpl.style.use('bmh')\n",
    "\n",
    "## Get the data ready\n",
    "imdb_path = 'C:/Users/mramire8/Documents/Research/Oracle confidence and Interruption/dataset/aclImdb/raw-data'\n",
    "# imdb_path = '/Users/maru/MyCode/data/imdb'\n",
    "\n",
    "categories = [['alt.atheism', 'talk.religion.misc'],\n",
    "              ['comp.graphics', 'comp.windows.x'],\n",
    "              ['comp.os.ms-windows.misc', 'comp.sys.ibm.pc.hardware'],\n",
    "              ['rec.sport.baseball', 'sci.crypt']]\n",
    "\n",
    "vct = CountVectorizer(encoding='latin-1', min_df=5, max_df=1.0, binary=True, ngram_range=(1, 3),\n",
    "                      token_pattern='\\\\b\\\\w+\\\\b', tokenizer=StemTokenizer())\n",
    "\n",
    "vct2 = CountVectorizer(encoding='latin-1', min_df=5, max_df=1.0, binary=True, ngram_range=(1, 3),\n",
    "                      token_pattern='\\\\b\\\\w+\\\\b', tokenizer=StemTokenizer())\n",
    "\n"
   ]
  },
  {
   "cell_type": "code",
   "execution_count": null,
   "metadata": {
    "collapsed": true
   },
   "outputs": [],
   "source": [
    "\n",
    "dataset = load_dataset(\"imdb\", 100, categories[0], vct, 100, raw=True,  percent=.5, keep_subject=True)\n",
    "sraa = load_dataset(\"aviation\", 100, categories[0], vct2, 100, raw=True,  percent=.5, keep_subject=True)\n",
    "\n",
    "# data = load_dataset('imdb', None, categories[0], vct, 100, percent=.5, keep_subject=True)\n"
   ]
  },
  {
   "cell_type": "code",
   "execution_count": 5,
   "metadata": {
    "collapsed": false
   },
   "outputs": [
    {
     "name": "stdout",
     "output_type": "stream",
     "text": [
      "Data size 22267\n",
      "\n",
      "************************************************************\n",
      "\n",
      "K= 10\n",
      "penalty: 0.3\n",
      "Ave. unc: 0.383221396573\n",
      "Ave. qmax: 0.616778603427\n",
      "Total Documents: 22267\n",
      "Minimum size: 100\n",
      "Fix k: 25\n",
      "Docs left: 22267\n",
      "Vectorizing ...\n",
      "************************************************************\n",
      "\n",
      "K= 25\n",
      "penalty: 0.3\n",
      "Ave. unc: 0.31536401975\n",
      "Ave. qmax: 0.68463598025\n",
      "Total Documents: 22267\n",
      "Minimum size: 100\n",
      "Fix k: 50\n",
      "Docs left: 22267\n",
      "Vectorizing ...\n",
      "************************************************************\n",
      "\n",
      "K= 50\n",
      "penalty: 0.3\n",
      "Ave. unc: 0.254261074089\n",
      "Ave. qmax: 0.745738925911\n",
      "Total Documents: 22267\n",
      "Minimum size: 100\n",
      "Fix k: 75\n",
      "Docs left: 22267\n",
      "Vectorizing ...\n",
      "************************************************************\n",
      "\n",
      "K= 75\n",
      "penalty: 0.3\n",
      "Ave. unc: 0.214122086335\n",
      "Ave. qmax: 0.785877913665\n",
      "Total Documents: 22267\n",
      "Minimum size: 100\n",
      "Fix k: 100\n",
      "Docs left: 22267\n",
      "Vectorizing ...\n",
      "************************************************************\n",
      "\n",
      "K= 100\n",
      "penalty: 0.3\n",
      "Ave. unc: 0.183779531326\n",
      "Ave. qmax: 0.816220468674\n"
     ]
    }
   ],
   "source": [
    "print(\"Data size %s\" % len(dataset.train.data))\n",
    "print\n",
    "\n",
    "kvalues = [10, 25, 50, 75, 100]\n",
    "cost = np.array([5.7, 8.2, 10.9, 15.9, 16.7])\n",
    "\n",
    "threshold = .4\n",
    "\n",
    "def compute_q_max(data_name, dataset, vct, penalty):\n",
    "    q_max = np.zeros((5,len(dataset.train.data)))\n",
    "    a_max = np.zeros((5,len(dataset.train.data)))\n",
    "    neutral =  np.zeros((5,len(dataset.train.data)))\n",
    "    for ki, fixk in enumerate(kvalues):\n",
    "\n",
    "        fixk_saved = \"{0}{1}.p\".format(data_name, fixk)\n",
    "        try:\n",
    "            fixk_file = open(fixk_saved, \"rb\")\n",
    "            data = pickle.load(fixk_file)\n",
    "        except IOError:\n",
    "            data = process_data(dataset, fixk, 100, vct, silent=True)\n",
    "            fixk_file = open(fixk_saved, \"wb\")\n",
    "            pickle.dump(data, fixk_file)\n",
    "\n",
    "        train_x = data.test.bow\n",
    "        train_y = data.test.target\n",
    "\n",
    "        test_x = data.train.bowk\n",
    "        test_y = data.train.target\n",
    "\n",
    "        print \"*\"*60\n",
    "        print\n",
    "        print(\"K= %s\" % fixk)\n",
    "\n",
    "\n",
    "        clf = linear_model.LogisticRegression(penalty='l1', C=penalty)\n",
    "        print(\"penalty: %s\" % penalty)\n",
    "        clf.fit(train_x, train_y)\n",
    "\n",
    "\n",
    "        prob_y = clf.predict_proba(test_x)\n",
    "\n",
    "        q = prob_y.max(axis=1)\n",
    "\n",
    "        unc = prob_y.min(axis=1)\n",
    "\n",
    "        print \"Ave. unc: %s\" % unc.mean()\n",
    "        print \"Ave. qmax: %s\" % q.mean()\n",
    "        q_max[ki] = q\n",
    "    return q_max\n",
    "\n",
    "q_max = compute_q_max('imdb', dataset, vct, 0.3)\n",
    "\n"
   ]
  },
  {
   "cell_type": "code",
   "execution_count": 6,
   "metadata": {
    "collapsed": false
   },
   "outputs": [
    {
     "data": {
      "text/plain": [
       "(5L, 22267L)"
      ]
     },
     "execution_count": 6,
     "metadata": {},
     "output_type": "execute_result"
    }
   ],
   "source": [
    "q_max.shape"
   ]
  },
  {
   "cell_type": "code",
   "execution_count": 14,
   "metadata": {
    "collapsed": true
   },
   "outputs": [],
   "source": [
    "q_max_sel = q_max.argmax(axis=0)\n"
   ]
  },
  {
   "cell_type": "code",
   "execution_count": 18,
   "metadata": {
    "collapsed": false
   },
   "outputs": [
    {
     "data": {
      "text/plain": [
       "array([3, 2, 4, 3, 2, 2, 2, 4, 4, 2], dtype=int64)"
      ]
     },
     "execution_count": 18,
     "metadata": {},
     "output_type": "execute_result"
    }
   ],
   "source": [
    "q_max_sel[:10]"
   ]
  },
  {
   "cell_type": "code",
   "execution_count": 16,
   "metadata": {
    "collapsed": false
   },
   "outputs": [
    {
     "name": "stdout",
     "output_type": "stream",
     "text": [
      "0.731\t0.511\t0.659\t0.505\t0.889\t0.516\t0.603\t0.760\t0.804\t0.631\n",
      "0.765\t0.582\t0.623\t0.541\t0.922\t0.655\t0.593\t0.953\t0.880\t0.747\n",
      "0.719\t0.726\t0.691\t0.529\t0.934\t0.862\t0.764\t0.988\t0.890\t0.818\n",
      "0.798\t0.590\t0.756\t0.652\t0.898\t0.777\t0.718\t0.999\t0.930\t0.770\n",
      "0.676\t0.563\t0.779\t0.635\t0.677\t0.522\t0.650\t0.999\t0.981\t0.588\n"
     ]
    }
   ],
   "source": [
    "for i in range(5):\n",
    "    print \"\\t\".join([\"{:.3f}\".format(a) for a in q_max[i][:10]])"
   ]
  },
  {
   "cell_type": "code",
   "execution_count": 31,
   "metadata": {
    "collapsed": false
   },
   "outputs": [
    {
     "data": {
      "text/plain": [
       "2.5239143126599903"
      ]
     },
     "execution_count": 31,
     "metadata": {},
     "output_type": "execute_result"
    }
   ],
   "source": [
    "# Percentage of 10-word subinstances where Q_max = Q_10\n",
    "1. * sum((q_max_sel == 0) [(1-q_max[0]) < .4]) / len(q_max_sel) * 100"
   ]
  },
  {
   "cell_type": "code",
   "execution_count": 62,
   "metadata": {
    "collapsed": false
   },
   "outputs": [],
   "source": [
    "def fn(x, alpha):\n",
    "    return np.power(x,alpha)\n",
    "\n",
    "def fn_obj(x, cost, alpha):\n",
    "    ''' Objective function  x^alpha / cost '''\n",
    "    return fn(x,alpha) / cost\n",
    "\n",
    "def compute_alpha(q_max, alpha, cost):\n",
    "    q_obj = np.zeros(q_max.shape)\n",
    "    \n",
    "    # For every row = subinstance k, compute objective function\n",
    "    for i in range(len(q_obj)):\n",
    "        q_obj[i] = fn_obj(q_max[i], cost[i], alpha)\n",
    "        \n",
    "    return q_obj\n",
    "\n",
    "def max_alpha(q_max, alpha, cost):\n",
    "    q = compute_alpha(q_max, alpha, cost)\n",
    "    return q.argmax(axis=0)\n",
    "\n",
    "def stats_k(q_mx_sl, q_alpha_sl):\n",
    "    ''' Compares two matrix'''\n",
    "\n",
    "    stats ={}\n",
    "    stats['match'] = np.mean(q_mx_sl == q_alpha_sl)\n",
    "    stats['cheaper'] = np.mean(q_mx_sl > q_alpha_sl)\n",
    "    stats['expensive'] = np.mean(q_mx_sl < q_alpha_sl)\n",
    "    \n",
    "    for a in np.unique(q_mx_sl):\n",
    "        stats['k=%s'%a] = np.mean(q_alpha_sl == a)\n",
    "    \n",
    "    \n",
    "    return stats\n",
    "\n",
    "def print_stats(stats):\n",
    "    for k,v in stats.items():\n",
    "        print \"{}:\\t{:.4f}\".format(k,v)\n"
   ]
  },
  {
   "cell_type": "code",
   "execution_count": 70,
   "metadata": {
    "collapsed": false
   },
   "outputs": [
    {
     "name": "stdout",
     "output_type": "stream",
     "text": [
      "\n",
      "== Alpha: 0 ==\n",
      "k=4:\t0.0000\n",
      "k=3:\t0.0000\n",
      "k=2:\t0.0000\n",
      "k=1:\t0.0000\n",
      "k=0:\t1.0000\n",
      "cheaper:\t0.9720\n",
      "match:\t0.0280\n",
      "expensive:\t0.0000\n",
      "\n",
      "== Alpha: 1 ==\n",
      "k=4:\t0.0000\n",
      "k=3:\t0.0000\n",
      "k=2:\t0.0007\n",
      "k=1:\t0.0676\n",
      "k=0:\t0.9317\n",
      "cheaper:\t0.9616\n",
      "match:\t0.0384\n",
      "expensive:\t0.0000\n",
      "\n",
      "== Alpha: 5 ==\n",
      "k=4:\t0.2691\n",
      "k=3:\t0.0977\n",
      "k=2:\t0.2593\n",
      "k=1:\t0.1949\n",
      "k=0:\t0.1791\n",
      "cheaper:\t0.4673\n",
      "match:\t0.5327\n",
      "expensive:\t0.0000\n",
      "\n",
      "== Alpha: 10 ==\n",
      "k=4:\t0.3933\n",
      "k=3:\t0.1501\n",
      "k=2:\t0.2329\n",
      "k=1:\t0.1429\n",
      "k=0:\t0.0807\n",
      "cheaper:\t0.2587\n",
      "match:\t0.7413\n",
      "expensive:\t0.0000\n",
      "\n",
      "== Alpha: 100 ==\n",
      "k=4:\t0.5358\n",
      "k=3:\t0.2003\n",
      "k=2:\t0.1482\n",
      "k=1:\t0.0841\n",
      "k=0:\t0.0316\n",
      "cheaper:\t0.0304\n",
      "match:\t0.9696\n",
      "expensive:\t0.0000\n",
      "\n",
      "== Alpha: 200 ==\n",
      "k=4:\t0.5452\n",
      "k=3:\t0.2023\n",
      "k=2:\t0.1410\n",
      "k=1:\t0.0818\n",
      "k=0:\t0.0297\n",
      "cheaper:\t0.0159\n",
      "match:\t0.9841\n",
      "expensive:\t0.0000\n",
      "\n",
      "== Alpha: 1000 ==\n",
      "k=4:\t0.5535\n",
      "k=3:\t0.2034\n",
      "k=2:\t0.1347\n",
      "k=1:\t0.0800\n",
      "k=0:\t0.0285\n",
      "cheaper:\t0.0032\n",
      "match:\t0.9968\n",
      "expensive:\t0.0000\n",
      "\n",
      "== Alpha: 2000 ==\n",
      "k=4:\t0.5236\n",
      "k=3:\t0.1787\n",
      "k=2:\t0.1102\n",
      "k=1:\t0.0592\n",
      "k=0:\t0.1282\n",
      "cheaper:\t0.1016\n",
      "match:\t0.8984\n",
      "expensive:\t0.0000\n"
     ]
    }
   ],
   "source": [
    "alphas = np.array([0,1,5,10,100,200,1000,2000])\n",
    "\n",
    "for a in alphas:\n",
    "    st = stats_k(q_max_sel, max_alpha(q_max, a, cost))\n",
    "    print \"\\n== Alpha: %s ==\" % a\n",
    "    print_stats(st)\n",
    "    "
   ]
  },
  {
   "cell_type": "code",
   "execution_count": 61,
   "metadata": {
    "collapsed": false
   },
   "outputs": [
    {
     "name": "stdout",
     "output_type": "stream",
     "text": [
      "k=4:\t\t       0.0\n",
      "k=3:\t\t       0.0\n",
      "k=2:\t\t       0.0\n",
      "k=1:\t\t       0.0\n",
      "k=0:\t\t       1.0\n",
      "cheaper:\t\t  0.971976\n",
      "match:\t\t 0.0280235\n",
      "expensive:\t\t       0.0\n"
     ]
    }
   ],
   "source": [
    "q_max_sraa = compute_q_max('aviation', dataset, vct2, 0.01)"
   ]
  },
  {
   "cell_type": "code",
   "execution_count": null,
   "metadata": {
    "collapsed": true
   },
   "outputs": [],
   "source": []
  }
 ],
 "metadata": {
  "kernelspec": {
   "display_name": "Python 2",
   "language": "python",
   "name": "python2"
  },
  "language_info": {
   "codemirror_mode": {
    "name": "ipython",
    "version": 2
   },
   "file_extension": ".py",
   "mimetype": "text/x-python",
   "name": "python",
   "nbconvert_exporter": "python",
   "pygments_lexer": "ipython2",
   "version": "2.7.9"
  }
 },
 "nbformat": 4,
 "nbformat_minor": 0
}
