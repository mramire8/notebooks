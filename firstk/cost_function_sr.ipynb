{
 "cells": [
  {
   "cell_type": "markdown",
   "metadata": {},
   "source": [
    "# Buiding Cost Function\n",
    "\n",
    "Create a function that returns a locally linear value for the size of sentences based on the user studies annotation time \n",
    "\n"
   ]
  },
  {
   "cell_type": "code",
   "execution_count": 107,
   "metadata": {
    "collapsed": false
   },
   "outputs": [
    {
     "data": {
      "text/plain": [
       "8.1999999999999993"
      ]
     },
     "execution_count": 107,
     "metadata": {},
     "output_type": "execute_result"
    }
   ],
   "source": [
    "import numpy as np\n",
    "# EXample of IMDB \n",
    "kvalues = [10, 25, 50, 75, 100]\n",
    "kv = [ 25, 50, 75, 100]\n",
    "cost = np.array([5.7, 8.2, 10.9, 15.9, 16.7])\n",
    "\n",
    "def fn_bin(val, x, cost):\n",
    "    return min(np.digitize(val, x)[0], len(cost)-1)\n",
    "\n",
    "def fn_cost_inter(val, x, cost):\n",
    "    bin = fn_bin(val, x, cost)\n",
    "    return cost[bin]\n",
    "\n",
    "fn_cost_inter([24], kvalues, cost)"
   ]
  },
  {
   "cell_type": "code",
   "execution_count": 61,
   "metadata": {
    "collapsed": false
   },
   "outputs": [
    {
     "data": {
      "text/plain": [
       "array([2], dtype=int64)"
      ]
     },
     "execution_count": 61,
     "metadata": {},
     "output_type": "execute_result"
    }
   ],
   "source": [
    "np.digitize([5], [1,3,6,9])"
   ]
  },
  {
   "cell_type": "code",
   "execution_count": 62,
   "metadata": {
    "collapsed": false
   },
   "outputs": [
    {
     "data": {
      "text/plain": [
       "array([17, 37, 62, 87])"
      ]
     },
     "execution_count": 62,
     "metadata": {},
     "output_type": "execute_result"
    }
   ],
   "source": [
    "np.array(kvalues[:-1]) + (np.array(kv) - np.array(kvalues[:-1]))/2"
   ]
  },
  {
   "cell_type": "code",
   "execution_count": 106,
   "metadata": {
    "collapsed": false
   },
   "outputs": [
    {
     "data": {
      "text/plain": [
       "[<matplotlib.lines.Line2D at 0x1664bf98>]"
      ]
     },
     "execution_count": 106,
     "metadata": {},
     "output_type": "execute_result"
    },
    {
     "data": {
      "image/png": "[encoded data removed]",
      "text/plain": [
       "<matplotlib.figure.Figure at 0x1664bfd0>"
      ]
     },
     "metadata": {},
     "output_type": "display_data"
    }
   ],
   "source": [
    "%matplotlib inline\n",
    "\n",
    "import matplotlib.pyplot as plt\n",
    "import matplotlib as mpl\n",
    "\n",
    "plt.plot(kvalues, cost, 'b^')\n",
    "plt.plot([17, 37, 62, 87,100], cost, 'ro')"
   ]
  },
  {
   "cell_type": "code",
   "execution_count": 108,
   "metadata": {
    "collapsed": false
   },
   "outputs": [
    {
     "data": {
      "text/plain": [
       "[<matplotlib.lines.Line2D at 0x17d1fb00>]"
      ]
     },
     "execution_count": 108,
     "metadata": {},
     "output_type": "execute_result"
    },
    {
     "data": {
      "image/png": "[encoded data removed]",
      "text/plain": [
       "<matplotlib.figure.Figure at 0x17cedbe0>"
      ]
     },
     "metadata": {},
     "output_type": "display_data"
    }
   ],
   "source": [
    "def fn_cost(x, fn=None, kvalues=None, cost=None):\n",
    "    out = [fn([xx], kvalues, cost) for xx in x]\n",
    "    return out\n",
    "\n",
    "y = fn_cost(np.arange(0,120,1),fn=fn_cost_inter, kvalues=kvalues, cost=cost)\n",
    "plt.plot(kvalues, cost, 'b^')\n",
    "plt.plot(np.arange(0,120,1),y)\n",
    "y = fn_cost(np.arange(0,120,1),fn=fn_cost_inter, kvalues=[17, 37, 62, 87,100], cost=cost)\n",
    "plt.plot(np.arange(0,120,1),y)\n"
   ]
  },
  {
   "cell_type": "code",
   "execution_count": 85,
   "metadata": {
    "collapsed": false
   },
   "outputs": [
    {
     "name": "stdout",
     "output_type": "stream",
     "text": [
      "Slope: 0.032, intercpet: 13.5, r-value: 1.0, p_value:nan, std:inf\n"
     ]
    },
    {
     "name": "stderr",
     "output_type": "stream",
     "text": [
      "C:\\Python27\\lib\\site-packages\\scipy\\stats\\stats.py:3029: RuntimeWarning: divide by zero encountered in double_scalars\n",
      "  sterrest = np.sqrt((1-r*r)*ssym / ssxm / df)\n"
     ]
    }
   ],
   "source": [
    "from scipy import stats\n",
    "\n",
    "slope, intercept, r_value, p_value, std_err = stats.linregress(np.array(kvalues)[[3,4]], cost[[3,4]])\n",
    "\n",
    "print \"Slope: %s, intercpet: %s, r-value: %s, p_value:%s, std:%s\" % (slope, intercept, r_value, p_value, std_err)"
   ]
  },
  {
   "cell_type": "code",
   "execution_count": 118,
   "metadata": {
    "collapsed": false
   },
   "outputs": [
    {
     "name": "stdout",
     "output_type": "stream",
     "text": [
      "[  5.7   8.2  10.9  15.9  16.7]\n",
      "[10, 25, 50, 75, 100]\n",
      "[ 0.16666667  0.108       0.2         0.032     ]\n",
      "[4.0333333333333341, 5.4999999999999982, 0.90000000000000036, 13.500000000000004]\n"
     ]
    }
   ],
   "source": [
    "print cost\n",
    "print kvalues \n",
    "m = np.diff(np.array(cost)) / np.diff(np.array(kvalues))\n",
    "print m \n",
    "b = [x[1]-m[i]*x[0] for i, x in enumerate(zip(kvalues[:-1], cost[:-1]))]\n",
    "\n",
    "print b\n",
    "\n"
   ]
  },
  {
   "cell_type": "code",
   "execution_count": 140,
   "metadata": {
    "collapsed": false
   },
   "outputs": [],
   "source": [
    "def interpolated(x, kv, cost):\n",
    "    res = []\n",
    "    for a in x:\n",
    "        y = fn_bin([a], kvalues, cost)\n",
    "        if y < (len(m)):\n",
    "            res.append(b[y] + m[y] * a)\n",
    "        else:\n",
    "            res.append(cost[y])\n",
    "            \n",
    "    return res\n",
    "\n",
    "interp = interpolated(np.arange(0,120,1), kvalues, cost)"
   ]
  },
  {
   "cell_type": "code",
   "execution_count": 189,
   "metadata": {
    "collapsed": false
   },
   "outputs": [
    {
     "name": "stdout",
     "output_type": "stream",
     "text": [
      "5.7\n"
     ]
    },
    {
     "name": "stderr",
     "output_type": "stream",
     "text": [
      "C:\\Python27\\lib\\site-packages\\IPython\\kernel\\__main__.py:12: RuntimeWarning: invalid value encountered in double_scalars\n"
     ]
    }
   ],
   "source": [
    "def fn_int(x, cost, kvalues):\n",
    "    \n",
    "    binx = min(np.digitize([x], kvalues)[0], len(cost)-1)\n",
    "    lbbinx = max(binx-1, 0) \n",
    "#     print binx, lbbinx\n",
    "    y1 = cost[lbbinx] if lbbinx>=0  else 0\n",
    "    y2 = cost[binx]\n",
    "    x1 = kvalues[lbbinx] if lbbinx >=0 else 0\n",
    "    x2 = kvalues[binx]\n",
    "#     print x1,x2,y1,y2\n",
    "    \n",
    "    m = (y2-y1) / (x2-x1)\n",
    "    b = y2 - m * x2\n",
    "    \n",
    "    if x < kvalues[0]:\n",
    "        y = cost[0]\n",
    "    elif x > kvalues[-1] :\n",
    "        y = cost[-1]\n",
    "    else:\n",
    "        y = (m * x) + b\n",
    "    return y\n",
    "\n",
    "print fn_int(0, cost, kvalues)"
   ]
  },
  {
   "cell_type": "code",
   "execution_count": 163,
   "metadata": {
    "collapsed": false
   },
   "outputs": [
    {
     "name": "stdout",
     "output_type": "stream",
     "text": [
      "[10, 25, 50, 75, 100]\n",
      "[  5.7   8.2  10.9  15.9  16.7]\n",
      "[3.2799999999999994, 3.6079999999999997, 3.9359999999999995, 4.2639999999999993, 4.5919999999999996, 4.919999999999999, 5.2479999999999993, 5.5759999999999996, 5.903999999999999, 6.2319999999999993, 6.5599999999999987, 6.887999999999999, 7.2159999999999993, 7.5439999999999987, 7.871999999999999, 8.1999999999999993]\n"
     ]
    }
   ],
   "source": [
    "print kvalues\n",
    "print cost\n",
    "print [fn_int(xx, cost, kvalues) for xx in range(10,26,1)]"
   ]
  },
  {
   "cell_type": "code",
   "execution_count": 192,
   "metadata": {
    "collapsed": false
   },
   "outputs": [
    {
     "name": "stderr",
     "output_type": "stream",
     "text": [
      "C:\\Python27\\lib\\site-packages\\IPython\\kernel\\__main__.py:12: RuntimeWarning: invalid value encountered in double_scalars\n"
     ]
    },
    {
     "data": {
      "text/plain": [
       "[<matplotlib.lines.Line2D at 0x1a4ebbe0>]"
      ]
     },
     "execution_count": 192,
     "metadata": {},
     "output_type": "execute_result"
    },
    {
     "data": {
      "image/png": "[encoded data removed]",
      "text/plain": [
       "<matplotlib.figure.Figure at 0x1a2a5a90>"
      ]
     },
     "metadata": {},
     "output_type": "display_data"
    }
   ],
   "source": [
    "y = fn_cost(np.arange(0,120,1),fn=fn_cost_inter, kvalues=kvalues, cost=cost)\n",
    "plt.plot(kvalues, cost, 'b^')\n",
    "plt.plot(np.arange(0,120,1),y)\n",
    "# y = fn_cost(np.arange(0,120,1),fn=fn_cost_inter, kvalues=[17, 37, 62, 87,100], cost=cost)\n",
    "# plt.plot(np.arange(0,120,1),y)\n",
    "plt.plot(np.arange(0,120,1), [fn_int(xx, cost, kvalues) for xx in range(0,120,1)], 'o')"
   ]
  },
  {
   "cell_type": "markdown",
   "metadata": {},
   "source": [
    "# Quantify Q+ and Q- on Documents\n",
    "\n",
    "How many times, how common is to have sentiment of both classes in one document\n",
    "How common it is to pick pos and negative when k=2"
   ]
  },
  {
   "cell_type": "code",
   "execution_count": 103,
   "metadata": {
    "collapsed": true
   },
   "outputs": [],
   "source": [
    "import sys\n",
    "import os\n",
    "sys.path.append(os.path.abspath('C:/cygwin/home/mramire8/python_code/sr/active'))\n",
    "sys.path.append(os.path.abspath('/Users/maru/MyCode/sr/active'))\n",
    "\n",
    "from sklearn import linear_model\n",
    "\n",
    "from datautil.textutils import StemTokenizer\n",
    "from datautil.load_data import *\n",
    "\n",
    "from time import time\n",
    "import pickle\n",
    "\n",
    "mpl.style.use('bmh')\n",
    "\n",
    "## Get the data ready\n",
    "imdb_path = 'C:/Users/mramire8/Documents/Research/Oracle confidence and Interruption/dataset/aclImdb/raw-data'\n",
    "# imdb_path = '/Users/maru/MyCode/data/imdb'\n",
    "\n",
    "categories = [['alt.atheism', 'talk.religion.misc'],\n",
    "              ['comp.graphics', 'comp.windows.x'],\n",
    "              ['comp.os.ms-windows.misc', 'comp.sys.ibm.pc.hardware'],\n",
    "              ['rec.sport.baseball', 'sci.crypt']]\n",
    "\n",
    "vct = CountVectorizer(encoding='latin-1', min_df=5, max_df=1.0, binary=True, ngram_range=(1, 3),\n",
    "                      token_pattern='\\\\b\\\\w+\\\\b', tokenizer=StemTokenizer())\n",
    "\n"
   ]
  },
  {
   "cell_type": "code",
   "execution_count": 194,
   "metadata": {
    "collapsed": false
   },
   "outputs": [],
   "source": [
    "\n",
    "imdb = load_dataset(\"imdb\", 100, categories[0], vct, 100, raw=True,  percent=.5, keep_subject=True)\n",
    "# sraa = load_dataset(\"aviation\", 100, categories[0], vct2, 100, raw=True,  percent=.5, keep_subject=True)\n",
    "\n",
    "# data = load_dataset('imdb', None, categories[0], vct, 100, percent=.5, keep_subject=True)\n"
   ]
  },
  {
   "cell_type": "code",
   "execution_count": 197,
   "metadata": {
    "collapsed": false
   },
   "outputs": [],
   "source": [
    "imdb.train.bow = vct.fit_transform(imdb.train.data)"
   ]
  },
  {
   "cell_type": "code",
   "execution_count": 199,
   "metadata": {
    "collapsed": false
   },
   "outputs": [
    {
     "data": {
      "text/plain": [
       "LogisticRegression(C=0.3, class_weight=None, dual=False, fit_intercept=True,\n",
       "          intercept_scaling=1, max_iter=100, multi_class='ovr',\n",
       "          penalty='l1', random_state=None, solver='liblinear', tol=0.0001,\n",
       "          verbose=0)"
      ]
     },
     "execution_count": 199,
     "metadata": {},
     "output_type": "execute_result"
    }
   ],
   "source": [
    "oracle = linear_model.LogisticRegression(penalty='l1', C=0.3)\n",
    "oracle.fit(imdb.train.bow, imdb.train.target)"
   ]
  },
  {
   "cell_type": "code",
   "execution_count": 200,
   "metadata": {
    "collapsed": true
   },
   "outputs": [],
   "source": [
    "imdb.test.bow = vct.transform(imdb.test.data)"
   ]
  },
  {
   "cell_type": "code",
   "execution_count": 209,
   "metadata": {
    "collapsed": false
   },
   "outputs": [
    {
     "name": "stdout",
     "output_type": "stream",
     "text": [
      "[array([[1, 0],\n",
      "       [0, 1]], dtype=int64), array([[1, 0],\n",
      "       [1, 0]], dtype=int64), array([[0, 1],\n",
      "       [1, 0]], dtype=int64), array([[1, 0],\n",
      "       [0, 1]], dtype=int64), array([[1, 0],\n",
      "       [0, 1]], dtype=int64)] [array([[[ 0.59287696,  0.40712304],\n",
      "        [ 0.83494726,  0.16505274]],\n",
      "\n",
      "       [[ 0.83494726,  0.16505274],\n",
      "        [ 0.59287696,  0.40712304]]]), array([[[ 0.62837689,  0.37162311],\n",
      "        [ 0.39915111,  0.60084889]],\n",
      "\n",
      "       [[ 0.62837689,  0.37162311],\n",
      "        [ 0.39915111,  0.60084889]]]), array([[[ 0.53578038,  0.46421962],\n",
      "        [ 0.66122826,  0.33877174]],\n",
      "\n",
      "       [[ 0.66122826,  0.33877174],\n",
      "        [ 0.53578038,  0.46421962]]]), array([[[ 0.22941931,  0.77058069],\n",
      "        [ 0.43768467,  0.56231533]],\n",
      "\n",
      "       [[ 0.43768467,  0.56231533],\n",
      "        [ 0.22941931,  0.77058069]]]), array([[[ 0.34212943,  0.65787057],\n",
      "        [ 0.49815433,  0.50184567]],\n",
      "\n",
      "       [[ 0.49815433,  0.50184567],\n",
      "        [ 0.34212943,  0.65787057]]])] [array([[False, False],\n",
      "       [False, False]], dtype=bool), array([[False, False],\n",
      "       [False, False]], dtype=bool), array([[False, False],\n",
      "       [False, False]], dtype=bool), array([[False, False],\n",
      "       [False, False]], dtype=bool), array([[False, False],\n",
      "       [False, False]], dtype=bool)]\n"
     ]
    }
   ],
   "source": [
    "import nltk\n",
    "\n",
    "def test_qmax(k, data, ora, vct):\n",
    "    sent_tk = nltk.data.load('tokenizers/punkt/english.pickle')\n",
    "    d_sent = sent_tk.tokenize_sents(data.data[:5])\n",
    "    d_q = []\n",
    "    d_max = []\n",
    "    counts = []\n",
    "    for sents in d_sent:\n",
    "        bow = vct.transform(sents)\n",
    "        probs = ora.predict_proba(bow)\n",
    "        \n",
    "        top = probs.argsort()[::-1][:k]\n",
    "        d_max.append(top)\n",
    "        d_q.append(probs[top])\n",
    "        cls = probs[top] >0.5\n",
    "        counts.append(cls[0] != cls[1])\n",
    "    return d_max, d_q, counts\n",
    "\n",
    "dm, dq, cts = test_qmax(2, imdb.test, oracle, vct )\n",
    "print dm, dq, cts\n"
   ]
  },
  {
   "cell_type": "code",
   "execution_count": 214,
   "metadata": {
    "collapsed": false
   },
   "outputs": [
    {
     "name": "stdout",
     "output_type": "stream",
     "text": [
      "(2L, 2L)\n"
     ]
    }
   ],
   "source": [
    "print dm[0].shape"
   ]
  },
  {
   "cell_type": "code",
   "execution_count": 225,
   "metadata": {
    "collapsed": false
   },
   "outputs": [
    {
     "data": {
      "text/plain": [
       "['uno, dos.', 'tres, cuatro', 'uno, dos.-tres, cuatro']"
      ]
     },
     "execution_count": 225,
     "metadata": {},
     "output_type": "execute_result"
    }
   ],
   "source": [
    "def get_sentences_k(sentences, k):\n",
    "    import itertools as it\n",
    "    \n",
    "    all_sents = []\n",
    "    for i in range(1,k+1):\n",
    "        pairs = it.combinations(sentences, i)\n",
    "        all_sents.extend([\"-\".join(p) for p in pairs])\n",
    "    return all_sents\n",
    "\n",
    "def get_sentences(doc, k):\n",
    "    sent_tk = nltk.data.load('tokenizers/punkt/english.pickle')\n",
    "    d_sent = sent_tk.tokenize_sents([doc])\n",
    "    return get_sentences_k(d_sent[0], k)\n",
    "\n",
    "get_sentences('uno, dos. tres, cuatro', 3)"
   ]
  },
  {
   "cell_type": "code",
   "execution_count": 222,
   "metadata": {
    "collapsed": false
   },
   "outputs": [
    {
     "data": {
      "text/plain": [
       "[['uno.', 'dos.', 'tres.', 'cuatro.']]"
      ]
     },
     "execution_count": 222,
     "metadata": {},
     "output_type": "execute_result"
    }
   ],
   "source": [
    "sent_tk = nltk.data.load('tokenizers/punkt/english.pickle')\n",
    "sent_tk.tokenize_sents(['uno. dos. tres. cuatro.'])"
   ]
  },
  {
   "cell_type": "markdown",
   "metadata": {},
   "source": [
    "# Extrapolating Cost on X-axis\n",
    "\n"
   ]
  },
  {
   "cell_type": "code",
   "execution_count": 280,
   "metadata": {
    "collapsed": false
   },
   "outputs": [
    {
     "name": "stdout",
     "output_type": "stream",
     "text": [
      "1.0 82.0\n",
      "TRIAL 0\n",
      "Poinst:0\n",
      "True <= True <= True \n",
      "a1:0.7,m:0.0\n",
      "82.0,z:0.7\n",
      "Poinst:0\n",
      "True <= True <= True \n",
      "a1:0.7,m:0.05\n",
      "164.0,z:0.75\n",
      "Poinst:1\n",
      "True <= True <= True \n",
      "a1:0.75,m:0.07\n",
      "246.0,z:0.82\n",
      "2.0 82.0\n",
      "TRIAL 1\n",
      "Poinst:0\n",
      "True <= True <= True \n",
      "a1:0.65,m:0.0736363636364\n",
      "164.0,z:0.723636363636\n",
      "Poinst:1\n",
      "True <= False <= False \n",
      "1.0 82.0\n",
      "TRIAL 2\n",
      "Poinst:0\n",
      "True <= True <= True \n",
      "a1:0.7,m:0.00888888888889\n",
      "82.0,z:0.708888888889\n",
      "Poinst:1\n",
      "True <= True <= True \n",
      "a1:0.78,m:0.00428571428571\n",
      "164.0,z:0.784285714286\n",
      "Poinst:1\n",
      "True <= True <= True \n",
      "a1:0.78,m:0.0257142857143\n",
      "246.0,z:0.805714285714\n"
     ]
    }
   ],
   "source": [
    "def extrapolate_trials(trials, cost_25=8.2, step_size=10):\n",
    "    from collections import defaultdict\n",
    "    cost_delta = cost_25 * step_size  # Cost of 25 words based on user study\n",
    "\n",
    "    extrapolated = defaultdict(lambda: [])\n",
    "\n",
    "    for t, data in enumerate(trials):\n",
    "        # print(\"j:%s\" % j)\n",
    "        trial_data = np.array(data)\n",
    "        # print trial_data\n",
    "        i = 0\n",
    "        current_c = np.ceil(trial_data[0, 0] / cost_delta) * cost_delta\n",
    "        print np.ceil(trial_data[0, 0]/ cost_delta), cost_delta\n",
    "        # print \"starting at %s ending at %s\" % (current_c, trial_data.shape[0])\n",
    "        print \"TRIAL %s\" % (t)\n",
    "        while i < trial_data.shape[0] - 1:  # while reaching end of rows\n",
    "            print \"Poinst:%s\" % i\n",
    "            a = trial_data[i]\n",
    "            a1 = trial_data[i + 1]\n",
    "#             print(\"P1:{0}\\t{2}\\tP2{1}\".format(a,a1,current_c))\n",
    "            print \"%s <= %s <= %s \" % (a[0] <= current_c , current_c <=a1[0], a[0] <= current_c <= a1[0])\n",
    "            if a[0] <= current_c <= a1[0]:\n",
    "                m = (a1[1] - a[1]) / (a1[0] - a[0]) * (current_c - a[0])\n",
    "                z = m + a[1]\n",
    "                extrapolated[current_c].append((t, z))\n",
    "                # np.append(extrapolated, [current_c,z])\n",
    "                print(\"a1:{0},m:{1}\".format(a[1], m))\n",
    "                print(\"{0},z:{1}\".format(current_c,z))\n",
    "                current_c += cost_delta\n",
    "            if a1[0] < current_c:\n",
    "                i += 1\n",
    "\n",
    "    return extrapolated\n",
    "\n",
    "xt= extrapolate_trials([[[10*8.2,.7],[20*8.2,.75],[246,.82]],[[11*8.2,.65],[22*8.2,.74],[28*8.2,.85]],[[9*8.2,.7],[18*8.2,.78],[32*8.2,.81]]])"
   ]
  },
  {
   "cell_type": "code",
   "execution_count": 281,
   "metadata": {
    "collapsed": false
   },
   "outputs": [
    {
     "name": "stdout",
     "output_type": "stream",
     "text": [
      "82.0 - [(0, 0.69999999999999996), (2, 0.7088888888888889)] - 0.852222222222\n",
      "164.0 - [(0, 0.75), (1, 0.72363636363636363), (2, 0.78428571428571436)] - 0.87632034632\n",
      "246.0 - [(0, 0.81999999999999995), (2, 0.80571428571428572)] - 0.906428571429\n"
     ]
    }
   ],
   "source": [
    "print \"\\n\".join(\"{} - {} - {}\".format(k,v, np.mean(v)) for k,v in xt.items())\n"
   ]
  },
  {
   "cell_type": "code",
   "execution_count": 237,
   "metadata": {
    "collapsed": false
   },
   "outputs": [
    {
     "name": "stdout",
     "output_type": "stream",
     "text": [
      "[82.0, 164.0, 245.99999999999997]\n"
     ]
    }
   ],
   "source": [
    "print [8.2 * i for i in range(10,31,10)]"
   ]
  },
  {
   "cell_type": "code",
   "execution_count": null,
   "metadata": {
    "collapsed": true
   },
   "outputs": [],
   "source": []
  }
 ],
 "metadata": {
  "kernelspec": {
   "display_name": "Python 2",
   "language": "python",
   "name": "python2"
  },
  "language_info": {
   "codemirror_mode": {
    "name": "ipython",
    "version": 2
   },
   "file_extension": ".py",
   "mimetype": "text/x-python",
   "name": "python",
   "nbconvert_exporter": "python",
   "pygments_lexer": "ipython2",
   "version": "2.7.9"
  }
 },
 "nbformat": 4,
 "nbformat_minor": 0
}
