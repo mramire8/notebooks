{
 "metadata": {
  "name": "",
  "signature": "sha256:3b5cbbdeb9948ad69591fb3e12cf83dab17dab988bf5abac05ae6eb30d14befa"
 },
 "nbformat": 3,
 "nbformat_minor": 0,
 "worksheets": [
  {
   "cells": [
    {
     "cell_type": "code",
     "collapsed": false,
     "input": [
      "import sys\n",
      "import os\n",
      "sys.path.append(os.path.abspath('C:/cygwin/home/mramire8/python_code/structured'))\n",
      "sys.path.append(os.path.abspath('/Users/maru/MyCode/structured'))\n",
      "import utilities.experimentutils as exputil\n",
      "import learner\n",
      "import utilities.datautils as datautil\n",
      "import numpy as np\n",
      "import experiment.base as exp\n",
      "import nltk\n",
      "from sklearn import metrics\n"
     ],
     "language": "python",
     "metadata": {},
     "outputs": [],
     "prompt_number": 1
    },
    {
     "cell_type": "code",
     "collapsed": false,
     "input": [
      "## Get the data ready\n",
      "imdb_path = 'C:/Users/mramire8/Documents/Research/Oracle confidence and Interruption/dataset/aclImdb/raw-data'\n",
      "imdb_path = '/Users/maru/MyCode/data/imdb'\n",
      "\n",
      "rnd = np.random.RandomState(2345)\n",
      "clf = exputil.get_classifier('lrl2',parameter=1)\n",
      "expert = exputil.get_classifier('lrl2',parameter=1)\n",
      "vct = exputil.get_vectorizer({'vectorizer':\"tfidf\", 'limit':None, 'min_size':None})\n",
      "data = datautil.load_dataset('imdb', imdb_path, categories=None, rnd=5463, shuffle=True)\n",
      "data.train.data = np.array(data.train.data, dtype=object)\n",
      "data.test.data = np.array(data.test.data, dtype=object)\n",
      "data.train.bow = vct.fit_transform(data.train.data)\n",
      "data.test.bow = vct.transform(data.test.data)\n",
      "\n"
     ],
     "language": "python",
     "metadata": {},
     "outputs": [],
     "prompt_number": 2
    },
    {
     "cell_type": "code",
     "collapsed": false,
     "input": [
      "#Train the expert\n",
      "expert = exputil.get_classifier('lrl2',parameter=1)\n",
      "expert.fit(data.train.bow, data.train.target)\n"
     ],
     "language": "python",
     "metadata": {},
     "outputs": [
      {
       "metadata": {},
       "output_type": "pyout",
       "prompt_number": 3,
       "text": [
        "LogisticRegression(C=1, class_weight=None, dual=False, fit_intercept=True,\n",
        "          intercept_scaling=1, penalty='l2', random_state=None, tol=0.0001)"
       ]
      }
     ],
     "prompt_number": 3
    },
    {
     "cell_type": "code",
     "collapsed": false,
     "input": [
      "## Select N random documents from the test\n",
      "n = 1000\n",
      "rnd = np.random.RandomState(2345)\n",
      "# rnd_docs = rnd.choice(len(data.test.target), size = n, replace = False)\n",
      "# Select the bootstrap.\n",
      "data.train.remaining = rnd.permutation(len(data.train.target))\n"
     ],
     "language": "python",
     "metadata": {},
     "outputs": [],
     "prompt_number": 4
    },
    {
     "cell_type": "code",
     "collapsed": false,
     "input": [
      "# Initialize and fit the expert.\n",
      "expert = exputil.get_classifier('lrl2',parameter=1)\n",
      "expert.fit(data.train.bow, data.train.target)"
     ],
     "language": "python",
     "metadata": {},
     "outputs": [
      {
       "metadata": {},
       "output_type": "pyout",
       "prompt_number": 5,
       "text": [
        "LogisticRegression(C=1, class_weight=None, dual=False, fit_intercept=True,\n",
        "          intercept_scaling=1, penalty='l2', random_state=None, tol=0.0001)"
       ]
      }
     ],
     "prompt_number": 5
    },
    {
     "cell_type": "code",
     "collapsed": false,
     "input": [
      " \n",
      "# Author : Alexandre Gramfort\n",
      "# license : BSD\n",
      " \n",
      " \n",
      "def pav(y):\n",
      "    \"\"\"\n",
      "    PAV uses the pair adjacent violators method to produce a monotonic\n",
      "    smoothing of y\n",
      "\n",
      "    translated from matlab by Sean Collins (2006) as part of the EMAP toolbox\n",
      "    \"\"\"\n",
      "    y = np.asarray(y)\n",
      "    assert y.ndim == 1\n",
      "    n_samples = len(y)\n",
      "    v = y.copy()\n",
      "    lvls = np.arange(n_samples)\n",
      "    lvlsets = np.c_[lvls, lvls]\n",
      "    flag = 1\n",
      "    while flag:\n",
      "        deriv = np.diff(v)\n",
      "        if np.all(deriv >= 0):\n",
      "            break\n",
      " \n",
      "        viol = np.where(deriv < 0)[0]\n",
      "        start = lvlsets[viol[0], 0]\n",
      "        last = lvlsets[viol[0] + 1, 1]\n",
      "        s = 0\n",
      "        n = last - start + 1\n",
      "        for i in range(start, last + 1):\n",
      "            s += v[i]\n",
      " \n",
      "        val = s / n\n",
      "        for i in range(start, last + 1):\n",
      "            v[i] = val\n",
      "            lvlsets[i, 0] = start\n",
      "            lvlsets[i, 1] = last\n",
      "    return v\n",
      "\n",
      "def reshape_scores(scores, sent_len):\n",
      "    \"\"\"\n",
      "    Reshape scores to have the same structure as the list of list sent_mat\n",
      "    :param scores: one dimensional array of scores\n",
      "    :param sent_mat: list of lists\n",
      "    :return: narray : reshaped scores\n",
      "    \"\"\"\n",
      "    sr = []\n",
      "    i = 0\n",
      "    lengths = sent_len.copy()\n",
      "    lengths = lengths.cumsum()\n",
      "    for j in lengths:\n",
      "        sr.append(scores[i:j])\n",
      "        i = j\n",
      "    return sr\n",
      "\n",
      "def pav_calibrate(scores, y_pred):\n",
      "    # y0\n",
      "    _scores = np.array(scores)\n",
      "    _scores[y_pred == 1] = scores[y_pred == 1]\n",
      "    _scores[y_pred == 2] = 1. - scores[y_pred == 2]\n",
      "    pav_scores = _scores.copy()\n",
      "    idx = np.nonzero(y_pred)\n",
      "    pav_scores = pav_scores[idx]\n",
      "    order = pav_scores.argsort()[::-1]\n",
      "    pav_scores[order] = pav(pav_scores)\n",
      "    _scores[idx] = pav_scores\n",
      "    return _scores\n",
      "\n"
     ],
     "language": "python",
     "metadata": {},
     "outputs": [],
     "prompt_number": 6
    },
    {
     "cell_type": "code",
     "collapsed": false,
     "input": [
      "## Set the learner options \n",
      "sent_tk = nltk.data.load('tokenizers/punkt/english.pickle')\n",
      "st = learner.strategy.StructuredLearner(clf)\n",
      "st.set_sent_tokenizer(sent_tk)\n",
      "st.set_vct(vct)\n",
      "st.set_snippet_utility('sr')\n",
      "st.set_calibration_method(\"_no_calibrate\")\n",
      "\n"
     ],
     "language": "python",
     "metadata": {},
     "outputs": [],
     "prompt_number": 7
    },
    {
     "cell_type": "code",
     "collapsed": false,
     "input": [
      "def print_distr(cm):\n",
      "    return \"\\t\".join([str(c) for c in cm.sum(0)])\n",
      "\n",
      "def print_cm(cm):\n",
      "    return \"\\n\".join([\"{}\\t{}\".format(*r) for r in cm])\n"
     ],
     "language": "python",
     "metadata": {},
     "outputs": [
      {
       "output_type": "stream",
       "stream": "stdout",
       "text": [
        "\n"
       ]
      }
     ],
     "prompt_number": 18
    },
    {
     "cell_type": "code",
     "collapsed": false,
     "input": [
      "num_trials = 5\n",
      "\n",
      "#Get random document for testing (will not change over time)\n",
      "test_idx = rnd.permutation(len(data.test.target))\n",
      "n_test = 1000\n",
      "\n",
      "sentences = sent_tk.tokenize_sents(data.test.data[test_idx[:n_test]])\n",
      "test_true = data.test.target[test_idx[:n_test]]\n",
      "test_text = data.test.data[test_idx[:n_test]]\n",
      "sent_len = np.array([len(s) for s in sentences])\n",
      "\n",
      "print \"Test Set\"\n",
      "print \"Total Documents\", sent_len.shape[0]\n",
      "print \"Total sentences:\", sent_len.sum()\n",
      "\n",
      "for t in range(num_trials):\n",
      "    train_idx = rnd.choice(data.train.remaining, 200, replace=False)\n",
      "\n",
      "    print \"-\" * 40\n",
      "    print \"Trial \", t\n",
      "    print \n",
      "    #replace the calibration method of the student\n",
      "    st._do_calibration = pav_calibrate\n",
      "    \n",
      "    # Train a student on rnadom docs\n",
      "    st.fit(data.train.bow[train_idx], data.train.target[train_idx], doc_text=data.train.data[train_idx])\n",
      "    ## compute the max scoring snippet (with calibration)\n",
      "    _, snippet_text = st._compute_snippet(test_text)\n",
      "    \n",
      "    cms = np.zeros((2,2))\n",
      "    cme = np.zeros((2,2))\n",
      "    \n",
      "    for i, idx in enumerate(test_idx[:n_test]):\n",
      "        doc_i = []\n",
      "        bow = vct.transform(sentences[i])\n",
      "        pred = st.snippet_model.predict(bow)\n",
      "        exp_pred = expert.predict(bow)\n",
      "        true = [test_true[i]]*sent_len[i]\n",
      "        cms += metrics.confusion_matrix(true, pred)\n",
      "\n",
      "        cme += metrics.confusion_matrix(true, exp_pred)\n",
      "        \n",
      "    print \"\\nAll sentences\"\n",
      "    print \"Num sentences:\", sent_len[i]\n",
      "#     print \"Student CM:\", print_cm(cms)\n",
      "    print \"St. distr :\", print_distr(cms)\n",
      "    print \"St. accu: %.3f\" % metrics.accuracy_score(true, pred)\n",
      "#     print \"Expert  CM:\", print_cm(cme)\n",
      "    print \"Exp. distr:\", print_distr(cme)\n",
      "    print \"Exp. accu: %.3f\" % metrics.accuracy_score(true, exp_pred)\n",
      "    \n",
      "    bow = vct.transform(snippet_text)\n",
      "    pred = st.snippet_model.predict(bow)\n",
      "    exp_pred = expert.predict(bow)\n",
      "    cms = metrics.confusion_matrix(test_true, pred)\n",
      "    cme = metrics.confusion_matrix(test_true, exp_pred)\n",
      "    \n",
      "    print \"\\nSelected Sentences\"\n",
      "    print \"Num sentences:\", len(snippet_text)\n",
      "#     print \"Student CM:\\n\", print_cm(cms)\n",
      "    print \"St. distr :\", print_distr(cms)\n",
      "    print \"St. accu: %.3f\" % metrics.accuracy_score(test_true, pred)\n",
      "#     print \"Expert  CM:\\n\", print_cm(cme)\n",
      "    print \"Exp. distr:\", print_distr(cme)\n",
      "    print \"Exp. accu: %.3f\" % metrics.accuracy_score(test_true, exp_pred)\n",
      "\n",
      "    "
     ],
     "language": "python",
     "metadata": {},
     "outputs": [
      {
       "output_type": "stream",
       "stream": "stdout",
       "text": [
        "Test Set\n",
        "Total Documents 1000\n",
        "Total sentences: 10411\n",
        "----------------------------------------\n",
        "Trial  0\n",
        "\n",
        "\n",
        "Selected Sentences"
       ]
      },
      {
       "output_type": "stream",
       "stream": "stdout",
       "text": [
        "\n",
        "Num sentences: 1000\n",
        "Student CM:\n",
        "113\t381\n",
        "37\t469\n",
        "St. distr : 150\t850\n",
        "St. accu: 0.582\n",
        "Expert  CM:\n",
        "281\t213\n",
        "68\t438\n",
        "Exp. distr: 349\t651\n",
        "Exp. accu: 0.719\n",
        "----------------------------------------\n",
        "Trial  1\n",
        "\n",
        "\n",
        "Selected Sentences"
       ]
      },
      {
       "output_type": "stream",
       "stream": "stdout",
       "text": [
        "\n",
        "Num sentences: 1000\n",
        "Student CM:\n",
        "87\t407\n",
        "16\t490\n",
        "St. distr : 103\t897\n",
        "St. accu: 0.577\n",
        "Expert  CM:\n",
        "267\t227\n",
        "72\t434\n",
        "Exp. distr: 339\t661\n",
        "Exp. accu: 0.701\n",
        "----------------------------------------\n",
        "Trial  2\n",
        "\n",
        "\n",
        "Selected Sentences"
       ]
      },
      {
       "output_type": "stream",
       "stream": "stdout",
       "text": [
        "\n",
        "Num sentences: 1000\n",
        "Student CM:\n",
        "92\t402\n",
        "10\t496\n",
        "St. distr : 102\t898\n",
        "St. accu: 0.588\n",
        "Expert  CM:\n",
        "259\t235\n",
        "66\t440\n",
        "Exp. distr: 325\t675\n",
        "Exp. accu: 0.699\n",
        "----------------------------------------\n",
        "Trial  3\n",
        "\n",
        "\n",
        "Selected Sentences"
       ]
      },
      {
       "output_type": "stream",
       "stream": "stdout",
       "text": [
        "\n",
        "Num sentences: 1000\n",
        "Student CM:\n",
        "145\t349\n",
        "34\t472\n",
        "St. distr : 179\t821\n",
        "St. accu: 0.617\n",
        "Expert  CM:\n",
        "261\t233\n",
        "64\t442\n",
        "Exp. distr: 325\t675\n",
        "Exp. accu: 0.703\n",
        "----------------------------------------\n",
        "Trial  4\n",
        "\n",
        "\n",
        "Selected Sentences"
       ]
      },
      {
       "output_type": "stream",
       "stream": "stdout",
       "text": [
        "\n",
        "Num sentences: 1000\n",
        "Student CM:\n",
        "148\t346\n",
        "35\t471\n",
        "St. distr : 183\t817\n",
        "St. accu: 0.619\n",
        "Expert  CM:\n",
        "266\t228\n",
        "62\t444\n",
        "Exp. distr: 328\t672\n",
        "Exp. accu: 0.710\n"
       ]
      }
     ],
     "prompt_number": 19
    },
    {
     "cell_type": "code",
     "collapsed": false,
     "input": [
      "y0 = st.model.predict_proba(bow)\n",
      "y0_lbl = st.model.predict(bow)\n",
      "order = y0[:,0].argsort()\n",
      "y0_ord = y0[:,0][order]\n",
      "p = pav(y0_ord)"
     ],
     "language": "python",
     "metadata": {},
     "outputs": [],
     "prompt_number": 71
    },
    {
     "cell_type": "code",
     "collapsed": false,
     "input": [
      "import matplotlib.pyplot as plt\n",
      "from sklearn.isotonic import IsotonicRegression\n",
      "x = np.linspace(0., 1., y0.shape[0])\n",
      "plt.scatter(x, y0_ord, color='b', marker='x')\n",
      "# plt.scatter(range(y0.shape[0]), p, color='r')\n",
      "\n",
      "ir = IsotonicRegression()\n",
      "y_ = ir.fit_transform(x,y0_ord)\n",
      "plt.scatter(x, y_, color='g',marker='o')\n",
      "print y0.min(), y0.max()\n"
     ],
     "language": "python",
     "metadata": {},
     "outputs": [
      {
       "output_type": "stream",
       "stream": "stdout",
       "text": [
        "0.32125842354 0.67874157646\n"
       ]
      },
      {
       "metadata": {},
       "output_type": "display_data",
       "png": "[encoded data removed]",
       "text": [
        "<matplotlib.figure.Figure at 0x116f94310>"
       ]
      }
     ],
     "prompt_number": 82
    },
    {
     "cell_type": "code",
     "collapsed": false,
     "input": [
      "def reliability_values(posteriors, labels, nbins):\n",
      "    \"\"\" Compute reliability diagram values given posterior probabilities and true\n",
      "    labels (0/1).\n",
      "    >>> x, y = reliability_values([0.02, .11, .17], [0, 0, 1])\n",
      "    >>> x\n",
      "    [0.02, 0.14, 0, 0, 0, 0, 0, 0, 0, 0]\n",
      "    >>> y\n",
      "    [0.0, 0.5, 0, 0, 0, 0, 0, 0, 0, 0]\n",
      "    \"\"\"\n",
      "    \n",
      "    predicted = np.zeros(nbins, 'f')\n",
      "    truth = np.zeros(nbins, 'f')\n",
      "    counts = np.zeros(nbins, 'f')\n",
      "    for posterior, label in zip(posteriors, labels):\n",
      "        idx = int(posterior * nbins)\n",
      "        predicted[idx] += posterior\n",
      "        truth[idx] += label\n",
      "        counts[idx] += 1.\n",
      "    predicted = [p / c if c != 0 else 0 for p, c in zip(predicted, counts)]\n",
      "    truth = [p / c if c != 0 else 0 for p, c in zip(truth, counts)]\n",
      "    return predicted, truth\n",
      "\n",
      "def plot_reliability_diagram(posteriors, labels, nbins=10):\n",
      "    \"\"\" Create reliablity plot\n",
      "    \"\"\"\n",
      "    x, y = reliability_values(posteriors, labels, nbins)\n",
      "    print 'predicted=', x, '\\ntruth  =', y\n",
      "    plt.figure()\n",
      "    plt.scatter(x, y)\n",
      "    diag = np.arange((nbins + 1)) / nbins\n",
      "    plt.plot(diag, diag)\n",
      "    plt.xlabel('Mean predicted value')\n",
      "    plt.ylabel('Fraction of positives')\n",
      "    err = np.mean([(xi - yi) * (xi - yi) for xi, yi in zip(x, y)])\n",
      "    plt.title('MSE=%.3f' % err)\n",
      "    plt.xlim((0, 1))\n",
      "    plt.ylim((0, 1))\n",
      "    "
     ],
     "language": "python",
     "metadata": {},
     "outputs": [],
     "prompt_number": 74
    },
    {
     "cell_type": "code",
     "collapsed": false,
     "input": [
      "plot_reliability_diagram(y_, test_true, 20)"
     ],
     "language": "python",
     "metadata": {},
     "outputs": [
      {
       "output_type": "stream",
       "stream": "stdout",
       "text": [
        "predicted= [0, 0, 0, 0, 0, 0, 0.33992711, 0.38455358, 0.42490646, 0.46830916, 0.51491684, 0.56646466, 0, 0, 0, 0, 0, 0, 0, 0] \n",
        "truth  = [0, 0, 0, 0, 0, 0, 0.40000001, 0.48648649, 0.5168919, 0.4906542, 0.53125, 0.5, 0, 0, 0, 0, 0, 0, 0, 0]\n"
       ]
      },
      {
       "metadata": {},
       "output_type": "display_data",
       "png": "[encoded data removed]",
       "text": [
        "<matplotlib.figure.Figure at 0x117234d90>"
       ]
      }
     ],
     "prompt_number": 83
    },
    {
     "cell_type": "code",
     "collapsed": false,
     "input": [],
     "language": "python",
     "metadata": {},
     "outputs": []
    }
   ],
   "metadata": {}
  }
 ]
}