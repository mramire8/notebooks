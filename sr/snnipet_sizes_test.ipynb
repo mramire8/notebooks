{
 "cells": [
  {
   "cell_type": "markdown",
   "metadata": {},
   "source": [
    "# Evaluate Accuracy of the Oracle\n",
    "\n",
    "We simulate the oracle based on the neutrality results of user studies in AAAI-14 paper. We know the percentages of neutral values per k-words documetns but not per snippet forms. \n",
    "\n",
    "Test: \n",
    "* Oracle accuracy\n",
    "* Oracle neutrality"
   ]
  },
  {
   "cell_type": "code",
   "execution_count": null,
   "metadata": {
    "collapsed": false
   },
   "outputs": [],
   "source": [
    "DATA = 'C:/Users/mramire8/Documents/Research/Oracle confidence and Interruption/dataset/aclImdb/raw-data'\n",
    "import sys\n",
    "import os\n",
    "sys.path.append(os.path.abspath('C:/cygwin/home/mramire8/python_code/structured/'))\n",
    "sys.path.append(os.path.abspath('/Users/maru/MyCode/structured/'))\n",
    "\n"
   ]
  },
  {
   "cell_type": "code",
   "execution_count": 5,
   "metadata": {
    "collapsed": false
   },
   "outputs": [],
   "source": [
    "\n",
    "import learner\n",
    "\n",
    "from utilities.datautils import load_dataset\n",
    "import utilities.experimentutils as exputil\n",
    "import numpy as np\n",
    "import experiment.base as exp\n",
    "import nltk\n",
    "\n",
    "# Read data (optionally from a pickled file if present)\n",
    "import pickle\n",
    "\n",
    "\n",
    "from time import time\n",
    "import pickle\n",
    "\n",
    "\n",
    "## Get the data ready\n",
    "imdb_path = 'C:/Users/mramire8/Documents/Research/Oracle confidence and Interruption/dataset/aclImdb/raw-data'\n",
    "# imdb_path = '/Users/maru/MyCode/data/imdb'\n",
    "\n"
   ]
  },
  {
   "cell_type": "code",
   "execution_count": null,
   "metadata": {
    "collapsed": false
   },
   "outputs": [],
   "source": [
    "vct = exputil.get_vectorizer({'vectorizer':'bow', 'limit':None, 'min_size':2})\n",
    "\n",
    "imdb =  load_dataset(\"imdb\",imdb_path, keep_subject=True)\n",
    "# sraa = load_dataset(\"aviation\", 100, categories[0], vct2, 100, raw=True,  percent=.5, keep_subject=True)\n",
    "\n",
    "imdb.train.bow = vct.fit_transform(imdb.train.data)\n",
    "\n"
   ]
  },
  {
   "cell_type": "code",
   "execution_count": 8,
   "metadata": {
    "collapsed": true
   },
   "outputs": [],
   "source": [
    "oracle = exputil.get_classifier('lrl1', parameter=0.3)\n",
    "oracle.fit(imdb.train.bow, imdb.train.target)\n",
    "imdb.test.bow = vct.transform(imdb.test.data)\n"
   ]
  },
  {
   "cell_type": "code",
   "execution_count": 9,
   "metadata": {
    "collapsed": true
   },
   "outputs": [],
   "source": [
    "import nltk\n",
    "sent_tk = nltk.data.load('tokenizers/punkt/english.pickle')\n",
    "\n",
    "d_sent = sent_tk.tokenize_sents(imdb.test.data)"
   ]
  },
  {
   "cell_type": "code",
   "execution_count": 154,
   "metadata": {
    "collapsed": false
   },
   "outputs": [],
   "source": [
    "from sklearn import metrics\n",
    "from collections import defaultdict\n",
    "def test_oracle(ora_clf, doc_sents, doc_y, sizes, vct):\n",
    "    \n",
    "    results = defaultdict(lambda: [])\n",
    "    \n",
    "    for sents,y in zip(doc_sents, doc_y):\n",
    "        if len(sents) > 0:\n",
    "            bow = vct.transform(sents)\n",
    "            probs = ora_clf.predict_proba(bow)\n",
    "            unc = probs.min(axis=1)\n",
    "            preds = ora_clf.predict(bow)\n",
    "            nonneu = unc < 0.4\n",
    "            results['confidence'].extend(1-unc)\n",
    "            acc = metrics.accuracy_score([y] *len(preds[nonneu]) ,preds[nonneu])\n",
    "            if sum(nonneu)>0:\n",
    "                results['accu'].append(acc)\n",
    "            results['noneutrals'].append(1. * sum(nonneu) / len(nonneu) )\n",
    "            results['size'].extend([len(s.split()) for s in sents])\n",
    "            results['preds'].extend(preds[nonneu])\n",
    "            results['trues'].extend([y] *len(preds[nonneu]))\n",
    "    return results\n"
   ]
  },
  {
   "cell_type": "code",
   "execution_count": 155,
   "metadata": {
    "collapsed": true
   },
   "outputs": [],
   "source": [
    "res = test_oracle(oracle, d_sent, imdb.test.target, [1], vct)"
   ]
  },
  {
   "cell_type": "code",
   "execution_count": 156,
   "metadata": {
    "collapsed": false
   },
   "outputs": [
    {
     "name": "stdout",
     "output_type": "stream",
     "text": [
      "confidence      N:304952,\tmin:  0.500,\tmax:  1.000,\tmean:  0.647,\tstd.:  0.013\n",
      "preds           N:173726,\tmin:  0.000,\tmax:  1.000,\tmean:  0.635,\tstd.:  0.232\n",
      "noneutrals      N:24989,\tmin:  0.000,\tmax:  1.000,\tmean:  0.603,\tstd.:  0.037\n",
      "accu            N:24908,\tmin:  0.000,\tmax:  1.000,\tmean:  0.748,\tstd.:  0.063\n",
      "trues           N:173726,\tmin:  0.000,\tmax:  1.000,\tmean:  0.522,\tstd.:  0.250\n",
      "size            N:304952,\tmin:  1.000,\tmax:472.000,\tmean: 18.554,\tstd.:176.596\n"
     ]
    }
   ],
   "source": [
    "import numpy as np \n",
    "from scipy import stats\n",
    "\n",
    "def describe(v):\n",
    "    n, min_max, mean, var, skew, kurt = stats.describe(v)\n",
    "    return  \"N:{},\\tmin:{:>7.3f},\\tmax:{:>7.3f},\\tmean:{:>7.3f},\\tstd.:{:>7.3f}\".format(n, min_max[0], min_max[1], mean, var)\n",
    "\n",
    "def print_describe(res):\n",
    "    for k,v in res.items():\n",
    "        print  \"{:<15} {}\".format(k,describe(v))\n",
    "        \n",
    "print_describe(res)\n"
   ]
  },
  {
   "cell_type": "code",
   "execution_count": 157,
   "metadata": {
    "collapsed": false
   },
   "outputs": [
    {
     "name": "stdout",
     "output_type": "stream",
     "text": [
      "Accuracy: 0.736798176439\n"
     ]
    }
   ],
   "source": [
    "print \"Accuracy:\", metrics.accuracy_score(res['trues'], res['preds'])"
   ]
  },
  {
   "cell_type": "code",
   "execution_count": 34,
   "metadata": {
    "collapsed": false
   },
   "outputs": [],
   "source": [
    "snip = exputil.get_tokenizer('snippet',snip_size=(2,2))\n",
    "snip2=  snip.tokenize_sents(imdb.test.data)"
   ]
  },
  {
   "cell_type": "code",
   "execution_count": 158,
   "metadata": {
    "collapsed": false
   },
   "outputs": [
    {
     "name": "stdout",
     "output_type": "stream",
     "text": [
      "confidence      N:2176474,\tmin:  0.500,\tmax:  1.000,\tmean:  0.696,\tstd.:  0.017\n",
      "preds           N:1529325,\tmin:  0.000,\tmax:  1.000,\tmean:  0.548,\tstd.:  0.248\n",
      "noneutrals      N:24778,\tmin:  0.000,\tmax:  1.000,\tmean:  0.753,\tstd.:  0.023\n",
      "accu            N:24729,\tmin:  0.000,\tmax:  1.000,\tmean:  0.793,\tstd.:  0.052\n",
      "trues           N:1529325,\tmin:  0.000,\tmax:  1.000,\tmean:  0.492,\tstd.:  0.250\n",
      "size            N:2176474,\tmin:  2.000,\tmax:723.000,\tmean: 36.672,\tstd.:357.528\n",
      "Accuracy: 0.76253772089\n"
     ]
    }
   ],
   "source": [
    "res2 = test_oracle(oracle, snip2, imdb.test.target, [1], vct)\n",
    "print_describe(res2)\n",
    "print \"Accuracy:\", metrics.accuracy_score(res2['trues'], res2['preds'])"
   ]
  },
  {
   "cell_type": "code",
   "execution_count": 160,
   "metadata": {
    "collapsed": false
   },
   "outputs": [
    {
     "data": {
      "text/plain": [
       "0.353"
      ]
     },
     "execution_count": 160,
     "metadata": {},
     "output_type": "execute_result"
    }
   ],
   "source": [
    "1-0.647"
   ]
  },
  {
   "cell_type": "code",
   "execution_count": 82,
   "metadata": {
    "collapsed": false
   },
   "outputs": [
    {
     "data": {
      "text/plain": [
       "[[u'Bill Rebane\\'s \"The Capture of Bigfoot\" is one of the most awful horror movies ever made.A greedy sawmill owner Harvey Olsen(Richard Kennedy)decides that he wants Bigfoot captured at all costs.However local game ranger Dave Garrett(Stafford Morgan)learns that the Bigfoot used to live in peace upset by a geological expedition,and sets out to protect the creature.There is nothing even remotely interesting in this piece of crap.The film is extremely dull and filled with horrible songs and cheap special effects.No gore,no suspense-just gigantic boredom.Avoid this horrible junk like the plague.']]"
      ]
     },
     "execution_count": 82,
     "metadata": {},
     "output_type": "execute_result"
    }
   ],
   "source": [
    "exputil.get_tokenizer('snippet',snip_size=(1,3)).tokenize_sents([imdb.test.data[54]])"
   ]
  },
  {
   "cell_type": "code",
   "execution_count": 86,
   "metadata": {
    "collapsed": false
   },
   "outputs": [
    {
     "data": {
      "text/plain": [
       "[['one two three']]"
      ]
     },
     "execution_count": 86,
     "metadata": {},
     "output_type": "execute_result"
    }
   ],
   "source": [
    "exputil.get_tokenizer('snippet',snip_size=(5,5)).tokenize_sents(['one two three'])"
   ]
  },
  {
   "cell_type": "code",
   "execution_count": 136,
   "metadata": {
    "collapsed": false
   },
   "outputs": [
    {
     "data": {
      "text/plain": [
       "matrix([[ nan,  nan,  nan, ...,  nan,  nan,  nan]])"
      ]
     },
     "execution_count": 136,
     "metadata": {},
     "output_type": "execute_result"
    }
   ],
   "source": [
    "max((imdb.train.bow[0] + imdb.train.bow[1]) / (imdb.train.bow[0] + imdb.train.bow[1]))"
   ]
  },
  {
   "cell_type": "code",
   "execution_count": 137,
   "metadata": {
    "collapsed": false
   },
   "outputs": [
    {
     "name": "stdout",
     "output_type": "stream",
     "text": [
      "0.89519388531\n"
     ]
    }
   ],
   "source": [
    "print metrics.accuracy_score(imdb.test.target, oracle.predict(imdb.test.bow))\n"
   ]
  },
  {
   "cell_type": "code",
   "execution_count": 139,
   "metadata": {
    "collapsed": false
   },
   "outputs": [
    {
     "name": "stdout",
     "output_type": "stream",
     "text": [
      "Avg. s=1: 12.2034495178\n",
      "Avg. s=2: 87.0972828044\n"
     ]
    }
   ],
   "source": [
    "print \"Avg. s=1:\", np.mean([len(ss) for s in d_sent])\n",
    "print \"Avg. s=2:\", np.mean([len(s) for s in snip2])\n",
    "\n"
   ]
  },
  {
   "cell_type": "code",
   "execution_count": 146,
   "metadata": {
    "collapsed": false
   },
   "outputs": [
    {
     "name": "stdout",
     "output_type": "stream",
     "text": [
      "24989\n"
     ]
    }
   ],
   "source": [
    "s1= np.array([[len(c.split()) for c in r] for r in d_sent])"
   ]
  },
  {
   "cell_type": "code",
   "execution_count": 149,
   "metadata": {
    "collapsed": false
   },
   "outputs": [
    {
     "data": {
      "text/plain": [
       "18.553533015031874"
      ]
     },
     "execution_count": 149,
     "metadata": {},
     "output_type": "execute_result"
    }
   ],
   "source": [
    "s11 = []\n",
    "for s in s1:\n",
    "    for ss in s:\n",
    "        s11.append(ss)\n",
    "\n",
    "np.mean(s11)"
   ]
  },
  {
   "cell_type": "code",
   "execution_count": 152,
   "metadata": {
    "collapsed": false
   },
   "outputs": [
    {
     "ename": "ValueError",
     "evalue": "total size of new array must be unchanged",
     "output_type": "error",
     "traceback": [
      "\u001b[1;31m---------------------------------------------------------------------------\u001b[0m",
      "\u001b[1;31mValueError\u001b[0m                                Traceback (most recent call last)",
      "\u001b[1;32m<ipython-input-152-e3ce829a1f14>\u001b[0m in \u001b[0;36m<module>\u001b[1;34m()\u001b[0m\n\u001b[1;32m----> 1\u001b[1;33m \u001b[0ms1\u001b[0m\u001b[1;33m.\u001b[0m\u001b[0mreshape\u001b[0m\u001b[1;33m(\u001b[0m\u001b[1;33m(\u001b[0m\u001b[1;36m304952\u001b[0m\u001b[1;33m,\u001b[0m\u001b[1;36m1\u001b[0m\u001b[1;33m)\u001b[0m\u001b[1;33m)\u001b[0m\u001b[1;33m\u001b[0m\u001b[0m\n\u001b[0m",
      "\u001b[1;31mValueError\u001b[0m: total size of new array must be unchanged"
     ]
    }
   ],
   "source": [
    "um"
   ]
  },
  {
   "cell_type": "markdown",
   "metadata": {},
   "source": [
    "## Statistics of Snippet sizes \n",
    "\n",
    "Compute neutrality, accuracy of the oracle on first-1, 2, and 3 snippets. "
   ]
  },
  {
   "cell_type": "code",
   "execution_count": 163,
   "metadata": {
    "collapsed": false
   },
   "outputs": [
    {
     "name": "stdout",
     "output_type": "stream",
     "text": [
      "== K = 1 ===\n",
      "confidence      N:24989,\tmin:  0.500,\tmax:  1.000,\tmean:  0.668,\tstd.:  0.015\n",
      "preds           N:15740,\tmin:  0.000,\tmax:  1.000,\tmean:  0.659,\tstd.:  0.225\n",
      "noneutrals      N:24989,\tmin:  0.000,\tmax:  1.000,\tmean:  0.630,\tstd.:  0.233\n",
      "accu            N:15740,\tmin:  0.000,\tmax:  1.000,\tmean:  0.757,\tstd.:  0.184\n",
      "trues           N:15740,\tmin:  0.000,\tmax:  1.000,\tmean:  0.536,\tstd.:  0.249\n",
      "size            N:24989,\tmin:  1.000,\tmax:472.000,\tmean: 20.515,\tstd.:355.384\n",
      "Accuracy: 0.756988564168\n",
      "== K = 2 ===\n",
      "confidence      N:24989,\tmin:  0.500,\tmax:  1.000,\tmean:  0.729,\tstd.:  0.020\n",
      "preds           N:19164,\tmin:  0.000,\tmax:  1.000,\tmean:  0.581,\tstd.:  0.244\n",
      "noneutrals      N:24989,\tmin:  0.000,\tmax:  1.000,\tmean:  0.767,\tstd.:  0.179\n",
      "accu            N:19164,\tmin:  0.000,\tmax:  1.000,\tmean:  0.791,\tstd.:  0.165\n",
      "trues           N:19164,\tmin:  0.000,\tmax:  1.000,\tmean:  0.516,\tstd.:  0.250\n",
      "size            N:24989,\tmin:  2.000,\tmax:723.000,\tmean: 40.591,\tstd.:634.109\n",
      "Accuracy: 0.790962220831\n",
      "== K = 3 ===\n",
      "confidence      N:24989,\tmin:  0.500,\tmax:  1.000,\tmean:  0.768,\tstd.:  0.022\n",
      "preds           N:20561,\tmin:  0.000,\tmax:  1.000,\tmean:  0.546,\tstd.:  0.248\n",
      "noneutrals      N:24989,\tmin:  0.000,\tmax:  1.000,\tmean:  0.823,\tstd.:  0.146\n",
      "accu            N:20561,\tmin:  0.000,\tmax:  1.000,\tmean:  0.822,\tstd.:  0.146\n",
      "trues           N:20561,\tmin:  0.000,\tmax:  1.000,\tmean:  0.507,\tstd.:  0.250\n",
      "size            N:24989,\tmin:  3.000,\tmax:941.000,\tmean: 60.195,\tstd.:918.218\n",
      "Accuracy: 0.821895822188\n",
      "== K = 4 ===\n",
      "confidence      N:24989,\tmin:  0.500,\tmax:  1.000,\tmean:  0.798,\tstd.:  0.023\n",
      "preds           N:21391,\tmin:  0.000,\tmax:  1.000,\tmean:  0.527,\tstd.:  0.249\n",
      "noneutrals      N:24989,\tmin:  0.000,\tmax:  1.000,\tmean:  0.856,\tstd.:  0.123\n",
      "accu            N:21391,\tmin:  0.000,\tmax:  1.000,\tmean:  0.841,\tstd.:  0.134\n",
      "trues           N:21391,\tmin:  0.000,\tmax:  1.000,\tmean:  0.503,\tstd.:  0.250\n",
      "size            N:24989,\tmin:  4.000,\tmax:941.000,\tmean: 78.951,\tstd.:1238.420\n",
      "Accuracy: 0.840914403254\n",
      "== K = 5 ===\n",
      "confidence      N:24989,\tmin:  0.500,\tmax:  1.000,\tmean:  0.820,\tstd.:  0.023\n",
      "preds           N:21927,\tmin:  0.000,\tmax:  1.000,\tmean:  0.518,\tstd.:  0.250\n",
      "noneutrals      N:24989,\tmin:  0.000,\tmax:  1.000,\tmean:  0.877,\tstd.:  0.108\n",
      "accu            N:21927,\tmin:  0.000,\tmax:  1.000,\tmean:  0.857,\tstd.:  0.123\n",
      "trues           N:21927,\tmin:  0.000,\tmax:  1.000,\tmean:  0.501,\tstd.:  0.250\n",
      "size            N:24989,\tmin:  5.000,\tmax:941.000,\tmean: 96.485,\tstd.:1605.858\n",
      "Accuracy: 0.856751949651\n"
     ]
    }
   ],
   "source": [
    "snipk = {}\n",
    "for s in range(1,6):\n",
    "    tk = exputil.get_tokenizer('first1snippet',snip_size=(s,s))\n",
    "    data = tk.tokenize_sents(imdb.test.data)\n",
    "    snipk[s] = test_oracle(oracle, data, imdb.test.target, [1], vct)\n",
    "    print \"== K = %s ===\" % s\n",
    "    print_describe(snipk[s])\n",
    "    print \"Accuracy:\", metrics.accuracy_score(snipk[s]['trues'], snipk[s]['preds'])"
   ]
  },
  {
   "cell_type": "code",
   "execution_count": null,
   "metadata": {
    "collapsed": true
   },
   "outputs": [],
   "source": []
  }
 ],
 "metadata": {
  "kernelspec": {
   "display_name": "Python 2",
   "language": "python",
   "name": "python2"
  },
  "language_info": {
   "codemirror_mode": {
    "name": "ipython",
    "version": 2
   },
   "file_extension": ".py",
   "mimetype": "text/x-python",
   "name": "python",
   "nbconvert_exporter": "python",
   "pygments_lexer": "ipython2",
   "version": "2.7.9"
  }
 },
 "nbformat": 4,
 "nbformat_minor": 0
}
