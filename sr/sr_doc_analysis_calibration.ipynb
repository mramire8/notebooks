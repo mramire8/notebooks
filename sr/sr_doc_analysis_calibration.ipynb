{
 "cells": [
  {
   "cell_type": "markdown",
   "metadata": {},
   "source": [
    "## Analysis of Document Scores per Sentence\n",
    "\n",
    "Experiment:\n",
    "\n",
    "* Train a learner on 200 documents (bootstrap, balanced?)\n",
    "\n",
    "* Pick 100 random documents and print for each:\n",
    "    * Label\n",
    "    * for each sentence print student score ($\\max_y P_S(y|s)$) and text \n",
    "  "
   ]
  },
  {
   "cell_type": "code",
   "execution_count": 10,
   "metadata": {
    "collapsed": false
   },
   "outputs": [],
   "source": [
    "STRUCTURED = '/Users/maru/MyCode/structured'\n",
    "DATA='/Users/maru/MyCode/data/imdb'\n",
    "import sys\n",
    "import os\n",
    "sys.path.append(os.path.abspath(STRUCTURED))"
   ]
  },
  {
   "cell_type": "code",
   "execution_count": 7,
   "metadata": {
    "collapsed": false
   },
   "outputs": [],
   "source": [
    "import utilities.experimentutils as exputil\n",
    "import learner\n",
    "import utilities.datautils as datautil\n",
    "import numpy as np\n",
    "import experiment.base as exp\n",
    "import nltk"
   ]
  },
  {
   "cell_type": "code",
   "execution_count": 8,
   "metadata": {
    "collapsed": false
   },
   "outputs": [],
   "source": [
    "# Set random seed.\n",
    "rnd = np.random.RandomState(2345)"
   ]
  },
  {
   "cell_type": "code",
   "execution_count": 18,
   "metadata": {
    "collapsed": false
   },
   "outputs": [],
   "source": [
    "from nltk import RegexpTokenizer\n",
    "from nltk.stem import PorterStemmer\n",
    "\n",
    "def stemming(doc):    \n",
    "\n",
    "    wnl = PorterStemmer()\n",
    "    mytokenizer = RegexpTokenizer('\\\\b\\\\w+\\\\b')\n",
    "\n",
    "    return [wnl.stem(t) for t in mytokenizer.tokenize(doc)]"
   ]
  },
  {
   "cell_type": "code",
   "execution_count": 20,
   "metadata": {
    "collapsed": false
   },
   "outputs": [
    {
     "data": {
      "text/plain": [
       "[u'steme', u'someth', u'els']"
      ]
     },
     "execution_count": 20,
     "metadata": {},
     "output_type": "execute_result"
    }
   ],
   "source": [
    "stemming('steming something else')"
   ]
  },
  {
   "cell_type": "code",
   "execution_count": 22,
   "metadata": {
    "collapsed": false
   },
   "outputs": [],
   "source": [
    "# Read data (optionally from a pickled file if present)\n",
    "import os\n",
    "import pickle\n",
    "from sklearn.feature_extraction.text import TfidfVectorizer, CountVectorizer\n",
    "\n",
    "DATA_PKL = DATA + '/data4.pkl'\n",
    "\n",
    "if os.path.isfile(DATA_PKL):\n",
    "    vct, data = pickle.load(open(DATA_PKL, 'rb'))\n",
    "else:\n",
    "    vct =  CountVectorizer(encoding='ISO-8859-1', min_df=5, max_df=1.0, binary=True, ngram_range=(1, 3),\n",
    "                      token_pattern='\\\\b\\\\w+\\\\b', tokenizer=stemming)\n",
    "    data = datautil.load_dataset('imdb', DATA, categories=None, rnd=5463, shuffle=True)\n",
    "    data.train.data = np.array(data.train.data, dtype=object)\n",
    "    data.test.data = np.array(data.test.data, dtype=object)\n",
    "    data.train.bow = vct.fit_transform(data.train.data)\n",
    "    data.test.bow = vct.transform(data.test.data)\n",
    "    pickle.dump((vct, data), open(DATA_PKL, 'wb'))"
   ]
  },
  {
   "cell_type": "code",
   "execution_count": 23,
   "metadata": {
    "collapsed": false
   },
   "outputs": [
    {
     "data": {
      "text/plain": [
       "(24991, 267154)"
      ]
     },
     "execution_count": 23,
     "metadata": {},
     "output_type": "execute_result"
    }
   ],
   "source": [
    "data.train.bow.shape"
   ]
  },
  {
   "cell_type": "code",
   "execution_count": 20,
   "metadata": {
    "collapsed": false
   },
   "outputs": [
    {
     "name": "stdout",
     "output_type": "stream",
     "text": [
      "24800 [19538, 24317, 4219, 10821, 23384, 20565, 17820, 17786, 14727, 11906]\n"
     ]
    }
   ],
   "source": [
    "# Select the bootstrap.\n",
    "data.train.remaining = rnd.permutation(len(data.train.target))\n",
    "initial = rnd.choice(data.train.remaining, 200, replace=False)\n",
    "\n",
    "# Select N random testing documents\n",
    "n = 100\n",
    "rnd_docs = list(set(data.train.remaining) - set(initial))\n",
    "rnd.shuffle(rnd_docs)\n",
    "print len(rnd_docs), rnd_docs[:10]"
   ]
  },
  {
   "cell_type": "code",
   "execution_count": 21,
   "metadata": {
    "collapsed": false
   },
   "outputs": [
    {
     "data": {
      "text/plain": [
       "LogisticRegression(C=1, class_weight=None, dual=False, fit_intercept=True,\n",
       "          intercept_scaling=1, penalty='l2', random_state=None, tol=0.0001)"
      ]
     },
     "execution_count": 21,
     "metadata": {},
     "output_type": "execute_result"
    }
   ],
   "source": [
    "# Initialize and fit the expert.\n",
    "expert = exputil.get_classifier('lrl2',parameter=1)\n",
    "expert.fit(data.train.bow, data.train.target)"
   ]
  },
  {
   "cell_type": "code",
   "execution_count": 22,
   "metadata": {
    "collapsed": false
   },
   "outputs": [],
   "source": [
    "# Initialize the student.\n",
    "reload(learner.strategy)\n",
    "clf = exputil.get_classifier('lrl2',parameter=1)\n",
    "st = learner.strategy.StructuredLearner(clf)\n",
    "sent_tk = nltk.data.load('tokenizers/punkt/english.pickle')\n",
    "st.set_sent_tokenizer(sent_tk)\n",
    "st.set_vct(vct)\n",
    "st.set_snippet_utility('sr')\n",
    "st.set_calibration(True)"
   ]
  },
  {
   "cell_type": "code",
   "execution_count": 23,
   "metadata": {
    "collapsed": false
   },
   "outputs": [
    {
     "data": {
      "text/plain": [
       "<learner.strategy.StructuredLearner at 0x110dd89d0>"
      ]
     },
     "execution_count": 23,
     "metadata": {},
     "output_type": "execute_result"
    }
   ],
   "source": [
    "# Train the student.\n",
    "st.fit(data.train.bow[initial], data.train.target[initial], doc_text=data.train.data[initial])"
   ]
  },
  {
   "cell_type": "code",
   "execution_count": 24,
   "metadata": {
    "collapsed": false
   },
   "outputs": [],
   "source": [
    "# Split testing documents into sentences.\n",
    "sent = sent_tk.tokenize_sents(data.train.data[rnd_docs[:n]])"
   ]
  },
  {
   "cell_type": "code",
   "execution_count": 25,
   "metadata": {
    "collapsed": false
   },
   "outputs": [],
   "source": [
    "# Select best snippet for each document.\n",
    "sent_scores, snippet_text = st._compute_snippet(data.train.data[rnd_docs[:n]])"
   ]
  },
  {
   "cell_type": "code",
   "execution_count": 51,
   "metadata": {
    "collapsed": false
   },
   "outputs": [],
   "source": [
    "# Check classifier's calibration.\n",
    "def score_sentences(st, sent, doc_labels):\n",
    "    scores = []\n",
    "    true_labels = []\n",
    "    for sentences, doc_label in zip(sent, doc_labels):\n",
    "        scores.extend([x[1] for x in st.snippet_model.predict_proba(vct.transform(sentences))])\n",
    "        true_labels.extend([doc_label] * len(sentences))\n",
    "    return np.array(scores), np.array(true_labels)\n",
    "        \n",
    "sent_scores, sent_labels = score_sentences(st, sent, data.train.target[rnd_docs[:n]])"
   ]
  },
  {
   "cell_type": "code",
   "execution_count": 92,
   "metadata": {
    "collapsed": false
   },
   "outputs": [
    {
     "name": "stdout",
     "output_type": "stream",
     "text": [
      "predicted= [0, 0.1703198, 0.26188648, 0.361359, 0.45503461, 0.54475313, 0.63844258, 0.72915399, 0, 0] \n",
      "truth  = [0, 0.0, 0.12903225, 0.28368795, 0.45161289, 0.56955379, 0.77884614, 0.875, 0, 0]\n"
     ]
    },
    {
     "data": {
      "image/png": "[encoded data removed]",
      "text/plain": [
       "<matplotlib.figure.Figure at 0x1128b3750>"
      ]
     },
     "metadata": {},
     "output_type": "display_data"
    }
   ],
   "source": [
    "import matplotlib.pyplot as plt\n",
    "\n",
    "def reliability_values(posteriors, labels, nbins):\n",
    "    \"\"\" Compute reliability diagram values given posterior probabilities and true\n",
    "    labels (0/1).\n",
    "    >>> x, y = reliability_values([0.02, .11, .17], [0, 0, 1])\n",
    "    >>> x\n",
    "    [0.02, 0.14, 0, 0, 0, 0, 0, 0, 0, 0]\n",
    "    >>> y\n",
    "    [0.0, 0.5, 0, 0, 0, 0, 0, 0, 0, 0]\n",
    "    \"\"\"\n",
    "    \n",
    "    predicted = np.zeros(nbins, 'f')\n",
    "    truth = np.zeros(nbins, 'f')\n",
    "    counts = np.zeros(nbins, 'f')\n",
    "    for posterior, label in zip(posteriors, labels):\n",
    "        idx = int(posterior * nbins)\n",
    "        predicted[idx] += posterior\n",
    "        truth[idx] += label\n",
    "        counts[idx] += 1.\n",
    "    predicted = [p / c if c != 0 else 0 for p, c in zip(predicted, counts)]\n",
    "    truth = [p / c if c != 0 else 0 for p, c in zip(truth, counts)]\n",
    "    return predicted, truth\n",
    "\n",
    "def plot_reliability_diagram(posteriors, labels, nbins=10):\n",
    "    \"\"\" Create reliablity plot\n",
    "    \"\"\"\n",
    "    x, y = reliability_values(posteriors, labels, nbins)\n",
    "    print 'predicted=', x, '\\ntruth  =', y\n",
    "    plt.figure()\n",
    "    plt.scatter(x, y)\n",
    "    diag = np.arange((nbins + 1)) / nbins\n",
    "    plt.plot(diag, diag)\n",
    "    plt.xlabel('Mean predicted value')\n",
    "    plt.ylabel('Fraction of positives')\n",
    "    err = np.mean([(xi - yi) * (xi - yi) for xi, yi in zip(x, y)])\n",
    "    plt.title('MSE=%.3f' % err)\n",
    "    plt.xlim((0, 1))\n",
    "    plt.ylim((0, 1))\n",
    "    \n",
    "plot_reliability_diagram(sent_scores, sent_labels, 10)"
   ]
  },
  {
   "cell_type": "code",
   "execution_count": null,
   "metadata": {
    "collapsed": false
   },
   "outputs": [],
   "source": []
  }
 ],
 "metadata": {
  "kernelspec": {
   "display_name": "Python 2",
   "language": "python",
   "name": "python2"
  },
  "language_info": {
   "codemirror_mode": {
    "name": "ipython",
    "version": 2
   },
   "file_extension": ".py",
   "mimetype": "text/x-python",
   "name": "python",
   "nbconvert_exporter": "python",
   "pygments_lexer": "ipython2",
   "version": "2.7.9"
  }
 },
 "nbformat": 4,
 "nbformat_minor": 0
}
