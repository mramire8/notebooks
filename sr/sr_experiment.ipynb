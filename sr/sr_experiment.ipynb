{
 "metadata": {
  "name": "",
  "signature": "sha256:a10411bde15cdc257f4ef6b3d0b76e365fffcc6f50148cecd0afd3304c35ba56"
 },
 "nbformat": 3,
 "nbformat_minor": 0,
 "worksheets": [
  {
   "cells": [
    {
     "cell_type": "markdown",
     "metadata": {},
     "source": [
      "## SR Experiment \n",
      "\n",
      "### Requirements\n",
      "\n",
      "* scipy\n",
      "* numpy \n",
      "* sklearn\n",
      "* structured module\n",
      "\n",
      "### Configuration \n",
      "\n",
      "Configuration file of the experiment contains:\n",
      "\n",
      "* expert\n",
      "* learner\n",
      "* experiment \n",
      "* data\n",
      "\n",
      "### This Notebook\n",
      "\n",
      "Config file: default.cfg\n"
     ]
    },
    {
     "cell_type": "code",
     "collapsed": false,
     "input": [
      "## Imports \n",
      "\n",
      "STRUCTURED = '/Users/maru/MyCode/structured'\n",
      "DATA='/Users/maru/MyCode/data/imdb'\n",
      "import sys\n",
      "import os\n",
      "sys.path.append(os.path.abspath(STRUCTURED))\n",
      "\n",
      "import utilities.configutils as cfgutils\n",
      "from  experiment.base import Experiment\n",
      "\n",
      "def change_option(config, section, option, new_value):\n",
      "    config.remove_option(section, option)\n",
      "    config.set(section, option, new_value)\n",
      "    return config"
     ],
     "language": "python",
     "metadata": {},
     "outputs": [],
     "prompt_number": 34
    },
    {
     "cell_type": "code",
     "collapsed": false,
     "input": [
      "# Load configuration\n",
      "# from ConfigParser import SafeConfigParser\n",
      "\n",
      "# Load an initial configuration\n",
      "config = cfgutils.get_config('./imdb_neu_rnd_sr_rank.cfg')\n",
      "\n",
      "# Modify Config if necessary, for quick testing. Changes made here to the configuration will not be saved in the config file. \n",
      "# to modify or add parameters of the configuration use the set command:\n",
      "\n",
      "#config = change_option('section', 'parameter', new_value)\n",
      "config = change_option(config, 'experiment', 'maxiter', '3')\n",
      "\n",
      "## print configuration\n",
      "# Student\n",
      "print \"Student\"\n",
      "\n",
      "print \"\\n\".join([\"{}={}\".format(x,y) for x,y in cfgutils.get_section_options(config, 'learner').items()])\n",
      "\n",
      "#Expert\n",
      "print \"\\nExpert\"\n",
      "print \"\\n\".join([\"{}={}\".format(x,y) for x,y in cfgutils.get_section_options(config, 'expert').items()])\n",
      "\n",
      "#Expert\n",
      "print \"\\nExperiment\"\n",
      "print \"\\n\".join([\"{}={}\".format(x,y) for x,y in cfgutils.get_section_options(config, 'experiment').items()])\n",
      "\n"
     ],
     "language": "python",
     "metadata": {},
     "outputs": [
      {
       "output_type": "stream",
       "stream": "stdout",
       "text": [
        "Student\n",
        "calibration=zscores_rank\n",
        "type=sequential\n",
        "snippet=sr\n",
        "calibrate=True\n",
        "model=lrl2\n",
        "parameter=1\n",
        "utility=rnd\n",
        "\n",
        "Expert\n",
        "type=neutral\n",
        "costmodel=1\n",
        "threshold=0.4\n",
        "model=lrl2\n",
        "parameter=1\n",
        "sent_tokenizer=nltk\n",
        "\n",
        "Experiment\n",
        "fileprefix=-test\n",
        "cheatingmode=False\n",
        "trials=3\n",
        "bootstrap=50\n",
        "budget=1000\n",
        "stepsize=10\n",
        "seed=876543210\n",
        "limit=2\n",
        "maxiter=3\n",
        "folds=1\n",
        "data=imdb\n",
        "outputdir=./results/\n",
        "costfunction=unit\n"
       ]
      }
     ],
     "prompt_number": 39
    },
    {
     "cell_type": "code",
     "collapsed": false,
     "input": [
      "# Create experiment\n",
      "experiment = Experiment(\"20news\", config, verbose=True, debug=False)\n",
      "\n",
      "# Start experiment\n",
      "# verbose, prints performance of the student and the oracle confusion matrix at every iteration\n",
      "experiment.start()"
     ],
     "language": "python",
     "metadata": {},
     "outputs": [
      {
       "output_type": "stream",
       "stream": "stdout",
       "text": [
        "data-20news-lrn-sequential-ut-rnd-snip-sr-cal-zscores_rank-test\n",
        "IT\tACCU\tAUC\tT0\tF1\tF0\tT1"
       ]
      },
      {
       "output_type": "stream",
       "stream": "stdout",
       "text": [
        "\n",
        "10\t0.600\t0.583\t3.000\t0.000\t1.000\t1.000\n",
        "20\t0.584\t0.568\t"
       ]
      },
      {
       "output_type": "stream",
       "stream": "stdout",
       "text": [
        "4.000\t0.000\t0.000\t3.000\n",
        "30\t0.605\t0.576\t"
       ]
      },
      {
       "output_type": "stream",
       "stream": "stdout",
       "text": [
        "4.000\t0.000\t1.000\t1.000\n",
        "IT\tACCU\tAUC\tT0\tF1\tF0\tT1"
       ]
      },
      {
       "output_type": "stream",
       "stream": "stdout",
       "text": [
        "\n",
        "10\t0.611\t0.604\t5.000\t0.000\t1.000\t1.000\n",
        "20\t0.605\t0.600\t"
       ]
      },
      {
       "output_type": "stream",
       "stream": "stdout",
       "text": [
        "4.000\t1.000\t0.000\t2.000\n",
        "30\t0.607\t0.624\t"
       ]
      },
      {
       "output_type": "stream",
       "stream": "stdout",
       "text": [
        "5.000\t0.000\t0.000\t0.000\n",
        "IT\tACCU\tAUC\tT0\tF1\tF0\tT1"
       ]
      },
      {
       "output_type": "stream",
       "stream": "stdout",
       "text": [
        "\n",
        "10\t0.533\t0.566\t4.000\t0.000\t0.000\t3.000\n",
        "20\t0.579\t0.571\t"
       ]
      },
      {
       "output_type": "stream",
       "stream": "stdout",
       "text": [
        "5.000\t0.000\t0.000\t2.000\n",
        "30\t0.554\t0.579\t"
       ]
      },
      {
       "output_type": "stream",
       "stream": "stdout",
       "text": [
        "3.000\t1.000\t0.000\t3.000\n"
       ]
      }
     ],
     "prompt_number": 40
    },
    {
     "cell_type": "code",
     "collapsed": false,
     "input": [
      "# Experiment with debugging information, prints selected sentences information, including \n",
      "# docid, target, student prob. distribution, expert prob. distribution, and text of sentence.\n",
      "\n",
      "experiment = Experiment(\"20news\", config, verbose=True, debug=True)\n",
      "experiment.start()"
     ],
     "language": "python",
     "metadata": {},
     "outputs": []
    },
    {
     "cell_type": "code",
     "collapsed": false,
     "input": [
      "config.set('experiment', 'maxiters', 5)\n",
      "\n"
     ],
     "language": "python",
     "metadata": {},
     "outputs": [
      {
       "ename": "TypeError",
       "evalue": "option values must be strings",
       "output_type": "pyerr",
       "traceback": [
        "\u001b[0;31m---------------------------------------------------------------------------\u001b[0m\n\u001b[0;31mTypeError\u001b[0m                                 Traceback (most recent call last)",
        "\u001b[0;32m<ipython-input-31-0bd06ff90646>\u001b[0m in \u001b[0;36m<module>\u001b[0;34m()\u001b[0m\n\u001b[0;32m----> 1\u001b[0;31m \u001b[0mconfig\u001b[0m\u001b[0;34m.\u001b[0m\u001b[0mset\u001b[0m\u001b[0;34m(\u001b[0m\u001b[0;34m'experiment'\u001b[0m\u001b[0;34m,\u001b[0m \u001b[0;34m'maxiters'\u001b[0m\u001b[0;34m,\u001b[0m \u001b[0;36m5\u001b[0m\u001b[0;34m)\u001b[0m\u001b[0;34m\u001b[0m\u001b[0m\n\u001b[0m\u001b[1;32m      2\u001b[0m \u001b[0;34m\u001b[0m\u001b[0m\n",
        "\u001b[0;32m/opt/local/Library/Frameworks/Python.framework/Versions/2.7/lib/python2.7/ConfigParser.pyc\u001b[0m in \u001b[0;36mset\u001b[0;34m(self, section, option, value)\u001b[0m\n\u001b[1;32m    741\u001b[0m         \u001b[0;32mif\u001b[0m \u001b[0mself\u001b[0m\u001b[0;34m.\u001b[0m\u001b[0m_optcre\u001b[0m \u001b[0;32mis\u001b[0m \u001b[0mself\u001b[0m\u001b[0;34m.\u001b[0m\u001b[0mOPTCRE\u001b[0m \u001b[0;32mor\u001b[0m \u001b[0mvalue\u001b[0m\u001b[0;34m:\u001b[0m\u001b[0;34m\u001b[0m\u001b[0m\n\u001b[1;32m    742\u001b[0m             \u001b[0;32mif\u001b[0m \u001b[0;32mnot\u001b[0m \u001b[0misinstance\u001b[0m\u001b[0;34m(\u001b[0m\u001b[0mvalue\u001b[0m\u001b[0;34m,\u001b[0m \u001b[0mbasestring\u001b[0m\u001b[0;34m)\u001b[0m\u001b[0;34m:\u001b[0m\u001b[0;34m\u001b[0m\u001b[0m\n\u001b[0;32m--> 743\u001b[0;31m                 \u001b[0;32mraise\u001b[0m \u001b[0mTypeError\u001b[0m\u001b[0;34m(\u001b[0m\u001b[0;34m\"option values must be strings\"\u001b[0m\u001b[0;34m)\u001b[0m\u001b[0;34m\u001b[0m\u001b[0m\n\u001b[0m\u001b[1;32m    744\u001b[0m         \u001b[0;32mif\u001b[0m \u001b[0mvalue\u001b[0m \u001b[0;32mis\u001b[0m \u001b[0;32mnot\u001b[0m \u001b[0mNone\u001b[0m\u001b[0;34m:\u001b[0m\u001b[0;34m\u001b[0m\u001b[0m\n\u001b[1;32m    745\u001b[0m             \u001b[0;31m# check for bad percent signs:\u001b[0m\u001b[0;34m\u001b[0m\u001b[0;34m\u001b[0m\u001b[0m\n",
        "\u001b[0;31mTypeError\u001b[0m: option values must be strings"
       ]
      }
     ],
     "prompt_number": 31
    },
    {
     "cell_type": "code",
     "collapsed": false,
     "input": [
      "config['learner']['maxiter'] = 3"
     ],
     "language": "python",
     "metadata": {},
     "outputs": [
      {
       "ename": "AttributeError",
       "evalue": "SafeConfigParser instance has no attribute '__getitem__'",
       "output_type": "pyerr",
       "traceback": [
        "\u001b[0;31m---------------------------------------------------------------------------\u001b[0m\n\u001b[0;31mAttributeError\u001b[0m                            Traceback (most recent call last)",
        "\u001b[0;32m<ipython-input-33-014fe5bcc651>\u001b[0m in \u001b[0;36m<module>\u001b[0;34m()\u001b[0m\n\u001b[0;32m----> 1\u001b[0;31m \u001b[0mconfig\u001b[0m\u001b[0;34m[\u001b[0m\u001b[0;34m'learner'\u001b[0m\u001b[0;34m]\u001b[0m\u001b[0;34m[\u001b[0m\u001b[0;34m'maxiter'\u001b[0m\u001b[0;34m]\u001b[0m \u001b[0;34m=\u001b[0m \u001b[0;36m3\u001b[0m\u001b[0;34m\u001b[0m\u001b[0m\n\u001b[0m",
        "\u001b[0;31mAttributeError\u001b[0m: SafeConfigParser instance has no attribute '__getitem__'"
       ]
      }
     ],
     "prompt_number": 33
    },
    {
     "cell_type": "code",
     "collapsed": false,
     "input": [],
     "language": "python",
     "metadata": {},
     "outputs": []
    }
   ],
   "metadata": {}
  }
 ]
}