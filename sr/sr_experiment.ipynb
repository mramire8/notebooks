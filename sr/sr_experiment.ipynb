{
 "metadata": {
  "name": "",
  "signature": "sha256:5ecf6b59fca49e55a91b8d312c7b2431a0e067fa0b71f529fcd41e6a6163d107"
 },
 "nbformat": 3,
 "nbformat_minor": 0,
 "worksheets": [
  {
   "cells": [
    {
     "cell_type": "markdown",
     "metadata": {},
     "source": [
      "## SR Experiment \n",
      "\n",
      "### Requirements\n",
      "\n",
      "* scipy\n",
      "* numpy \n",
      "* sklearn\n",
      "* structured module\n",
      "\n",
      "### Configuration \n",
      "\n",
      "Configuration file of the experiment contains:\n",
      "\n",
      "* expert\n",
      "* learner\n",
      "* experiment \n",
      "* data\n",
      "\n",
      "### This Notebook\n",
      "\n",
      "Config file: default.cfg\n"
     ]
    },
    {
     "cell_type": "code",
     "collapsed": false,
     "input": [
      "## Imports \n",
      "\n",
      "STRUCTURED = '/Users/maru/MyCode/structured'\n",
      "DATA='/Users/maru/MyCode/data/imdb'\n",
      "import sys\n",
      "import os\n",
      "sys.path.append(os.path.abspath(STRUCTURED))\n",
      "\n",
      "import utilities.configutils as cfgutils\n",
      "from  experiment.base import Experiment\n",
      "\n",
      "def change_option(config, section, option, new_value):\n",
      "    config.remove_option(section, option)\n",
      "    config.set(section, option, new_value)\n",
      "    return config"
     ],
     "language": "python",
     "metadata": {},
     "outputs": [],
     "prompt_number": 34
    },
    {
     "cell_type": "code",
     "collapsed": false,
     "input": [
      "# Load configuration\n",
      "# from ConfigParser import SafeConfigParser\n",
      "\n",
      "# Load an initial configuration\n",
      "config = cfgutils.get_config('./imdb_neu_rnd_sr_rank.cfg')\n",
      "\n",
      "# Modify Config if necessary, for quick testing. Changes made here to the configuration will not be saved in the config file. \n",
      "# to modify or add parameters of the configuration use the set command:\n",
      "\n",
      "#config = change_option('section', 'parameter', new_value)\n",
      "config = change_option(config, 'experiment', 'maxiter', '20')\n",
      "\n",
      "## print configuration\n",
      "# Student\n",
      "print \"Student\"\n",
      "\n",
      "print \"\\n\".join([\"{}={}\".format(x,y) for x,y in cfgutils.get_section_options(config, 'learner').items()])\n",
      "\n",
      "#Expert\n",
      "print \"\\nExpert\"\n",
      "print \"\\n\".join([\"{}={}\".format(x,y) for x,y in cfgutils.get_section_options(config, 'expert').items()])\n",
      "\n",
      "#Expert\n",
      "print \"\\nExperiment\"\n",
      "print \"\\n\".join([\"{}={}\".format(x,y) for x,y in cfgutils.get_section_options(config, 'experiment').items()])\n",
      "\n"
     ],
     "language": "python",
     "metadata": {},
     "outputs": [
      {
       "output_type": "stream",
       "stream": "stdout",
       "text": [
        "Student\n",
        "calibration=zscores_rank\n",
        "type=sequential\n",
        "snippet=sr\n",
        "calibrate=True\n",
        "model=lrl2\n",
        "parameter=1\n",
        "utility=rnd\n",
        "\n",
        "Expert\n",
        "type=neutral\n",
        "costmodel=1\n",
        "threshold=0.4\n",
        "model=lrl2\n",
        "parameter=1\n",
        "sent_tokenizer=nltk\n",
        "\n",
        "Experiment\n",
        "fileprefix=-test\n",
        "cheatingmode=False\n",
        "trials=3\n",
        "bootstrap=50\n",
        "budget=1000\n",
        "stepsize=10\n",
        "seed=876543210\n",
        "limit=2\n",
        "maxiter=20\n",
        "folds=1\n",
        "data=imdb\n",
        "outputdir=./results/\n",
        "costfunction=unit\n"
       ]
      }
     ],
     "prompt_number": 61
    },
    {
     "cell_type": "code",
     "collapsed": false,
     "input": [
      "# Create experiment. debug will print probability distribution of student and the expert.\n",
      "experiment = Experiment(\"20news\", config, verbose=True, debug=False)\n",
      "\n",
      "# Start experiment\n",
      "# verbose, prints performance of the student and the oracle confusion matrix at every iteration\n",
      "experiment.start()"
     ],
     "language": "python",
     "metadata": {},
     "outputs": [
      {
       "output_type": "stream",
       "stream": "stdout",
       "text": [
        "data-20news-lrn-sequential-ut-rnd-snip-sr-cal-zscores_rank-test\n",
        "IT\tACCU\tAUC\tT0\tF1\tF0\tT1"
       ]
      },
      {
       "output_type": "stream",
       "stream": "stdout",
       "text": [
        "\n",
        "10\t0.600\t0.583\t3.000\t0.000\t1.000\t1.000\n",
        "20\t0.584\t0.568\t"
       ]
      },
      {
       "output_type": "stream",
       "stream": "stdout",
       "text": [
        "4.000\t0.000\t0.000\t3.000\n",
        "30\t0.605\t0.576\t"
       ]
      },
      {
       "output_type": "stream",
       "stream": "stdout",
       "text": [
        "4.000\t0.000\t1.000\t1.000\n",
        "40\t0.593\t0.574\t"
       ]
      },
      {
       "output_type": "stream",
       "stream": "stdout",
       "text": [
        "3.000\t1.000\t0.000\t3.000\n",
        "50\t0.616\t0.568\t"
       ]
      },
      {
       "output_type": "stream",
       "stream": "stdout",
       "text": [
        "4.000\t1.000\t2.000\t2.000\n",
        "60\t0.605\t0.586\t"
       ]
      },
      {
       "output_type": "stream",
       "stream": "stdout",
       "text": [
        "5.000\t0.000\t0.000\t1.000\n",
        "70\t0.609\t0.589\t"
       ]
      },
      {
       "output_type": "stream",
       "stream": "stdout",
       "text": [
        "4.000\t0.000\t0.000\t3.000\n",
        "80\t0.589\t0.606\t"
       ]
      },
      {
       "output_type": "stream",
       "stream": "stdout",
       "text": [
        "6.000\t1.000\t0.000\t0.000\n",
        "90\t0.607\t0.617\t"
       ]
      },
      {
       "output_type": "stream",
       "stream": "stdout",
       "text": [
        "4.000\t0.000\t0.000\t6.000\n",
        "100\t0.609\t0.618\t"
       ]
      },
      {
       "output_type": "stream",
       "stream": "stdout",
       "text": [
        "5.000\t2.000\t1.000\t1.000\n",
        "110\t0.607\t0.614\t"
       ]
      },
      {
       "output_type": "stream",
       "stream": "stdout",
       "text": [
        "2.000\t0.000\t0.000\t4.000\n",
        "120\t0.611\t0.615\t"
       ]
      },
      {
       "output_type": "stream",
       "stream": "stdout",
       "text": [
        "2.000\t0.000\t0.000\t3.000\n",
        "130\t0.602\t0.618\t"
       ]
      },
      {
       "output_type": "stream",
       "stream": "stdout",
       "text": [
        "6.000\t0.000\t1.000\t0.000\n",
        "140\t0.598\t0.627\t"
       ]
      },
      {
       "output_type": "stream",
       "stream": "stdout",
       "text": [
        "3.000\t0.000\t1.000\t4.000\n",
        "150\t0.593\t0.621\t"
       ]
      },
      {
       "output_type": "stream",
       "stream": "stdout",
       "text": [
        "2.000\t0.000\t2.000\t2.000\n",
        "160\t0.593\t0.621\t"
       ]
      },
      {
       "output_type": "stream",
       "stream": "stdout",
       "text": [
        "4.000\t0.000\t0.000\t4.000\n",
        "170\t0.598\t0.616\t"
       ]
      },
      {
       "output_type": "stream",
       "stream": "stdout",
       "text": [
        "4.000\t1.000\t1.000\t4.000\n",
        "180\t0.600\t0.608\t"
       ]
      },
      {
       "output_type": "stream",
       "stream": "stdout",
       "text": [
        "5.000\t1.000\t1.000\t2.000\n",
        "190\t0.595\t0.608\t"
       ]
      },
      {
       "output_type": "stream",
       "stream": "stdout",
       "text": [
        "4.000\t0.000\t1.000\t1.000\n",
        "200\t0.607\t0.616\t"
       ]
      },
      {
       "output_type": "stream",
       "stream": "stdout",
       "text": [
        "2.000\t2.000\t0.000\t3.000\n",
        "IT\tACCU\tAUC\tT0\tF1\tF0\tT1"
       ]
      },
      {
       "output_type": "stream",
       "stream": "stdout",
       "text": [
        "\n",
        "10\t0.611\t0.604\t5.000\t0.000\t1.000\t1.000\n",
        "20\t0.605\t0.600\t"
       ]
      },
      {
       "output_type": "stream",
       "stream": "stdout",
       "text": [
        "4.000\t1.000\t0.000\t2.000\n",
        "30\t0.607\t0.624\t"
       ]
      },
      {
       "output_type": "stream",
       "stream": "stdout",
       "text": [
        "5.000\t0.000\t0.000\t0.000\n",
        "40\t0.609\t0.623\t"
       ]
      },
      {
       "output_type": "stream",
       "stream": "stdout",
       "text": [
        "4.000\t0.000\t1.000\t3.000\n",
        "50\t0.611\t0.631\t"
       ]
      },
      {
       "output_type": "stream",
       "stream": "stdout",
       "text": [
        "4.000\t0.000\t1.000\t1.000\n",
        "60\t0.611\t0.638\t"
       ]
      },
      {
       "output_type": "stream",
       "stream": "stdout",
       "text": [
        "3.000\t0.000\t1.000\t2.000\n",
        "70\t0.611\t0.640\t"
       ]
      },
      {
       "output_type": "stream",
       "stream": "stdout",
       "text": [
        "3.000\t0.000\t0.000\t3.000\n",
        "80\t0.605\t0.643\t"
       ]
      },
      {
       "output_type": "stream",
       "stream": "stdout",
       "text": [
        "3.000\t0.000\t1.000\t2.000\n",
        "90\t0.602\t0.643\t"
       ]
      },
      {
       "output_type": "stream",
       "stream": "stdout",
       "text": [
        "4.000\t1.000\t1.000\t0.000\n",
        "100\t0.598\t0.653\t"
       ]
      },
      {
       "output_type": "stream",
       "stream": "stdout",
       "text": [
        "4.000\t1.000\t0.000\t3.000\n",
        "110\t0.602\t0.633\t"
       ]
      },
      {
       "output_type": "stream",
       "stream": "stdout",
       "text": [
        "1.000\t2.000\t1.000\t1.000\n",
        "120\t0.614\t0.641\t"
       ]
      },
      {
       "output_type": "stream",
       "stream": "stdout",
       "text": [
        "5.000\t0.000\t0.000\t3.000\n",
        "130\t0.616\t0.655\t"
       ]
      },
      {
       "output_type": "stream",
       "stream": "stdout",
       "text": [
        "5.000\t1.000\t0.000\t1.000\n",
        "140\t0.616\t0.669\t"
       ]
      },
      {
       "output_type": "stream",
       "stream": "stdout",
       "text": [
        "3.000\t0.000\t1.000\t2.000\n",
        "150\t0.616\t0.666\t"
       ]
      },
      {
       "output_type": "stream",
       "stream": "stdout",
       "text": [
        "3.000\t0.000\t1.000\t3.000\n",
        "160\t0.614\t0.673\t"
       ]
      },
      {
       "output_type": "stream",
       "stream": "stdout",
       "text": [
        "2.000\t0.000\t0.000\t3.000\n",
        "170\t0.618\t0.673\t"
       ]
      },
      {
       "output_type": "stream",
       "stream": "stdout",
       "text": [
        "5.000\t1.000\t0.000\t1.000\n",
        "180\t0.628\t0.674\t"
       ]
      },
      {
       "output_type": "stream",
       "stream": "stdout",
       "text": [
        "2.000\t1.000\t0.000\t7.000\n",
        "190\t0.628\t0.686\t"
       ]
      },
      {
       "output_type": "stream",
       "stream": "stdout",
       "text": [
        "5.000\t0.000\t0.000\t4.000\n",
        "200\t0.632\t0.686\t"
       ]
      },
      {
       "output_type": "stream",
       "stream": "stdout",
       "text": [
        "5.000\t0.000\t1.000\t3.000\n",
        "IT\tACCU\tAUC\tT0\tF1\tF0\tT1"
       ]
      },
      {
       "output_type": "stream",
       "stream": "stdout",
       "text": [
        "\n",
        "10\t0.533\t0.566\t4.000\t0.000\t0.000\t3.000\n",
        "20\t0.579\t0.571\t"
       ]
      },
      {
       "output_type": "stream",
       "stream": "stdout",
       "text": [
        "5.000\t0.000\t0.000\t2.000\n",
        "30\t0.554\t0.579\t"
       ]
      },
      {
       "output_type": "stream",
       "stream": "stdout",
       "text": [
        "3.000\t1.000\t0.000\t3.000\n",
        "40\t0.577\t0.593\t"
       ]
      },
      {
       "output_type": "stream",
       "stream": "stdout",
       "text": [
        "4.000\t1.000\t1.000\t2.000\n",
        "50\t0.598\t0.606\t"
       ]
      },
      {
       "output_type": "stream",
       "stream": "stdout",
       "text": [
        "7.000\t0.000\t1.000\t2.000\n",
        "60\t0.605\t0.613\t"
       ]
      },
      {
       "output_type": "stream",
       "stream": "stdout",
       "text": [
        "4.000\t0.000\t0.000\t3.000\n",
        "70\t0.609\t0.617\t"
       ]
      },
      {
       "output_type": "stream",
       "stream": "stdout",
       "text": [
        "4.000\t1.000\t1.000\t4.000\n",
        "80\t0.607\t0.622\t"
       ]
      },
      {
       "output_type": "stream",
       "stream": "stdout",
       "text": [
        "7.000\t0.000\t0.000\t1.000\n",
        "90\t0.605\t0.612\t"
       ]
      },
      {
       "output_type": "stream",
       "stream": "stdout",
       "text": [
        "2.000\t1.000\t2.000\t4.000\n",
        "100\t0.614\t0.621\t"
       ]
      },
      {
       "output_type": "stream",
       "stream": "stdout",
       "text": [
        "8.000\t0.000\t0.000\t0.000\n",
        "110\t0.605\t0.614\t"
       ]
      },
      {
       "output_type": "stream",
       "stream": "stdout",
       "text": [
        "4.000\t0.000\t1.000\t3.000\n",
        "120\t0.607\t0.618\t"
       ]
      },
      {
       "output_type": "stream",
       "stream": "stdout",
       "text": [
        "6.000\t0.000\t0.000\t1.000\n",
        "130\t0.611\t0.613\t"
       ]
      },
      {
       "output_type": "stream",
       "stream": "stdout",
       "text": [
        "3.000\t0.000\t1.000\t2.000\n",
        "140\t0.607\t0.607\t"
       ]
      },
      {
       "output_type": "stream",
       "stream": "stdout",
       "text": [
        "4.000\t1.000\t1.000\t2.000\n",
        "150\t0.607\t0.612\t"
       ]
      },
      {
       "output_type": "stream",
       "stream": "stdout",
       "text": [
        "3.000\t1.000\t1.000\t3.000\n",
        "160\t0.605\t0.610\t"
       ]
      },
      {
       "output_type": "stream",
       "stream": "stdout",
       "text": [
        "9.000\t0.000\t0.000\t1.000\n",
        "170\t0.607\t0.612\t"
       ]
      },
      {
       "output_type": "stream",
       "stream": "stdout",
       "text": [
        "4.000\t1.000\t0.000\t2.000\n",
        "180\t0.616\t0.612\t"
       ]
      },
      {
       "output_type": "stream",
       "stream": "stdout",
       "text": [
        "2.000\t0.000\t2.000\t4.000\n",
        "190\t0.618\t0.616\t"
       ]
      },
      {
       "output_type": "stream",
       "stream": "stdout",
       "text": [
        "3.000\t0.000\t0.000\t2.000\n",
        "200\t0.616\t0.615\t"
       ]
      },
      {
       "output_type": "stream",
       "stream": "stdout",
       "text": [
        "2.000\t3.000\t1.000\t0.000\n"
       ]
      }
     ],
     "prompt_number": 66
    },
    {
     "cell_type": "code",
     "collapsed": false,
     "input": [
      "## Plot results\n",
      "import matplotlib as mpl\n",
      "import matplotlib.pyplot as plt\n",
      "import fnmatch\n",
      "import numpy as np\n",
      "mpl.style.use('bmh')\n",
      "\n",
      "\n",
      "def load_results(datafile, separator=\",\"):\n",
      "    # cost, average, standar deviation\n",
      "    points = np.loadtxt(datafile, delimiter=separator, unpack=True,skiprows=1)\n",
      "    return points\n",
      "\n",
      "def get_result_filenames(input_dir, measure, dataset=''):\n",
      "    names = []\n",
      "    print input_dir\n",
      "    for path, subdirs, files in os.walk(input_dir):\n",
      "        for filename in files:   \n",
      "            if fnmatch.fnmatch(filename, \"data-\"+dataset+\"**\"+measure+\".txt\"):\n",
      "                print filename\n",
      "                names.append(os.path.join(path, filename))\n",
      "        break\n",
      "    return names\n",
      "\n",
      "def get_method_name(file_name):\n",
      "    name = file_name.split(\"\\\\\")[-1:][0]\n",
      "    name = name.split(\"-\")\n",
      "    name = name[-9:-1]  \n",
      "    return \"-\".join(name[::2])\n",
      "\n",
      "def plot_results(measure, every=1):\n",
      "    file_names = get_result_filenames('./results', measure)\n",
      "    for iFile,f in enumerate(file_names):\n",
      "        cost, mean, stdev = load_results(f, separator='\\t')\n",
      "        name = get_method_name(f)\n",
      "        plt.plot(cost[::every], mean[::every], label=name)\n",
      "    plt.legend(loc='best')\n",
      "    plt.ylabel(measure)\n",
      "    plt.xlabel('Cost')\n",
      "\n",
      "plot_results('accu')"
     ],
     "language": "python",
     "metadata": {},
     "outputs": [
      {
       "output_type": "stream",
       "stream": "stdout",
       "text": [
        "./results\n",
        "data-20news-lrn-sequential-ut-rnd-snip-sr-cal-zscores_rank-test-accu.txt\n"
       ]
      },
      {
       "metadata": {},
       "output_type": "display_data",
       "png": "[encoded data removed]",
       "text": [
        "<matplotlib.figure.Figure at 0x112b422d0>"
       ]
      }
     ],
     "prompt_number": 67
    },
    {
     "cell_type": "code",
     "collapsed": false,
     "input": [],
     "language": "python",
     "metadata": {},
     "outputs": []
    }
   ],
   "metadata": {}
  }
 ]
}