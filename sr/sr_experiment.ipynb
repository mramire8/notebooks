{
 "metadata": {
  "name": "",
  "signature": "sha256:104dda17174653f9470ccef2b5501eb758d73c4fc34ae53e61b20f28298d1724"
 },
 "nbformat": 3,
 "nbformat_minor": 0,
 "worksheets": [
  {
   "cells": [
    {
     "cell_type": "markdown",
     "metadata": {},
     "source": [
      "## SR Experiment \n",
      "\n",
      "### Requirements\n",
      "\n",
      "* scipy\n",
      "* numpy \n",
      "* sklearn\n",
      "* structured module\n",
      "\n",
      "### Configuration \n",
      "\n",
      "Configuration file of the experiment contains:\n",
      "\n",
      "* expert\n",
      "* learner\n",
      "* experiment \n",
      "* data\n",
      "\n",
      "### This Notebook\n",
      "\n",
      "Config file: default.cfg\n"
     ]
    },
    {
     "cell_type": "code",
     "collapsed": false,
     "input": [
      "## Imports \n",
      "\n",
      "STRUCTURED = '/Users/maru/MyCode/structured'\n",
      "DATA='/Users/maru/MyCode/data/imdb'\n",
      "import sys\n",
      "import os\n",
      "sys.path.append(os.path.abspath(STRUCTURED))\n",
      "\n",
      "import utilities.configutils as cfgutils\n",
      "from  experiment.base import Experiment\n",
      "\n",
      "def change_option(config, section, option, new_value):\n",
      "    config.remove_option(section, option)\n",
      "    config.set(section, option, new_value)\n",
      "    return config"
     ],
     "language": "python",
     "metadata": {},
     "outputs": [],
     "prompt_number": 34
    },
    {
     "cell_type": "code",
     "collapsed": false,
     "input": [
      "# Load configuration\n",
      "# from ConfigParser import SafeConfigParser\n",
      "\n",
      "# Load an initial configuration\n",
      "config = cfgutils.get_config('./imdb_neu_rnd_sr_rank.cfg')\n",
      "\n",
      "# Modify Config if necessary, for quick testing. Changes made here to the configuration will not be saved in the config file. \n",
      "# to modify or add parameters of the configuration use the set command:\n",
      "\n",
      "#config = change_option('section', 'parameter', new_value)\n",
      "config = change_option(config, 'experiment', 'maxiter', '20')\n",
      "\n",
      "## print configuration\n",
      "# Student\n",
      "print \"Student\"\n",
      "\n",
      "print \"\\n\".join([\"{}={}\".format(x,y) for x,y in cfgutils.get_section_options(config, 'learner').items()])\n",
      "\n",
      "#Expert\n",
      "print \"\\nExpert\"\n",
      "print \"\\n\".join([\"{}={}\".format(x,y) for x,y in cfgutils.get_section_options(config, 'expert').items()])\n",
      "\n",
      "#Expert\n",
      "print \"\\nExperiment\"\n",
      "print \"\\n\".join([\"{}={}\".format(x,y) for x,y in cfgutils.get_section_options(config, 'experiment').items()])\n",
      "\n"
     ],
     "language": "python",
     "metadata": {},
     "outputs": [
      {
       "output_type": "stream",
       "stream": "stdout",
       "text": [
        "Student\n",
        "calibration=zscores_rank\n",
        "type=sequential\n",
        "snippet=sr\n",
        "calibrate=True\n",
        "model=lrl2\n",
        "parameter=1\n",
        "utility=rnd\n",
        "\n",
        "Expert\n",
        "type=neutral\n",
        "costmodel=1\n",
        "threshold=0.4\n",
        "model=lrl2\n",
        "parameter=1\n",
        "sent_tokenizer=nltk\n",
        "\n",
        "Experiment\n",
        "fileprefix=-test\n",
        "cheatingmode=False\n",
        "trials=3\n",
        "bootstrap=50\n",
        "budget=1000\n",
        "stepsize=10\n",
        "seed=876543210\n",
        "limit=2\n",
        "maxiter=20\n",
        "folds=1\n",
        "data=imdb\n",
        "outputdir=./results/\n",
        "costfunction=unit\n"
       ]
      }
     ],
     "prompt_number": 61
    },
    {
     "cell_type": "code",
     "collapsed": false,
     "input": [
      "# Create experiment\n",
      "experiment = Experiment(\"20news\", config, verbose=True, debug=False)\n",
      "\n",
      "# Start experiment\n",
      "# verbose, prints performance of the student and the oracle confusion matrix at every iteration\n",
      "experiment.start()"
     ],
     "language": "python",
     "metadata": {},
     "outputs": [
      {
       "output_type": "stream",
       "stream": "stdout",
       "text": [
        "data-20news-lrn-sequential-ut-rnd-snip-sr-cal-zscores_rank-test\n",
        "IT\tACCU\tAUC\tT0\tF1\tF0\tT1"
       ]
      },
      {
       "output_type": "stream",
       "stream": "stdout",
       "text": [
        "\n",
        "10\t0.600\t0.583\t3.000\t0.000\t1.000\t1.000\n",
        "20\t0.584\t0.568\t"
       ]
      },
      {
       "output_type": "stream",
       "stream": "stdout",
       "text": [
        "4.000\t0.000\t0.000\t3.000\n",
        "30\t0.605\t0.576\t"
       ]
      },
      {
       "output_type": "stream",
       "stream": "stdout",
       "text": [
        "4.000\t0.000\t1.000\t1.000\n",
        "40\t0.593\t0.574\t"
       ]
      },
      {
       "output_type": "stream",
       "stream": "stdout",
       "text": [
        "3.000\t1.000\t0.000\t3.000\n",
        "50\t0.616\t0.568\t"
       ]
      },
      {
       "output_type": "stream",
       "stream": "stdout",
       "text": [
        "4.000\t1.000\t2.000\t2.000\n",
        "60\t0.605\t0.586\t"
       ]
      },
      {
       "output_type": "stream",
       "stream": "stdout",
       "text": [
        "5.000\t0.000\t0.000\t1.000\n",
        "70\t0.609\t0.589\t"
       ]
      },
      {
       "output_type": "stream",
       "stream": "stdout",
       "text": [
        "4.000\t0.000\t0.000\t3.000\n",
        "80\t0.589\t0.606\t"
       ]
      },
      {
       "output_type": "stream",
       "stream": "stdout",
       "text": [
        "6.000\t1.000\t0.000\t0.000\n",
        "90\t0.607\t0.617\t"
       ]
      },
      {
       "output_type": "stream",
       "stream": "stdout",
       "text": [
        "4.000\t0.000\t0.000\t6.000\n",
        "100\t0.609\t0.618\t"
       ]
      },
      {
       "output_type": "stream",
       "stream": "stdout",
       "text": [
        "5.000\t2.000\t1.000\t1.000\n",
        "110\t0.607\t0.614\t"
       ]
      },
      {
       "output_type": "stream",
       "stream": "stdout",
       "text": [
        "2.000\t0.000\t0.000\t4.000\n",
        "120\t0.611\t0.615\t"
       ]
      },
      {
       "output_type": "stream",
       "stream": "stdout",
       "text": [
        "2.000\t0.000\t0.000\t3.000\n",
        "130\t0.602\t0.618\t"
       ]
      },
      {
       "output_type": "stream",
       "stream": "stdout",
       "text": [
        "6.000\t0.000\t1.000\t0.000\n",
        "140\t0.598\t0.627\t"
       ]
      },
      {
       "output_type": "stream",
       "stream": "stdout",
       "text": [
        "3.000\t0.000\t1.000\t4.000\n",
        "150\t0.593\t0.621\t"
       ]
      },
      {
       "output_type": "stream",
       "stream": "stdout",
       "text": [
        "2.000\t0.000\t2.000\t2.000\n",
        "160\t0.593\t0.621\t"
       ]
      },
      {
       "output_type": "stream",
       "stream": "stdout",
       "text": [
        "4.000\t0.000\t0.000\t4.000\n",
        "170\t0.598\t0.616\t"
       ]
      },
      {
       "output_type": "stream",
       "stream": "stdout",
       "text": [
        "4.000\t1.000\t1.000\t4.000\n",
        "180\t0.600\t0.608\t"
       ]
      },
      {
       "output_type": "stream",
       "stream": "stdout",
       "text": [
        "5.000\t1.000\t1.000\t2.000\n",
        "190\t0.595\t0.608\t"
       ]
      },
      {
       "output_type": "stream",
       "stream": "stdout",
       "text": [
        "4.000\t0.000\t1.000\t1.000\n",
        "200\t0.607\t0.616\t"
       ]
      },
      {
       "output_type": "stream",
       "stream": "stdout",
       "text": [
        "2.000\t2.000\t0.000\t3.000\n",
        "IT\tACCU\tAUC\tT0\tF1\tF0\tT1"
       ]
      },
      {
       "output_type": "stream",
       "stream": "stdout",
       "text": [
        "\n",
        "10\t0.611\t0.604\t5.000\t0.000\t1.000\t1.000\n",
        "20\t0.605\t0.600\t"
       ]
      },
      {
       "output_type": "stream",
       "stream": "stdout",
       "text": [
        "4.000\t1.000\t0.000\t2.000\n",
        "30\t0.607\t0.624\t"
       ]
      },
      {
       "output_type": "stream",
       "stream": "stdout",
       "text": [
        "5.000\t0.000\t0.000\t0.000\n",
        "40\t0.609\t0.623\t"
       ]
      },
      {
       "output_type": "stream",
       "stream": "stdout",
       "text": [
        "4.000\t0.000\t1.000\t3.000\n",
        "50\t0.611\t0.631\t"
       ]
      },
      {
       "output_type": "stream",
       "stream": "stdout",
       "text": [
        "4.000\t0.000\t1.000\t1.000\n",
        "60\t0.611\t0.638\t"
       ]
      },
      {
       "output_type": "stream",
       "stream": "stdout",
       "text": [
        "3.000\t0.000\t1.000\t2.000\n",
        "70\t0.611\t0.640\t"
       ]
      },
      {
       "output_type": "stream",
       "stream": "stdout",
       "text": [
        "3.000\t0.000\t0.000\t3.000\n",
        "80\t0.605\t0.643\t"
       ]
      },
      {
       "output_type": "stream",
       "stream": "stdout",
       "text": [
        "3.000\t0.000\t1.000\t2.000\n",
        "90\t0.602\t0.643\t"
       ]
      },
      {
       "output_type": "stream",
       "stream": "stdout",
       "text": [
        "4.000\t1.000\t1.000\t0.000\n",
        "100\t0.598\t0.653\t"
       ]
      },
      {
       "output_type": "stream",
       "stream": "stdout",
       "text": [
        "4.000\t1.000\t0.000\t3.000\n",
        "110\t0.602\t0.633\t"
       ]
      },
      {
       "output_type": "stream",
       "stream": "stdout",
       "text": [
        "1.000\t2.000\t1.000\t1.000\n",
        "120\t0.614\t0.641\t"
       ]
      },
      {
       "output_type": "stream",
       "stream": "stdout",
       "text": [
        "5.000\t0.000\t0.000\t3.000\n",
        "130\t0.616\t0.655\t"
       ]
      },
      {
       "output_type": "stream",
       "stream": "stdout",
       "text": [
        "5.000\t1.000\t0.000\t1.000\n",
        "140\t0.616\t0.669\t"
       ]
      },
      {
       "output_type": "stream",
       "stream": "stdout",
       "text": [
        "3.000\t0.000\t1.000\t2.000\n",
        "150\t0.616\t0.666\t"
       ]
      },
      {
       "output_type": "stream",
       "stream": "stdout",
       "text": [
        "3.000\t0.000\t1.000\t3.000\n",
        "160\t0.614\t0.673\t"
       ]
      },
      {
       "output_type": "stream",
       "stream": "stdout",
       "text": [
        "2.000\t0.000\t0.000\t3.000\n",
        "170\t0.618\t0.673\t"
       ]
      },
      {
       "output_type": "stream",
       "stream": "stdout",
       "text": [
        "5.000\t1.000\t0.000\t1.000\n",
        "180\t0.628\t0.674\t"
       ]
      },
      {
       "output_type": "stream",
       "stream": "stdout",
       "text": [
        "2.000\t1.000\t0.000\t7.000\n",
        "190\t0.628\t0.686\t"
       ]
      },
      {
       "output_type": "stream",
       "stream": "stdout",
       "text": [
        "5.000\t0.000\t0.000\t4.000\n",
        "200\t0.632\t0.686\t"
       ]
      },
      {
       "output_type": "stream",
       "stream": "stdout",
       "text": [
        "5.000\t0.000\t1.000\t3.000\n",
        "IT\tACCU\tAUC\tT0\tF1\tF0\tT1"
       ]
      },
      {
       "output_type": "stream",
       "stream": "stdout",
       "text": [
        "\n",
        "10\t0.533\t0.566\t4.000\t0.000\t0.000\t3.000\n",
        "20\t0.579\t0.571\t"
       ]
      },
      {
       "output_type": "stream",
       "stream": "stdout",
       "text": [
        "5.000\t0.000\t0.000\t2.000\n",
        "30\t0.554\t0.579\t"
       ]
      },
      {
       "output_type": "stream",
       "stream": "stdout",
       "text": [
        "3.000\t1.000\t0.000\t3.000\n",
        "40\t0.577\t0.593\t"
       ]
      },
      {
       "output_type": "stream",
       "stream": "stdout",
       "text": [
        "4.000\t1.000\t1.000\t2.000\n",
        "50\t0.598\t0.606\t"
       ]
      },
      {
       "output_type": "stream",
       "stream": "stdout",
       "text": [
        "7.000\t0.000\t1.000\t2.000\n",
        "60\t0.605\t0.613\t"
       ]
      },
      {
       "output_type": "stream",
       "stream": "stdout",
       "text": [
        "4.000\t0.000\t0.000\t3.000\n",
        "70\t0.609\t0.617\t"
       ]
      },
      {
       "output_type": "stream",
       "stream": "stdout",
       "text": [
        "4.000\t1.000\t1.000\t4.000\n",
        "80\t0.607\t0.622\t"
       ]
      },
      {
       "output_type": "stream",
       "stream": "stdout",
       "text": [
        "7.000\t0.000\t0.000\t1.000\n",
        "90\t0.605\t0.612\t"
       ]
      },
      {
       "output_type": "stream",
       "stream": "stdout",
       "text": [
        "2.000\t1.000\t2.000\t4.000\n",
        "100\t0.614\t0.621\t"
       ]
      },
      {
       "output_type": "stream",
       "stream": "stdout",
       "text": [
        "8.000\t0.000\t0.000\t0.000\n",
        "110\t0.605\t0.614\t"
       ]
      },
      {
       "output_type": "stream",
       "stream": "stdout",
       "text": [
        "4.000\t0.000\t1.000\t3.000\n",
        "120\t0.607\t0.618\t"
       ]
      },
      {
       "output_type": "stream",
       "stream": "stdout",
       "text": [
        "6.000\t0.000\t0.000\t1.000\n",
        "130\t0.611\t0.613\t"
       ]
      },
      {
       "output_type": "stream",
       "stream": "stdout",
       "text": [
        "3.000\t0.000\t1.000\t2.000\n",
        "140\t0.607\t0.607\t"
       ]
      },
      {
       "output_type": "stream",
       "stream": "stdout",
       "text": [
        "4.000\t1.000\t1.000\t2.000\n",
        "150\t0.607\t0.612\t"
       ]
      },
      {
       "output_type": "stream",
       "stream": "stdout",
       "text": [
        "3.000\t1.000\t1.000\t3.000\n",
        "160\t0.605\t0.610\t"
       ]
      },
      {
       "output_type": "stream",
       "stream": "stdout",
       "text": [
        "9.000\t0.000\t0.000\t1.000\n",
        "170\t0.607\t0.612\t"
       ]
      },
      {
       "output_type": "stream",
       "stream": "stdout",
       "text": [
        "4.000\t1.000\t0.000\t2.000\n",
        "180\t0.616\t0.612\t"
       ]
      },
      {
       "output_type": "stream",
       "stream": "stdout",
       "text": [
        "2.000\t0.000\t2.000\t4.000\n",
        "190\t0.618\t0.616\t"
       ]
      },
      {
       "output_type": "stream",
       "stream": "stdout",
       "text": [
        "3.000\t0.000\t0.000\t2.000\n",
        "200\t0.616\t0.615\t"
       ]
      },
      {
       "output_type": "stream",
       "stream": "stdout",
       "text": [
        "2.000\t3.000\t1.000\t0.000\n"
       ]
      }
     ],
     "prompt_number": 62
    },
    {
     "cell_type": "code",
     "collapsed": false,
     "input": [
      "# Experiment with debugging information, prints selected sentences information, including \n",
      "# docid, target, student prob. distribution, expert prob. distribution, and text of sentence.\n",
      "\n",
      "experiment = Experiment(\"20news\", config, verbose=True, debug=True)\n",
      "experiment.start()"
     ],
     "language": "python",
     "metadata": {},
     "outputs": [
      {
       "output_type": "stream",
       "stream": "stdout",
       "text": [
        "data-20news-lrn-sequential-ut-rnd-snip-sr-cal-zscores_rank-test\n",
        "IT\tACCU\tAUC\tT0\tF1\tF0\tT1"
       ]
      },
      {
       "output_type": "stream",
       "stream": "stdout",
       "text": [
        "\n",
        "10\t0.600\t0.583\t3.000\t0.000\t1.000\t1.000\n",
        "509\t1\t0.520423253057\t0.479576746943\t0.416848586507\t0.583151413493\tWrong: 1915 and if you do your homework, 1909.\n",
        "346\t0\t0.685527078865\t0.314472921135\t0.677905119862\t0.322094880138\t\n",
        "You sure don't understand it.\n",
        "78\t0\t0.448321543369\t0.551678456631\t0.718770461747\t0.281229538253\tSo that the non-muslim readers of this group will see how far from \n",
        "the simple basics of Islam such views are on the face of them.\n",
        "620\t1\t0.189732855522\t0.810267144478\t0.345137486919\t0.654862513081\tGod be with you,\n",
        "427\t0\t0.595035802289\t0.404964197711\t0.674776483803\t0.325223516197\tHe just assumes that if\n",
        "you have two bad people then they ALL must be bad.\n",
        "479\t1\t0.429844010146\t0.570155989854\t0.527033393313\t0.472966606687\t\t\t\tAndreas\n",
        "\n",
        "-- \n",
        "\n",
        "\t\tAndreas - Siperian Sirri   Siberian Stint\n",
        "182\t1\t0.311172376577\t0.688827623423\t0.481786375668\t0.518213624332\tI'm not saying all Christians are terrorists, I'm using \"Christian\n",
        "     terrorist\" in the same way the media uses Islamic terrorist.\n",
        "237\t0\t0.509438265207\t0.490561734793\t0.5913679043\t0.4086320957\tI did not claim that our system was objective.\n",
        "\n",
        "456\t1\t0.736942806697\t0.263057193303\t0.791106136012\t0.208893863988\tCan't go boom, right?\n",
        "335\t1\t0.289641752277\t0.710358247723\t0.583168133872\t0.416831866128\t\tUnless God admits that he didn't do it....\n",
        "\n",
        "\t=)\n",
        "\n",
        "\n",
        "---  \n",
        "\n",
        "  \" I'd Cheat on Hillary Too.\"\n",
        "20\t0.584\t0.568\t"
       ]
      },
      {
       "output_type": "stream",
       "stream": "stdout",
       "text": [
        "4.000\t0.000\t0.000\t3.000\n",
        "240\t0\t0.556996927137\t0.443003072863\t0.775149932835\t0.224850067165\tOr, to cut all the religious crap, I'm a woman, thanks.\n",
        "495\t1\t0.320538781043\t0.679461218957\t0.570467661588\t0.429532338412\tWhen are we going to hear a Christian answer to this question?\n",
        "234\t1\t0.428245266817\t0.571754733183\t0.363814025841\t0.636185974159\tSorry, you have just disqualified yourself, but please play again.\n",
        "\n",
        "30\t0\t0.654187737755\t0.345812262245\t0.789003783641\t0.210996216359\t\tShe:  What is the Big Bang theory.\n",
        "282\t0\t0.526195781025\t0.473804218975\t0.445769147162\t0.554230852838\t=====\n",
        "\n",
        "(disperse smileys until no longer offended)\n",
        "\n",
        "\n",
        "355\t1\t0.172852920984\t0.827147079016\t0.150648721682\t0.849351278318\tThe word of Sin is Restriction.\n",
        "481\t0\t0.657077556786\t0.342922443214\t0.634058678529\t0.365941321471\tWhich objective system are you talking about?\n",
        "615\t1\t0.322239472124\t0.677760527876\t0.490179800133\t0.509820199867\t\n",
        "Not to worry.\n",
        "44\t0\t0.64597390596\t0.35402609404\t0.700381055618\t0.299618944382\tJust the stuff people kill each\n",
        "other over nowadays.\n",
        "129\t1\t0.155002140268\t0.844997859732\t0.237156550422\t0.762843449578\t               Therefore, all those Christians who worship Jesus, and \n",
        "          pray to Jesus, and expect Jesus to return and save them from \n",
        "          their sins, are only KIDDING THEMSELVES, and have allowed \n",
        "          themselves to be DUPED by a religion that was mostly \n",
        "          MANUFACTURED by the Romans.\n",
        "30\t0.605\t0.576\t"
       ]
      },
      {
       "output_type": "stream",
       "stream": "stdout",
       "text": [
        "4.000\t0.000\t1.000\t1.000\n",
        "31\t1\t0.505132393346\t0.494867606654\t0.469011495737\t0.530988504263\thard question, no good answer.\n",
        "470\t1\t0.273706077705\t0.726293922295\t0.495244050863\t0.504755949137\tThe person who was telling me about the Septuagint version said that the Greeks\n",
        "had a wonderful library in Alexandria that was full of manuscripts/scrolls\n",
        "and that it was burned soon after the Septuagint version was translated \n",
        "(perhaps to conceal some changes in the different versions, or perhaps just\n",
        "as part of the typical burning of valuable things that occurs during changes\n",
        "in power groups, he/I dunno).\n",
        "584\t0\t0.611965564271\t0.388034435729\t0.87567933047\t0.12432066953\tSo why the hoopla about Khomeini not being a real Muslim, and the\n",
        "hoopla about atheists being not real human beings?\n",
        "100\t1\t0.315247399211\t0.684752600789\t0.428938010479\t0.571061989521\tIn two places at once?\n",
        "599\t1\t0.658864819922\t0.341135180078\t0.622602906896\t0.377397093104\tIt had many elements that seem\n",
        "to have been borrowed by Catholicism (e.g.\n",
        "468\t0\t0.684587741248\t0.315412258752\t0.736277161472\t0.263722838528\tMany people are forced to use the \"automobile system.\"\n",
        "658\t1\t0.398309273293\t0.601690726707\t0.252691402044\t0.747308597956\tFrank\n",
        "570\t0\t0.534960099426\t0.465039900574\t0.695926794935\t0.304073205065\t(Fines, I suppose.)\n",
        "39\t1\t0.240781609397\t0.759218390603\t0.44802981598\t0.55197018402\tAnd\n",
        "if I decide to believe for no good reason, why not believe in some\n",
        "other god?\n",
        "539\t0\t0.604806200379\t0.395193799621\t0.676367817089\t0.323632182911\tBut I don't hate Physics so long as some clown doesn't start trying\n",
        "to control my life on the assumption that we are all interchangeable\n",
        "atoms, rather than individual human beings.\n",
        "IT\tACCU\tAUC\tT0\tF1\tF0\tT1"
       ]
      },
      {
       "output_type": "stream",
       "stream": "stdout",
       "text": [
        "\n",
        "10\t0.611\t0.604\t5.000\t0.000\t1.000\t1.000\n",
        "658\t0\t0.376823183105\t0.623176816895\t0.656902474413\t0.343097525587\tAnd, you still have not answered my question.\n",
        "674\t1\t0.236895975961\t0.763104024039\t0.381559973355\t0.618440026645\tSomeone who raises you and loves you does not speak to you strickly on a\n",
        "logical level.\n",
        "291\t0\t0.605859366976\t0.394140633024\t0.76254648338\t0.23745351662\t\n",
        "While religion certainly has some benefits in a combat situation, what are\n",
        "the benefits of cocaine?\n",
        "188\t1\t0.478750335853\t0.521249664147\t0.52703660517\t0.47296339483\t:-)\n",
        "\n",
        "Fraternally,\n",
        "352\t0\t0.244411429709\t0.755588570291\t0.582769162742\t0.417230837258\tIf you wouldn't approve of\n",
        "even that one, I am beginning to think that you just have something\n",
        "against mottos in general.\n",
        "226\t1\t0.477204217758\t0.522795782242\t0.477391312644\t0.522608687356\tI don't know where Campbell got his info, but I remember thinking he\n",
        "was being a little eclectic.\n",
        "452\t0\t0.614271678897\t0.385728321103\t0.604727091689\t0.395272908311\tCheers\n",
        "\n",
        "Simon\n",
        "655\t0\t0.65195292083\t0.34804707917\t0.6434323841\t0.3565676159\tIn fact, Christianity\n",
        "mercifully consumes only 90 or so of its nearly 600 pages.\n",
        "9\t1\t0.660910891821\t0.339089108179\t0.77659682348\t0.22340317652\t[ ALWAYS use the \"KING JAMES VERSION\".\n",
        "369\t0\t0.57329114421\t0.42670885579\t0.846004909894\t0.153995090106\t  No, but at least it would be a theory.\n",
        "20\t0.605\t0.600\t"
       ]
      },
      {
       "output_type": "stream",
       "stream": "stdout",
       "text": [
        "4.000\t1.000\t0.000\t2.000\n",
        "593\t0\t0.296082113123\t0.703917886877\t0.410298467418\t0.589701532582\tConsidering what I have to wade through before I make one\n",
        "of my insightful, dead-on-the-money repsonses, I have to agree that\n",
        "something's getting stirred up.\n",
        "515\t0\t0.632143335845\t0.367856664155\t0.669041946779\t0.330958053221\tBravo for GO(DS) = 0.\n",
        "575\t0\t0.657540544097\t0.342459455903\t0.684636559481\t0.315363440519\t\"The\n",
        "Popehat(tm) is actually an advanced bone spur.\n",
        "3\t1\t0.129132583216\t0.870867416784\t0.270876259104\t0.729123740896\tYou misread.\n",
        "676\t1\t0.385426177829\t0.614573822171\t0.390956303899\t0.609043696101\tTRANSLATION\n",
        "\n",
        "\tIn the minds of those who are too attached to sense enjoyment and\n",
        "material opulence, and who are bewildered by such things, the resolute\n",
        "determination for devotional service to the Supreme Lord does not take\n",
        "place.\n",
        "625\t0\t0.260618615605\t0.739381384395\t0.365824110689\t0.634175889311\tMy father recently bought a business, the business price was 150,000 pounds\n",
        "and my father approached the people in the community for help, he raised\n",
        "60,000 pounds in interest free loans from friends and relatives and \n",
        "Muslims he knew, 50,000 had cash and the rest he got a business loan, after\n",
        "paying off the Muslim lenders many of them helped him with further loans\n",
        "to help him clear the bank debt and save him from further intrest, this\n",
        "is an example of a Muslim community helping one another, why did they help\n",
        "because of their common identity as Muslims.\n",
        "191\t1\t0.554727048908\t0.445272951092\t0.515075934783\t0.484924065217\tContinue to move the price up; \n",
        "at some point a few people would accept then more then more until \n",
        "probably all would accept at a high enough number.\n",
        "657\t0\t0.546410070808\t0.453589929192\t0.731157719636\t0.268842280364\tDave,\n",
        "\n",
        "Can you explain the purpose of your post, I can't imagine what you\n",
        "must have thougt it meant. \n",
        "601\t0\t0.607554983216\t0.392445016784\t0.762360903261\t0.237639096739\tEVER HEAR OF\n",
        "BAPTISM AT BIRTH?\n",
        "613\t0\t0.570426877778\t0.429573122222\t0.529845250863\t0.470154749137\t\n",
        "\n",
        "The majority of those who can open their mouths in public perhaps.\n",
        "30\t0.607\t0.624\t"
       ]
      },
      {
       "output_type": "stream",
       "stream": "stdout",
       "text": [
        "5.000\t0.000\t0.000\t0.000\n",
        "539\t0\t0.598178298939\t0.401821701061\t0.593958924299\t0.406041075701\tNot necessarily, especially if the rapist is known as such.\n",
        "568\t1\t0.339260022996\t0.660739977004\t0.416845522443\t0.583154477557\tWrong: 1915 and if you do your homework, 1909.\n",
        "628\t1\t0.63938192976\t0.36061807024\t0.454226088052\t0.545773911948\tRevelation aside, one can only \"know\" Christ second-hand or worse.\n",
        "521\t0\t0.448363988619\t0.551636011381\t0.744980911608\t0.255019088392\tA standard of conduct does exist, but we\n",
        "are free to ignore it or misunderstand it or distort it in whatever\n",
        "ways we find convenient, but our response to God's edicts can in no\n",
        "way be used to question God's existence.\n",
        "181\t0\t0.428132620711\t0.571867379289\t0.614538364313\t0.385461635687\tThen they'll reinvent interest, but like good Muslims, they'll call\n",
        "it something else.\n",
        "656\t0\t0.246846618532\t0.753153381468\t0.527001100362\t0.472998899638\tWhat justification do you have for this?\n",
        "277\t0\t0.492823150218\t0.507176849782\t0.869872967321\t0.130127032679\tWhy is it okay to disbelieve because of\n",
        "your incredulity if you admit that it's a fallacy?\n",
        "148\t0\t0.674054984198\t0.325945015802\t0.63539993693\t0.36460006307\tWell, \"objective\" would assume a system based on clear and fundamental\n",
        "concepts, while \"arbitary\" implies no clear line of reasoning.\n",
        "400\t0\t0.311793696628\t0.688206303372\t0.613912773897\t0.386087226103\tWell, it's obvious that you *don't* attempt, otherwise you would be aware\n",
        "that they *don't* all \"loudly [claim] to be the One True Christian\".\n",
        "596\t1\t0.644818720882\t0.355181279118\t0.48777703716\t0.51222296284\tCheers,\n",
        "Kent\n",
        "IT\tACCU\tAUC\tT0\tF1\tF0\tT1"
       ]
      },
      {
       "output_type": "stream",
       "stream": "stdout",
       "text": [
        "\n",
        "10\t0.533\t0.566\t4.000\t0.000\t0.000\t3.000\n",
        "644\t0\t0.576261005878\t0.423738994122\t0.644968995309\t0.355031004691\tSo, you consider the german poster's remark anti-semitic?\n",
        "494\t1\t0.104103649803\t0.895896350197\t0.497930375773\t0.502069624227\tMost people are not Christian.\n",
        "74\t1\t0.404546927281\t0.595453072719\t0.324757123332\t0.675242876668\tJim\n",
        "Jones, circa 1993.\n",
        "189\t1\t0.0840853368402\t0.91591466316\t0.140561523028\t0.859438476972\tAnd in one Lord Jesus Christ, the only-begotten Son of God, begotten of the Father before all worlds, God of God, Light of Light, Very God of Very God, begotten not made, being of one substance with the Father by whom all things were made; who for us men, and for our salvation, came down from heaven and was incarnate by the Holy Spirit of the Virgin Mary, and was made man, and was crucified also for us under Pontius Pilate.\n",
        "113\t1\t0.124427870453\t0.875572129547\t0.359492081462\t0.640507918538\tAgainI say:\n",
        "\n",
        "\t\tI do NOT know who did what\n",
        "\t\tI was NOT there.\n",
        "140\t0\t0.625737525666\t0.374262474334\t0.700955057964\t0.299044942036\tHow about\n",
        "a gorilla?\n",
        "293\t0\t0.59371034455\t0.40628965545\t0.669614188283\t0.330385811717\tOh?\n",
        "559\t1\t0.388105011786\t0.611894988214\t0.487777038844\t0.512222961156\tCheers,\n",
        "Kent\n",
        "299\t0\t0.634947834866\t0.365052165134\t0.793149967777\t0.206850032223\tChampaign-Urbana\n",
        "          -Bill Clinton 3rd Debate             cobb@alexia.lis.uiuc.edu\n",
        "143\t1\t0.459687917875\t0.540312082125\t0.417393704013\t0.582606295987\tNo Rosicrucian would ever admit or deny being such.\n",
        "20\t0.579\t0.571\t"
       ]
      },
      {
       "output_type": "stream",
       "stream": "stdout",
       "text": [
        "5.000\t0.000\t0.000\t2.000\n",
        "60\t0\t0.724224788529\t0.275775211471\t0.700955057964\t0.299044942036\tHow about Napoleon, Mussolini, Ronald Reagan?\n",
        "298\t0\t0.544263216979\t0.455736783021\t0.782579597535\t0.217420402465\t:)\n",
        "--\n",
        "Bake Timmons, III\n",
        "227\t1\t0.449959327456\t0.550040672544\t0.391227335906\t0.608772664094\t}But today we find four articles from Jim, one of which has the subject\n",
        "\n",
        "So?\n",
        "525\t0\t0.387851530134\t0.612148469866\t0.487777038844\t0.512222961156\tCheers,\n",
        "Kent\n",
        "619\t0\t0.300022385148\t0.699977614852\t0.608670165874\t0.391329834126\tIt's not.\n",
        "231\t0\t0.559318516013\t0.440681483987\t0.55435776807\t0.44564223193\tAll were allowed under the constitution by the founding fathers.\n",
        "69\t0\t0.547974365663\t0.452025634337\t0.861470143707\t0.138529856293\t/\\/\\/\\/\\/\\/\\/\\/\\/\\/\\/\\/\\/\\/\\/\\/\\/\\/\\/\\/\\/\\/\\/\\/\\/\\/\\/\\/\\/\\/\\/\\/\\/\\/\\ \n",
        "\n",
        "Bob Beauchaine bobbe@vice.ICO.TEK.COM \n",
        "\n",
        "They said that Queens could stay, they blew the Bronx away,\n",
        "and sank Manhattan out at sea.\n",
        "625\t1\t0.143158213842\t0.856841786158\t0.188591142435\t0.811408857565\tThe commandment to love your neighbor as yourself can be viewed,\n",
        "in part, as reminding man that he is not God and cannot act as if\n",
        "he has \"ultimate responsibility.\"\n",
        "476\t0\t0.469665492478\t0.530334507522\t0.51660596124\t0.48339403876\t20:52 P.S.T.\n",
        "38\t0\t0.541651592306\t0.458348407694\t0.633728402593\t0.366271597407\tI think I know what you're implying, but I'd like to see\n",
        "your version of this better alternative just the same.\n",
        "30\t0.554\t0.579\t"
       ]
      },
      {
       "output_type": "stream",
       "stream": "stdout",
       "text": [
        "3.000\t1.000\t0.000\t3.000\n",
        "402\t0\t0.379999739914\t0.620000260086\t0.560199948063\t0.439800051937\tYou don't know me, but take this hand anyway.\n",
        "585\t1\t0.122500065842\t0.877499934158\t0.186282533725\t0.813717466275\tWell it did, and 19\n",
        "children died, and no God saved them.\n",
        "590\t0\t0.36746120621\t0.63253879379\t0.70664692903\t0.29335307097\tA religion can, and often does, believe in and require additional duties\n",
        "of a group member.\n",
        "515\t0\t0.316514979049\t0.683485020951\t0.487777038844\t0.512222961156\tCheers,\n",
        "Kent\n",
        "17\t0\t0.421202046486\t0.578797953514\t0.587776650836\t0.412223349164\tPlease don't tell me this wasn't a joke.\n",
        "164\t0\t0.623252711639\t0.376747288361\t0.705618388302\t0.294381611698\tAnimals *can* be trained, but if they're instincts serve them well, there is\n",
        "no reason to contradict them.\n",
        "198\t0\t0.159985818638\t0.840014181362\t0.318544559339\t0.681455440661\tTo me this is not good.\n",
        "162\t1\t0.0784445769461\t0.921555423054\t0.358889917751\t0.641110082249\tDid he not misquote God?\n",
        "21\t1\t0.106276896447\t0.893723103553\t0.201667329159\t0.798332670841\tFor example, poor children \n",
        "without good schools should work especially hard in order to make a better\n",
        "life for their children (and themselves).\n",
        "599\t0\t0.603878425115\t0.396121574885\t0.836043409423\t0.163956590577\tHumans are to some extent similar, because we all\n",
        "belong to the same species; that that species has evolved is another\n",
        "story altogether.\n"
       ]
      }
     ],
     "prompt_number": 41
    },
    {
     "cell_type": "code",
     "collapsed": false,
     "input": [
      "## Plot results\n",
      "import matplotlib as mpl\n",
      "import matplotlib.pyplot as plt\n",
      "import fnmatch\n",
      "import numpy as np\n",
      "mpl.style.use('bmh')\n",
      "\n",
      "\n",
      "def load_results(datafile, separator=\",\"):\n",
      "    # cost, average, standar deviation\n",
      "    points = np.loadtxt(datafile, delimiter=separator, unpack=True,skiprows=1)\n",
      "    return points\n",
      "\n",
      "def get_result_filenames(input_dir, measure, dataset=''):\n",
      "    names = []\n",
      "    print input_dir\n",
      "    for path, subdirs, files in os.walk(input_dir):\n",
      "        for filename in files:   \n",
      "            if fnmatch.fnmatch(filename, \"data-\"+dataset+\"**\"+measure+\".txt\"):\n",
      "                print filename\n",
      "                names.append(os.path.join(path, filename))\n",
      "        break\n",
      "    return names\n",
      "\n",
      "def get_method_name(file_name):\n",
      "    name = file_name.split(\"\\\\\")[-1:][0]\n",
      "    name = name.split(\"-\")\n",
      "    name = name[-9:-1]  \n",
      "    return \"-\".join(name[::2])\n",
      "\n",
      "def plot_results(measure, every=1):\n",
      "    file_names = get_result_filenames('./results', measure)\n",
      "    for iFile,f in enumerate(file_names):\n",
      "        cost, mean, stdev = load_results(f, separator='\\t')\n",
      "        name = get_method_name(f)\n",
      "        plt.plot(cost[::every], mean[::every], label=name)\n",
      "    plt.legend(loc='best')\n",
      "    plt.ylabel(measure)\n",
      "    plt.xlabel('Cost')\n",
      "\n",
      "plot_results('accu')"
     ],
     "language": "python",
     "metadata": {},
     "outputs": [
      {
       "output_type": "stream",
       "stream": "stdout",
       "text": [
        "./results\n",
        "data-20news-lrn-sequential-ut-rnd-snip-sr-cal-zscores_rank-test-accu.txt\n"
       ]
      },
      {
       "metadata": {},
       "output_type": "display_data",
       "png": "[encoded data removed]",
       "text": [
        "<matplotlib.figure.Figure at 0x1165ff550>"
       ]
      }
     ],
     "prompt_number": 65
    },
    {
     "cell_type": "code",
     "collapsed": false,
     "input": [],
     "language": "python",
     "metadata": {},
     "outputs": []
    }
   ],
   "metadata": {}
  }
 ]
}