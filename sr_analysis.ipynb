{
 "metadata": {
  "name": "",
  "signature": "sha256:ccb4c7edc962938069dc54fb2f8844365d0f8fb297617c1a4825e7b3ef57b2ea"
 },
 "nbformat": 3,
 "nbformat_minor": 0,
 "worksheets": [
  {
   "cells": [
    {
     "cell_type": "markdown",
     "metadata": {},
     "source": [
      "## Analysis of Uncertainty on SR student model\n",
      "Debugging selected sentences with:\n",
      "<docid> <sentence> <student sentence label> <student sentence probability> <oracle sentence label> <true document label>\n",
      "\n",
      "What type of snippets are being selected by random and SR? \n",
      "\n",
      "* compute the student's uncertainty for each document that is to be labeled. \n",
      "* Plot the distribution of these values, split by whether the label is correct/incorrect. \n",
      "* Check rnd-sr for a larger spike of incorrect labels for uncertain documents\n",
      "    * Then this would indicate that more useful documents are being assigned the wrong label (assuming uncertainty is a good utility measure).\n"
     ]
    },
    {
     "cell_type": "code",
     "collapsed": false,
     "input": [
      "import numpy as np\n",
      "import matplotlib.pyplot as plt\n",
      "import matplotlib as mpl\n",
      "import ast\n",
      "mpl.style.use('bmh')\n",
      "\n",
      "#load data of SR\n",
      "sr_file = 'data-imdb-lrn-sequential-ut-rnd-snip-sr-cal-True.txt'\n",
      "#load data of RND\n",
      "rnd_file = 'data-imdb-lrn-sequential-ut-rnd-snip-rnd-cal-False.txt'\n",
      "\n",
      "def read_data(filename):\n",
      "    f = open(filename)\n",
      "    with f:\n",
      "        lines = f.readlines() \n",
      "    data =  [l.strip().split(\"\\t\")[:6] for l in lines[1:]]\n",
      "    text =  np.array([l.strip().split(\"\\t\")[-1] for l in lines[1:]])\n",
      "\n",
      "    data = np.array([[float(x) for x in row] for row in data])\n",
      "    return data, text\n",
      "\n",
      "#docid, target,student-y0,student-y1,expert-y0,expert-y1,snippet\n",
      "sr,sr_text = read_data(sr_file)\n",
      "rnd,rnd_text = read_data(rnd_file)"
     ],
     "language": "python",
     "metadata": {},
     "outputs": [],
     "prompt_number": 75
    },
    {
     "cell_type": "code",
     "collapsed": false,
     "input": [
      "def get_uncertainty(data, type='student'):\n",
      "    if type=='student':\n",
      "        probs = data[:,[2,3]]\n",
      "    else:\n",
      "        probs = data[:,[4,5]]\n",
      "    unc = 1 - probs.max(axis=1)\n",
      "    return unc\n",
      "\n",
      "def f(x):\n",
      "    if x > .5:\n",
      "        return 0\n",
      "    else: \n",
      "        return 1\n",
      "    \n",
      "unc_stu_sr = get_uncertainty(sr,type='student')\n",
      "unc_exp_sr = get_uncertainty(sr,type='expert')\n",
      "pred_stu_sr = [f(x) for x in sr[:,2]]\n",
      "correct_st_sr = pred_stu_sr == sr[:,1]\n",
      "print sr[:3, [2,3]]\n",
      "print unc_stu_sr[:3]\n",
      "        \n",
      "    "
     ],
     "language": "python",
     "metadata": {},
     "outputs": [
      {
       "output_type": "stream",
       "stream": "stdout",
       "text": [
        "[[ 0.73420436  0.26579564]\n",
        " [ 0.50167503  0.49832497]\n",
        " [ 0.58917482  0.41082518]]\n",
        "[ 0.26579564  0.49832497  0.41082518]\n"
       ]
      }
     ],
     "prompt_number": 117
    },
    {
     "cell_type": "code",
     "collapsed": false,
     "input": [
      "def plot_uncertainty(unc, correct, title):\n",
      "    plt.hist([unc[correct],unc[-correct]],  bins=10,\n",
      "             label=['correct','incorrect'])\n",
      "    plt.title(\"Student Uncertainty on Selected Snippets - \"+ title)\n",
      "    plt.xlabel('Uncertainty $1 - \\max_{y}P_S(y|s)$')\n",
      "    plt.ylabel('Frequency')\n",
      "    plt.legend()\n",
      "    plt.savefig(\"unc-\"+title+\".png\")\n",
      "    \n",
      "plot_uncertainty(unc_stu_sr[:1000], correct_st_sr[:1000], \"SR\")\n",
      "print \"Incorrect: %s, Correct: %s\" % (len(unc_stu_sr[-correct_st_sr[:1000]]), len(unc_stu_sr[correct_st_sr[:1000]]))"
     ],
     "language": "python",
     "metadata": {},
     "outputs": [
      {
       "output_type": "stream",
       "stream": "stdout",
       "text": [
        "Incorrect: 323, Correct: 677\n"
       ]
      },
      {
       "metadata": {},
       "output_type": "display_data",
       "png": "[encoded data removed]",
       "text": [
        "<matplotlib.figure.Figure at 0x10878bf90>"
       ]
      }
     ],
     "prompt_number": 176
    },
    {
     "cell_type": "code",
     "collapsed": false,
     "input": [
      "unc_stu_rnd = get_uncertainty(rnd,type='student')\n",
      "unc_exp_rnd = get_uncertainty(rnd,type='expert')\n",
      "pred_stu_rnd = [f(x) for x in rnd[:,2]]\n",
      "correct_st_rnd = pred_stu_rnd == rnd[:,1]\n",
      "plot_uncertainty(unc_stu_rnd[:1000], correct_st_rnd[:1000], \"RND\")\n",
      "print \"Incorrect: %s, Correct: %s\" % (len(unc_stu_rnd[-correct_st_rnd[:1000]]), len(unc_stu_rnd[correct_st_rnd[:1000]]))"
     ],
     "language": "python",
     "metadata": {},
     "outputs": [
      {
       "output_type": "stream",
       "stream": "stdout",
       "text": [
        "Incorrect: 244, Correct: 756\n"
       ]
      },
      {
       "metadata": {},
       "output_type": "display_data",
       "png": "[encoded data removed]",
       "text": [
        "<matplotlib.figure.Figure at 0x105c11f50>"
       ]
      }
     ],
     "prompt_number": 146
    },
    {
     "cell_type": "code",
     "collapsed": false,
     "input": [
      "# plot_uncertainty(unc_stu_rnd[1000:2000], correct_st_rnd[1000:2000], \"RND\")\n",
      "# plot_uncertainty(unc_stu_rnd[2000:3000], correct_st_rnd[2000:3000], \"RND\")\n",
      "\n",
      "# Text of the good and bad snippets \n",
      "def incorrect_text(unc, correct, text, top=100):\n",
      "    i = 0\n",
      "    for u, c, t in zip(unc[:top], correct[:top], text[:top]):\n",
      "        if c == False and u >.4:\n",
      "            print \"%.3f\\t%s\\t%s\" %(u ,c, t)\n",
      "            i+=1\n",
      "    print \"Total:\", i\n",
      "print \"Random - Errors\"\n",
      "incorrect_text(unc_stu_rnd, correct_st_rnd, rnd_text, top=1000)\n",
      "print \"\\nSR_CAL - Errors\"\n",
      "incorrect_text(unc_stu_sr, correct_st_sr, sr_text, top=1000)\n",
      "\n"
     ],
     "language": "python",
     "metadata": {},
     "outputs": [
      {
       "output_type": "stream",
       "stream": "stdout",
       "text": [
        "Random - Errors\n",
        "0.472\tFalse\tBrown and Keitel are the only Americans in the cast.\n",
        "0.454\tFalse\tI cannot imagine a full Captain, the Commanding Officer, ever telling his Chief to intentionally flunk anyone.\n",
        "0.494\tFalse\tSaw this film in the late fifties, maybe three or four times, and never since then forgot it.I remember it was one of the first Warner like cinemas cope features, process called Warnerscope which gave a very neat cinematography.\n",
        "0.436\tFalse\tBarbara Steele, is her usual beautiful/creepy self.\n",
        "0.495\tFalse\tHis \"Blow Out\", made the next year, was an improvement.\n",
        "0.490\tFalse\tI love the mice from the film too, they are cute.\n",
        "0.474\tFalse\tAlong comes the husband's old best friend (Wei Li), who also used to be the wife's boyfriend when they were teens.\n",
        "0.426\tFalse\tCried my eyes off, first time in my life for a movie.\n",
        "0.471\tFalse\tIn spite of what first impressions may give, it isn't cheesy, corny, tacky, or ridiculous, and is actually highly entertaining and funny.\n",
        "0.476\tFalse\tThis movie defined the 80's, so just have fun with it.\n",
        "0.410\tFalse\tOnly that I might more effectively criticize this movie, I wish that I were more articulate.\n",
        "0.468\tFalse\tI personally think the show is one big farce the cast is equally bad.\n",
        "0.483\tFalse\tIf you have any sort of appreciation for character and dialogue, and any sense of American cultural history, you will find a lot of very absorbing material in this film.\n",
        "0.475\tFalse\tWe learn very little.\n",
        "0.425\tFalse\tAnd, the mixing of shootings and slapstick doesn't mix well, this time.\n",
        "0.444\tFalse\tUntil now I've never seen Pegg any different.\n",
        "0.421\tFalse\tBut the genuine look of terror, the sound effects, the flow!\n",
        "0.489\tFalse\tTo overcome the death of his wife, an old man does what anyone in his position would naturally do (at least in a Peter Greenaway movie): he and his son populate their home with eight and a half (one has no legs) women and embark on a sexual odyssey.\n",
        "0.461\tFalse\t<br /><br />I can't really say what I feel this show is because it's probably against the ToS, but it starts with \"B\" and rhymes with \"fastardization\".\n",
        "0.411\tFalse\tStrangely erotic schlock Gothic horror that will be loved by Hammer House of Horror fans the world over.\n",
        "0.403\tFalse\tI saw the movie last night here at home, but I thought it was too long first of all.\n",
        "0.467\tFalse\tI fully expected to eventually see the Wiley Coyote riding on top, while chasing after the Roadrunner.\n",
        "0.425\tFalse\tI like a good mystery.\n",
        "0.480\tFalse\tHowever as the blob continues to eat it's way through the town Steve sets about finding proof of it's existence & convincing the police about the threat it posses not just to their town but the entire world!<br /><br />Directed Irvin S. Yeaworth Jr. & an uncredited Russell S. Doughton Jr.\n",
        "0.449\tFalse\tI am partly a fan of Miyazaki's work.\n",
        "0.416\tFalse\tIf this had been done earlier in the Zatoichi series it could have been one of the best.\n",
        "0.485\tFalse\tI'd give it a solid C+ to B-, depending upon how much credit you're inclined to give the makers for producing this film on a limited budget.\n",
        "0.449\tFalse\tThe dollar amounts may have changed but everything else is the same.\n",
        "0.463\tFalse\tsince this is part 2, then compering it to part one...<br /><br />man that was on many places wierd... too many time jumps etc.<br /><br />I have to say that I was really disapointed...<br /><br />only someplaces little lame action... and thats it....<br /><br />they could have done that better....<br /><br />\n",
        "0.475\tFalse\tYou're better served with overblown swashbuckling movies like Zorro, Scaramouche, anything that has Basil Rathbone as the villain.\n",
        "0.422\tFalse\tNORMALLY (semi-spoiler alert) when you're hiding under the covers they can only get you through that little opening you peek through.\n",
        "0.426\tFalse\tI'm even willing to overlook the absolutely horrid ending (which, I do have to say, I hate) I guess I like it because it has a fun atmosphere about it and some pretty cool kills.<br /><br />Eye Candy (for the men): Josephine Scandi & Donna Yeager both get topless <br /><br />Eye Candy (for the ladies): a gratuitous cock shot of Simon Scuddamore at the start of the film <br /><br />My Grade: B- <br /><br />Lionsgate DVD Extras: Optional trivia track; trailer for this film; and trailers for My Bloody Valentine (1981), Monster Squad, Dirty Dancing\n",
        "0.402\tFalse\tI was gutted to find out that he had died when i browsed Google.\n",
        "0.488\tFalse\t(Some One-liners were also cool)<br /><br />\n",
        "0.463\tFalse\tThe film did what it set out to do: show how a young girl copes with poverty and grows into her maturity.\n",
        "0.493\tFalse\tThey do kung-fu (by the way everyone, and i mean EVERYONE know's kung-fu for some reason).\n",
        "0.462\tFalse\tI enjoyed Longstreet, which followed in the steps of Raymond Burr's successful Ironside TV series and was intended to give it competition.\n",
        "0.419\tFalse\tA lot of the scenes work in a plug-and-play manner inserted strictly to conform to the romantic-comedy genre.\n",
        "0.459\tFalse\tHe adds banal scenes of the Maclean brothers going over a falls and of them double-dating in a seedy bar that were not even hinted at in the story.\n",
        "0.412\tFalse\tBut, in this case it is forgivable because even though they use puppets for some characters and some average graphics you'd see 5 years ago, the appearance of it is not to be judged.\n",
        "0.438\tFalse\tWhat follows are a bunch of mishaps involving the Martian's haphazard attempts to conquer the town of \"Big Bean, IL\".\n",
        "0.469\tFalse\tBecause here everyone's exposed: the camera focuses directly on the two main characters, who share endless conversation in a car ride with stops that's not endless only because life is life.\n",
        "0.402\tFalse\tI usually always find something I like in a movie, but this is crazy.\n",
        "0.473\tFalse\tThe best one so far was \"Beautiful Thing\".\n",
        "0.477\tFalse\tSome of the funniest stuff involved Stiller and his character Mr.\n",
        "0.464\tFalse\tWith any due apologies to him, his hangdog, continually put-upon expression serves the character well.\n",
        "0.429\tFalse\tI know some fans of Clive Owen, Jude Law, or other hopefuls to become the next James Bond will hate me for this, but Northam would/could/should fit that bill.\n",
        "0.459\tFalse\tA friend got it on DVD in the cheap room at FYE.<br /><br />The skits are all very short, and yet most of them are still too long.\n",
        "0.446\tFalse\tStephen Feinberg, who Played the Proctologist and was one of the writers of the movie, passed away in early 2006.\n",
        "0.400\tFalse\tAs a kid, I \"thought\" I enjoyed the action, but now I know it was the STORY that held me then too, watching it over and over again.\n",
        "0.475\tFalse\tKept my attention from start to finish.\n",
        "0.448\tFalse\tI stress the word \"little\" since this is a very low budget flick, and there in lies its main weakness.<br /><br />The story takes place in the future.\n",
        "0.414\tFalse\tThis movie pretty much surprised me.\n",
        "0.455\tFalse\t0 out of 10, shame the poll doesnt have a 0, doesnt even deserve a 1.\n",
        "0.486\tFalse\tI've always been a great fan of Woody Allen and always will be for most of what he did in the past, but only a blind lover could ignore how dull, meaningless, pretentious and most of all horrendously acted this movie is.\n",
        "0.475\tFalse\tThis movie is so aggrivating.\n",
        "0.446\tFalse\tHad enough action to satisfy an fan, and yet the plot was very good.\n",
        "0.415\tFalse\tRather than sitting in his cabin writing screenplays, Stanley is off in Hollywood trying to direct his dream project, Cabin by the Lake.\n",
        "0.472\tFalse\t<br /><br />Sabrina was a hero in my opinion... even though she was vulnerable in ways that were not so different from our own... to very different; she had powers at her fingertip, wishes, and command that could be used for good or bad which may only exist in many of our imaginations.\n",
        "0.496\tFalse\tThe scenes and actors and explosions etc.\n",
        "0.476\tFalse\t!<br /><br />Yes I know this isn't a balanced thoughtful review but so what .It's not that kind of film.\n",
        "0.461\tFalse\tThere are only 3 main characters, and none of them struck me as well-written or well-acted.\n",
        "0.466\tFalse\tIt's Sex, Pot and Rock n Rocll forever<br /><br />I read that Cheap Trick was the band who was originally to star in this ..But I do not know if this is true or not\n",
        "0.424\tFalse\tThe difference is most of those film are better.\n",
        "0.400\tFalse\tI notice the DVD version seems to have missing scenes or lines between the posting of the FRF and the launch.\n",
        "0.447\tFalse\tYou will feel dumber for watching it.\n",
        "0.487\tFalse\tAfter watching KHAKEE i felt i'll get to watch another good film but sadly The film is a joke and actually trying hard to introduce Aryeman Afterall his father Keshu is the producer<br /><br />RKS spoke so highly about the film during promotions, saying the film has meat unlike films released that time, I wonder which films was he talking about<br /><br />The film is actually a typical Masala film with loads of comedy, romance, action everything jumbled<br /><br />The ease at which the kids kidnap the family, is one of the funniest parts ever, Imagine kids kidnapping Dawood's family<br /><br />The end is a complete jumble mumble with sudden change of characterization<br /><br />RKS gives his weakest film till date, except some Bachchan scenes the film is a bore<br /><br />Music is boring<br /><br />Amitabh tries to give the role his all, he does his part well, though not his best though he contorts his face too much when pulling a trigger and does a weird look while smoking the cigar His dubbing too isn't matched properly at times<br /><br />Akshay is there for some minutes and just repeats his act and hams<br /><br />Aryeman seems expressionless, tries too hard but overdoes it in some scenes<br /><br />Bhumika emerges the best of the lot<br /><br />The rest are okay\n",
        "0.428\tFalse\tThat is the single twist and punchline of the film.\n",
        "0.479\tFalse\tI always look forward to this movie when its on TV.\n",
        "0.455\tFalse\tIt was a pleasant surprise to see Daphne Zuniga after quite a long time dating back to The Fly II.\n",
        "0.426\tFalse\tThis is cult stuff.\n",
        "0.472\tFalse\tIt is very funny and YES very rude and hilariously all wrong.\n",
        "0.459\tFalse\tnot only does every word said match up, but the voices use truly make the characters much more believable.\n",
        "0.421\tFalse\tIt moves at a good pace but to pull this movie off it would need to be a little longer with a little more background on the sitter.\n",
        "0.407\tFalse\tMaybe because I expected too much from this film and that's why i was slightly disappointed.\n",
        "0.439\tFalse\tIf you want carnage that traditional horror doesn't provide, get Traces of Death.\n",
        "0.427\tFalse\tTechnically, the production values are fairly high.\n",
        "0.499\tFalse\tHowever, this documentary seems to need to cast everything in the scariest possible light.\n",
        "0.475\tFalse\tOliver can hold its own with the likes of My Fair Lady, The Sound of Music, Oklahoma, etc.\n",
        "0.431\tFalse\tREALLY?\n",
        "0.488\tFalse\tI am a youth pastor's wife and we took some youth to see this film.\n",
        "0.474\tFalse\tThere isn't much 'acting' involved, as this feels more like a docu-drama, and so the use of non- professionals as the lead couple works quite effectively within that context.\n",
        "0.489\tFalse\tThe ScareCrow was on of the funniest Killers I have ever seen in the act!\n",
        "0.410\tFalse\t<br /><br />This movie is a \"neo-noir\" since it's modern-day and it's in color, two things that purists would make it be disqualified for film noir status.\n",
        "0.408\tFalse\tFirst of all, I think the below comment is unworthy for a site like this.\n",
        "0.451\tFalse\tMany moons ago when I was seven years old, I can vaguely remember seeing a trailer for this movie.\n",
        "0.421\tFalse\t9 out of 10.\n",
        "0.437\tFalse\tTranslation attempt:\"Atmosphere?atmosphere?Have I got an atmosphere face?\n",
        "0.413\tFalse\tThe term sci-fi has since then become bleak and come to be the term for any movie that has space-ships in them.\n",
        "0.491\tFalse\t<br /><br />My only negative comment is that the film is so one-sided it could be easily passed off as left- wing propaganda.\n",
        "0.457\tFalse\tThe movie kept my interest so much that I didn't even know the sun was about to rise.<br /><br />Not much of Lynch's bizzare style, but there is enough of quirky characters to make the film amusing.\n",
        "0.487\tFalse\t<br /><br />The only difference between this movie and reality is that this movie has a happy ending, and reality hasn\u00c2\u00b4t.<br /><br />Yes indeed, Life Stinks.\n",
        "0.417\tFalse\tThe fighting scenes for starters are about as well choreographed as a fight between two drunks slugging it out in the gutter.\n",
        "0.481\tFalse\tThis movie is not for the faint or weak of heart.\n",
        "0.500\tFalse\tThe WWF style cinemtography will make you cry...where's the tripod?!\n",
        "0.403\tFalse\tThe other item that I didn't appreciate was the lack of authenticity in the \"period\" costume of the same character, and above all, his bright red kit-car that I suppose was meant to pass for a 1930s roadster.\n",
        "0.476\tFalse\tI could identify with many of the characters and their motivations made logical rational sense in the framework of the story.<br /><br />The camera-work was great, the audio clear and accurate, the background music perfectly chosen for effect, the singing firemen a nice talented memorable oddity, the sets brilliantly crafted, and the special effects performed with a skilled talent.<br /><br />I am a tad puzzled how an entire mini-carnival in a chain-store's parking lot could be powered by one single lamppost outlet.\n",
        "0.405\tFalse\tThat's all it was meant to do and it does so.\n",
        "0.424\tFalse\tI saw this by chance showing on cable on wanted to like it as I thought Sandra was quite funny from what I remembered.\n",
        "0.452\tFalse\tThe awkwardness, the accent, the cooking and even down to the comments made felt so authentic to me.<br /><br />I think this film worked for me because I began to watch it with no expectations and found it completely immersing and brought back memories of teenage emotion, well worth a watch.\n",
        "0.443\tFalse\tI live in Missouri, so the direct effects of terrorism are largely unknown to me, this brought it home.\n",
        "0.488\tFalse\tThe plot, about a new teenage boy in a small town who is a \"Sleepwalker\"--sort of a cross between a vampire and a werewolf--and who feeds on the blood of female virgins, begs for a more mysterious, ambiguous treatment.\n",
        "0.416\tFalse\tperhaps if its the only film that a person has seen you can make that claim of the brothers.\n",
        "0.472\tFalse\tThe point of the vastly extended preparatory phase of this Star is Born story seems to be to make ultimate success all the more sublime.\n",
        "0.442\tFalse\tMy vote is eight.<br /><br />Title (Brazil): \"A Casa Que Sangrou At\u00c3\u00a9 Morrer\" (\"The House That Bled to Death\")\n",
        "0.403\tFalse\tThe ending is rather a let down.\n",
        "0.469\tFalse\tIt all begins with a series of thefts of seemingly unrelated objects in a hostel for students on Hickory Road, London.\n",
        "0.401\tFalse\tWe know that when he can't take the time away from his lions to tend to his girlfriend, he will end up on an island with her and have to save the day.\n",
        "0.475\tFalse\tI liked it!\n",
        "0.494\tFalse\tNow this show looks like most of the other shows of it's type from the mid-90's, but the only thing is about this one is that it's different, they use a lot of comedy and action in this one and maybe a little bit of drama too.\n",
        "Total: 110\n",
        "\n",
        "SR_CAL - Errors\n",
        "0.498\tFalse\tPassport to Pimlico is a real treat for all fans of British cinema.\n",
        "0.478\tFalse\tThe old fashion outfits are weird when you see them in modern times, but she looks good on them.\n",
        "0.450\tFalse\tBezzerides' original script made this relationship explicit).\n",
        "0.498\tFalse\tImagine a movie where Joe Piscopo is actually funny!\n",
        "0.460\tFalse\tWei Wei (don't laugh) is that shrew, a young married woman who has suffered alongside her tubercular husband (Yu Shi) for the past several years.\n",
        "0.500\tFalse\tThe scenes are fast-paced.\n",
        "0.453\tFalse\tCried my eyes off, first time in my life for a movie.\n",
        "0.480\tFalse\tIt makes no sense that everyone seems to be just in the right place at the right time, but I'll be damned if it isn't a blast to watch them get there.<br /><br />With the absence of the emotive and involving Franka Potente, the writers attempt to create some emotional connection between Damon and Stiles, but she is so blank-faced an actress it never really leads to anything.\n",
        "0.487\tFalse\tEven seeing a few seconds of it would bring back that feeling of magic and warm my heart.\n",
        "0.494\tFalse\tAll the songs are great, and actually memorable, unlike many children's musicals, where the songs are just stuck in for no real reason.\n",
        "0.464\tFalse\tBesides I'd say the movie isn't able to keep a high level.\n",
        "0.451\tFalse\tAn incredible film.\n",
        "0.414\tFalse\tStrangely erotic schlock Gothic horror that will be loved by Hammer House of Horror fans the world over.\n",
        "0.448\tFalse\tWhile it would be rude to state that Miike's movies are successful mostly on their shock value, it is true that sometimes it's easy to lose track of how well Miike can create bitter, dis-impassioned characters.<br /><br />--PolarisDiB\n",
        "0.470\tFalse\tPlease no more of these movies.\n",
        "0.481\tFalse\tDale Midkiff has the ways to pull off this character.<br /><br />This movie kept me spellbound from start to finish.<br /><br />The death of Missie & Willies baby girl with the timing of Clarks visit was only Gods timing.\n",
        "0.497\tFalse\tJaco van Dormael does a wonderful job with the script and direction.\n",
        "0.471\tFalse\thi I'm from Taft California and i like this movie because it shows how us little town people love our sports football is the main thing in Taft and this movie shows just how important it is i personally think they should make another one but instead of actors use us kids to play the games well show you our determination we've beat Bakersfield every game for the past 6 years and since I'm a senior next year its my last chance and then its college we've had running backs lead the state and I'm next if you want to know me I'm kyle Taylor and i average seven to eight yards a carry and about five times a game ill break away on a 75 or around that yard run so check us out at our website and go to our sports page bye\n",
        "0.466\tFalse\tI'd like to find out, though, because this movie was THAT good.<br /><br />Walt D in LV.\n",
        "0.412\tFalse\tI like the fact how it teaches kids to always have faith and never give up because yes miracles can happen.\n",
        "0.475\tFalse\tI enjoyed Longstreet, which followed in the steps of Raymond Burr's successful Ironside TV series and was intended to give it competition.\n",
        "0.405\tFalse\tHow about Dyan Cannon?\n",
        "0.448\tFalse\tWomen of all shapes, sizes, and color, populate the film.\n",
        "0.435\tFalse\t52-Pick Up never got the respect it should have.\n",
        "0.499\tFalse\tNot for everyone, this film details Hanzo's investigation of loan sharking being performed by an order of blind monks.\n",
        "0.446\tFalse\tHe was playing by different rules.\n",
        "0.404\tFalse\tWhenever people ask me to name the scariest movie I've ever seen, I invariably reply \"Black Noon\" and to this day nobody's ever heard of it.<br /><br />I watched it alone some 30 years ago at the tender age of 13 when my parents had gone out for the evening.\n",
        "0.440\tFalse\tAlthough I am not particularly fond of romance movies, I loved this and was deeply moved by Winona Ryder's plea to her father toward the end.<br /><br />Mr.\n",
        "0.474\tFalse\tLoneliness is a major theme, most obviously represented in the character of the shop's owner and manager, played wonderfully by Frank Morgan.\n",
        "0.448\tFalse\tEventually, he finds himself in the sights of the weapon he has set into motion.\n",
        "0.480\tFalse\tHugo Chavez's persona single-handedly brought the Venezuelan people to overthrow the 3-day old military-installed junta and re-establish the democratically installed government of Venezuela.<br /><br />It is obvious from the film footage that George W Bush aided and abetted the Venezuelan coup d'etat.\n",
        "0.442\tFalse\tThe concept is compelling, with interesting devices utilized to tell the overall story.\n",
        "0.446\tFalse\tDon't be fooled by the notion that because it seems like a kids' movie it is unsophisticated - it isn't, there's a lot of hidden treasure... A gem!\n",
        "0.449\tFalse\tNo need to go into the well-known plot about the threat posed to both the textile industry and the textile unions by an indestructible, dirt-resistant fiber.\n",
        "0.419\tFalse\t7 days - 7 suicides.\n",
        "0.496\tFalse\tWitherspoon already begins to show the Oscar-winning talent she would develop in this early role and London makes a charming leading man.\n",
        "0.432\tFalse\tIn the second hour, an instrumental score takes over.\n",
        "0.474\tFalse\tCorbin Bernsen also chews up the scenery playing a not-so-good-guy who gets his just desserts.<br /><br />End of Spoiler.<br /><br />As a revenge-from-the-dead flick, \"Right to Die\" benefits heavily from it's performers and is more than an OK way to spend less than an hour.\n",
        "0.409\tFalse\tHe misses seeing Lola the next day by sleeping late - Sinatra felt he looked so peaceful sleeping he did not wake him up.\n",
        "0.415\tFalse\tIt's just wonderful.\n",
        "0.430\tFalse\tThere is also a few other songs not put on the CD.\n",
        "0.406\tFalse\tI would contrast him to George Carlin, who uses his comedy to try and convince people about his ideas, and does not seem to enjoy the fact that he is trying to entertain.<br /><br />Funniest guy on Earth\n",
        "0.426\tFalse\tThis should be required viewing for all young people.\n",
        "0.481\tFalse\tFew believe he can win a bout against Sullivan, but Corbett, dubbed \"Gentleman Jim\" for his gracious manners and patrician appearance surprises everyone by moving, dancing out of range, and negating the furious Sullivan's power.\n",
        "0.406\tFalse\tHow many aging punks out there found these subtitles necessary, I wonder....\n",
        "0.449\tFalse\tI'm not a big fan of most anime, but Gundam Wing is truly something else.\n",
        "0.479\tFalse\tLocations, colour are spellbinding.\n",
        "0.401\tFalse\tI have not been able to view this confection for many years as the 'race commissars' in England have deemed it too offensive to be shown in multi racial Britain.\n",
        "0.448\tFalse\tStrikingly, the movie despict the original spirit very well, though the plot was modified tremendously.\n",
        "0.405\tFalse\tUnfortunately there is a bit too much story and at times this becomes like a travelogue as our heroine searches the sleaze spots of Paris, Hamburg and Amsterdam.\n",
        "0.455\tFalse\tDelicious!\n",
        "0.437\tFalse\t<br /><br />Even from a purely technical point of view, it is a remarkably crafted film; from the opening credits sequence to the bizarre desert 'love-in', to the use of billboards, and right down to that jaw-dropping, cathartic finale that used 17 camera set-ups (in it's own way, as powerful as the climax of The Wild Bunch).\n",
        "0.438\tFalse\t*** SPOILERS *** <br /><br />this movie always seems very exaggerated, until i remember that my college campus had a former-student-turned-Nazi-racist-killer-who-then-committed-suicide, too: his name was Benjamin Nathaniel Smith.<br /><br />look him up in the wikipedia- i added a few photos to their article about him.<br /><br />it's hard to believe, but this stuff really does happen.<br /><br />i'm not a big fan of Omar Epps or Ice Cube, but Larry Fishburne, Kristy Swanson, Jennifer Connelly & Mike Rappaport were good.\n",
        "0.481\tFalse\tFarewell Friend aka Adieu L'Ami/Honour Among Thieves isn't perfect but it is a neat and entertaining thriller that sees mismatched demobbed French Algerian War veterans Alain Delon and Charles Bronson trapped in the same basement vault, one to return stolen bonds, the other to clean out the two million in wages sitting there over the Christmas weekend.\n",
        "0.402\tFalse\tDespite the word \"Venom\" in the title, none of these pupil uses venoms to kill their opponents.\n",
        "0.415\tFalse\tI have seen all the guinea pigs and this one is easily the best.<br /><br />Even though ive seen the \"making of\", i still have doubts when watching those 35mins of pure torture : its that powerful.<br /><br />A 10 out of 10 because this movie achieved perfectly what it set out to do : be the best fake snuff film ever made.\n",
        "0.428\tFalse\tThe 2 stars are for 2 of the stars, the little girl, who I thought was very good and Lindsey Price who character was annoying but she did what she could with it.\n",
        "0.443\tFalse\tOr, to put it another way, no one would be likely to suggest that hearing someone else's name was like seeing it written in radium on a pearl.<br /><br />Overall, the movie feels like a badly-adapted Cliffs Notes to the book - most of the parts have been hacked down to a fifth of their size in the book, in terms of backstory and current story, and the ending is wildly (and unpleasantly) different from that of the book.\n",
        "0.400\tFalse\tIt may help them come to understand that the players of these female roles were probably not homosexuals or castrati, but people who have be so psychologically conditioned as to be totally unaware of their own sexuality.\n",
        "0.483\tFalse\tI would like very much to watch it again because I think it's as surpring as the Sixth Sense althogh a completely different kind of movie.\n",
        "Total: 60\n"
       ]
      }
     ],
     "prompt_number": 177
    },
    {
     "cell_type": "code",
     "collapsed": false,
     "input": [
      "order = np.argsort(unc_stu_sr[:1000])[::-1]\n",
      "for a,b,c,t in zip(unc_stu_sr[order], unc_exp_sr[order], correct_st_sr[order], sr_text[order])[:20]:\n",
      "    if a >.4 and  c == False:\n",
      "        print \"%.3f\\t%.3f\\t%s\\t%s\" % (a, b,c,t)"
     ],
     "language": "python",
     "metadata": {},
     "outputs": [
      {
       "output_type": "stream",
       "stream": "stdout",
       "text": [
        "0.500\t0.390\tFalse\tThe scenes are fast-paced.\n",
        "0.499\t0.148\tFalse\tNot for everyone, this film details Hanzo's investigation of loan sharking being performed by an order of blind monks.\n",
        "0.498\t0.493\tFalse\tImagine a movie where Joe Piscopo is actually funny!\n",
        "0.498\t0.088\tFalse\tPassport to Pimlico is a real treat for all fans of British cinema.\n",
        "0.497\t0.239\tFalse\tJaco van Dormael does a wonderful job with the script and direction.\n",
        "0.496\t0.152\tFalse\tWitherspoon already begins to show the Oscar-winning talent she would develop in this early role and London makes a charming leading man.\n",
        "0.494\t0.229\tFalse\tAll the songs are great, and actually memorable, unlike many children's musicals, where the songs are just stuck in for no real reason.\n",
        "0.487\t0.329\tFalse\tEven seeing a few seconds of it would bring back that feeling of magic and warm my heart.\n"
       ]
      }
     ],
     "prompt_number": 193
    },
    {
     "cell_type": "code",
     "collapsed": false,
     "input": [
      "from scipy.stats import pearsonr\n",
      "print pearsonr(unc_stu_sr[order], unc_exp_sr[order])"
     ],
     "language": "python",
     "metadata": {},
     "outputs": [
      {
       "output_type": "stream",
       "stream": "stdout",
       "text": [
        "(0.33431501899191401, 1.5479750899977733e-27)\n"
       ]
      }
     ],
     "prompt_number": 190
    },
    {
     "cell_type": "code",
     "collapsed": false,
     "input": [],
     "language": "python",
     "metadata": {},
     "outputs": []
    }
   ],
   "metadata": {}
  }
 ]
}