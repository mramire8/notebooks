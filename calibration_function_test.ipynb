{
 "metadata": {
  "name": "",
  "signature": "sha256:654d8a5c132cb592e01888446378a535b75cba67757da0eb76308a236233055c"
 },
 "nbformat": 3,
 "nbformat_minor": 0,
 "worksheets": [
  {
   "cells": [
    {
     "cell_type": "markdown",
     "metadata": {},
     "source": [
      "## Calibration Functions\n",
      "\n",
      "Testing several calibration functions using a bootstrap student and and expert model"
     ]
    },
    {
     "cell_type": "code",
     "collapsed": false,
     "input": [
      "'''\n",
      "Created on Dec 18, 2014\n",
      "\n",
      "@author: mbilgic\n",
      "'''\n",
      "\n",
      "## Data preparation and experiment setting \n",
      "\n",
      "STRUCTURED ='.'\n",
      "# imdb_path = 'C:/Users/mbilgic/Desktop/aclImdb/'    \n",
      "imdb_path = '../data/imdb'\n",
      "\n",
      "import sys\n",
      "import os\n",
      "sys.path.append(os.path.abspath(STRUCTURED))\n",
      "sys.path.append(os.path.abspath('/Users/maru/MyCode/structured'))\n",
      "\n",
      "import utilities.experimentutils as exputil\n",
      "import learner\n",
      "import utilities.datautils as datautil\n",
      "import numpy as np\n",
      "import experiment.base as exp\n",
      "import nltk\n",
      "\n"
     ],
     "language": "python",
     "metadata": {},
     "outputs": [],
     "prompt_number": 1
    },
    {
     "cell_type": "code",
     "collapsed": false,
     "input": [
      "# Load the data\n",
      "print \"Loading the data...\"\n",
      "data = datautil.load_dataset('imdb', imdb_path, categories=None, rnd=5463, shuffle=True)\n",
      "sent_tk = nltk.data.load('tokenizers/punkt/english.pickle')\n",
      "\n",
      "# Vectorize the data\n",
      "print \"Vectorizing the data...\"\n",
      "vct = exputil.get_vectorizer({'vectorizer':\"tfidf\", 'limit':None, 'min_size':None})    \n",
      "data.train.bow = vct.fit_transform(data.train.data)\n",
      "data.test.bow = vct.transform(data.test.data)\n",
      "data.train.data = np.array(data.train.data, dtype=object)\n",
      "data.test.data = np.array(data.test.data, dtype=object)\n",
      "print \"Train size: (%d, %d)\" %data.train.bow.shape\n",
      "print \"Test size: (%d, %d)\" %data.test.bow.shape\n"
     ],
     "language": "python",
     "metadata": {},
     "outputs": [
      {
       "output_type": "stream",
       "stream": "stdout",
       "text": [
        "Loading the data...\n",
        "Vectorizing the data..."
       ]
      },
      {
       "output_type": "stream",
       "stream": "stdout",
       "text": [
        "\n",
        "Train size: (25000, 27316)"
       ]
      },
      {
       "output_type": "stream",
       "stream": "stdout",
       "text": [
        "\n",
        "Test size: (25000, 27316)\n"
       ]
      }
     ],
     "prompt_number": 2
    },
    {
     "cell_type": "code",
     "collapsed": false,
     "input": [
      "# The expert\n",
      "print \"Training the expert...\"\n",
      "expert = exputil.get_classifier('lrl2',parameter=1)\n",
      "expert.fit(data.train.bow, data.train.target)\n"
     ],
     "language": "python",
     "metadata": {},
     "outputs": [
      {
       "output_type": "stream",
       "stream": "stdout",
       "text": [
        "Training the expert...\n"
       ]
      },
      {
       "metadata": {},
       "output_type": "pyout",
       "prompt_number": 3,
       "text": [
        "LogisticRegression(C=1, class_weight=None, dual=False, fit_intercept=True,\n",
        "          intercept_scaling=1, penalty='l2', random_state=None, tol=0.0001)"
       ]
      }
     ],
     "prompt_number": 3
    },
    {
     "cell_type": "code",
     "collapsed": false,
     "input": [
      "## Select N random documents from the test\n",
      "n = 1000\n",
      "rnd = np.random.RandomState(2345)\n",
      "rnd_docs = rnd.choice(len(data.test.target), size = n, replace = False)"
     ],
     "language": "python",
     "metadata": {},
     "outputs": [],
     "prompt_number": 4
    },
    {
     "cell_type": "code",
     "collapsed": false,
     "input": [
      "## Get the sentences per document\n",
      "sentences = sent_tk.tokenize_sents(data.test.data[rnd_docs])"
     ],
     "language": "python",
     "metadata": {},
     "outputs": []
    },
    {
     "cell_type": "code",
     "collapsed": false,
     "input": [
      "## Test trials loop\n",
      "num_trials = 5\n",
      "\n",
      "for t in range(num_trials):\n",
      "    print \"\\n\\nTrial: %d\" %t\n",
      "    rnd = np.random.RandomState(t)\n",
      "\n",
      "    # The student\n",
      "    student = learner.strategy.StructuredLearner(exputil.get_classifier('lrl2',parameter=1))        \n",
      "    student.set_sent_tokenizer(sent_tk)\n",
      "    student.set_vct(vct)\n",
      "    student.set_snippet_utility('sr')\n",
      "\n",
      "    # Get a bootstrap\n",
      "    bootstrap_size = 200\n",
      "    bootstrap = rnd.choice(len(data.train.target), size = bootstrap_size, replace = False)\n",
      "\n",
      "    # Fit the student to bootstrap\n",
      "    print \"Training the student...\"\n",
      "    student.fit(data.train.bow[bootstrap], data.train.target[bootstrap], doc_text=data.train.data[bootstrap])\n",
      "\n",
      "    student_cm = np.zeros(shape=(2,2))\n",
      "    expert_cm = np.zeros(shape=(2,2))\n",
      "\n",
      "    for i, idx in enumerate(rnd_docs):        \n",
      "        true_target = data.test.target[idx]                \n",
      "        bow = vct.transform(sentences[i])\n",
      "\n",
      "        expert_pred = expert.predict(bow)\n",
      "        for p in expert_pred:\n",
      "            expert_cm[true_target, p] += 1\n",
      "\n",
      "        student_pred = student.snippet_model.predict(bow)\n",
      "        for p in student_pred:\n",
      "            student_cm[true_target, p] += 1\n",
      "\n",
      "            \n",
      "        print \"\\n\\nNum test documents: %d\" %len(sentences)\n",
      "        num_sentences = 0\n",
      "        for sent in sentences:\n",
      "            num_sentences += len(sent)\n",
      "        print \"Num test sentences: %d\" %num_sentences\n",
      "        \n",
      "        print \"True class distribution: %s\" % expert_cm.sum(1)\n",
      "        \n",
      "        print \"Expert predictions: %s\" % expert_cm.sum(0)\n",
      "        print \"Expert accuracy: %0.4f\" % ((expert_cm[0,0]+expert_cm[1,1])/float(num_sentences))\n",
      "        \n",
      "        print \"Student predictions: %s\" % student_cm.sum(0)\n",
      "        print \"Student accuracy: %0.4f\" % ((student_cm[0,0]+student_cm[1,1])/float(num_sentences))\n",
      "        \n",
      "        calibration = ['_no_calibrate', 'zscores_pred', 'zscores_rank']\n",
      "        \n",
      "        for cal in calibration:\n",
      "            student.set_calibration_method(cal)\n",
      "                \n",
      "            _, chosen_sentences = student._compute_snippet(data.test.data[rnd_docs])\n",
      "            \n",
      "            student_cm = np.zeros(shape=(2,2))\n",
      "            expert_cm = np.zeros(shape=(2,2))\n",
      "            \n",
      "            for i, idx in enumerate(rnd_docs):        \n",
      "                true_target = data.test.target[idx]                \n",
      "                bow = vct.transform([chosen_sentences[i]])\n",
      "                \n",
      "                expert_pred = expert.predict(bow)\n",
      "                for p in expert_pred:\n",
      "                    expert_cm[true_target, p] += 1\n",
      "                \n",
      "                student_pred = student.snippet_model.predict(bow)\n",
      "                for p in student_pred:\n",
      "                    student_cm[true_target, p] += 1\n",
      "            \n",
      "            print \"\\n\\nCalibration: %s\" %cal\n",
      "            \n",
      "            num_sentences = len(chosen_sentences)\n",
      "            \n",
      "            print \"Num test sentences: %d\" %num_sentences\n",
      "            \n",
      "            print \"True class distribution: %s\" % expert_cm.sum(1)\n",
      "            \n",
      "            print \"Expert predictions: %s\" % expert_cm.sum(0)\n",
      "            print \"Expert accuracy: %0.4f\" % ((expert_cm[0,0]+expert_cm[1,1])/float(num_sentences))\n",
      "            \n",
      "            print \"Student predictions: %s\" % student_cm.sum(0)\n",
      "            print \"Student accuracy: %0.4f\" % ((student_cm[0,0]+student_cm[1,1])/float(num_sentences))    "
     ],
     "language": "python",
     "metadata": {},
     "outputs": [
      {
       "output_type": "stream",
       "stream": "stdout",
       "text": [
        "\n",
        "\n",
        "Trial: 0\n",
        "Training the student...\n",
        "\n",
        "\n",
        "Num test documents: 1000"
       ]
      },
      {
       "output_type": "stream",
       "stream": "stdout",
       "text": [
        "\n",
        "Num test sentences: 10697\n",
        "True class distribution: [  0.  15.]\n",
        "Expert predictions: [  2.  13.]\n",
        "Expert accuracy: 0.0012\n",
        "Student predictions: [  1.  14.]\n",
        "Student accuracy: 0.0013\n",
        "\n",
        "\n",
        "Calibration: _no_calibrate"
       ]
      },
      {
       "output_type": "stream",
       "stream": "stdout",
       "text": [
        "\n",
        "Num test sentences: 1000\n",
        "True class distribution: [ 500.  500.]\n",
        "Expert predictions: [ 424.  576.]\n",
        "Expert accuracy: 0.7340\n",
        "Student predictions: [ 342.  658.]\n",
        "Student accuracy: 0.7100\n",
        "\n",
        "\n",
        "Calibration: zscores_pred"
       ]
      },
      {
       "output_type": "stream",
       "stream": "stdout",
       "text": [
        "\n",
        "Num test sentences: 1000\n",
        "True class distribution: [ 500.  500.]\n",
        "Expert predictions: [ 427.  573.]\n",
        "Expert accuracy: 0.7330\n",
        "Student predictions: [ 358.  642.]\n",
        "Student accuracy: 0.7160\n",
        "\n",
        "\n",
        "Calibration: zscores_rank"
       ]
      },
      {
       "output_type": "stream",
       "stream": "stdout",
       "text": [
        "\n",
        "Num test sentences: 1000\n",
        "True class distribution: [ 500.  500.]\n",
        "Expert predictions: [ 487.  513.]\n",
        "Expert accuracy: 0.7330\n",
        "Student predictions: [ 479.  521.]\n",
        "Student accuracy: 0.7110\n",
        "\n",
        "\n",
        "Num test documents: 1000\n",
        "Num test sentences: 10697\n",
        "True class distribution: [ 511.  500.]\n",
        "Expert predictions: [ 494.  517.]\n",
        "Expert accuracy: 0.0692\n",
        "Student predictions: [ 484.  527.]\n",
        "Student accuracy: 0.0669\n",
        "\n",
        "\n",
        "Calibration: _no_calibrate"
       ]
      },
      {
       "output_type": "stream",
       "stream": "stdout",
       "text": [
        "\n",
        "Num test sentences: 1000\n",
        "True class distribution: [ 500.  500.]\n",
        "Expert predictions: [ 424.  576.]\n",
        "Expert accuracy: 0.7340\n",
        "Student predictions: [ 342.  658.]\n",
        "Student accuracy: 0.7100\n",
        "\n",
        "\n",
        "Calibration: zscores_pred"
       ]
      },
      {
       "output_type": "stream",
       "stream": "stdout",
       "text": [
        "\n",
        "Num test sentences: 1000\n",
        "True class distribution: [ 500.  500.]\n",
        "Expert predictions: [ 427.  573.]\n",
        "Expert accuracy: 0.7330\n",
        "Student predictions: [ 358.  642.]\n",
        "Student accuracy: 0.7160\n",
        "\n",
        "\n",
        "Calibration: zscores_rank"
       ]
      },
      {
       "output_type": "stream",
       "stream": "stdout",
       "text": [
        "\n",
        "Num test sentences: 1000\n",
        "True class distribution: [ 500.  500.]\n",
        "Expert predictions: [ 487.  513.]\n",
        "Expert accuracy: 0.7330\n",
        "Student predictions: [ 479.  521.]\n",
        "Student accuracy: 0.7110\n",
        "\n",
        "\n",
        "Num test documents: 1000\n",
        "Num test sentences: 10697\n",
        "True class distribution: [ 500.  509.]\n",
        "Expert predictions: [ 489.  520.]\n",
        "Expert accuracy: 0.0692\n",
        "Student predictions: [ 484.  525.]\n",
        "Student accuracy: 0.0668\n",
        "\n",
        "\n",
        "Calibration: _no_calibrate"
       ]
      },
      {
       "output_type": "stream",
       "stream": "stdout",
       "text": [
        "\n",
        "Num test sentences: 1000\n",
        "True class distribution: [ 500.  500.]\n",
        "Expert predictions: [ 424.  576.]\n",
        "Expert accuracy: 0.7340\n",
        "Student predictions: [ 342.  658.]\n",
        "Student accuracy: 0.7100\n",
        "\n",
        "\n",
        "Calibration: zscores_pred"
       ]
      },
      {
       "output_type": "stream",
       "stream": "stdout",
       "text": [
        "\n",
        "Num test sentences: 1000\n",
        "True class distribution: [ 500.  500.]\n",
        "Expert predictions: [ 427.  573.]\n",
        "Expert accuracy: 0.7330\n",
        "Student predictions: [ 358.  642.]\n",
        "Student accuracy: 0.7160\n",
        "\n",
        "\n",
        "Calibration: zscores_rank"
       ]
      },
      {
       "output_type": "stream",
       "stream": "stdout",
       "text": [
        "\n",
        "Num test sentences: 1000\n",
        "True class distribution: [ 500.  500.]\n",
        "Expert predictions: [ 487.  513.]\n",
        "Expert accuracy: 0.7330\n",
        "Student predictions: [ 479.  521.]\n",
        "Student accuracy: 0.7110\n",
        "\n",
        "\n",
        "Num test documents: 1000\n",
        "Num test sentences: 10697\n",
        "True class distribution: [ 513.  500.]\n",
        "Expert predictions: [ 495.  518.]\n",
        "Expert accuracy: 0.0693\n",
        "Student predictions: [ 487.  526.]\n",
        "Student accuracy: 0.0672\n",
        "\n",
        "\n",
        "Calibration: _no_calibrate"
       ]
      },
      {
       "output_type": "stream",
       "stream": "stdout",
       "text": [
        "\n",
        "Num test sentences: 1000\n",
        "True class distribution: [ 500.  500.]\n",
        "Expert predictions: [ 424.  576.]\n",
        "Expert accuracy: 0.7340\n",
        "Student predictions: [ 342.  658.]\n",
        "Student accuracy: 0.7100\n",
        "\n",
        "\n",
        "Calibration: zscores_pred"
       ]
      },
      {
       "output_type": "stream",
       "stream": "stdout",
       "text": [
        "\n",
        "Num test sentences: 1000\n",
        "True class distribution: [ 500.  500.]\n",
        "Expert predictions: [ 427.  573.]\n",
        "Expert accuracy: 0.7330\n",
        "Student predictions: [ 358.  642.]\n",
        "Student accuracy: 0.7160\n",
        "\n",
        "\n",
        "Calibration: zscores_rank"
       ]
      },
      {
       "output_type": "stream",
       "stream": "stdout",
       "text": [
        "\n",
        "Num test sentences: 1000\n",
        "True class distribution: [ 500.  500.]\n",
        "Expert predictions: [ 487.  513.]\n",
        "Expert accuracy: 0.7330\n",
        "Student predictions: [ 479.  521.]\n",
        "Student accuracy: 0.7110\n",
        "\n",
        "\n",
        "Num test documents: 1000\n",
        "Num test sentences: 10697\n",
        "True class distribution: [ 512.  500.]\n",
        "Expert predictions: [ 495.  517.]\n",
        "Expert accuracy: 0.0693\n",
        "Student predictions: [ 483.  529.]\n",
        "Student accuracy: 0.0668\n",
        "\n",
        "\n",
        "Calibration: _no_calibrate"
       ]
      },
      {
       "output_type": "stream",
       "stream": "stdout",
       "text": [
        "\n",
        "Num test sentences: 1000\n",
        "True class distribution: [ 500.  500.]\n",
        "Expert predictions: [ 424.  576.]\n",
        "Expert accuracy: 0.7340\n",
        "Student predictions: [ 342.  658.]\n",
        "Student accuracy: 0.7100\n",
        "\n",
        "\n",
        "Calibration: zscores_pred"
       ]
      },
      {
       "output_type": "stream",
       "stream": "stdout",
       "text": [
        "\n",
        "Num test sentences: 1000\n",
        "True class distribution: [ 500.  500.]\n",
        "Expert predictions: [ 427.  573.]\n",
        "Expert accuracy: 0.7330\n",
        "Student predictions: [ 358.  642.]\n",
        "Student accuracy: 0.7160\n",
        "\n",
        "\n",
        "Calibration: zscores_rank"
       ]
      },
      {
       "output_type": "stream",
       "stream": "stdout",
       "text": [
        "\n",
        "Num test sentences: 1000\n",
        "True class distribution: [ 500.  500.]\n",
        "Expert predictions: [ 487.  513.]\n",
        "Expert accuracy: 0.7330\n",
        "Student predictions: [ 479.  521.]\n",
        "Student accuracy: 0.7110\n",
        "\n",
        "\n",
        "Num test documents: 1000\n",
        "Num test sentences: 10697\n",
        "True class distribution: [ 500.  506.]\n",
        "Expert predictions: [ 489.  517.]\n",
        "Expert accuracy: 0.0689\n",
        "Student predictions: [ 480.  526.]\n",
        "Student accuracy: 0.0669\n",
        "\n",
        "\n",
        "Calibration: _no_calibrate"
       ]
      },
      {
       "output_type": "stream",
       "stream": "stdout",
       "text": [
        "\n",
        "Num test sentences: 1000\n",
        "True class distribution: [ 500.  500.]\n",
        "Expert predictions: [ 424.  576.]\n",
        "Expert accuracy: 0.7340\n",
        "Student predictions: [ 342.  658.]\n",
        "Student accuracy: 0.7100\n",
        "\n",
        "\n",
        "Calibration: zscores_pred"
       ]
      },
      {
       "output_type": "stream",
       "stream": "stdout",
       "text": [
        "\n",
        "Num test sentences: 1000\n",
        "True class distribution: [ 500.  500.]\n",
        "Expert predictions: [ 427.  573.]\n",
        "Expert accuracy: 0.7330\n",
        "Student predictions: [ 358.  642.]\n",
        "Student accuracy: 0.7160\n",
        "\n",
        "\n",
        "Calibration: zscores_rank"
       ]
      },
      {
       "output_type": "stream",
       "stream": "stdout",
       "text": [
        "\n",
        "Num test sentences: 1000\n",
        "True class distribution: [ 500.  500.]\n",
        "Expert predictions: [ 487.  513.]\n",
        "Expert accuracy: 0.7330\n",
        "Student predictions: [ 479.  521.]\n",
        "Student accuracy: 0.7110\n",
        "\n",
        "\n",
        "Num test documents: 1000\n",
        "Num test sentences: 10697\n",
        "True class distribution: [ 512.  500.]\n",
        "Expert predictions: [ 496.  516.]\n",
        "Expert accuracy: 0.0694\n",
        "Student predictions: [ 484.  528.]\n",
        "Student accuracy: 0.0669\n",
        "\n",
        "\n",
        "Calibration: _no_calibrate"
       ]
      },
      {
       "output_type": "stream",
       "stream": "stdout",
       "text": [
        "\n",
        "Num test sentences: 1000\n",
        "True class distribution: [ 500.  500.]\n",
        "Expert predictions: [ 424.  576.]\n",
        "Expert accuracy: 0.7340\n",
        "Student predictions: [ 342.  658.]\n",
        "Student accuracy: 0.7100\n",
        "\n",
        "\n",
        "Calibration: zscores_pred"
       ]
      },
      {
       "output_type": "stream",
       "stream": "stdout",
       "text": [
        "\n",
        "Num test sentences: 1000\n",
        "True class distribution: [ 500.  500.]\n",
        "Expert predictions: [ 427.  573.]\n",
        "Expert accuracy: 0.7330\n",
        "Student predictions: [ 358.  642.]\n",
        "Student accuracy: 0.7160\n",
        "\n",
        "\n",
        "Calibration: zscores_rank"
       ]
      },
      {
       "output_type": "stream",
       "stream": "stdout",
       "text": [
        "\n",
        "Num test sentences: 1000\n",
        "True class distribution: [ 500.  500.]\n",
        "Expert predictions: [ 487.  513.]\n",
        "Expert accuracy: 0.7330\n",
        "Student predictions: [ 479.  521.]\n",
        "Student accuracy: 0.7110\n",
        "\n",
        "\n",
        "Num test documents: 1000\n",
        "Num test sentences: 10697\n",
        "True class distribution: [ 505.  500.]\n",
        "Expert predictions: [ 491.  514.]\n",
        "Expert accuracy: 0.0689\n",
        "Student predictions: [ 479.  526.]\n",
        "Student accuracy: 0.0665\n",
        "\n",
        "\n",
        "Calibration: _no_calibrate"
       ]
      },
      {
       "output_type": "stream",
       "stream": "stdout",
       "text": [
        "\n",
        "Num test sentences: 1000\n",
        "True class distribution: [ 500.  500.]\n",
        "Expert predictions: [ 424.  576.]\n",
        "Expert accuracy: 0.7340\n",
        "Student predictions: [ 342.  658.]\n",
        "Student accuracy: 0.7100\n",
        "\n",
        "\n",
        "Calibration: zscores_pred"
       ]
      },
      {
       "output_type": "stream",
       "stream": "stdout",
       "text": [
        "\n",
        "Num test sentences: 1000\n",
        "True class distribution: [ 500.  500.]\n",
        "Expert predictions: [ 427.  573.]\n",
        "Expert accuracy: 0.7330\n",
        "Student predictions: [ 358.  642.]\n",
        "Student accuracy: 0.7160\n",
        "\n",
        "\n",
        "Calibration: zscores_rank"
       ]
      },
      {
       "output_type": "stream",
       "stream": "stdout",
       "text": [
        "\n",
        "Num test sentences: 1000\n",
        "True class distribution: [ 500.  500.]\n",
        "Expert predictions: [ 487.  513.]\n",
        "Expert accuracy: 0.7330\n",
        "Student predictions: [ 479.  521.]\n",
        "Student accuracy: 0.7110\n",
        "\n",
        "\n",
        "Num test documents: 1000\n",
        "Num test sentences: 10697\n",
        "True class distribution: [ 507.  500.]\n",
        "Expert predictions: [ 493.  514.]\n",
        "Expert accuracy: 0.0691\n",
        "Student predictions: [ 483.  524.]\n",
        "Student accuracy: 0.0668\n",
        "\n",
        "\n",
        "Calibration: _no_calibrate"
       ]
      },
      {
       "output_type": "stream",
       "stream": "stdout",
       "text": [
        "\n",
        "Num test sentences: 1000\n",
        "True class distribution: [ 500.  500.]\n",
        "Expert predictions: [ 424.  576.]\n",
        "Expert accuracy: 0.7340\n",
        "Student predictions: [ 342.  658.]\n",
        "Student accuracy: 0.7100\n",
        "\n",
        "\n",
        "Calibration: zscores_pred"
       ]
      },
      {
       "output_type": "stream",
       "stream": "stdout",
       "text": [
        "\n",
        "Num test sentences: 1000\n",
        "True class distribution: [ 500.  500.]\n",
        "Expert predictions: [ 427.  573.]\n",
        "Expert accuracy: 0.7330\n",
        "Student predictions: [ 358.  642.]\n",
        "Student accuracy: 0.7160\n",
        "\n",
        "\n",
        "Calibration: zscores_rank"
       ]
      },
      {
       "output_type": "stream",
       "stream": "stdout",
       "text": [
        "\n",
        "Num test sentences: 1000\n",
        "True class distribution: [ 500.  500.]\n",
        "Expert predictions: [ 487.  513.]\n",
        "Expert accuracy: 0.7330\n",
        "Student predictions: [ 479.  521.]\n",
        "Student accuracy: 0.7110\n",
        "\n",
        "\n",
        "Num test documents: 1000\n",
        "Num test sentences: 10697\n",
        "True class distribution: [ 511.  500.]\n",
        "Expert predictions: [ 494.  517.]\n",
        "Expert accuracy: 0.0692\n",
        "Student predictions: [ 484.  527.]\n",
        "Student accuracy: 0.0669\n",
        "\n",
        "\n",
        "Calibration: _no_calibrate"
       ]
      },
      {
       "output_type": "stream",
       "stream": "stdout",
       "text": [
        "\n",
        "Num test sentences: 1000\n",
        "True class distribution: [ 500.  500.]\n",
        "Expert predictions: [ 424.  576.]\n",
        "Expert accuracy: 0.7340\n",
        "Student predictions: [ 342.  658.]\n",
        "Student accuracy: 0.7100\n",
        "\n",
        "\n",
        "Calibration: zscores_pred"
       ]
      },
      {
       "output_type": "stream",
       "stream": "stdout",
       "text": [
        "\n",
        "Num test sentences: 1000\n",
        "True class distribution: [ 500.  500.]\n",
        "Expert predictions: [ 427.  573.]\n",
        "Expert accuracy: 0.7330\n",
        "Student predictions: [ 358.  642.]\n",
        "Student accuracy: 0.7160\n",
        "\n",
        "\n",
        "Calibration: zscores_rank"
       ]
      },
      {
       "output_type": "stream",
       "stream": "stdout",
       "text": [
        "\n",
        "Num test sentences: 1000\n",
        "True class distribution: [ 500.  500.]\n",
        "Expert predictions: [ 487.  513.]\n",
        "Expert accuracy: 0.7330\n",
        "Student predictions: [ 479.  521.]\n",
        "Student accuracy: 0.7110\n",
        "\n",
        "\n",
        "Num test documents: 1000\n",
        "Num test sentences: 10697\n",
        "True class distribution: [ 525.  500.]\n",
        "Expert predictions: [ 499.  526.]\n",
        "Expert accuracy: 0.0696\n",
        "Student predictions: [ 494.  531.]\n",
        "Student accuracy: 0.0679\n",
        "\n",
        "\n",
        "Calibration: _no_calibrate"
       ]
      },
      {
       "output_type": "stream",
       "stream": "stdout",
       "text": [
        "\n",
        "Num test sentences: 1000\n",
        "True class distribution: [ 500.  500.]\n",
        "Expert predictions: [ 424.  576.]\n",
        "Expert accuracy: 0.7340\n",
        "Student predictions: [ 342.  658.]\n",
        "Student accuracy: 0.7100\n",
        "\n",
        "\n",
        "Calibration: zscores_pred"
       ]
      },
      {
       "output_type": "stream",
       "stream": "stdout",
       "text": [
        "\n",
        "Num test sentences: 1000\n",
        "True class distribution: [ 500.  500.]\n",
        "Expert predictions: [ 427.  573.]\n",
        "Expert accuracy: 0.7330\n",
        "Student predictions: [ 358.  642.]\n",
        "Student accuracy: 0.7160\n",
        "\n",
        "\n",
        "Calibration: zscores_rank"
       ]
      },
      {
       "output_type": "stream",
       "stream": "stdout",
       "text": [
        "\n",
        "Num test sentences: 1000\n",
        "True class distribution: [ 500.  500.]\n",
        "Expert predictions: [ 487.  513.]\n",
        "Expert accuracy: 0.7330\n",
        "Student predictions: [ 479.  521.]\n",
        "Student accuracy: 0.7110\n",
        "\n",
        "\n",
        "Num test documents: 1000\n",
        "Num test sentences: 10697\n",
        "True class distribution: [ 500.  504.]\n",
        "Expert predictions: [ 489.  515.]\n",
        "Expert accuracy: 0.0687\n",
        "Student predictions: [ 480.  524.]\n",
        "Student accuracy: 0.0667\n",
        "\n",
        "\n",
        "Calibration: _no_calibrate"
       ]
      },
      {
       "output_type": "stream",
       "stream": "stdout",
       "text": [
        "\n",
        "Num test sentences: 1000\n",
        "True class distribution: [ 500.  500.]\n",
        "Expert predictions: [ 424.  576.]\n",
        "Expert accuracy: 0.7340\n",
        "Student predictions: [ 342.  658.]\n",
        "Student accuracy: 0.7100\n",
        "\n",
        "\n",
        "Calibration: zscores_pred"
       ]
      },
      {
       "output_type": "stream",
       "stream": "stdout",
       "text": [
        "\n",
        "Num test sentences: 1000\n",
        "True class distribution: [ 500.  500.]\n",
        "Expert predictions: [ 427.  573.]\n",
        "Expert accuracy: 0.7330\n",
        "Student predictions: [ 358.  642.]\n",
        "Student accuracy: 0.7160\n",
        "\n",
        "\n",
        "Calibration: zscores_rank"
       ]
      },
      {
       "output_type": "stream",
       "stream": "stdout",
       "text": [
        "\n",
        "Num test sentences: 1000\n",
        "True class distribution: [ 500.  500.]\n",
        "Expert predictions: [ 487.  513.]\n",
        "Expert accuracy: 0.7330\n",
        "Student predictions: [ 479.  521.]\n",
        "Student accuracy: 0.7110\n",
        "\n",
        "\n",
        "Num test documents: 1000\n",
        "Num test sentences: 10697\n",
        "True class distribution: [ 504.  500.]\n",
        "Expert predictions: [ 491.  513.]\n",
        "Expert accuracy: 0.0689\n",
        "Student predictions: [ 479.  525.]\n",
        "Student accuracy: 0.0665\n",
        "\n",
        "\n",
        "Calibration: _no_calibrate"
       ]
      },
      {
       "output_type": "stream",
       "stream": "stdout",
       "text": [
        "\n",
        "Num test sentences: 1000\n",
        "True class distribution: [ 500.  500.]\n",
        "Expert predictions: [ 424.  576.]\n",
        "Expert accuracy: 0.7340\n",
        "Student predictions: [ 342.  658.]\n",
        "Student accuracy: 0.7100\n",
        "\n",
        "\n",
        "Calibration: zscores_pred"
       ]
      },
      {
       "output_type": "stream",
       "stream": "stdout",
       "text": [
        "\n",
        "Num test sentences: 1000\n",
        "True class distribution: [ 500.  500.]\n",
        "Expert predictions: [ 427.  573.]\n",
        "Expert accuracy: 0.7330\n",
        "Student predictions: [ 358.  642.]\n",
        "Student accuracy: 0.7160\n",
        "\n",
        "\n",
        "Calibration: zscores_rank"
       ]
      },
      {
       "output_type": "stream",
       "stream": "stdout",
       "text": [
        "\n",
        "Num test sentences: 1000\n",
        "True class distribution: [ 500.  500.]\n",
        "Expert predictions: [ 487.  513.]\n",
        "Expert accuracy: 0.7330\n",
        "Student predictions: [ 479.  521.]\n",
        "Student accuracy: 0.7110\n",
        "\n",
        "\n",
        "Num test documents: 1000\n",
        "Num test sentences: 10697\n",
        "True class distribution: [ 520.  500.]\n",
        "Expert predictions: [ 503.  517.]\n",
        "Expert accuracy: 0.0700\n",
        "Student predictions: [ 488.  532.]\n",
        "Student accuracy: 0.0673\n",
        "\n",
        "\n",
        "Calibration: _no_calibrate"
       ]
      },
      {
       "output_type": "stream",
       "stream": "stdout",
       "text": [
        "\n",
        "Num test sentences: 1000\n",
        "True class distribution: [ 500.  500.]\n",
        "Expert predictions: [ 424.  576.]\n",
        "Expert accuracy: 0.7340\n",
        "Student predictions: [ 342.  658.]\n",
        "Student accuracy: 0.7100\n",
        "\n",
        "\n",
        "Calibration: zscores_pred"
       ]
      },
      {
       "output_type": "stream",
       "stream": "stdout",
       "text": [
        "\n",
        "Num test sentences: 1000\n",
        "True class distribution: [ 500.  500.]\n",
        "Expert predictions: [ 427.  573.]\n",
        "Expert accuracy: 0.7330\n",
        "Student predictions: [ 358.  642.]\n",
        "Student accuracy: 0.7160\n",
        "\n",
        "\n",
        "Calibration: zscores_rank"
       ]
      },
      {
       "output_type": "stream",
       "stream": "stdout",
       "text": [
        "\n",
        "Num test sentences: 1000\n",
        "True class distribution: [ 500.  500.]\n",
        "Expert predictions: [ 487.  513.]\n",
        "Expert accuracy: 0.7330\n",
        "Student predictions: [ 479.  521.]\n",
        "Student accuracy: 0.7110\n",
        "\n",
        "\n",
        "Num test documents: 1000\n",
        "Num test sentences: 10697\n",
        "True class distribution: [ 500.  505.]\n",
        "Expert predictions: [ 489.  516.]\n",
        "Expert accuracy: 0.0688\n",
        "Student predictions: [ 480.  525.]\n",
        "Student accuracy: 0.0668\n",
        "\n",
        "\n",
        "Calibration: _no_calibrate"
       ]
      },
      {
       "output_type": "stream",
       "stream": "stdout",
       "text": [
        "\n",
        "Num test sentences: 1000\n",
        "True class distribution: [ 500.  500.]\n",
        "Expert predictions: [ 424.  576.]\n",
        "Expert accuracy: 0.7340\n",
        "Student predictions: [ 342.  658.]\n",
        "Student accuracy: 0.7100\n",
        "\n",
        "\n",
        "Calibration: zscores_pred"
       ]
      },
      {
       "output_type": "stream",
       "stream": "stdout",
       "text": [
        "\n",
        "Num test sentences: 1000\n",
        "True class distribution: [ 500.  500.]\n",
        "Expert predictions: [ 427.  573.]\n",
        "Expert accuracy: 0.7330\n",
        "Student predictions: [ 358.  642.]\n",
        "Student accuracy: 0.7160\n",
        "\n",
        "\n",
        "Calibration: zscores_rank"
       ]
      },
      {
       "output_type": "stream",
       "stream": "stdout",
       "text": [
        "\n",
        "Num test sentences: 1000\n",
        "True class distribution: [ 500.  500.]\n",
        "Expert predictions: [ 487.  513.]\n",
        "Expert accuracy: 0.7330\n",
        "Student predictions: [ 479.  521.]\n",
        "Student accuracy: 0.7110\n",
        "\n",
        "\n",
        "Num test documents: 1000\n",
        "Num test sentences: 10697\n",
        "True class distribution: [ 518.  500.]\n",
        "Expert predictions: [ 499.  519.]\n",
        "Expert accuracy: 0.0696\n",
        "Student predictions: [ 484.  534.]\n",
        "Student accuracy: 0.0669\n",
        "\n",
        "\n",
        "Calibration: _no_calibrate"
       ]
      },
      {
       "output_type": "stream",
       "stream": "stdout",
       "text": [
        "\n",
        "Num test sentences: 1000\n",
        "True class distribution: [ 500.  500.]\n",
        "Expert predictions: [ 424.  576.]\n",
        "Expert accuracy: 0.7340\n",
        "Student predictions: [ 342.  658.]\n",
        "Student accuracy: 0.7100\n",
        "\n",
        "\n",
        "Calibration: zscores_pred"
       ]
      },
      {
       "output_type": "stream",
       "stream": "stdout",
       "text": [
        "\n",
        "Num test sentences: 1000\n",
        "True class distribution: [ 500.  500.]\n",
        "Expert predictions: [ 427.  573.]\n",
        "Expert accuracy: 0.7330\n",
        "Student predictions: [ 358.  642.]\n",
        "Student accuracy: 0.7160\n",
        "\n",
        "\n",
        "Calibration: zscores_rank"
       ]
      },
      {
       "output_type": "stream",
       "stream": "stdout",
       "text": [
        "\n",
        "Num test sentences: 1000\n",
        "True class distribution: [ 500.  500.]\n",
        "Expert predictions: [ 487.  513.]\n",
        "Expert accuracy: 0.7330\n",
        "Student predictions: [ 479.  521.]\n",
        "Student accuracy: 0.7110\n",
        "\n",
        "\n",
        "Num test documents: 1000\n",
        "Num test sentences: 10697\n",
        "True class distribution: [ 505.  500.]\n",
        "Expert predictions: [ 490.  515.]\n",
        "Expert accuracy: 0.0688\n",
        "Student predictions: [ 482.  523.]\n",
        "Student accuracy: 0.0667\n",
        "\n",
        "\n",
        "Calibration: _no_calibrate"
       ]
      },
      {
       "output_type": "stream",
       "stream": "stdout",
       "text": [
        "\n",
        "Num test sentences: 1000\n",
        "True class distribution: [ 500.  500.]\n",
        "Expert predictions: [ 424.  576.]\n",
        "Expert accuracy: 0.7340\n",
        "Student predictions: [ 342.  658.]\n",
        "Student accuracy: 0.7100\n",
        "\n",
        "\n",
        "Calibration: zscores_pred"
       ]
      },
      {
       "output_type": "stream",
       "stream": "stdout",
       "text": [
        "\n",
        "Num test sentences: 1000\n",
        "True class distribution: [ 500.  500.]\n",
        "Expert predictions: [ 427.  573.]\n",
        "Expert accuracy: 0.7330\n",
        "Student predictions: [ 358.  642.]\n",
        "Student accuracy: 0.7160\n",
        "\n",
        "\n",
        "Calibration: zscores_rank"
       ]
      },
      {
       "output_type": "stream",
       "stream": "stdout",
       "text": [
        "\n",
        "Num test sentences: 1000\n",
        "True class distribution: [ 500.  500.]\n",
        "Expert predictions: [ 487.  513.]\n",
        "Expert accuracy: 0.7330\n",
        "Student predictions: [ 479.  521.]\n",
        "Student accuracy: 0.7110\n",
        "\n",
        "\n",
        "Num test documents: 1000\n",
        "Num test sentences: 10697\n",
        "True class distribution: [ 507.  500.]\n",
        "Expert predictions: [ 492.  515.]\n",
        "Expert accuracy: 0.0690\n",
        "Student predictions: [ 483.  524.]\n",
        "Student accuracy: 0.0668\n",
        "\n",
        "\n",
        "Calibration: _no_calibrate"
       ]
      },
      {
       "output_type": "stream",
       "stream": "stdout",
       "text": [
        "\n",
        "Num test sentences: 1000\n",
        "True class distribution: [ 500.  500.]\n",
        "Expert predictions: [ 424.  576.]\n",
        "Expert accuracy: 0.7340\n",
        "Student predictions: [ 342.  658.]\n",
        "Student accuracy: 0.7100\n",
        "\n",
        "\n",
        "Calibration: zscores_pred"
       ]
      },
      {
       "output_type": "stream",
       "stream": "stdout",
       "text": [
        "\n",
        "Num test sentences: 1000\n",
        "True class distribution: [ 500.  500.]\n",
        "Expert predictions: [ 427.  573.]\n",
        "Expert accuracy: 0.7330\n",
        "Student predictions: [ 358.  642.]\n",
        "Student accuracy: 0.7160\n",
        "\n",
        "\n",
        "Calibration: zscores_rank"
       ]
      },
      {
       "output_type": "stream",
       "stream": "stdout",
       "text": [
        "\n",
        "Num test sentences: 1000\n",
        "True class distribution: [ 500.  500.]\n",
        "Expert predictions: [ 487.  513.]\n",
        "Expert accuracy: 0.7330\n",
        "Student predictions: [ 479.  521.]\n",
        "Student accuracy: 0.7110\n",
        "\n",
        "\n",
        "Num test documents: 1000\n",
        "Num test sentences: 10697\n",
        "True class distribution: [ 506.  500.]\n",
        "Expert predictions: [ 491.  515.]\n",
        "Expert accuracy: 0.0689\n",
        "Student predictions: [ 481.  525.]\n",
        "Student accuracy: 0.0667\n",
        "\n",
        "\n",
        "Calibration: _no_calibrate"
       ]
      }
     ]
    },
    {
     "cell_type": "code",
     "collapsed": false,
     "input": [],
     "language": "python",
     "metadata": {},
     "outputs": []
    }
   ],
   "metadata": {}
  }
 ]
}