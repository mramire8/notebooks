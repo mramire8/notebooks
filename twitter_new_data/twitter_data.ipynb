{
 "metadata": {
  "name": "",
  "signature": "sha256:1d867c71096c5c16008c24ca4fd9ddebe49eb36d3400204ec90c2d9d310e16fd"
 },
 "nbformat": 3,
 "nbformat_minor": 0,
 "worksheets": [
  {
   "cells": [
    {
     "cell_type": "code",
     "collapsed": false,
     "input": [
      "import json\n",
      "import numpy as np\n",
      "from collections import Counter\n",
      "\n",
      "# data_path = 'C:/Users/mramire8/Documents/Datasets/twitter'\n",
      "data_path = '../../data/twitter'\n",
      "\n",
      "def get_tweets_file(path):\n",
      "    f = open(path)\n",
      "    users = []\n",
      "    for line in f:\n",
      "        t = json.loads(line)\n",
      "        users.append(t)\n",
      "    return users\n",
      "\n",
      "good = get_tweets_file(data_path + \"/good1.json\")\n",
      "print \"Real users %s\" % (len(good))\n",
      "     \n",
      "bots = get_tweets_file(data_path + \"/bots1.json\")\n",
      "print \"Bot users %s\" % (len(bots))\n"
     ],
     "language": "python",
     "metadata": {},
     "outputs": [
      {
       "output_type": "stream",
       "stream": "stdout",
       "text": [
        "Real users 2225\n",
        "Bot users 2060"
       ]
      },
      {
       "output_type": "stream",
       "stream": "stdout",
       "text": [
        "\n"
       ]
      }
     ],
     "prompt_number": 26
    },
    {
     "cell_type": "code",
     "collapsed": false,
     "input": [
      "print len(bots)\n",
      "print len(bots[0])\n",
      "print len(bots[0][0])\n",
      "print type(bots)\n",
      "print type(bots[0])\n",
      "print type(bots[0][0][0])\n",
      "\n"
     ],
     "language": "python",
     "metadata": {},
     "outputs": [
      {
       "output_type": "stream",
       "stream": "stdout",
       "text": [
        "2060\n",
        "1\n",
        "200\n",
        "<type 'list'>\n",
        "<type 'list'>\n",
        "<type 'dict'>\n"
       ]
      }
     ],
     "prompt_number": 36
    },
    {
     "cell_type": "code",
     "collapsed": false,
     "input": [
      "#\n",
      "print \"total: \", len(good) + len(bots)\n",
      "# print \"\\n\".join(sorted(good[0][0][0].keys()))\n",
      "# print (good[0])\n",
      "lan_g = []\n",
      "\n",
      "for g in good:\n",
      "    lan_g.append(g[0][0]['lang'])\n",
      "c = Counter(lan_g)\n",
      "# print c.keys()\n",
      "print \"Good:\\n\" + \"\\n\".join([\"{}={}\".format(a,v) for a,v in c.most_common(5)])\n",
      "\n",
      "lan_b = []\n",
      "for g in bots:\n",
      "    lan_b.append(g[0][0]['lang'])\n",
      "d = Counter(lan_b)\n",
      "# print d.keys()\n",
      "print \"\\nBots:\\n\" + \"\\n\".join([\"{}={}\".format(a,v) for a,v in d.most_common(5)])\n",
      "\n",
      "print \"\\nMost common overall:\\n\" + \"\\n\".join([\"{}={}\".format(a,v) for a,v in (c+d).most_common(3)])\n",
      "\n"
     ],
     "language": "python",
     "metadata": {},
     "outputs": [
      {
       "output_type": "stream",
       "stream": "stdout",
       "text": [
        "total:  4285\n",
        "Good:\n",
        "en=1329\n",
        "ja=241\n",
        "pt=202\n",
        "und=98\n",
        "es=91\n",
        "\n",
        "Bots:\n",
        "en=1774\n",
        "und=72\n",
        "de=32\n",
        "es=28\n",
        "pt=26\n",
        "\n",
        "Most common overall:\n",
        "en=3103\n",
        "ja=251\n",
        "pt=228\n"
       ]
      }
     ],
     "prompt_number": 52
    },
    {
     "cell_type": "markdown",
     "metadata": {},
     "source": [
      "## Distribution of dates from Tweets\n",
      "To avoid bias of the classifier by trending topics the data should belong to the same date range. We want to make sure the users belong to the same period of time. \n",
      "\n",
      "For example, the classifier can learn the topics instead of distinguishing bots from real users. We check for the date distribution of both classes. "
     ]
    },
    {
     "cell_type": "code",
     "collapsed": false,
     "input": [
      "import datetime\n",
      "from collections import Counter\n",
      "\n",
      "def get_date(date_str):\n",
      "    return datetime.datetime.strptime(date_str.strip('\"'), \"%a %b %d %H:%M:%S +0000 %Y\")\n",
      "\n",
      "# datetime.strptime((r.json()[x][\"created_at\"]).strip('\"'), \"%a %b %d %H:%M:%S +0000 %Y\")\n",
      "def count_dates(users):\n",
      "    dates = Counter()\n",
      "    min_dt = get_date(users[0][0][0]['created_at'])\n",
      "    for user in users:\n",
      "        d = get_date(user[0][0]['created_at'])\n",
      "        min_dt = min(min_dt, d)\n",
      "        dates.update([d])\n",
      "    return dates, min_dt\n",
      "\n",
      "good_counts, min_good = count_dates(good)\n",
      "print \"Most common: %s\" % good_counts.most_common(3)\n",
      "print \"Latest: %s\" % min_good\n",
      "        \n",
      "bots_counts, min_bots = count_dates(bots)\n",
      "print \"Most common: %s\" % bots_counts.most_common(3)\n",
      "print \"Latest: %s\" % min_bots\n",
      "\n",
      "    "
     ],
     "language": "python",
     "metadata": {},
     "outputs": [
      {
       "output_type": "stream",
       "stream": "stdout",
       "text": [
        "Most common: [(datetime.datetime(2015, 1, 9, 16, 59, 32), 2), (datetime.datetime(2015, 1, 9, 3, 43, 59), 2), (datetime.datetime(2015, 1, 9, 13, 0, 59), 2)]\n",
        "Latest: 2009-11-09 17:36:37\n",
        "Most common: [(datetime.datetime(2011, 4, 12, 19, 56, 59), 4), (datetime.datetime(2012, 5, 12, 8, 6, 36), 2), (datetime.datetime(2014, 2, 22, 19, 57, 41), 2)]\n",
        "Latest: 2009-06-28 00:59:27\n"
       ]
      }
     ],
     "prompt_number": 53
    },
    {
     "cell_type": "code",
     "collapsed": false,
     "input": [
      "## Number of users that have old tweets in good users\n",
      "## with tweets not in 2014\n",
      "print \"Old good users %s\" %  len([d for d in good_counts.keys() if d.year < 2014])\n",
      "print \"Old bot users %s\" %  len([d for d in bots_counts.keys() if d.year < 2014])"
     ],
     "language": "python",
     "metadata": {},
     "outputs": [
      {
       "output_type": "stream",
       "stream": "stdout",
       "text": [
        "Old good users 471\n",
        "Old bot users 1209\n"
       ]
      }
     ],
     "prompt_number": 54
    },
    {
     "cell_type": "code",
     "collapsed": false,
     "input": [
      "import matplotlib as mpl\n",
      "import matplotlib.pyplot as plt\n",
      "import matplotlib.dates as mdates\n",
      " \n",
      "\n",
      "mpl.style.use('fivethirtyeight')\n",
      "\n",
      "years    = mdates.YearLocator()   # every year\n",
      "months   = mdates.MonthLocator()  # every month\n",
      "yearsFmt = mdates.DateFormatter('%Y')\n",
      "monthsFmt = mdates.DateFormatter('%Y-%m')\n",
      "fig = plt.figure(figsize=(7,7))\n",
      "ax = plt.axes()\n",
      "\n",
      "gds =[(d,c) for d,c in good_counts.iteritems() if d.year > 2012]\n",
      "bts =[(d,c) for d,c in bots_counts.iteritems() if d.year > 2012]\n",
      "\n",
      "\n",
      "kg = [d.toordinal() for d,_ in gds]\n",
      "kb = [d.toordinal() for d,_ in bts]\n",
      "wg = [c for _,c in gds]\n",
      "wb = [c for _,c in bts]\n",
      "plt.hist([kg,kb], weights=[wg,wb], bins=20, stacked=False, alpha=.7, label=['real', 'bots'])\n",
      "\n",
      "ax.xaxis.set_major_locator(months)\n",
      "ax.xaxis.set_major_formatter(monthsFmt)\n",
      "# ax.xaxis.set_minor_locator(months)\n",
      "plt.legend(loc='best', frameon=False, numpoints=1)\n",
      "ax.format_xdata = mdates.DateFormatter('%Y-%m-%d')\n",
      "fig.autofmt_xdate()\n",
      "plt.savefig(\"date_dist.png\")\n"
     ],
     "language": "python",
     "metadata": {},
     "outputs": [
      {
       "metadata": {},
       "output_type": "display_data",
       "png": "[encoded data removed]",
       "text": [
        "<matplotlib.figure.Figure at 0x39c3e2b50>"
       ]
      }
     ],
     "prompt_number": 70
    },
    {
     "cell_type": "markdown",
     "metadata": {},
     "source": [
      "## Data Processing\n",
      "For each user we have tweet in the timeline. Let $s=\\{t | t \\text{ is a tweet}\\}_{1}^{200}$ be the tweets of a user. Let $D=\\{(s,y)\\}_1^n$, where $y=\\{'human','bot'\\}$. \n",
      "\n",
      "### Text Processing \n",
      "For every user we process the text of the twee as follows:\n",
      "* Collapse URL\n",
      "* Collapse mentions\n",
      "* Lower case all text \n",
      "* Remove uses that have not tweeted this year (i.e., 2014)\n",
      "\n",
      "###Dataset Format\n",
      "We create a dataset dictionary containing: \n",
      "\n",
      "* **data**: All tweet objects per user\n",
      "* **target**: Class label of each user. Labels are 0:humans 1:bots\n",
      "* **user_id**: screen name of the user\n",
      "* **user_name**: full name of the user\n",
      "* **user_text**: all text of tweets converted into one single text"
     ]
    },
    {
     "cell_type": "code",
     "collapsed": false,
     "input": [
      "## convert the tweet into a data format of text documents\n",
      "# from sklearn.datasets.base import Bunch\n",
      "import re\n",
      "from sklearn.feature_extraction.text import CountVectorizer, TfidfVectorizer\n",
      "import numpy as np\n",
      "def preprocess(string, lowercase, collapse_urls, collapse_mentions):\n",
      "    if not string:\n",
      "        return \"\"\n",
      "    if lowercase:\n",
      "        string = string.lower()\n",
      "#     tokens = []\n",
      "    if collapse_urls:\n",
      "        string = re.sub('http\\S+', 'THIS_IS_A_URL', string)\n",
      "    if collapse_mentions:\n",
      "        string = re.sub('@\\S+', 'THIS_IS_A_MENTION', string)\n",
      "#     if prefix:\n",
      "#         tokens = ['%s%s' % (prefix, t) for t in tokens]\n",
      "    return string\n",
      "\n",
      "def timeline_to_doc(user, lowercase, collapse_urls, collapse_mentions):\n",
      "    tweets = []\n",
      "    for tw in user:\n",
      "        tweets.append(preprocess(tw[0]['text'], lowercase, collapse_urls, collapse_mentions))\n",
      "    return tweets\n",
      "\n",
      "def user_to_doc(users, lowercase, collapse_urls, collapse_mentions):\n",
      "    timeline = []\n",
      "    user_names = []\n",
      "    user_id = []\n",
      "    \n",
      "    for user in users:\n",
      "        timeline.append(timeline_to_doc(user, lowercase, collapse_urls, collapse_mentions))\n",
      "        user_names.append(user[0][0]['user']['name'])\n",
      "        user_id.append(user[0][0]['user']['screen_name'])\n",
      "    return user_id, user_names, timeline\n",
      "\n",
      "def bunch_users(class1, class2, vct, lowercase, collapse_urls, collapse_mentions, labels=None):\n",
      "    labels = None\n",
      "    if labels is None:\n",
      "        labels = [0,1]\n",
      "\n",
      "    user_id, user_names, timeline = user_to_doc(class1, lowercase, collapse_urls, collapse_mentions)\n",
      "    user_id2, user_names2, timeline2 = user_to_doc(class2, lowercase, collapse_urls, collapse_mentions)\n",
      "    target = [labels[0]] * len(user_id)\n",
      "    user_id.extend(user_id2)\n",
      "    user_names.extend(user_names2)\n",
      "    timeline.extend(timeline2)\n",
      "    target.extend([labels[1]]* len(user_id2))\n",
      "    user_text = [\". \".join(t) for  t in timeline]\n",
      "#     data = Bunch(data=timeline, target=target, user_id=user_id, user_name=user_names)\n",
      "    data = {'data':timeline, 'target':np.array(target), 'user_id':user_id, 'user_name':user_names, 'user_text':user_text}\n",
      "    data['bow'] = vct.fit_transform(data['user_text'])\n",
      "\n",
      "    random_state = np.random.RandomState(5612)        \n",
      "\n",
      "    indices = np.arange(data['bow'].shape[0])\n",
      "    random_state.shuffle(indices)\n",
      "    data['target'] = np.array(data['target'])[indices]\n",
      "    data_lst = np.array(data['data'] , dtype=object)\n",
      "    data_lst = data_lst[indices]\n",
      "    data['data'] = data_lst.tolist()\n",
      "    data['bow'] = data['bow'][indices]\n",
      "    data['user_id'] = np.array(data['user_id'])[indices]\n",
      "    data['user_name'] = np.array(data['user_id'])[indices]\n",
      "    data['user_text'] = np.array(data['user_id'])[indices]\n",
      "    data['target_names'] = labels\n",
      "    return data\n",
      "       "
     ],
     "language": "python",
     "metadata": {},
     "outputs": [],
     "prompt_number": 61
    },
    {
     "cell_type": "code",
     "collapsed": false,
     "input": [
      "import numpy as np \n",
      "vct = TfidfVectorizer(encoding='latin1', min_df=5, max_df=1.0, binary=False, ngram_range=(1, 1),\n",
      "                      token_pattern='\\\\b\\\\w+\\\\b') \n",
      "\n",
      "gds =[g for g in good if get_date(g[0][0]['created_at']).year > 2013]\n",
      "bts =[b for b in bots if get_date(b[0][0]['created_at']).year > 2013]\n",
      "\n",
      "data = bunch_users(gds,bts, vct, True, True, True, labels=['good', 'bots'])\n",
      "\n",
      "print \"Total data:\", len(data['target'])"
     ],
     "language": "python",
     "metadata": {},
     "outputs": [
      {
       "output_type": "stream",
       "stream": "stdout",
       "text": [
        "Total data: 2600\n"
       ]
      }
     ],
     "prompt_number": 62
    },
    {
     "cell_type": "markdown",
     "metadata": {},
     "source": [
      "## Print Features from Data\n",
      "\n",
      "Get the features from a trained classifier "
     ]
    },
    {
     "cell_type": "code",
     "collapsed": false,
     "input": [
      "def print_features(coef, names):\n",
      "    \"\"\" Print sorted list of non-zero features/weights. \"\"\"\n",
      "    ### coef = clf.coef_[0]\n",
      "    ### names = vec.get_feature_names()\n",
      "    print \"*\" * 50\n",
      "    print(\"Number of Features: %s\" % len(names))\n",
      "    print \"\\n\".join('%s\\t%.2f' % (names[j], coef[j]) for j in np.argsort(coef)[::-1] if coef[j] != 0)\n",
      "    print \"*\" * 50\n"
     ],
     "language": "python",
     "metadata": {},
     "outputs": [],
     "prompt_number": 65
    },
    {
     "cell_type": "code",
     "collapsed": false,
     "input": [
      "clf = linear_model.LogisticRegression(penalty='l1', C=1)\n",
      "data = bunch_users(gds, bts, vct, True, True, True)\n",
      "clf.fit(data['bow'], data['target'])\n",
      "print_features(clf.coef_[0], vct.get_feature_names())"
     ],
     "language": "python",
     "metadata": {},
     "outputs": [
      {
       "output_type": "stream",
       "stream": "stdout",
       "text": [
        "**************************************************\n",
        "Number of Features: 743\n",
        "help\t3.62\n",
        "facebook\t3.24\n",
        "social\t3.20\n",
        "business\t3.18\n",
        "marketing\t2.56\n",
        "find\t2.50\n",
        "video\t2.30\n",
        "seo\t2.16\n",
        "we\t2.03\n",
        "inc\t1.94\n",
        "club\t1.85\n",
        "does\t1.84\n",
        "free\t1.83\n",
        "on\t1.73\n",
        "company\t1.70\n",
        "liked\t1.70\n",
        "former\t1.63\n",
        "latest\t1.63\n",
        "awesome\t1.60\n",
        "daily\t1.53\n",
        "thanks\t1.53\n",
        "email\t1.51\n",
        "home\t1.49\n",
        "our\t1.47\n",
        "sell\t1.47\n",
        "zu\t1.32\n",
        "money\t1.31\n",
        "ve\t1.27\n",
        "to\t1.25\n",
        "live\t1.21\n",
        "cost\t1.20\n",
        "une\t1.16\n",
        "for\t1.15\n",
        "review\t1.14\n",
        "via\t1.14\n",
        "dreams\t1.09\n",
        "tv\t1.07\n",
        "team\t1.07\n",
        "all\t1.03\n",
        "born\t1.02\n",
        "travel\t1.01\n",
        "cheers\t0.97\n",
        "this\t0.95\n",
        "tu\t0.93\n",
        "over\t0.93\n",
        "this_is_a_url\t0.91\n",
        "after\t0.89\n",
        "from\t0.87\n",
        "what\t0.82\n",
        "big\t0.80\n",
        "great\t0.80\n",
        "why\t0.79\n",
        "your\t0.74\n",
        "year\t0.74\n",
        "stock\t0.73\n",
        "too\t0.73\n",
        "and\t0.72\n",
        "13\t0.70\n",
        "who\t0.67\n",
        "code\t0.67\n",
        "need\t0.67\n",
        "enter\t0.65\n",
        "offer\t0.63\n",
        "1\t0.60\n",
        "be\t0.58\n",
        "software\t0.55\n",
        "new\t0.54\n",
        "if\t0.53\n",
        "how\t0.53\n",
        "the\t0.51\n",
        "man\t0.51\n",
        "happy\t0.49\n",
        "website\t0.49\n",
        "has\t0.42\n",
        "30\t0.42\n",
        "part\t0.41\n",
        "one\t0.40\n",
        "blog\t0.36\n",
        "lives\t0.34\n",
        "can\t0.33\n",
        "und\t0.29\n",
        "0\t0.28\n",
        "in\t0.28\n",
        "by\t0.27\n",
        "2014\t0.27\n",
        "another\t0.26\n",
        "25\t0.25\n",
        "show\t0.23\n",
        "season\t0.22\n",
        "of\t0.20\n",
        "is\t0.20\n",
        "check\t0.19\n",
        "50\t0.17\n",
        "online\t0.17\n",
        "where\t0.15\n",
        "stop\t0.15\n",
        "she\t0.13\n",
        "text\t0.12\n",
        "nowplaying\t0.09\n",
        "15\t0.09\n",
        "a\t0.05\n",
        "problem\t0.04\n",
        "not\t0.03\n",
        "s\t0.03\n",
        "down\t0.02\n",
        "win\t0.02\n",
        "re\t0.02\n",
        "me\t0.02\n",
        "here\t0.01\n",
        "news\t0.01\n",
        "los\t-0.02\n",
        "future\t-0.02\n",
        "amazing\t-0.03\n",
        "charliehebdo\t-0.04\n",
        "lol\t-0.06\n",
        "birthday\t-0.06\n",
        "might\t-0.08\n",
        "at\t-0.09\n",
        "watch\t-0.10\n",
        "amp\t-0.10\n",
        "w\t-0.11\n",
        "d\t-0.13\n",
        "yang\t-0.14\n",
        "10\t-0.15\n",
        "more\t-0.21\n",
        "like\t-0.24\n",
        "se\t-0.25\n",
        "yg\t-0.27\n",
        "that\t-0.29\n",
        "today\t-0.30\n",
        "el\t-0.30\n",
        "t\t-0.34\n",
        "en\t-0.50\n",
        "my\t-0.57\n",
        "la\t-0.62\n",
        "ya\t-0.77\n",
        "que\t-0.78\n",
        "charlie\t-0.80\n",
        "pic\t-0.85\n",
        "time\t-1.13\n",
        "had\t-1.15\n",
        "thank\t-1.18\n",
        "this_is_a_mention\t-1.23\n",
        "rt\t-1.27\n",
        "well\t-1.31\n",
        "so\t-1.34\n",
        "de\t-1.40\n",
        "eu\t-1.43\n",
        "watching\t-1.61\n",
        "i\t-1.88\n",
        "o\t-2.65\n",
        "**************************************************\n"
       ]
      }
     ],
     "prompt_number": 66
    },
    {
     "cell_type": "markdown",
     "metadata": {},
     "source": [
      "##Testing Sentence Classifier\n",
      "Test how does a sentence classifier do classifying into bots and humans."
     ]
    },
    {
     "cell_type": "code",
     "collapsed": false,
     "input": [
      "##sentence detector in tweets\n",
      "def sentence_detector(timeline):\n",
      "    tl = []\n",
      "    print len(timeline)\n",
      "    for tw in timeline:\n",
      "        tl.append(tw)\n",
      "    return tl\n",
      "\n",
      "def convert2sentence(data):\n",
      "    all_sent=[]\n",
      "    all_target=[]\n",
      "    for user_timeline, label in zip(data['data'], data['target']):\n",
      "        sentences = user_timeline\n",
      "        lbls = [label] * len(sentences)\n",
      "        all_sent.extend(sentences)\n",
      "        all_target.extend(lbls)\n",
      "    return all_sent, all_target\n",
      "\n"
     ],
     "language": "python",
     "metadata": {},
     "outputs": [],
     "prompt_number": 19
    },
    {
     "cell_type": "code",
     "collapsed": false,
     "input": [
      "vct = TfidfVectorizer(encoding='latin1', min_df=5, max_df=1.0, binary=False, ngram_range=(1,2),\n",
      "                      token_pattern='\\\\b\\\\w+\\\\b') \n",
      "x_sent,y_sent = convert2sentence(data)\n",
      "random_state = np.random.RandomState(5612) \n",
      "indices = np.arange(len(y_sent))\n",
      "random_state.shuffle(indices)\n",
      "y_sent = np.array(y_sent)[indices]\n",
      "data_lst = np.array(x_sent , dtype=object)\n",
      "data_lst = data_lst[indices]\n",
      "x_sent = data_lst.tolist()\n"
     ],
     "language": "python",
     "metadata": {},
     "outputs": [],
     "prompt_number": 20
    },
    {
     "cell_type": "code",
     "collapsed": false,
     "input": [
      "clf_sent = linear_model.LogisticRegression(penalty='l1', C=10)\n",
      "print \"Total sentences:\", len(y_sent)\n",
      "learning_curve_tweet({'data':x_sent, 'target':y_sent, 'bow':vct.fit_transform(x_sent)},clf, sizes=range(1000, 20000, 1000))"
     ],
     "language": "python",
     "metadata": {},
     "outputs": [
      {
       "output_type": "stream",
       "stream": "stdout",
       "text": [
        "Total sentences: 309320\n",
        "----------------------------------------"
       ]
      },
      {
       "output_type": "stream",
       "stream": "stdout",
       "text": [
        "\n",
        "\n",
        "COST\tMEAN\tSTDEV\n",
        "1000\t0.650\t0.0010\n",
        "2000\t0.664\t0.0007\n",
        "3000\t0.673\t0.0005\n",
        "4000\t0.674\t0.0012\n",
        "5000\t0.681\t0.0009\n",
        "6000\t0.685\t0.0016\n",
        "7000\t0.691\t0.0011\n",
        "8000\t0.697\t0.0008\n",
        "9000\t0.699\t0.0011\n",
        "10000\t0.702\t0.0005\n",
        "11000\t0.705\t0.0010\n",
        "12000\t0.708\t0.0009\n",
        "13000\t0.710\t0.0007\n",
        "14000\t0.711\t0.0009\n",
        "15000\t0.712\t0.0013\n",
        "16000\t0.714\t0.0011\n",
        "17000\t0.716\t0.0012\n",
        "18000\t0.719\t0.0011\n",
        "19000\t0.721\t0.0010\n"
       ]
      },
      {
       "metadata": {},
       "output_type": "display_data",
       "png": "[encoded data removed]",
       "text": [
        "<matplotlib.figure.Figure at 0x3171fd0>"
       ]
      }
     ],
     "prompt_number": 29
    },
    {
     "cell_type": "code",
     "collapsed": false,
     "input": [
      "#other classifiers \n",
      "lr2=linear_model.LogisticRegression(penalty='l2', C=1)\n",
      "# lr2.fit(data['bow'], data['target'])\n",
      "learning_curve_tweet({'data':x_sent, 'target':y_sent, 'bow':vct.fit_transform(x_sent)}, \n",
      "                     lr2, sizes=range(1000, 20000, 1000), curve_label=\"LRL2-C=1\")\n"
     ],
     "language": "python",
     "metadata": {},
     "outputs": [
      {
       "output_type": "stream",
       "stream": "stdout",
       "text": [
        "----------------------------------------\n",
        "\n",
        "COST\tMEAN\tSTDEV\n",
        "1000\t0.655\t0.0095\n",
        "2000\t0.682\t0.0010\n",
        "3000\t0.696\t0.0005\n",
        "4000\t0.698\t0.0006\n",
        "5000\t0.704\t0.0006\n",
        "6000\t0.708\t0.0007\n",
        "7000\t0.712\t0.0005\n",
        "8000\t0.716\t0.0007\n",
        "9000\t0.719\t0.0006\n",
        "10000\t0.723\t0.0008\n",
        "11000\t0.724\t0.0007\n",
        "12000\t0.726\t0.0006\n",
        "13000\t0.728\t0.0008\n",
        "14000\t0.729\t0.0007\n",
        "15000\t0.730\t0.0007\n",
        "16000\t0.732\t0.0009\n",
        "17000\t0.733\t0.0006\n",
        "18000\t0.735\t0.0007\n",
        "19000\t0.736\t0.0006\n"
       ]
      },
      {
       "metadata": {},
       "output_type": "display_data",
       "png": "[encoded data removed]",
       "text": [
        "<matplotlib.figure.Figure at 0x26910f60>"
       ]
      }
     ],
     "prompt_number": 37
    },
    {
     "cell_type": "markdown",
     "metadata": {},
     "source": [
      "## Error Analysis"
     ]
    },
    {
     "cell_type": "code",
     "collapsed": false,
     "input": [
      "def print_top_terms(model, terms, n=20):\n",
      "    print '\\nTop Coefficients'\n",
      "    coef = model.coef_[0]\n",
      "    srted = np.argsort(coef)\n",
      "    topi = srted[::-1][:n]\n",
      "    boti = srted[:n]\n",
      "    \n",
      "    print 'Real Terms:\\n' + '\\n'.join('%s (%g)' % (n, c) for n, c in zip(terms[topi], coef[topi]))\n",
      "    print '\\nBot Terms:\\n' + '\\n'.join('%s (%g)' % (n, c) for n, c in zip(terms[boti], coef[boti]))\n",
      "    print '\\nintercept=%g' % model.intercept_\n",
      "\n",
      "def print_terms_and_coef(row, terms, coef):\n",
      "    indices = sorted(row.indices, key=lambda x: coef[x])\n",
      "    print 'Top Terms:'\n",
      "    for i in indices:\n",
      "        if coef[i] != 0:\n",
      "            print terms[i], \"%.3f\" % coef[i]\n",
      "    print\n",
      "    \n",
      "def error_analysis(clf, predicted, predicted_proba, X, tweets, terms):\n",
      "    \n",
      "    print_top_terms(clf, np.array(terms))\n",
      "    \n",
      "    print '\\nERRORS:'\n",
      "    for i in range(predicted_proba.shape[0]):\n",
      "        probability = predicted_proba[i][predicted[i]]\n",
      "        # If we're very wrong.\n",
      "        if predicted[i] != y_test[i] and probability > .97:\n",
      "            \n",
      "            print '\\npred=%d (%g) truth=%d \\ntext=%s ' % (predicted[i],\n",
      "                                                            probability,\n",
      "                                                            y_test[i],\n",
      "                                                            tweets[i])\n",
      "            print_terms_and_coef(X.getrow(i), terms, clf.coef_[0])\n",
      "    \n",
      "error_analysis(lrl2, pred, proba, x_test_bow, x_test, vct_sent.get_feature_names())"
     ],
     "language": "python",
     "metadata": {},
     "outputs": [
      {
       "ename": "NameError",
       "evalue": "name 'lrl2' is not defined",
       "output_type": "pyerr",
       "traceback": [
        "\u001b[0;31m---------------------------------------------------------------------------\u001b[0m\n\u001b[0;31mNameError\u001b[0m                                 Traceback (most recent call last)",
        "\u001b[0;32m<ipython-input-68-a95dcab2232e>\u001b[0m in \u001b[0;36m<module>\u001b[0;34m()\u001b[0m\n\u001b[1;32m     34\u001b[0m             \u001b[0mprint_terms_and_coef\u001b[0m\u001b[0;34m(\u001b[0m\u001b[0mX\u001b[0m\u001b[0;34m.\u001b[0m\u001b[0mgetrow\u001b[0m\u001b[0;34m(\u001b[0m\u001b[0mi\u001b[0m\u001b[0;34m)\u001b[0m\u001b[0;34m,\u001b[0m \u001b[0mterms\u001b[0m\u001b[0;34m,\u001b[0m \u001b[0mclf\u001b[0m\u001b[0;34m.\u001b[0m\u001b[0mcoef_\u001b[0m\u001b[0;34m[\u001b[0m\u001b[0;36m0\u001b[0m\u001b[0;34m]\u001b[0m\u001b[0;34m)\u001b[0m\u001b[0;34m\u001b[0m\u001b[0m\n\u001b[1;32m     35\u001b[0m \u001b[0;34m\u001b[0m\u001b[0m\n\u001b[0;32m---> 36\u001b[0;31m \u001b[0merror_analysis\u001b[0m\u001b[0;34m(\u001b[0m\u001b[0mlrl2\u001b[0m\u001b[0;34m,\u001b[0m \u001b[0mpred\u001b[0m\u001b[0;34m,\u001b[0m \u001b[0mproba\u001b[0m\u001b[0;34m,\u001b[0m \u001b[0mx_test_bow\u001b[0m\u001b[0;34m,\u001b[0m \u001b[0mx_test\u001b[0m\u001b[0;34m,\u001b[0m \u001b[0mvct_sent\u001b[0m\u001b[0;34m.\u001b[0m\u001b[0mget_feature_names\u001b[0m\u001b[0;34m(\u001b[0m\u001b[0;34m)\u001b[0m\u001b[0;34m)\u001b[0m\u001b[0;34m\u001b[0m\u001b[0m\n\u001b[0m",
        "\u001b[0;31mNameError\u001b[0m: name 'lrl2' is not defined"
       ]
      }
     ],
     "prompt_number": 68
    },
    {
     "cell_type": "code",
     "collapsed": false,
     "input": [
      "print \"Sentence distribution\", 1.* y_sent.sum()/y_sent.shape[0]\n",
      "print y_sent.shape[0]"
     ],
     "language": "python",
     "metadata": {},
     "outputs": [
      {
       "output_type": "stream",
       "stream": "stdout",
       "text": [
        "Sentence distribution 0.460468123626\n",
        "309320\n"
       ]
      }
     ],
     "prompt_number": 38
    },
    {
     "cell_type": "code",
     "collapsed": false,
     "input": [
      "order = proba.argmax(axis=1)\n",
      "maxprob= proba.min(axis=1)\n",
      "plt.hist([maxprob[order==0], maxprob[order==1]], bins=np.arange(0.0, .5,.1), label=['y=0', 'y=1'])\n",
      "plt.legend(loc='best')"
     ],
     "language": "python",
     "metadata": {},
     "outputs": [
      {
       "metadata": {},
       "output_type": "pyout",
       "prompt_number": 63,
       "text": [
        "<matplotlib.legend.Legend at 0x112767410>"
       ]
      },
      {
       "metadata": {},
       "output_type": "display_data",
       "png": "[encoded data removed]",
       "text": [
        "<matplotlib.figure.Figure at 0x1127672d0>"
       ]
      }
     ],
     "prompt_number": 63
    },
    {
     "cell_type": "code",
     "collapsed": false,
     "input": [],
     "language": "python",
     "metadata": {},
     "outputs": []
    }
   ],
   "metadata": {}
  }
 ]
}