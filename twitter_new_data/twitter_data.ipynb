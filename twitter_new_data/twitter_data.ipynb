{
 "metadata": {
  "name": "",
  "signature": "sha256:7f523e48e5cde69335ad1cad7c1e5cf2d08df7610988017ffe80863f0aa93f40"
 },
 "nbformat": 3,
 "nbformat_minor": 0,
 "worksheets": [
  {
   "cells": [
    {
     "cell_type": "markdown",
     "metadata": {},
     "source": [
      "# Twitter Data Processing\n",
      "\n",
      "Twitter data\n",
      "1. Loading\n",
      "1. Language statistics\n",
      "1. Date statistics\n",
      "1. Expert accuracy on preprocessing options\n",
      "\n",
      "\n",
      "### Notes:\n",
      "\n",
      "* We will filter all accounts whose latest tweet is older than 2012\n",
      "* We will use the following features:\n",
      "    * URLS\n",
      "    * Mentions\n",
      "    * ..."
     ]
    },
    {
     "cell_type": "code",
     "collapsed": false,
     "input": [
      "import json\n",
      "import numpy as np\n",
      "from collections import Counter\n",
      "\n",
      "# data_path = 'C:/Users/mramire8/Documents/Datasets/twitter'\n",
      "data_path = '../../data/twitter'\n",
      "\n",
      "def get_tweets_file(path):\n",
      "    f = open(path)\n",
      "    users = []\n",
      "    for line in f:\n",
      "        t = json.loads(line)\n",
      "        users.append(t)\n",
      "    return users\n",
      "\n",
      "good = get_tweets_file(data_path + \"/good1.json\")\n",
      "print \"Real users %s\" % (len(good))\n",
      "     \n",
      "bots = get_tweets_file(data_path + \"/bots1.json\")\n",
      "print \"Bot users %s\" % (len(bots))\n"
     ],
     "language": "python",
     "metadata": {},
     "outputs": [
      {
       "output_type": "stream",
       "stream": "stdout",
       "text": [
        "Real users 2225\n",
        "Bot users 2060"
       ]
      },
      {
       "output_type": "stream",
       "stream": "stdout",
       "text": [
        "\n"
       ]
      }
     ],
     "prompt_number": 26
    },
    {
     "cell_type": "markdown",
     "metadata": {},
     "source": [
      "# Data Statistics\n",
      "## Laguages in the Tweets\n",
      "\n",
      "There are other languages aside from english in the data. Here we have some statistics"
     ]
    },
    {
     "cell_type": "code",
     "collapsed": false,
     "input": [
      "print \"total accounts: \", len(good) + len(bots)\n",
      "\n",
      "lan_g = []\n",
      "\n",
      "for g in good:\n",
      "    lan_g.append(g[0][0]['lang'])\n",
      "c = Counter(lan_g)\n",
      "# print c.keys()\n",
      "print \"Good:\\n\" + \"\\n\".join([\"{}={}\".format(a,v) for a,v in c.most_common(5)])\n",
      "\n",
      "lan_b = []\n",
      "for g in bots:\n",
      "    lan_b.append(g[0][0]['lang'])\n",
      "d = Counter(lan_b)\n",
      "# print d.keys()\n",
      "print \"\\nBots:\\n\" + \"\\n\".join([\"{}={}\".format(a,v) for a,v in d.most_common(5)])\n",
      "\n",
      "print \"\\nMost common overall:\\n\" + \"\\n\".join([\"{}={}\".format(a,v) for a,v in (c+d).most_common(3)])\n",
      "\n"
     ],
     "language": "python",
     "metadata": {},
     "outputs": [
      {
       "output_type": "stream",
       "stream": "stdout",
       "text": [
        "total:  4285\n",
        "Good:\n",
        "en=1329\n",
        "ja=241\n",
        "pt=202\n",
        "und=98\n",
        "es=91\n",
        "\n",
        "Bots:\n",
        "en=1774\n",
        "und=72\n",
        "de=32\n",
        "es=28\n",
        "pt=26\n",
        "\n",
        "Most common overall:\n",
        "en=3103\n",
        "ja=251\n",
        "pt=228\n"
       ]
      }
     ],
     "prompt_number": 52
    },
    {
     "cell_type": "code",
     "collapsed": false,
     "input": [
      "1329./3103."
     ],
     "language": "python",
     "metadata": {},
     "outputs": [
      {
       "metadata": {},
       "output_type": "pyout",
       "prompt_number": 73,
       "text": [
        "0.4282951981952949"
       ]
      }
     ],
     "prompt_number": 73
    },
    {
     "cell_type": "markdown",
     "metadata": {},
     "source": [
      "## Distribution of dates from Tweets\n",
      "To avoid bias of the classifier by trending topics the data should belong to the same date range. We want to make sure the users belong to the same period of time. \n",
      "\n",
      "For example, the classifier can learn the topics instead of distinguishing bots from real users. We check for the date distribution of both classes. "
     ]
    },
    {
     "cell_type": "code",
     "collapsed": false,
     "input": [
      "import datetime\n",
      "from collections import Counter\n",
      "\n",
      "def get_date(date_str):\n",
      "    return datetime.datetime.strptime(date_str.strip('\"'), \"%a %b %d %H:%M:%S +0000 %Y\")\n",
      "\n",
      "# datetime.strptime((r.json()[x][\"created_at\"]).strip('\"'), \"%a %b %d %H:%M:%S +0000 %Y\")\n",
      "def count_dates(users):\n",
      "    dates = Counter()\n",
      "    min_dt = get_date(users[0][0][0]['created_at'])\n",
      "    for user in users:\n",
      "        d = get_date(user[0][0]['created_at'])\n",
      "        min_dt = min(min_dt, d)\n",
      "        dates.update([d])\n",
      "    return dates, min_dt\n",
      "\n",
      "good_counts, min_good = count_dates(good)\n",
      "print \"Most common: %s\" % good_counts.most_common(3)\n",
      "print \"Latest: %s\" % min_good\n",
      "        \n",
      "bots_counts, min_bots = count_dates(bots)\n",
      "print \"Most common: %s\" % bots_counts.most_common(3)\n",
      "print \"Latest: %s\" % min_bots\n",
      "\n",
      "    "
     ],
     "language": "python",
     "metadata": {},
     "outputs": [
      {
       "output_type": "stream",
       "stream": "stdout",
       "text": [
        "Most common: [(datetime.datetime(2015, 1, 9, 16, 59, 32), 2), (datetime.datetime(2015, 1, 9, 3, 43, 59), 2), (datetime.datetime(2015, 1, 9, 13, 0, 59), 2)]\n",
        "Latest: 2009-11-09 17:36:37\n",
        "Most common: [(datetime.datetime(2011, 4, 12, 19, 56, 59), 4), (datetime.datetime(2012, 5, 12, 8, 6, 36), 2), (datetime.datetime(2014, 2, 22, 19, 57, 41), 2)]\n",
        "Latest: 2009-06-28 00:59:27\n"
       ]
      }
     ],
     "prompt_number": 53
    },
    {
     "cell_type": "code",
     "collapsed": false,
     "input": [
      "## Number of users that have old tweets in good users\n",
      "## with tweets not in 2014\n",
      "print \"Old good users %s\" %  len([d for d in good_counts.keys() if d.year < 2013])\n",
      "print \"Old bot users %s\" %  len([d for d in bots_counts.keys() if d.year < 2013])"
     ],
     "language": "python",
     "metadata": {},
     "outputs": [
      {
       "output_type": "stream",
       "stream": "stdout",
       "text": [
        "Old good users 322\n",
        "Old bot users 967\n"
       ]
      }
     ],
     "prompt_number": 74
    },
    {
     "cell_type": "code",
     "collapsed": false,
     "input": [
      "import matplotlib as mpl\n",
      "import matplotlib.pyplot as plt\n",
      "import matplotlib.dates as mdates\n",
      " \n",
      "\n",
      "mpl.style.use('fivethirtyeight')\n",
      "\n",
      "years    = mdates.YearLocator()   # every year\n",
      "months   = mdates.MonthLocator()  # every month\n",
      "yearsFmt = mdates.DateFormatter('%Y')\n",
      "monthsFmt = mdates.DateFormatter('%Y-%m')\n",
      "fig = plt.figure(figsize=(7,7))\n",
      "ax = plt.axes()\n",
      "\n",
      "gds =[(d,c) for d,c in good_counts.iteritems() if d.year > 2011]\n",
      "bts =[(d,c) for d,c in bots_counts.iteritems() if d.year > 2011]\n",
      "\n",
      "\n",
      "kg = [d.toordinal() for d,_ in gds]\n",
      "kb = [d.toordinal() for d,_ in bts]\n",
      "wg = [c for _,c in gds]\n",
      "wb = [c for _,c in bts]\n",
      "plt.hist([kg,kb], weights=[wg,wb], bins=20, stacked=False, alpha=.7, label=['real', 'bots'])\n",
      "\n",
      "ax.xaxis.set_major_locator(months)\n",
      "ax.xaxis.set_major_formatter(monthsFmt)\n",
      "# ax.xaxis.set_minor_locator(months)\n",
      "plt.legend(loc='best', frameon=False, numpoints=1)\n",
      "ax.format_xdata = mdates.DateFormatter('%Y-%m-%d')\n",
      "fig.autofmt_xdate()\n",
      "plt.savefig(\"date_dist.png\")\n"
     ],
     "language": "python",
     "metadata": {},
     "outputs": [
      {
       "metadata": {},
       "output_type": "display_data",
       "png": "[encoded data removed]",
       "text": [
        "<matplotlib.figure.Figure at 0x39cdd0410>"
       ]
      }
     ],
     "prompt_number": 71
    },
    {
     "cell_type": "markdown",
     "metadata": {},
     "source": [
      "## Data Processing\n",
      "For each user we have tweet in the timeline. Let $s=\\{t | t \\text{ is a tweet}\\}_{1}^{200}$ be the tweets of a user. Let $D=\\{(s,y)\\}_1^n$, where $y=\\{'human','bot'\\}$. \n",
      "\n",
      "### Text Processing \n",
      "For every user we process the text of the twee as follows:\n",
      "* URL: collapse, no collapse, delete\n",
      "* Mentions: collapse, no collapse, delete\n",
      "* Lower case all text \n",
      "* Remove uses that have not tweeted this year (i.e., 2011)\n",
      "\n",
      "###Dataset Format\n",
      "We create a dataset dictionary containing: \n",
      "\n",
      "* **data**: All tweet objects per user\n",
      "* **target**: Class label of each user. Labels are 0:humans 1:bots\n",
      "* **user_id**: screen name of the user\n",
      "* **user_name**: full name of the user\n",
      "* **user_text**: all text of tweets converted into one single text"
     ]
    },
    {
     "cell_type": "code",
     "collapsed": false,
     "input": [
      "## convert the tweet into a data format of text documents\n",
      "# from sklearn.datasets.base import Bunch\n",
      "import re\n",
      "from sklearn.feature_extraction.text import CountVectorizer, TfidfVectorizer\n",
      "import numpy as np\n",
      "\n",
      "def preprocess(string, lowercase, collapse_urls, collapse_mentions):\n",
      "    if not string:\n",
      "        return \"\"\n",
      "    if lowercase:\n",
      "        string = string.lower()\n",
      "    if collapse_urls is None: \n",
      "        string = re.sub('http\\S+', '', string)        \n",
      "    elif collapse_urls:\n",
      "        string = re.sub('http\\S+', 'THIS_IS_A_URL', string)\n",
      "    if collapse_mentions is None:\n",
      "        string = re.sub('@\\S+', '', string)\n",
      "    elif collapse_mentions:\n",
      "        string = re.sub('@\\S+', 'THIS_IS_A_MENTION', string)\n",
      "#     if prefix:\n",
      "#         tokens = ['%s%s' % (prefix, t) for t in tokens]\n",
      "    return string\n",
      "\n",
      "def timeline_to_doc(user, lowercase, collapse_urls, collapse_mentions):\n",
      "    tweets = []\n",
      "    for tw in user[0]:\n",
      "        tweets.append(preprocess(tw['text'], lowercase, collapse_urls, collapse_mentions))\n",
      "    return tweets\n",
      "\n",
      "def user_to_doc(users, lowercase, collapse_urls, collapse_mentions):\n",
      "    timeline = []\n",
      "    user_names = []\n",
      "    user_id = []\n",
      "    \n",
      "    for user in users:\n",
      "        timeline.append(timeline_to_doc(user, lowercase, collapse_urls, collapse_mentions))\n",
      "        user_names.append(user[0][0]['user']['name'])\n",
      "        user_id.append(user[0][0]['user']['screen_name'])\n",
      "    return user_id, user_names, timeline\n",
      "\n",
      "def bunch_users(class1, class2, vct, lowercase, collapse_urls, collapse_mentions, labels=None):\n",
      "    labels = None\n",
      "    if labels is None:\n",
      "        labels = [0,1]\n",
      "\n",
      "    user_id, user_names, timeline = user_to_doc(class1, lowercase, collapse_urls, collapse_mentions)\n",
      "    user_id2, user_names2, timeline2 = user_to_doc(class2, lowercase, collapse_urls, collapse_mentions)\n",
      "    target = [labels[0]] * len(user_id)\n",
      "    user_id.extend(user_id2)\n",
      "    user_names.extend(user_names2)\n",
      "    timeline.extend(timeline2)\n",
      "    target.extend([labels[1]]* len(user_id2))\n",
      "    user_text = [\". \".join(t) for  t in timeline]\n",
      "    data = {'data':timeline, 'target':np.array(target), 'user_id':user_id, 'user_name':user_names, 'user_text':user_text}\n",
      "    data['bow'] = vct.fit_transform(data['user_text'])\n",
      "\n",
      "    random_state = np.random.RandomState(5612)        \n",
      "\n",
      "    indices = np.arange(data['bow'].shape[0])\n",
      "    random_state.shuffle(indices)\n",
      "    data['target'] = np.array(data['target'])[indices]\n",
      "    data_lst = np.array(data['data'] , dtype=object)\n",
      "    data_lst = data_lst[indices]\n",
      "    data['data'] = data_lst\n",
      "    data['bow'] = data['bow'][indices]\n",
      "    data['user_id'] = np.array(data['user_id'])[indices]\n",
      "    data['user_name'] = np.array(data['user_id'])[indices]\n",
      "    data['user_text'] = np.array(data['user_text'])[indices]\n",
      "    data['target_names'] = labels\n",
      "    return data\n",
      "  \n",
      "    "
     ],
     "language": "python",
     "metadata": {},
     "outputs": [],
     "prompt_number": 222
    },
    {
     "cell_type": "code",
     "collapsed": false,
     "input": [
      "user_id, user_names, timeline = user_to_doc(gds, True, False, False)"
     ],
     "language": "python",
     "metadata": {},
     "outputs": [],
     "prompt_number": 218
    },
    {
     "cell_type": "code",
     "collapsed": false,
     "input": [
      "user_text = [\"########\".join(t) for  t in timeline]\n",
      "print len(user_text[0].split(\"########\"))\n",
      "print user_text[0]"
     ],
     "language": "python",
     "metadata": {},
     "outputs": [
      {
       "output_type": "stream",
       "stream": "stdout",
       "text": [
        "199\n",
        "not feeling this way in 2015. leaving this shit in 2014. crappy year.########hate going to pc richards, i leave i feel dirty. like a woman walking in ny getting catcall with all guys huddled asking me if they can help########omfg odel's catch was fucking amazing. #giants########the beginning.... now she is my wife. #fbf to #tbt http://t.co/y6kwexkcqp########the hole is scorched!!########social experiment. watch how people react on line at supermarket. true nature habits are exhibited. #1stofdamonth########at a dominican barber shop and they are watching sting (the singer) infomercial. should there be bachata on?########why do you go somewhere and the music does not fit the scene at all.########@ciphasounds @rosenbergradio i am made that angie messed up juan epstein. over a month and no new episodes.########i don't fuck with you!!!!!! (big sean voice) #boiii########sum ppl as in @halesss0. #subbedtodeaded########sum ppl mad that no one want to tell them! \ud83d\udcf1\ud83d\udd28########in the words of anthony ...... charlene.########some how i am intrigued by her intellect, beauty, and love########yeah i gave mad at cars that don't wave when i let them in. it's  like holding the door for somebody and they don't say thank you########feeling aiko########i'm a hoarder. i don't know how to let go of things.########i love every argument that has the phrase. \"i'm a grown ass man\". just means you know that you are wrong.########unbreakable bond?..... that bond cracked. http://t.co/yxdaktsv1l########kicking it off right!!!########it's so cold out here. feels like polar opposites from a few days ago.########scared to move########put my stuff at the bottom of the pole so i know where it is.########@xosimplyjust #whataloser word!!!########4 years ago i had the first and last time thanksgiving eve time out. #thanksgivingeve http://t.co/u4gtrl8yzu########talk. talk. talk. talk\u2026\u2026. sure########good game going into the 4th. #madeinny #knicks http://t.co/xmcdfvcjx4########going from\u2934\ufe0f to \u2935\ufe0f########a dreamer who can't dream has nightmares....########thor 2 with melissal1810 with recliners for $7.50. not to shabby. http://t.co/2bswdmjnez########apple still got us waiting outside in lines. #fiending and not even for me. http://t.co/nxxw0sljrw########caden anthony garcia born 9/12/13 to a happy mommy and daddy. http://t.co/wvo7ip5s2m########sitting just allowing the past present and future pass through me########this is the quiet before the sound. the first step to a new......########so irritated ready to snap########you know where you are when there is a kennedy fried chicken #noidontmeankentucky########goodbye shore. hello hood. aberdeen to irvington.########miss staying up late and watching 80\u2019s movies on basic cable. #wasteoflife########look like a used brown paper bag from a cuchifrito spot. rain poured on me.########can a rook kill the queen?########that's trying to break a levee...########@sarah__garcia bug me, slug me, dug me, jug me, lug me, tug me, fudge me. man i am good at that game########@xosimplyjust forget you then! \u270c########@sarah__garcia where are you going that you are packing.########@sarah__garcia she is never like that with me so i don't know how that looks########@sarah__garcia what?!########beware, beware, beware########no sleep \ud83d\udc4f\ud83d\udc4f\ud83d\udc4f no sleep \ud83d\udc4f\ud83d\udc4f\ud83d\udc4f########its was like manifest destiny in reverse! - john leguizamo########its like manifest destiny in reverse! - john leguizamo########shuffle it up today.########3 blind mice.... 3 blind mice########about to go get fatter########feel like rocketing puke all over!########launch.... abort, abort, abort########@ciphasounds killing it right now. just turned on hot 97########view from work yesterday @ laurence harbor http://t.co/gekjtrtaws########sometimes real life ruins your good time.########djones playlist. shuffle is starting to pick up my mood again.########miss the feeling music use to give me########they are out today! six cars pulled over getting tickets in 3 exits. crazy #quota########never let siri read a scolding text from your girlfriend it's like she's yelling at you anyway########pnc center. http://t.co/go7qcxnm8b########@blackricanjew if i call a white person the  n-bomb with racist intent, does that make me a racist########@blackricanjew hey u said \"apple\" with racial intent. racist!!! get this ignorant chick off the radio. she doesn't know what racist means.########i have to utilize the opportunities around me more.########landing this evening at my old stopping grounds.########rt @sarah__garcia: happy 15th birthday to my little brother! my pride and joy, my everything. i am beyond blessed to have the greatest b ...########the best reason to live in nj. pus they pump it for you. http://t.co/j2rt5fb3hm########watch the duck - poppin off is my song of today.########one of the things i will miss from the bx. corner stores to get the most unhealthy stuff. #bodegalife http://t.co/vg01prkad2########on my way to work. other day. #horizon http://t.co/olv2zyr3ro########currently uncomfortable. cuz this guy took my half of bed and pillow. #comatose http://t.co/dqukz8yogt########will make it twitter official. i will be a father in september.########seems like a donnel jones day.########for what it should, it wasn't########is it a sin to speed? two nuns jumped behind me in the fast lane. and i am doing 80. #fastnuns########@sarah__garcia because its the devil.########@blackricanjew how is the french montana story  the biggest story of the day and k fox heard about it from a caller. #flashing lights########this morning my stomach is killing me i have to lift up 24 foot and 28 foot ladders today. i hope i don't pull a roker.########so nice to leave work with the sun still out########daughters first @nyknicks game. lets go knicks!!!#########knicks  shoot around #nofilter http://t.co/6trriihb########@djself made the ride from work enjoyable. best dj in new york.########yup that disappointment still feels the same.########i guess 3 feet is three feet.########this nigga's hook is \"imma use the microwave\" are you fucking kidding me!!########rt @xosimplyjust: that awkward moment when your niece wakes up and says happy birthday to her mom #itsnotherbirthday #shewasntevendrinki ...########we literally cannot go another day without jersey shore #mayans########tony romo just called a teammate an explosive black. lmao########a human spider web http://t.co/m3mlpg9t########lady is trying to change lanes when an old lady comes cuts her off then looks in her face and gives her the mutombo.########god is really trying to beat that mayan deadline! hurricane then a nor'easter. this guy needs a coffee break. #overachiever########i see snow!!!########voting for allen keys! the herman cain of the early 2000's########wegmans is one of the prettiest supermarkets i have ever seen.########didn\u2019t care about working 12 hour shifts without days off until i realize today was sunday and i\u2019m going to miss the giants game.########the 1 tooth nut i saw today barefoot and sawing a tree on a power line. #insane http://t.co/8hzhbvtc########i wish i was a true mexican and was a landscaper cuz i would be raking in the dough right now########new brunswick. craziness #gettinggas @ delta http://t.co/oanuvtwk########just wanna thank the cowboys for making letting us win at our new home. #giantsstadium located in dallas. 4-0########me and muki_25 's daughter janiece http://t.co/jnhxsrmw########giants game with muki_25 's husband. mexican style. http://t.co/z89okzqg########@joejaen it is going well. training for the first couple of weeks. just gotta get use to the schedule. waking up early getting home late.########coffee, drake, and some leftover pasta keeping me up this morning drive to work.########inspired by @joejaen http://t.co/ofyw7of6########@xosimplyjust how am i a weirdo??########love when i miss my bus and a complete empty one comes right behind it. #lucky########bx da office hallways at noon.  http://t.co/5rqg9bzn########metro north. new train  @ subway http://t.co/5ibomzow########driving to boston http://t.co/ne7kwmx8########i love dropbox because i love how easy it is to use and the upgrade of 500 mb on referals. http://t.co/rdc1av2y########total of $5 dollars to take bus from my house to jersey. that's not bad at all.########\u201c@xosimplyjust: finally letting go of seczijustine #bittersweet\u201d yes!!!!########see a guy on train i work with. took a single seat instead of a double so he wouldn\u2019t sit next to me. cuz i am going to sleep.########haven\u2019t been out in a while and i don\u2019t miss all this pushing and shoving.########in boston, it\u2019s \u201cfucking wicked\u201d to remember my high school time here.########me: who said that?\n",
        "girlfriend: who is bobby jay?\n",
        "me: exactly!########out shopping with 3 women. might need a prayer. thank god for seats.########i give a homeless guy a slice of pizza and he directs me to his youtube channel. #really #onlyinny #bxbums########just heard on 1010 wins of the peewee  bounty gate. paying $50 to knock another kid out of the game. i fucking love it.########hate waking up in the middle of the night to 20 mosquito bites. #itchyasfuck########who the fuck doesn't have call waiting?!!########how my bus has a bx5 on the back. the when it pulls away i see the 22.########@dredigitals guess we are related. white kid!! tired if thst negro shit.########@dredigitals still got a montg to return it but i am really liking it. plus next month we coukd get jellybean########feeling this galaxy s3########i love getting green lights all the way down grand concourse########@joejaen i agree 100% percent with you.########@joejaen what are you watching that made you think about what you would do to her?########vacation is fun but then you come home to a dirty house with no room service. #missinghotellife########guess it isn't my knight########fattest thing i saw today was a big girl shooting a very low budget rap vid outside of jr\u2019s cheesecake restaurant in bk.########just saw this guy \"sagging\" and he deadass had a skidmark########cold hard rain in the face to wake you up from a warm sleep is new and refreshing########that chris brown and drake beef is going to be crazy. drake is def gonna out sing breezy!########shuffle is my friend today. playing all my r&amp;b joints. #shufflemoodsensor########i know i am late but #sixseasonandmovie please########fucking nj!########about to see avengers and i am excited.########the remedy to working in the basement of a dusty school is a coquito. http://t.co/bqezhhwd########ufc empty arena. #ufconfox http://t.co/1xdxt7xn########people are funny. when there is silence some people have to make noise to feel comfortable. while the other are so silent it's scary.########bermudez vs garza, favorite fighter on tuf last season vs a mexican who came out the song from desperado. idk who to root for now.########waiting for my ride to go to ufc on fox. first ufc event and i am\n",
        "pumped!!!########just heard a black ice poem from def poetry. makes me want to watch the whole series all over again.########this lady next to me is wearing more after shave than me.########kody's dream of a backyard http://t.co/mpnkzxqb########hunger games! god wish i read more. no idea what this is about.########why is the dominican gentleman screaming on his phone right now? directly behind me on the bus. #loudbutextremelyannoying########although i miss getting home at 2 i really like working in stamford ct.########choose geno's cuz i thought @dannytrs  recommended it with wiz. amazing btw.  http://t.co/s3wgdaf1########gotta organize my twitter lists. maybe i will read & interact more.########wow love traveling today. so comfortable on bus that i missed my stop. only 2 blocks off tho. everyone is home i love it.########forgot to put in a floating holiday for good friday now i am on the bus to work.########why? cuz i'm mexican.  http://t.co/6pz9unzr########my car just got a software update. wtf. think i am going to jailbreak it tonight.########walking down zerega ave and reminiscing of elementary school########maybe it has something to do with the 5 block radius i am in and this helicopter circling with spotlight on. http://t.co/8xoxf3wr########wtf i feel more on guard at 5:30 in the morning than midnight with more people on the streets.########omg has to be one of the best places i've been too. churrascaria formaplata.########wow haven't been in a yellow cab in years. still same old snell yet can pay with credit card.########all day bachelor part and already started drinking. today will will long.########it's fucking gorgeous out #bronxweather########jinx your it########what a shitty way to end a good game. #nyknicks########my new enemy, one caught on fire last week.  http://t.co/agnkjoye########ot, project x, cheesecake factory. sleep!########1st hockey game, with @blklamb in dc couple yrs ago. #throwbackthursday  http://t.co/gv9rgldk########alley to my old back yard. #throwbackthursday http://t.co/laizyxot########@dregarciamedia i am weird man!!!!!!########wish that water wasn't wet, i wish the sky wasn't blue ..########the guy gets up and leaves (think he was uncomfortable & thought i was gay) and i notice wow that wasn't him at all. lmao!!!########just completely acted like an ass. thought i saw an old friend so sat next to him and opened his fb page. leaning the phone his way.########rt @lacoen: \ud83d\udc9c happy birthday mommy \ud83d\udc9c \ud83d\udc90\ud83c\udf38\ud83c\udf37\ud83c\udf3a########off to work which is bullshit. why the fuck am i suppose to be there at 6:30 today########sun-snow in the bronx########lunch with people from here is boring and awkward. barely anyone even looks up till food is done then small talk for 1 min. #uncomfortable########my backup file of my iphone got corrupt & i needed to restore all the way to 1/20. the day my niece was born. not a bad day to go back too.########i hate this! i kno the setup \"you watch reality tv?\" yes i watch bad girls club!! now u admitted it 2, lets talk about these crazy bitches########shins and calfs on fire. trying to speed walk to a bus instead of run so i don't look dumb. #outof\ud83d\udcaa########@mlopez337 @seczijustine never heard that before, that was pretty good for making it up.########@seczijustine @mlopez337 deaded is your sister's reign in words with friends. she cant cut it like she use too.########justified is a really good show. season 1 is in the books, about to start season 2########i just beat melissa by 94 points! think you can beat me? #gameswithfriends http://t.co/upxbkfc0########yes!!!!!! band of brothers marathon on spike.########@seczijustine hello########i gotta see my college #bloomsburg on espn losing at buzzer to kutztown. i never seen us win on espn #gohuskies########feels nice to use ubuntu again, feels like i know what i am doing########@nickvalentin why not? love his music and don't care about anything he has done. might of made me like him more for some reason. #hatebreezy########tight on the metro north! i rather stand, ty.  http://t.co/3tns3bpg########chris brown and pitbull had nice performance on that spanish award show########\u201c@vinnyguadagnino: today should be the day you don't do anything with your lover out of principle\u201d we r doing our taxes #principles########convo on jenn hudson performance, \"as of today well not today, as of 2 days ago\u2026\" lmao, i just walked away. #grammys########walk out theater and given a survey. guess i am becoming the sample audience.########safe house was excellent. ryan reynolds did his thing. denzel like always was great.########how did eli fit the pass thru to cruz. #superbowl########already!!! safety!! #giants#########liesbrokepeopletell \"need money 4 ninja school, my family was killed by ninjas.\" on a real sign from a homeless guy by my job.\n"
       ]
      }
     ],
     "prompt_number": 221
    },
    {
     "cell_type": "code",
     "collapsed": false,
     "input": [
      "import numpy as np \n",
      "vct = TfidfVectorizer(encoding='latin1', min_df=5, max_df=1.0, binary=False, ngram_range=(1, 1),\n",
      "                      token_pattern='\\\\b\\\\w+\\\\b') \n",
      "\n",
      "gds =[g for g in good if get_date(g[0][0]['created_at']).year > 2011 and g[0][0]['lang'] == 'en']\n",
      "bts =[b for b in bots if get_date(b[0][0]['created_at']).year > 2011 and b[0][0]['lang'] == 'en']\n",
      "\n",
      "data = bunch_users(gds,bts, vct, True, True, True, labels=['good', 'bots'])\n",
      "\n",
      "print \"Total data:\", len(data['target'])"
     ],
     "language": "python",
     "metadata": {},
     "outputs": [
      {
       "output_type": "stream",
       "stream": "stdout",
       "text": [
        "Total data: 2230\n"
       ]
      }
     ],
     "prompt_number": 81
    },
    {
     "cell_type": "code",
     "collapsed": false,
     "input": [
      "# Number of good users \n",
      "print len([g for g in good if get_date(g[0][0]['created_at']).year > 2011 and g[0][0]['lang'] == 'en'])"
     ],
     "language": "python",
     "metadata": {},
     "outputs": [
      {
       "output_type": "stream",
       "stream": "stdout",
       "text": [
        "1167\n"
       ]
      }
     ],
     "prompt_number": 82
    },
    {
     "cell_type": "markdown",
     "metadata": {},
     "source": [
      "## Print Features from Data\n",
      "\n",
      "Get the features from a trained classifier "
     ]
    },
    {
     "cell_type": "code",
     "collapsed": false,
     "input": [
      "from sklearn.cross_validation import StratifiedKFold, cross_val_score, KFold, ShuffleSplit\n",
      "\n",
      "def print_features(coef, names):\n",
      "    \"\"\" Print sorted list of non-zero features/weights. \"\"\"\n",
      "    ### coef = clf.coef_[0]\n",
      "    ### names = vec.get_feature_names()\n",
      "    print \"*\" * 50\n",
      "    print(\"Number of Features: %s\" % len(names))\n",
      "    print \"\\n\".join('%s\\t%.2f' % (names[j], coef[j]) for j in np.argsort(coef)[::-1] if coef[j] != 0)\n",
      "    print \"*\" * 50\n",
      "\n",
      "    # try all combinations of data\n",
      "\n",
      "def try_all(clf, vct, good, bots, cv=5):\n",
      "    # Trying all possible options \n",
      "    lowercase_opts = [True]\n",
      "    # keep_punctuation_opts = [True, False]\n",
      "    url_opts = [None, True, False]\n",
      "    mention_opts = [None, True, False]\n",
      "\n",
      "    argnames = ['lower', 'url', 'mention']\n",
      "    option_iter = itertools.product( lowercase_opts,\n",
      "                           url_opts,\n",
      "                           mention_opts)\n",
      "    results = []\n",
      "    print expert\n",
      "    print vct\n",
      "    for options in option_iter:\n",
      "        print '\\t'.join('%s=%s' % (name, opt) for name, opt in zip(argnames, options))\n",
      "        data = bunch_users(good, bots, vct, *options)\n",
      "        print \"Data size:\", len(data['target'])\n",
      "        cv_scores = cross_val_score(clf, data['bow'], data['target'], cv=cv, n_jobs=4)\n",
      "        print(\"%s-f CV Accuracy: %0.2f (+/- %0.2f)\" % (cv, cv_scores.mean(), cv_scores.std() * 2))"
     ],
     "language": "python",
     "metadata": {},
     "outputs": [],
     "prompt_number": 95
    },
    {
     "cell_type": "code",
     "collapsed": false,
     "input": [
      "#Load data into bunch for experiments\n",
      "#data = bunch_users(gds, bts, vct, True, True, True)\n",
      "print len(good), len(bots), len(bts) ,len(gds), len(bts) +len(gds)"
     ],
     "language": "python",
     "metadata": {},
     "outputs": [
      {
       "output_type": "stream",
       "stream": "stdout",
       "text": [
        "2225 2060 1063 1167 2230\n"
       ]
      }
     ],
     "prompt_number": 100
    },
    {
     "cell_type": "code",
     "collapsed": false,
     "input": [
      "#lowercase, collapse_urls, collapse_mentions\n",
      "expert = linear_model.LogisticRegression(penalty='l2', C=1)\n",
      "vct = TfidfVectorizer(encoding='latin1', min_df=5, max_df=1.0, binary=False, ngram_range=(1, 1),\n",
      "                      token_pattern='\\\\b\\\\w+\\\\b') \n",
      "\n",
      "try_all(clf, vct, gds, bts,cv=10)"
     ],
     "language": "python",
     "metadata": {},
     "outputs": [
      {
       "output_type": "stream",
       "stream": "stdout",
       "text": [
        "LogisticRegression(C=1, class_weight=None, dual=False, fit_intercept=True,\n",
        "          intercept_scaling=1, penalty='l2', random_state=None, tol=0.0001)\n",
        "TfidfVectorizer(analyzer=u'word', binary=False, charset=None,\n",
        "        charset_error=None, decode_error=u'strict',\n",
        "        dtype=<type 'numpy.int64'>, encoding='latin1', input=u'content',\n",
        "        lowercase=True, max_df=1.0, max_features=None, min_df=5,\n",
        "        ngram_range=(1, 1), norm=u'l2', preprocessor=None, smooth_idf=True,\n",
        "        stop_words=None, strip_accents=None, sublinear_tf=False,\n",
        "        token_pattern='\\\\b\\\\w+\\\\b', tokenizer=None, use_idf=True,\n",
        "        vocabulary=None)\n",
        "lower=True\turl=None\tmention=None\n",
        "Data size:"
       ]
      },
      {
       "output_type": "stream",
       "stream": "stdout",
       "text": [
        " 2230\n"
       ]
      },
      {
       "output_type": "stream",
       "stream": "stdout",
       "text": [
        "10-f CV Accuracy: 0.61 (+/- 0.10)\n",
        "lower=True\turl=None\tmention=True\n",
        "Data size:"
       ]
      },
      {
       "output_type": "stream",
       "stream": "stdout",
       "text": [
        " 2230\n"
       ]
      },
      {
       "output_type": "stream",
       "stream": "stdout",
       "text": [
        "10-f CV Accuracy: 0.64 (+/- 0.06)\n",
        "lower=True\turl=None\tmention=False\n",
        "Data size:"
       ]
      },
      {
       "output_type": "stream",
       "stream": "stdout",
       "text": [
        " 2230\n"
       ]
      },
      {
       "output_type": "stream",
       "stream": "stdout",
       "text": [
        "10-f CV Accuracy: 0.61 (+/- 0.10)\n",
        "lower=True\turl=True\tmention=None\n",
        "Data size:"
       ]
      },
      {
       "output_type": "stream",
       "stream": "stdout",
       "text": [
        " 2230\n"
       ]
      },
      {
       "output_type": "stream",
       "stream": "stdout",
       "text": [
        "10-f CV Accuracy: 0.62 (+/- 0.08)\n",
        "lower=True\turl=True\tmention=True\n",
        "Data size:"
       ]
      },
      {
       "output_type": "stream",
       "stream": "stdout",
       "text": [
        " 2230\n"
       ]
      },
      {
       "output_type": "stream",
       "stream": "stdout",
       "text": [
        "10-f CV Accuracy: 0.64 (+/- 0.05)\n",
        "lower=True\turl=True\tmention=False\n",
        "Data size:"
       ]
      },
      {
       "output_type": "stream",
       "stream": "stdout",
       "text": [
        " 2230\n"
       ]
      },
      {
       "output_type": "stream",
       "stream": "stdout",
       "text": [
        "10-f CV Accuracy: 0.62 (+/- 0.07)\n",
        "lower=True\turl=False\tmention=None\n",
        "Data size:"
       ]
      },
      {
       "output_type": "stream",
       "stream": "stdout",
       "text": [
        " 2230\n"
       ]
      },
      {
       "output_type": "stream",
       "stream": "stdout",
       "text": [
        "10-f CV Accuracy: 0.63 (+/- 0.06)\n",
        "lower=True\turl=False\tmention=True\n",
        "Data size:"
       ]
      },
      {
       "output_type": "stream",
       "stream": "stdout",
       "text": [
        " 2230\n"
       ]
      },
      {
       "output_type": "stream",
       "stream": "stdout",
       "text": [
        "10-f CV Accuracy: 0.65 (+/- 0.07)\n",
        "lower=True\turl=False\tmention=False\n",
        "Data size:"
       ]
      },
      {
       "output_type": "stream",
       "stream": "stdout",
       "text": [
        " 2230\n"
       ]
      },
      {
       "output_type": "stream",
       "stream": "stdout",
       "text": [
        "10-f CV Accuracy: 0.63 (+/- 0.07)\n"
       ]
      }
     ],
     "prompt_number": 101
    },
    {
     "cell_type": "code",
     "collapsed": false,
     "input": [
      "expert = linear_model.LogisticRegression(penalty='l2', C=1)\n",
      "vct = TfidfVectorizer(encoding='latin1', min_df=5, max_df=1.0, binary=False, ngram_range=(1, 2),\n",
      "                      token_pattern='\\\\b\\\\w+\\\\b') \n",
      "\n",
      "try_all(clf, vct, gds, bts,cv=10)"
     ],
     "language": "python",
     "metadata": {},
     "outputs": [
      {
       "output_type": "stream",
       "stream": "stdout",
       "text": [
        "LogisticRegression(C=1, class_weight=None, dual=False, fit_intercept=True,\n",
        "          intercept_scaling=1, penalty='l2', random_state=None, tol=0.0001)\n",
        "TfidfVectorizer(analyzer=u'word', binary=False, charset=None,\n",
        "        charset_error=None, decode_error=u'strict',\n",
        "        dtype=<type 'numpy.int64'>, encoding='latin1', input=u'content',\n",
        "        lowercase=True, max_df=1.0, max_features=None, min_df=5,\n",
        "        ngram_range=(1, 2), norm=u'l2', preprocessor=None, smooth_idf=True,\n",
        "        stop_words=None, strip_accents=None, sublinear_tf=False,\n",
        "        token_pattern='\\\\b\\\\w+\\\\b', tokenizer=None, use_idf=True,\n",
        "        vocabulary=None)\n",
        "lower=True\turl=None\tmention=None\n",
        "Data size:"
       ]
      },
      {
       "output_type": "stream",
       "stream": "stdout",
       "text": [
        " 2230\n"
       ]
      },
      {
       "output_type": "stream",
       "stream": "stdout",
       "text": [
        "10-f CV Accuracy: 0.63 (+/- 0.07)\n",
        "lower=True\turl=None\tmention=True\n",
        "Data size:"
       ]
      },
      {
       "output_type": "stream",
       "stream": "stdout",
       "text": [
        " 2230\n"
       ]
      },
      {
       "output_type": "stream",
       "stream": "stdout",
       "text": [
        "10-f CV Accuracy: 0.65 (+/- 0.04)\n",
        "lower=True\turl=None\tmention=False\n",
        "Data size:"
       ]
      },
      {
       "output_type": "stream",
       "stream": "stdout",
       "text": [
        " 2230\n"
       ]
      },
      {
       "output_type": "stream",
       "stream": "stdout",
       "text": [
        "10-f CV Accuracy: 0.63 (+/- 0.08)\n",
        "lower=True\turl=True\tmention=None\n",
        "Data size:"
       ]
      },
      {
       "output_type": "stream",
       "stream": "stdout",
       "text": [
        " 2230\n"
       ]
      },
      {
       "output_type": "stream",
       "stream": "stdout",
       "text": [
        "10-f CV Accuracy: 0.64 (+/- 0.08)\n",
        "lower=True\turl=True\tmention=True\n",
        "Data size:"
       ]
      },
      {
       "output_type": "stream",
       "stream": "stdout",
       "text": [
        " 2230\n"
       ]
      },
      {
       "output_type": "stream",
       "stream": "stdout",
       "text": [
        "10-f CV Accuracy: 0.65 (+/- 0.04)\n",
        "lower=True\turl=True\tmention=False\n",
        "Data size:"
       ]
      },
      {
       "output_type": "stream",
       "stream": "stdout",
       "text": [
        " 2230\n"
       ]
      },
      {
       "output_type": "stream",
       "stream": "stdout",
       "text": [
        "10-f CV Accuracy: 0.64 (+/- 0.08)\n",
        "lower=True\turl=False\tmention=None\n",
        "Data size:"
       ]
      },
      {
       "output_type": "stream",
       "stream": "stdout",
       "text": [
        " 2230\n"
       ]
      },
      {
       "output_type": "stream",
       "stream": "stdout",
       "text": [
        "10-f CV Accuracy: 0.65 (+/- 0.06)\n",
        "lower=True\turl=False\tmention=True\n",
        "Data size:"
       ]
      },
      {
       "output_type": "stream",
       "stream": "stdout",
       "text": [
        " 2230\n"
       ]
      },
      {
       "output_type": "stream",
       "stream": "stdout",
       "text": [
        "10-f CV Accuracy: 0.67 (+/- 0.06)\n",
        "lower=True\turl=False\tmention=False\n",
        "Data size:"
       ]
      },
      {
       "output_type": "stream",
       "stream": "stdout",
       "text": [
        " 2230\n"
       ]
      },
      {
       "output_type": "stream",
       "stream": "stdout",
       "text": [
        "10-f CV Accuracy: 0.65 (+/- 0.07)\n"
       ]
      }
     ],
     "prompt_number": 102
    },
    {
     "cell_type": "code",
     "collapsed": false,
     "input": [
      "gds2 =[g for g in good if get_date(g[0][0]['created_at']).year > 2013 and g[0][0]['lang'] == 'en']\n",
      "bts2 =[b for b in bots if get_date(b[0][0]['created_at']).year > 2013 and b[0][0]['lang'] == 'en']\n",
      "expert = linear_model.LogisticRegression(penalty='l1', C=1)\n",
      "vct = TfidfVectorizer(encoding='latin1', min_df=5, max_df=1.0, binary=False, ngram_range=(1, 2),\n",
      "                      token_pattern='\\\\b\\\\w+\\\\b') \n",
      "\n",
      "try_all(clf, vct, gds, bts,cv=10)"
     ],
     "language": "python",
     "metadata": {},
     "outputs": [
      {
       "output_type": "stream",
       "stream": "stdout",
       "text": [
        "LogisticRegression(C=1, class_weight=None, dual=False, fit_intercept=True,\n",
        "          intercept_scaling=1, penalty='l1', random_state=None, tol=0.0001)\n",
        "TfidfVectorizer(analyzer=u'word', binary=False, charset=None,\n",
        "        charset_error=None, decode_error=u'strict',\n",
        "        dtype=<type 'numpy.int64'>, encoding='latin1', input=u'content',\n",
        "        lowercase=True, max_df=1.0, max_features=None, min_df=5,\n",
        "        ngram_range=(1, 2), norm=u'l2', preprocessor=None, smooth_idf=True,\n",
        "        stop_words=None, strip_accents=None, sublinear_tf=False,\n",
        "        token_pattern='\\\\b\\\\w+\\\\b', tokenizer=None, use_idf=True,\n",
        "        vocabulary=None)\n",
        "lower=True\turl=None\tmention=None\n",
        "Data size:"
       ]
      },
      {
       "output_type": "stream",
       "stream": "stdout",
       "text": [
        " 2230\n"
       ]
      },
      {
       "output_type": "stream",
       "stream": "stdout",
       "text": [
        "10-f CV Accuracy: 0.63 (+/- 0.07)\n",
        "lower=True\turl=None\tmention=True\n",
        "Data size:"
       ]
      },
      {
       "output_type": "stream",
       "stream": "stdout",
       "text": [
        " 2230\n"
       ]
      },
      {
       "output_type": "stream",
       "stream": "stdout",
       "text": [
        "10-f CV Accuracy: 0.65 (+/- 0.04)\n",
        "lower=True\turl=None\tmention=False\n",
        "Data size:"
       ]
      },
      {
       "output_type": "stream",
       "stream": "stdout",
       "text": [
        " 2230\n"
       ]
      },
      {
       "output_type": "stream",
       "stream": "stdout",
       "text": [
        "10-f CV Accuracy: 0.63 (+/- 0.08)\n",
        "lower=True\turl=True\tmention=None\n",
        "Data size:"
       ]
      },
      {
       "output_type": "stream",
       "stream": "stdout",
       "text": [
        " 2230\n"
       ]
      },
      {
       "output_type": "stream",
       "stream": "stdout",
       "text": [
        "10-f CV Accuracy: 0.64 (+/- 0.08)\n",
        "lower=True\turl=True\tmention=True\n",
        "Data size:"
       ]
      },
      {
       "output_type": "stream",
       "stream": "stdout",
       "text": [
        " 2230\n"
       ]
      },
      {
       "output_type": "stream",
       "stream": "stdout",
       "text": [
        "10-f CV Accuracy: 0.65 (+/- 0.04)\n",
        "lower=True\turl=True\tmention=False\n",
        "Data size:"
       ]
      },
      {
       "output_type": "stream",
       "stream": "stdout",
       "text": [
        " 2230\n"
       ]
      },
      {
       "output_type": "stream",
       "stream": "stdout",
       "text": [
        "10-f CV Accuracy: 0.64 (+/- 0.08)\n",
        "lower=True\turl=False\tmention=None\n",
        "Data size:"
       ]
      },
      {
       "output_type": "stream",
       "stream": "stdout",
       "text": [
        " 2230\n"
       ]
      },
      {
       "output_type": "stream",
       "stream": "stdout",
       "text": [
        "10-f CV Accuracy: 0.65 (+/- 0.06)\n",
        "lower=True\turl=False\tmention=True\n",
        "Data size:"
       ]
      },
      {
       "output_type": "stream",
       "stream": "stdout",
       "text": [
        " 2230\n"
       ]
      },
      {
       "output_type": "stream",
       "stream": "stdout",
       "text": [
        "10-f CV Accuracy: 0.67 (+/- 0.06)\n",
        "lower=True\turl=False\tmention=False\n",
        "Data size:"
       ]
      },
      {
       "output_type": "stream",
       "stream": "stdout",
       "text": [
        " 2230\n"
       ]
      },
      {
       "output_type": "stream",
       "stream": "stdout",
       "text": [
        "10-f CV Accuracy: 0.65 (+/- 0.07)\n"
       ]
      }
     ],
     "prompt_number": 107
    },
    {
     "cell_type": "code",
     "collapsed": false,
     "input": [
      "try_all(clf, vct, gds, bts,cv=5)"
     ],
     "language": "python",
     "metadata": {},
     "outputs": [
      {
       "output_type": "stream",
       "stream": "stdout",
       "text": [
        "LogisticRegression(C=1, class_weight=None, dual=False, fit_intercept=True,\n",
        "          intercept_scaling=1, penalty='l1', random_state=None, tol=0.0001)\n",
        "TfidfVectorizer(analyzer=u'word', binary=False, charset=None,\n",
        "        charset_error=None, decode_error=u'strict',\n",
        "        dtype=<type 'numpy.int64'>, encoding='latin1', input=u'content',\n",
        "        lowercase=True, max_df=1.0, max_features=None, min_df=5,\n",
        "        ngram_range=(1, 2), norm=u'l2', preprocessor=None, smooth_idf=True,\n",
        "        stop_words=None, strip_accents=None, sublinear_tf=False,\n",
        "        token_pattern='\\\\b\\\\w+\\\\b', tokenizer=None, use_idf=True,\n",
        "        vocabulary=None)\n",
        "lower=True\turl=None\tmention=None\n",
        "Data size:"
       ]
      },
      {
       "output_type": "stream",
       "stream": "stdout",
       "text": [
        " 2230\n"
       ]
      },
      {
       "output_type": "stream",
       "stream": "stdout",
       "text": [
        "5-f CV Accuracy: 0.62 (+/- 0.04)\n",
        "lower=True\turl=None\tmention=True\n",
        "Data size:"
       ]
      },
      {
       "output_type": "stream",
       "stream": "stdout",
       "text": [
        " 2230\n"
       ]
      },
      {
       "output_type": "stream",
       "stream": "stdout",
       "text": [
        "5-f CV Accuracy: 0.65 (+/- 0.03)\n",
        "lower=True\turl=None\tmention=False\n",
        "Data size:"
       ]
      },
      {
       "output_type": "stream",
       "stream": "stdout",
       "text": [
        " 2230\n"
       ]
      },
      {
       "output_type": "stream",
       "stream": "stdout",
       "text": [
        "5-f CV Accuracy: 0.62 (+/- 0.05)\n",
        "lower=True\turl=True\tmention=None\n",
        "Data size:"
       ]
      },
      {
       "output_type": "stream",
       "stream": "stdout",
       "text": [
        " 2230\n"
       ]
      },
      {
       "output_type": "stream",
       "stream": "stdout",
       "text": [
        "5-f CV Accuracy: 0.64 (+/- 0.04)\n",
        "lower=True\turl=True\tmention=True\n",
        "Data size:"
       ]
      },
      {
       "output_type": "stream",
       "stream": "stdout",
       "text": [
        " 2230\n"
       ]
      },
      {
       "output_type": "stream",
       "stream": "stdout",
       "text": [
        "5-f CV Accuracy: 0.65 (+/- 0.02)\n",
        "lower=True\turl=True\tmention=False\n",
        "Data size:"
       ]
      },
      {
       "output_type": "stream",
       "stream": "stdout",
       "text": [
        " 2230\n"
       ]
      },
      {
       "output_type": "stream",
       "stream": "stdout",
       "text": [
        "5-f CV Accuracy: 0.64 (+/- 0.04)\n",
        "lower=True\turl=False\tmention=None\n",
        "Data size:"
       ]
      },
      {
       "output_type": "stream",
       "stream": "stdout",
       "text": [
        " 2230\n"
       ]
      },
      {
       "output_type": "stream",
       "stream": "stdout",
       "text": [
        "5-f CV Accuracy: 0.64 (+/- 0.04)\n",
        "lower=True\turl=False\tmention=True\n",
        "Data size:"
       ]
      },
      {
       "output_type": "stream",
       "stream": "stdout",
       "text": [
        " 2230\n"
       ]
      },
      {
       "output_type": "stream",
       "stream": "stdout",
       "text": [
        "5-f CV Accuracy: 0.67 (+/- 0.04)\n",
        "lower=True\turl=False\tmention=False\n",
        "Data size:"
       ]
      },
      {
       "output_type": "stream",
       "stream": "stdout",
       "text": [
        " 2230\n"
       ]
      },
      {
       "output_type": "stream",
       "stream": "stdout",
       "text": [
        "5-f CV Accuracy: 0.65 (+/- 0.04)\n"
       ]
      }
     ],
     "prompt_number": 108
    },
    {
     "cell_type": "code",
     "collapsed": false,
     "input": [
      "clf = linear_model.LogisticRegression(penalty='l1', C=1)\n",
      "data = bunch_users(gds, bts, vct, True, False, False)\n",
      "clf.fit(data['bow'], data['target'])\n",
      "print_features(clf.coef_[0], vct.get_feature_names())"
     ],
     "language": "python",
     "metadata": {},
     "outputs": [
      {
       "output_type": "stream",
       "stream": "stdout",
       "text": [
        "**************************************************\n",
        "Number of Features: 123886\n",
        "your\t13.46\n",
        "marketing\t5.49\n",
        "video\t4.76\n",
        "tinyurl\t2.60\n",
        "facebook\t1.97\n",
        "ly\t1.81\n",
        "www\t1.65\n",
        "tinyurl com\t1.03\n",
        "free\t1.01\n",
        "sagittarius\t0.98\n",
        "online\t0.87\n",
        "you\t0.66\n",
        "http\t0.38\n",
        "money\t0.38\n",
        "com\t0.34\n",
        "http ow\t0.30\n",
        "twitter\t0.12\n",
        "the\t-0.11\n",
        "t\t-0.27\n",
        "haha\t-0.32\n",
        "jobs\t-0.49\n",
        "a\t-0.56\n",
        "via\t-0.83\n",
        "in\t-0.89\n",
        "amp\t-1.33\n",
        "lastfm\t-1.49\n",
        "photo\t-2.09\n",
        "this\t-2.50\n",
        "s\t-2.84\n",
        "rt\t-2.91\n",
        "https\t-2.94\n",
        "that\t-3.03\n",
        "at\t-3.07\n",
        "de\t-3.34\n",
        "que\t-5.11\n",
        "i\t-6.37\n",
        "more for\t-6.96\n",
        "di\t-7.17\n",
        "my\t-7.33\n",
        "**************************************************\n"
       ]
      }
     ],
     "prompt_number": 153
    },
    {
     "cell_type": "markdown",
     "metadata": {},
     "source": [
      "##Testing Sentence Classifier\n",
      "Test how does a sentence classifier do classifying into bots and humans."
     ]
    },
    {
     "cell_type": "markdown",
     "metadata": {},
     "source": [
      "## Test Oracle Accuracy \n",
      "\n",
      "We test the oracle accuracy and change data processing features to see what improves the oracle performance. The objective is to reach at least .70 (+/-5) accuracy on individual tweets. We will test the following: \n",
      "\n",
      "* preprocessing:\n",
      "    * URLs\n",
      "    * Mentions\n",
      "    * Lower case \n",
      "    * n-grams: 1,2,3"
     ]
    },
    {
     "cell_type": "code",
     "collapsed": false,
     "input": [
      "##sentence detector in tweets\n",
      "def sentence_detector(timeline):\n",
      "    tl = []\n",
      "    print len(timeline)\n",
      "    for tw in timeline:\n",
      "        tl.append(tw)\n",
      "    return tl\n",
      "\n",
      "def convert2sentence(data):\n",
      "    all_sent=[]\n",
      "    all_target=[]\n",
      "    for user_timeline, label in zip(data['data'], data['target']):\n",
      "        sentences = user_timeline\n",
      "        lbls = [label] * len(sentences)\n",
      "        all_sent.extend(sentences)\n",
      "        all_target.extend(lbls)\n",
      "    return all_sent, all_target\n",
      "\n"
     ],
     "language": "python",
     "metadata": {},
     "outputs": [],
     "prompt_number": 154
    },
    {
     "cell_type": "markdown",
     "metadata": {},
     "source": [
      "## Testing a Tweet (snippet) Expert \n",
      "\n",
      "We split the data into a cv with 5 folds. We train an expert classifier eon the train data and test on the the test split. The train and test are converted into individual tweets. Final results are averaged. \n",
      "\n",
      "L1: \n",
      "Accuracy 0.702908809041 (+/-) 0.0179583503294\n",
      "\n",
      "L2:\n",
      "\n"
     ]
    },
    {
     "cell_type": "code",
     "collapsed": false,
     "input": [
      "from sklearn.cross_validation import KFold\n",
      "\n",
      "\n",
      "vct = TfidfVectorizer(encoding='latin1', min_df=5, max_df=1.0, binary=False, ngram_range=(1, 2),\n",
      "                      token_pattern='\\\\b\\\\w+\\\\b') \n",
      "\n",
      "\n",
      "data = bunch_users(gds, bts, vct, True, False, False)\n"
     ],
     "language": "python",
     "metadata": {},
     "outputs": [],
     "prompt_number": 226
    },
    {
     "cell_type": "code",
     "collapsed": false,
     "input": [
      "def test_sentence_expert(data, vct, clf):\n",
      "    print clf\n",
      "    rnd_s = np.random.RandomState(543543)\n",
      "    kf = KFold(len(data['target']), n_folds=5, random_state=rnd_s)\n",
      "    ts = [len(usr[0]) for usr in data['data']] # number of tweets\n",
      "    rnd_sent = np.array([rnd_s.random_integers(tw-1) for tw in ts])\n",
      "    results = []\n",
      "    for train, test in kf:\n",
      "        #clf = linear_model.LogisticRegression(penalty='l2', C=1)\n",
      "        ## Convert tweets to snippets\n",
      "        sent_x , sent_y = convert2sentence({'data':data['data'][train], 'target':data['target'][train]})\n",
      "        sent_bow = vct.fit_transform(sent_x)\n",
      "        # Train expert\n",
      "        clf.fit(sent_bow, sent_y)\n",
      "\n",
      "        # Convert test \n",
      "        test_x, test_y = convert2sentence({'data':data['data'][test], 'target': data['target'][test]})\n",
      "    #     test_x, text_y = vct.transform(convert2sentence(data['data'][test]), data['target'][test]\n",
      "        test_bow = vct.transform(test_x)\n",
      "        pred = clf.predict(test_bow)\n",
      "        results.append(metrics.accuracy_score(test_y, pred))\n",
      "        #data['bow'], data['target']\n",
      "    return results\n"
     ],
     "language": "python",
     "metadata": {},
     "outputs": [],
     "prompt_number": 180
    },
    {
     "cell_type": "code",
     "collapsed": false,
     "input": [
      "clf = linear_model.LogisticRegression(penalty='l1', C=1)\n",
      "results = test_sentence_expert(data, vct, clf)\n",
      "print results\n",
      "print \"Accuracy: %.3f (+/- %.3f)\" % (np.mean(results), np.std(results))"
     ],
     "language": "python",
     "metadata": {},
     "outputs": [
      {
       "output_type": "stream",
       "stream": "stdout",
       "text": [
        "[0.70836435840158851, 0.72710833470327141, 0.6882443312425639, 0.71368221499286166, 0.67718409061165241]\n",
        "Accuracy: 0.703 (+/- 0.018)\n"
       ]
      }
     ],
     "prompt_number": 177
    },
    {
     "cell_type": "code",
     "collapsed": false,
     "input": [
      "clf = linear_model.LogisticRegression(penalty='l2', C=1)\n",
      "results = test_sentence_expert(data, vct, clf)\n",
      "print results\n",
      "print \"Accuracy: %.3f (+/- %.3f)\" % ( np.mean(results), np.std(results))"
     ],
     "language": "python",
     "metadata": {},
     "outputs": [
      {
       "output_type": "stream",
       "stream": "stdout",
       "text": [
        "LogisticRegression(C=1, class_weight=None, dual=False, fit_intercept=True,\n",
        "          intercept_scaling=1, penalty='l2', random_state=None, tol=0.0001)\n",
        "[0.71688591048233641, 0.73315563279396911, 0.69866352473692117, 0.71596414445198586, 0.682740241044128]"
       ]
      },
      {
       "output_type": "stream",
       "stream": "stdout",
       "text": [
        "\n",
        "Accuracy: 0.709 (+/- 0.017)\n"
       ]
      }
     ],
     "prompt_number": 181
    },
    {
     "cell_type": "code",
     "collapsed": false,
     "input": [
      "def test_document_expert(data, vct, clf):\n",
      "    print clf\n",
      "    rnd_s = np.random.RandomState(543543)\n",
      "    kf = KFold(len(data['target']), n_folds=5, random_state=rnd_s)\n",
      "    ts = [len(usr[0]) for usr in data['data']] # number of tweets\n",
      "    rnd_sent = np.array([rnd_s.random_integers(tw-1) for tw in ts])\n",
      "    results = []\n",
      "    for train, test in kf:\n",
      "        #clf = linear_model.LogisticRegression(penalty='l2', C=1)\n",
      "        ## Convert tweets to snippets\n",
      "        doc_bow = vct.fit_transform(data['user_text'][train])\n",
      "        # Train expert\n",
      "        clf.fit(doc_bow, data['target'][train])\n",
      "\n",
      "        # Convert test \n",
      "        test_bow = vct.transform(data['user_text'][test])\n",
      "        pred = clf.predict(test_bow)\n",
      "        results.append(metrics.accuracy_score(data['target'][test], pred))\n",
      "        #data['bow'], data['target']\n",
      "    return results"
     ],
     "language": "python",
     "metadata": {},
     "outputs": [],
     "prompt_number": 231
    },
    {
     "cell_type": "code",
     "collapsed": false,
     "input": [
      "print len(data['user_text'])"
     ],
     "language": "python",
     "metadata": {},
     "outputs": [
      {
       "output_type": "stream",
       "stream": "stdout",
       "text": [
        "2230\n"
       ]
      }
     ],
     "prompt_number": 230
    },
    {
     "cell_type": "code",
     "collapsed": false,
     "input": [
      "clf = linear_model.LogisticRegression(penalty='l1', C=1)\n",
      "results = test_sentence_expert(data, vct, clf)\n",
      "print results\n",
      "print \"Accuracy: %.3f (+/- %.3f)\" % (np.mean(results), np.std(results))"
     ],
     "language": "python",
     "metadata": {},
     "outputs": [
      {
       "output_type": "stream",
       "stream": "stdout",
       "text": [
        "LogisticRegression(C=1, class_weight=None, dual=False, fit_intercept=True,\n",
        "          intercept_scaling=1, penalty='l1', random_state=None, tol=0.0001)\n",
        "[0.70821071044451533, 0.72712007702966108, 0.68832518972866197, 0.71384604582582445, 0.67712460291965593]"
       ]
      },
      {
       "output_type": "stream",
       "stream": "stdout",
       "text": [
        "\n",
        "Accuracy: 0.703 (+/- 0.018)\n"
       ]
      }
     ],
     "prompt_number": 232
    },
    {
     "cell_type": "code",
     "collapsed": false,
     "input": [
      "clf = linear_model.LogisticRegression(penalty='l2', C=1)\n",
      "results = test_sentence_expert(data, vct, clf)\n",
      "print results\n",
      "print \"Accuracy: %.3f (+/- %.3f)\" % (np.mean(results), np.std(results))"
     ],
     "language": "python",
     "metadata": {},
     "outputs": [
      {
       "output_type": "stream",
       "stream": "stdout",
       "text": [
        "LogisticRegression(C=1, class_weight=None, dual=False, fit_intercept=True,\n",
        "          intercept_scaling=1, penalty='l2', random_state=None, tol=0.0001)\n",
        "[0.71688591048233641, 0.73315563279396911, 0.69866352473692117, 0.71596414445198586, 0.682740241044128]"
       ]
      },
      {
       "output_type": "stream",
       "stream": "stdout",
       "text": [
        "\n",
        "Accuracy: 0.709 (+/- 0.017)\n"
       ]
      }
     ],
     "prompt_number": 185
    },
    {
     "cell_type": "code",
     "collapsed": false,
     "input": [
      "def test_rnd_expert(data, vct, clf):\n",
      "    print clf\n",
      "    rnd_s = np.random.RandomState(543543)\n",
      "    kf = KFold(len(data['target']), n_folds=5, random_state=1234)\n",
      "    ts = [len(usr[0]) for usr in data['data']] # number of tweets\n",
      "    rnd_sent = np.array([rnd_s.random_integers(tw-1) for tw in ts])\n",
      "    results = []\n",
      "    for train, test in kf:\n",
      "\n",
      "        ## Convert tweets to snippets\n",
      "        doc_bow = vct.fit_transform(data['data'][train])\n",
      "        # Train expert\n",
      "        clf.fit(doc_bow, data['target'][train])\n",
      "\n",
      "        # Convert test \n",
      "        test_d = data['data'][test]\n",
      "        test_d = [d[0][r]  for d,r in zip(test_d, rnd_sent[test])]\n",
      "        \n",
      "        test_bow = vct.transform(test_d)\n",
      "        pred = clf.predict(test_bow)\n",
      "        results.append(metrics.accuracy_score(data['target'][test], pred))\n",
      "        #data['bow'], data['target']\n",
      "    return results"
     ],
     "language": "python",
     "metadata": {},
     "outputs": [],
     "prompt_number": 189
    },
    {
     "cell_type": "code",
     "collapsed": false,
     "input": [
      "print (data['user_text'][1])"
     ],
     "language": "python",
     "metadata": {},
     "outputs": [
      {
       "output_type": "stream",
       "stream": "stdout",
       "text": [
        "kidzrevil\n"
       ]
      }
     ],
     "prompt_number": 202
    },
    {
     "cell_type": "code",
     "collapsed": false,
     "input": [
      "clf = linear_model.LogisticRegression(penalty='l1', C=1)\n",
      "results = test_rnd_expert(data, vct, clf)\n",
      "print results\n",
      "print \"Accuracy: %.3f (+/- %.3f)\" % (np.mean(results), np.std(results))"
     ],
     "language": "python",
     "metadata": {},
     "outputs": [
      {
       "output_type": "stream",
       "stream": "stdout",
       "text": [
        "LogisticRegression(C=1, class_weight=None, dual=False, fit_intercept=True,\n",
        "          intercept_scaling=1, penalty='l1', random_state=None, tol=0.0001)\n"
       ]
      },
      {
       "ename": "AttributeError",
       "evalue": "'list' object has no attribute 'lower'",
       "output_type": "pyerr",
       "traceback": [
        "\u001b[0;31m---------------------------------------------------------------------------\u001b[0m\n\u001b[0;31mAttributeError\u001b[0m                            Traceback (most recent call last)",
        "\u001b[0;32m<ipython-input-190-5208b2d43aa9>\u001b[0m in \u001b[0;36m<module>\u001b[0;34m()\u001b[0m\n\u001b[1;32m      1\u001b[0m \u001b[0mclf\u001b[0m \u001b[0;34m=\u001b[0m \u001b[0mlinear_model\u001b[0m\u001b[0;34m.\u001b[0m\u001b[0mLogisticRegression\u001b[0m\u001b[0;34m(\u001b[0m\u001b[0mpenalty\u001b[0m\u001b[0;34m=\u001b[0m\u001b[0;34m'l1'\u001b[0m\u001b[0;34m,\u001b[0m \u001b[0mC\u001b[0m\u001b[0;34m=\u001b[0m\u001b[0;36m1\u001b[0m\u001b[0;34m)\u001b[0m\u001b[0;34m\u001b[0m\u001b[0m\n\u001b[0;32m----> 2\u001b[0;31m \u001b[0mresults\u001b[0m \u001b[0;34m=\u001b[0m \u001b[0mtest_rnd_expert\u001b[0m\u001b[0;34m(\u001b[0m\u001b[0mdata\u001b[0m\u001b[0;34m,\u001b[0m \u001b[0mvct\u001b[0m\u001b[0;34m,\u001b[0m \u001b[0mclf\u001b[0m\u001b[0;34m)\u001b[0m\u001b[0;34m\u001b[0m\u001b[0m\n\u001b[0m\u001b[1;32m      3\u001b[0m \u001b[0;32mprint\u001b[0m \u001b[0mresults\u001b[0m\u001b[0;34m\u001b[0m\u001b[0m\n\u001b[1;32m      4\u001b[0m \u001b[0;32mprint\u001b[0m \u001b[0;34m\"Accuracy: %.3f (+/- %.3f)\"\u001b[0m \u001b[0;34m%\u001b[0m \u001b[0;34m(\u001b[0m\u001b[0mnp\u001b[0m\u001b[0;34m.\u001b[0m\u001b[0mmean\u001b[0m\u001b[0;34m(\u001b[0m\u001b[0mresults\u001b[0m\u001b[0;34m)\u001b[0m\u001b[0;34m,\u001b[0m \u001b[0mnp\u001b[0m\u001b[0;34m.\u001b[0m\u001b[0mstd\u001b[0m\u001b[0;34m(\u001b[0m\u001b[0mresults\u001b[0m\u001b[0;34m)\u001b[0m\u001b[0;34m)\u001b[0m\u001b[0;34m\u001b[0m\u001b[0m\n",
        "\u001b[0;32m<ipython-input-189-78fa1d1f804c>\u001b[0m in \u001b[0;36mtest_rnd_expert\u001b[0;34m(data, vct, clf)\u001b[0m\n\u001b[1;32m      9\u001b[0m \u001b[0;34m\u001b[0m\u001b[0m\n\u001b[1;32m     10\u001b[0m         \u001b[0;31m## Convert tweets to snippets\u001b[0m\u001b[0;34m\u001b[0m\u001b[0;34m\u001b[0m\u001b[0m\n\u001b[0;32m---> 11\u001b[0;31m         \u001b[0mdoc_bow\u001b[0m \u001b[0;34m=\u001b[0m \u001b[0mvct\u001b[0m\u001b[0;34m.\u001b[0m\u001b[0mfit_transform\u001b[0m\u001b[0;34m(\u001b[0m\u001b[0mdata\u001b[0m\u001b[0;34m[\u001b[0m\u001b[0;34m'data'\u001b[0m\u001b[0;34m]\u001b[0m\u001b[0;34m[\u001b[0m\u001b[0mtrain\u001b[0m\u001b[0;34m]\u001b[0m\u001b[0;34m)\u001b[0m\u001b[0;34m\u001b[0m\u001b[0m\n\u001b[0m\u001b[1;32m     12\u001b[0m         \u001b[0;31m# Train expert\u001b[0m\u001b[0;34m\u001b[0m\u001b[0;34m\u001b[0m\u001b[0m\n\u001b[1;32m     13\u001b[0m         \u001b[0mclf\u001b[0m\u001b[0;34m.\u001b[0m\u001b[0mfit\u001b[0m\u001b[0;34m(\u001b[0m\u001b[0mdoc_bow\u001b[0m\u001b[0;34m,\u001b[0m \u001b[0mdata\u001b[0m\u001b[0;34m[\u001b[0m\u001b[0;34m'target'\u001b[0m\u001b[0;34m]\u001b[0m\u001b[0;34m[\u001b[0m\u001b[0mtrain\u001b[0m\u001b[0;34m]\u001b[0m\u001b[0;34m)\u001b[0m\u001b[0;34m\u001b[0m\u001b[0m\n",
        "\u001b[0;32m/opt/local/Library/Frameworks/Python.framework/Versions/2.7/lib/python2.7/site-packages/sklearn/feature_extraction/text.pyc\u001b[0m in \u001b[0;36mfit_transform\u001b[0;34m(self, raw_documents, y)\u001b[0m\n\u001b[1;32m   1280\u001b[0m             \u001b[0mTf\u001b[0m\u001b[0;34m-\u001b[0m\u001b[0midf\u001b[0m\u001b[0;34m-\u001b[0m\u001b[0mweighted\u001b[0m \u001b[0mdocument\u001b[0m\u001b[0;34m-\u001b[0m\u001b[0mterm\u001b[0m \u001b[0mmatrix\u001b[0m\u001b[0;34m.\u001b[0m\u001b[0;34m\u001b[0m\u001b[0m\n\u001b[1;32m   1281\u001b[0m         \"\"\"\n\u001b[0;32m-> 1282\u001b[0;31m         \u001b[0mX\u001b[0m \u001b[0;34m=\u001b[0m \u001b[0msuper\u001b[0m\u001b[0;34m(\u001b[0m\u001b[0mTfidfVectorizer\u001b[0m\u001b[0;34m,\u001b[0m \u001b[0mself\u001b[0m\u001b[0;34m)\u001b[0m\u001b[0;34m.\u001b[0m\u001b[0mfit_transform\u001b[0m\u001b[0;34m(\u001b[0m\u001b[0mraw_documents\u001b[0m\u001b[0;34m)\u001b[0m\u001b[0;34m\u001b[0m\u001b[0m\n\u001b[0m\u001b[1;32m   1283\u001b[0m         \u001b[0mself\u001b[0m\u001b[0;34m.\u001b[0m\u001b[0m_tfidf\u001b[0m\u001b[0;34m.\u001b[0m\u001b[0mfit\u001b[0m\u001b[0;34m(\u001b[0m\u001b[0mX\u001b[0m\u001b[0;34m)\u001b[0m\u001b[0;34m\u001b[0m\u001b[0m\n\u001b[1;32m   1284\u001b[0m         \u001b[0;31m# X is already a transformed view of raw_documents so\u001b[0m\u001b[0;34m\u001b[0m\u001b[0;34m\u001b[0m\u001b[0m\n",
        "\u001b[0;32m/opt/local/Library/Frameworks/Python.framework/Versions/2.7/lib/python2.7/site-packages/sklearn/feature_extraction/text.pyc\u001b[0m in \u001b[0;36mfit_transform\u001b[0;34m(self, raw_documents, y)\u001b[0m\n\u001b[1;32m    815\u001b[0m \u001b[0;34m\u001b[0m\u001b[0m\n\u001b[1;32m    816\u001b[0m         vocabulary, X = self._count_vocab(raw_documents,\n\u001b[0;32m--> 817\u001b[0;31m                                           self.fixed_vocabulary_)\n\u001b[0m\u001b[1;32m    818\u001b[0m \u001b[0;34m\u001b[0m\u001b[0m\n\u001b[1;32m    819\u001b[0m         \u001b[0;32mif\u001b[0m \u001b[0mself\u001b[0m\u001b[0;34m.\u001b[0m\u001b[0mbinary\u001b[0m\u001b[0;34m:\u001b[0m\u001b[0;34m\u001b[0m\u001b[0m\n",
        "\u001b[0;32m/opt/local/Library/Frameworks/Python.framework/Versions/2.7/lib/python2.7/site-packages/sklearn/feature_extraction/text.pyc\u001b[0m in \u001b[0;36m_count_vocab\u001b[0;34m(self, raw_documents, fixed_vocab)\u001b[0m\n\u001b[1;32m    746\u001b[0m         \u001b[0mindptr\u001b[0m\u001b[0;34m.\u001b[0m\u001b[0mappend\u001b[0m\u001b[0;34m(\u001b[0m\u001b[0;36m0\u001b[0m\u001b[0;34m)\u001b[0m\u001b[0;34m\u001b[0m\u001b[0m\n\u001b[1;32m    747\u001b[0m         \u001b[0;32mfor\u001b[0m \u001b[0mdoc\u001b[0m \u001b[0;32min\u001b[0m \u001b[0mraw_documents\u001b[0m\u001b[0;34m:\u001b[0m\u001b[0;34m\u001b[0m\u001b[0m\n\u001b[0;32m--> 748\u001b[0;31m             \u001b[0;32mfor\u001b[0m \u001b[0mfeature\u001b[0m \u001b[0;32min\u001b[0m \u001b[0manalyze\u001b[0m\u001b[0;34m(\u001b[0m\u001b[0mdoc\u001b[0m\u001b[0;34m)\u001b[0m\u001b[0;34m:\u001b[0m\u001b[0;34m\u001b[0m\u001b[0m\n\u001b[0m\u001b[1;32m    749\u001b[0m                 \u001b[0;32mtry\u001b[0m\u001b[0;34m:\u001b[0m\u001b[0;34m\u001b[0m\u001b[0m\n\u001b[1;32m    750\u001b[0m                     \u001b[0mj_indices\u001b[0m\u001b[0;34m.\u001b[0m\u001b[0mappend\u001b[0m\u001b[0;34m(\u001b[0m\u001b[0mvocabulary\u001b[0m\u001b[0;34m[\u001b[0m\u001b[0mfeature\u001b[0m\u001b[0;34m]\u001b[0m\u001b[0;34m)\u001b[0m\u001b[0;34m\u001b[0m\u001b[0m\n",
        "\u001b[0;32m/opt/local/Library/Frameworks/Python.framework/Versions/2.7/lib/python2.7/site-packages/sklearn/feature_extraction/text.pyc\u001b[0m in \u001b[0;36m<lambda>\u001b[0;34m(doc)\u001b[0m\n\u001b[1;32m    232\u001b[0m \u001b[0;34m\u001b[0m\u001b[0m\n\u001b[1;32m    233\u001b[0m             return lambda doc: self._word_ngrams(\n\u001b[0;32m--> 234\u001b[0;31m                 tokenize(preprocess(self.decode(doc))), stop_words)\n\u001b[0m\u001b[1;32m    235\u001b[0m \u001b[0;34m\u001b[0m\u001b[0m\n\u001b[1;32m    236\u001b[0m         \u001b[0;32melse\u001b[0m\u001b[0;34m:\u001b[0m\u001b[0;34m\u001b[0m\u001b[0m\n",
        "\u001b[0;32m/opt/local/Library/Frameworks/Python.framework/Versions/2.7/lib/python2.7/site-packages/sklearn/feature_extraction/text.pyc\u001b[0m in \u001b[0;36m<lambda>\u001b[0;34m(x)\u001b[0m\n\u001b[1;32m    198\u001b[0m \u001b[0;34m\u001b[0m\u001b[0m\n\u001b[1;32m    199\u001b[0m         \u001b[0;32mif\u001b[0m \u001b[0mself\u001b[0m\u001b[0;34m.\u001b[0m\u001b[0mlowercase\u001b[0m\u001b[0;34m:\u001b[0m\u001b[0;34m\u001b[0m\u001b[0m\n\u001b[0;32m--> 200\u001b[0;31m             \u001b[0;32mreturn\u001b[0m \u001b[0;32mlambda\u001b[0m \u001b[0mx\u001b[0m\u001b[0;34m:\u001b[0m \u001b[0mstrip_accents\u001b[0m\u001b[0;34m(\u001b[0m\u001b[0mx\u001b[0m\u001b[0;34m.\u001b[0m\u001b[0mlower\u001b[0m\u001b[0;34m(\u001b[0m\u001b[0;34m)\u001b[0m\u001b[0;34m)\u001b[0m\u001b[0;34m\u001b[0m\u001b[0m\n\u001b[0m\u001b[1;32m    201\u001b[0m         \u001b[0;32melse\u001b[0m\u001b[0;34m:\u001b[0m\u001b[0;34m\u001b[0m\u001b[0m\n\u001b[1;32m    202\u001b[0m             \u001b[0;32mreturn\u001b[0m \u001b[0mstrip_accents\u001b[0m\u001b[0;34m\u001b[0m\u001b[0m\n",
        "\u001b[0;31mAttributeError\u001b[0m: 'list' object has no attribute 'lower'"
       ]
      }
     ],
     "prompt_number": 190
    },
    {
     "cell_type": "code",
     "collapsed": false,
     "input": [
      "vct = TfidfVectorizer(encoding='latin1', min_df=5, max_df=1.0, binary=False, ngram_range=(1,2),\n",
      "                      token_pattern='\\\\b\\\\w+\\\\b') \n",
      "\n",
      "data = bunch_users(gds, bts, vct, True, False, False)\n",
      "x_sent,y_sent = convert2sentence(data)\n",
      "random_state = np.random.RandomState(5612) \n",
      "indices = np.arange(len(y_sent))\n",
      "random_state.shuffle(indices)\n",
      "y_sent = np.array(y_sent)[indices]\n",
      "data_lst = np.array(x_sent , dtype=object)\n",
      "data_lst = data_lst[indices]\n",
      "x_sent = data_lst.tolist()\n"
     ],
     "language": "python",
     "metadata": {},
     "outputs": [],
     "prompt_number": 20
    },
    {
     "cell_type": "markdown",
     "metadata": {},
     "source": [
      "## Error Analysis"
     ]
    },
    {
     "cell_type": "code",
     "collapsed": false,
     "input": [
      "def print_top_terms(model, terms, n=20):\n",
      "    print '\\nTop Coefficients'\n",
      "    coef = model.coef_[0]\n",
      "    srted = np.argsort(coef)\n",
      "    topi = srted[::-1][:n]\n",
      "    boti = srted[:n]\n",
      "    \n",
      "    print 'Real Terms:\\n' + '\\n'.join('%s (%g)' % (n, c) for n, c in zip(terms[topi], coef[topi]))\n",
      "    print '\\nBot Terms:\\n' + '\\n'.join('%s (%g)' % (n, c) for n, c in zip(terms[boti], coef[boti]))\n",
      "    print '\\nintercept=%g' % model.intercept_\n",
      "\n",
      "def print_terms_and_coef(row, terms, coef):\n",
      "    indices = sorted(row.indices, key=lambda x: coef[x])\n",
      "    print 'Top Terms:'\n",
      "    for i in indices:\n",
      "        if coef[i] != 0:\n",
      "            print terms[i], \"%.3f\" % coef[i]\n",
      "    print\n",
      "    \n",
      "def error_analysis(clf, predicted, predicted_proba, X, tweets, terms):\n",
      "    \n",
      "    print_top_terms(clf, np.array(terms))\n",
      "    \n",
      "    print '\\nERRORS:'\n",
      "    for i in range(predicted_proba.shape[0]):\n",
      "        probability = predicted_proba[i][predicted[i]]\n",
      "        # If we're very wrong.\n",
      "        if predicted[i] != y_test[i] and probability > .97:\n",
      "            \n",
      "            print '\\npred=%d (%g) truth=%d \\ntext=%s ' % (predicted[i],\n",
      "                                                            probability,\n",
      "                                                            y_test[i],\n",
      "                                                            tweets[i])\n",
      "            print_terms_and_coef(X.getrow(i), terms, clf.coef_[0])\n",
      "    \n",
      "error_analysis(lrl2, pred, proba, x_test_bow, x_test, vct_sent.get_feature_names())"
     ],
     "language": "python",
     "metadata": {},
     "outputs": [
      {
       "ename": "NameError",
       "evalue": "name 'lrl2' is not defined",
       "output_type": "pyerr",
       "traceback": [
        "\u001b[0;31m---------------------------------------------------------------------------\u001b[0m\n\u001b[0;31mNameError\u001b[0m                                 Traceback (most recent call last)",
        "\u001b[0;32m<ipython-input-68-a95dcab2232e>\u001b[0m in \u001b[0;36m<module>\u001b[0;34m()\u001b[0m\n\u001b[1;32m     34\u001b[0m             \u001b[0mprint_terms_and_coef\u001b[0m\u001b[0;34m(\u001b[0m\u001b[0mX\u001b[0m\u001b[0;34m.\u001b[0m\u001b[0mgetrow\u001b[0m\u001b[0;34m(\u001b[0m\u001b[0mi\u001b[0m\u001b[0;34m)\u001b[0m\u001b[0;34m,\u001b[0m \u001b[0mterms\u001b[0m\u001b[0;34m,\u001b[0m \u001b[0mclf\u001b[0m\u001b[0;34m.\u001b[0m\u001b[0mcoef_\u001b[0m\u001b[0;34m[\u001b[0m\u001b[0;36m0\u001b[0m\u001b[0;34m]\u001b[0m\u001b[0;34m)\u001b[0m\u001b[0;34m\u001b[0m\u001b[0m\n\u001b[1;32m     35\u001b[0m \u001b[0;34m\u001b[0m\u001b[0m\n\u001b[0;32m---> 36\u001b[0;31m \u001b[0merror_analysis\u001b[0m\u001b[0;34m(\u001b[0m\u001b[0mlrl2\u001b[0m\u001b[0;34m,\u001b[0m \u001b[0mpred\u001b[0m\u001b[0;34m,\u001b[0m \u001b[0mproba\u001b[0m\u001b[0;34m,\u001b[0m \u001b[0mx_test_bow\u001b[0m\u001b[0;34m,\u001b[0m \u001b[0mx_test\u001b[0m\u001b[0;34m,\u001b[0m \u001b[0mvct_sent\u001b[0m\u001b[0;34m.\u001b[0m\u001b[0mget_feature_names\u001b[0m\u001b[0;34m(\u001b[0m\u001b[0;34m)\u001b[0m\u001b[0;34m)\u001b[0m\u001b[0;34m\u001b[0m\u001b[0m\n\u001b[0m",
        "\u001b[0;31mNameError\u001b[0m: name 'lrl2' is not defined"
       ]
      }
     ],
     "prompt_number": 68
    },
    {
     "cell_type": "code",
     "collapsed": false,
     "input": [
      "print \"Sentence distribution\", 1.* y_sent.sum()/y_sent.shape[0]\n",
      "print y_sent.shape[0]"
     ],
     "language": "python",
     "metadata": {},
     "outputs": [
      {
       "output_type": "stream",
       "stream": "stdout",
       "text": [
        "Sentence distribution 0.460468123626\n",
        "309320\n"
       ]
      }
     ],
     "prompt_number": 38
    },
    {
     "cell_type": "code",
     "collapsed": false,
     "input": [
      "order = proba.argmax(axis=1)\n",
      "maxprob= proba.min(axis=1)\n",
      "plt.hist([maxprob[order==0], maxprob[order==1]], bins=np.arange(0.0, .5,.1), label=['y=0', 'y=1'])\n",
      "plt.legend(loc='best')"
     ],
     "language": "python",
     "metadata": {},
     "outputs": [
      {
       "metadata": {},
       "output_type": "pyout",
       "prompt_number": 63,
       "text": [
        "<matplotlib.legend.Legend at 0x112767410>"
       ]
      },
      {
       "metadata": {},
       "output_type": "display_data",
       "png": "[encoded data removed]",
       "text": [
        "<matplotlib.figure.Figure at 0x1127672d0>"
       ]
      }
     ],
     "prompt_number": 63
    },
    {
     "cell_type": "code",
     "collapsed": false,
     "input": [],
     "language": "python",
     "metadata": {},
     "outputs": []
    }
   ],
   "metadata": {}
  }
 ]
}