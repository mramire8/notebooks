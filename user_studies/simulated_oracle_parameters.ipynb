{
 "metadata": {
  "name": "",
  "signature": "sha256:2681d3e31c2a677a01557e9170e3c5629218cd6f27c5bd6cccd2ebf93f862056"
 },
 "nbformat": 3,
 "nbformat_minor": 0,
 "worksheets": [
  {
   "cells": [
    {
     "cell_type": "markdown",
     "metadata": {},
     "source": [
      "# Simulated Oracle Parameters\n",
      "\n",
      "We want to find the best set of C and T(hreshold) values for the oracle classifier to simulate human behavior. The paramters will determine the percentage of queries that will be answered as neutral by the classifiers."
     ]
    },
    {
     "cell_type": "code",
     "collapsed": false,
     "input": [
      "## Imports \n",
      "%matplotlib inline\n",
      "\n",
      "STRUCTURED = '/Users/maru/MyCode/structured'\n",
      "IMDB_DATA='/Users/maru/MyCode/data/imdb'\n",
      "SRAA_DATA='/Users/maru/MyCode/data/sraa'\n",
      "TWIITER_DATA = ''\n",
      "\n",
      "# STRUCTURED = '/Users/maru/My Code/structured'\n",
      "# IMDB_DATA='/Users/maru/Dataset/aclImdb'\n",
      "# SRAA_DATA='/Users/maru/Dataset/aviation/data'\n",
      "# TWIITER_DATA = '/Users/maru/Dataset/twitter'\n",
      "\n",
      "import sys\n",
      "import os\n",
      "sys.path.append(os.path.abspath(STRUCTURED))"
     ],
     "language": "python",
     "metadata": {},
     "outputs": [],
     "prompt_number": 1
    },
    {
     "cell_type": "code",
     "collapsed": false,
     "input": [
      "import utilities.experimentutils as exputil\n",
      "import utilities.datautils as datautil\n",
      "import numpy as np\n",
      "import nltk\n",
      "from sklearn import metrics\n",
      "import matplotlib.pyplot as plt\n",
      "import matplotlib as mpl\n",
      "\n",
      "mpl.style.use('bmh')"
     ],
     "language": "python",
     "metadata": {},
     "outputs": [],
     "prompt_number": 2
    },
    {
     "cell_type": "code",
     "collapsed": false,
     "input": [
      "# Loading Data\n",
      "vct = exputil.get_vectorizer({'vectorizer':\"bow\", 'limit':None, 'min_size':100})\n",
      "# Sentence tokenizers\n",
      "sent_tk = nltk.data.load('tokenizers/punkt/english.pickle')\n",
      "\n",
      "def load_data(dataname, path, vct, categories=None):\n",
      "    import pickle\n",
      "\n",
      "    DATA_PKL = path + '/data.pkl'\n",
      "    \n",
      "    if os.path.isfile(DATA_PKL):\n",
      "        vct, data = pickle.load(open(DATA_PKL, 'rb'))\n",
      "#         raise Exception(\"Cannot load.\")\n",
      "    else:\n",
      "        #vct = exputil.get_vectorizer({'vectorizer':\"tfidf\", 'limit':None, 'min_size':None})\n",
      "        data = datautil.load_dataset(dataname, path, categories=categories, rnd=5463, shuffle=True, keep_subject=True)\n",
      "        data.train.data = np.array(data.train.data, dtype=object)\n",
      "        data.test.data = np.array(data.test.data, dtype=object)\n",
      "        data.train.bow = vct.fit_transform(data.train.data)\n",
      "        data.test.bow = vct.transform(data.test.data)\n",
      "        pickle.dump((vct, data), open(DATA_PKL, 'wb'))\n",
      "\n",
      "    return data, vct\n",
      "from collections import defaultdict\n",
      "# Get the sentences for testing\n",
      "def _sentences(docs, doc_labels, sent_tk):\n",
      "    data = []\n",
      "    true_labels = []\n",
      "    sent = sent_tk.tokenize_sents(docs)\n",
      "    for sentences, doc_label in zip(sent, doc_labels):\n",
      "        data.extend(sentences)\n",
      "        true_labels.extend([doc_label] * len(sentences))\n",
      "    return data, np.array(true_labels)\n",
      "\n",
      "\n"
     ],
     "language": "python",
     "metadata": {},
     "outputs": [],
     "prompt_number": 29
    },
    {
     "cell_type": "code",
     "collapsed": false,
     "input": [
      "def count_neutrals(probs, thresholds):\n",
      "    unc = 1. - probs.max(1)\n",
      "    n = 1.* len(probs)\n",
      "    counts = [sum(unc > t)/n for t in thresholds]\n",
      "    return counts\n",
      "\n",
      "def _stats(a):\n",
      "    print \"Mean: %.3f, Median: %.3f, Std.: %.3f, min: %f, max: %f, N=%d \" % (np.mean(a), np.median(a), np.std(a), np.min(a), np.max(a), len(a))\n",
      "        \n",
      "\n",
      "\n",
      "def test_neutral_counts(train, test, thresholds, penalties, vct, sent_tk, min_size=25):\n",
      "\n",
      "    res = defaultdict(lambda x: [])\n",
      "    for c in penalties:\n",
      "        \n",
      "        clf = exputil.get_classifier('lrl1', parameter=c)\n",
      "        ## train classifier\n",
      "        clf.fit(train.bow, train.target)\n",
      "        # get testing data\n",
      "        probs = clf.predict_proba(test['bow'])\n",
      "        unc = 1. - probs.max(1)\n",
      "        print \"Penalty\", clf.C\n",
      "        print \"UNC:\", _stats(unc)\n",
      "        print \"Accuracy:\", metrics.accuracy_score(test['target'], clf.predict(test['bow']))\n",
      "        count = count_neutrals(probs, thresholds)\n",
      "        res[c] = count\n",
      "        \n",
      "    return res\n",
      "\n"
     ],
     "language": "python",
     "metadata": {},
     "outputs": [],
     "prompt_number": 10
    },
    {
     "cell_type": "code",
     "collapsed": false,
     "input": [
      "# Load the dataset\n",
      "reload(datautil)\n",
      "data, vct = load_data('20news', '.', vct, categories='hardware')\n",
      "\n",
      "rnd = np.random.RandomState(2345)\n",
      "\n",
      "# Get the sentences snippets\n",
      "sents = _sentences(data.test.data, data.test.target, sent_tk)\n",
      "sents_bow = vct.transform(sents[0])\n",
      "\n",
      "thres = np.arange(.3, .46, .05)\n",
      "penalties = np.array([pow(10,x) for x in range(-2,3)])\n",
      "\n",
      "\n",
      "tk = vct.build_tokenizer()\n",
      "\n",
      "x_tex = [len(tk(d)) for d in data.train.data]\n",
      "\n",
      "resl = test_neutral_counts(data.train, {'bow':sents_bow, 'target':sents[1]}, thres, penalties, vct, sent_tk, min_size=25)\n",
      "\n"
     ],
     "language": "python",
     "metadata": {},
     "outputs": [
      {
       "output_type": "stream",
       "stream": "stdout",
       "text": [
        "Penalty 0.01\n",
        "UNC: Mean: 0.497, Median: 0.500, Std.: 0.010, min: 0.460490, max: 0.500000, N=7309 \n",
        "None\n",
        "Accuracy: 0.594335750445\n",
        "Penalty"
       ]
      },
      {
       "output_type": "stream",
       "stream": "stdout",
       "text": [
        " 0.1\n",
        "UNC: Mean: 0.429, Median: 0.477, Std.: 0.108, min: 0.037153, max: 0.500000, N=7309 \n",
        "None\n",
        "Accuracy: 0.663018196744\n",
        "Penalty"
       ]
      },
      {
       "output_type": "stream",
       "stream": "stdout",
       "text": [
        " 1.0\n",
        "UNC: Mean: 0.286, Median: 0.321, Std.: 0.140, min: 0.000349, max: 0.499925, N=7309 \n",
        "None\n",
        "Accuracy: 0.676699958955\n",
        "Penalty"
       ]
      },
      {
       "output_type": "stream",
       "stream": "stdout",
       "text": [
        " 10.0\n",
        "UNC: Mean: 0.175, Median: 0.153, Std.: 0.147, min: 0.000000, max: 0.499987, N=7309 \n",
        "None\n",
        "Accuracy: 0.679709946641\n",
        "Penalty"
       ]
      },
      {
       "output_type": "stream",
       "stream": "stdout",
       "text": [
        " 100.0\n",
        "UNC: Mean: 0.159, Median: 0.119, Std.: 0.148, min: 0.000000, max: 0.499991, N=7309 \n",
        "None\n",
        "Accuracy: 0.678889040908\n"
       ]
      }
     ],
     "prompt_number": 11
    },
    {
     "cell_type": "code",
     "collapsed": false,
     "input": [
      "## Print results of penalty of classifier and threshold, showing percentage of neutral\n",
      "def print_thresholds(thres, penalties, resl):\n",
      "    print \n",
      "    print \"\\t\", \"\\t\".join(\"%s\" % t for t in thres)\n",
      "    for p in penalties:\n",
      "        print \"%s =\\t%s\" %(p, \"\\t\".join(\"%.3f\" % t for t in resl[p]))\n",
      "        \n",
      "print_thresholds(thres, penalties, resl)"
     ],
     "language": "python",
     "metadata": {},
     "outputs": [
      {
       "output_type": "stream",
       "stream": "stdout",
       "text": [
        "\n",
        "\t0.3\t0.35\t0.4\t0.45\n",
        "0.01 =\t1.000\t1.000\t1.000\t1.000\n",
        "0.1 =\t0.859\t0.827\t0.792\t0.652\n",
        "1.0 =\t0.549\t0.446\t0.232\t0.117\n",
        "10.0 =\t0.213\t0.162\t0.111\t0.055\n",
        "100.0 =\t0.196\t0.137\t0.093\t0.047\n"
       ]
      }
     ],
     "prompt_number": 12
    },
    {
     "cell_type": "code",
     "collapsed": false,
     "input": [
      "sent_len = [len(tk(d)) for d in sents[0]]\n",
      "_stats(sent_len)"
     ],
     "language": "python",
     "metadata": {},
     "outputs": [
      {
       "output_type": "stream",
       "stream": "stdout",
       "text": [
        "Mean: 18.863, Median: 15.000, Std.: 17.334, min: 0.000000, max: 286.000000, N=7309 \n"
       ]
      }
     ],
     "prompt_number": 13
    },
    {
     "cell_type": "code",
     "collapsed": false,
     "input": [
      "resl2 = test_neutral_counts(data.train, {'bow':sents_bow, 'target':sents[1]},\n",
      "                           np.arange(.35, .45, .025), [1,10], vct, sent_tk, min_size=25)\n",
      "print_thresholds(np.arange(.35, .45, .025), [1,10], resl2)"
     ],
     "language": "python",
     "metadata": {},
     "outputs": [
      {
       "output_type": "stream",
       "stream": "stdout",
       "text": [
        "Penalty 1\n",
        "UNC: Mean: 0.288, Median: 0.323, Std.: 0.140, min: 0.000352, max: 0.499921, N=7309 \n",
        "None\n",
        "Accuracy: 0.677247229443\n",
        "Penalty"
       ]
      },
      {
       "output_type": "stream",
       "stream": "stdout",
       "text": [
        " 10\n",
        "UNC: Mean: 0.174, Median: 0.151, Std.: 0.147, min: 0.000000, max: 0.499909, N=7309 \n",
        "None\n",
        "Accuracy: 0.678889040908\n",
        "\n"
       ]
      },
      {
       "output_type": "stream",
       "stream": "stdout",
       "text": [
        "\t0.35\t0.375\t0.4\t0.425\t0.45\n",
        "1 =\t0.448\t0.304\t0.234\t0.173\t0.113\n",
        "10 =\t0.162\t0.137\t0.110\t0.077\t0.054\n"
       ]
      }
     ],
     "prompt_number": 14
    },
    {
     "cell_type": "markdown",
     "metadata": {},
     "source": [
      "### Notes: \n",
      "\n",
      "We can use expert l1 with bow and C=1 T=.35 that gives 50 neutrals or .4 with 24 neutrals.\n",
      "\n",
      ".375 gives 44% neutrals\n",
      "\n",
      "---------"
     ]
    },
    {
     "cell_type": "code",
     "collapsed": false,
     "input": [
      "doc_sent = sent_tk.tokenize_sents(data.test.data)\n",
      "first = [d[0] for d in doc_sent]\n",
      "len_first = [len(tk(s)) for s in first]\n",
      "\n",
      "print len(data.test.data), len(first)\n",
      "_stats(len_first)"
     ],
     "language": "python",
     "metadata": {},
     "outputs": [
      {
       "output_type": "stream",
       "stream": "stdout",
       "text": [
        "763 763\n",
        "Mean: 17.667, Median: 16.000, Std.: 13.269, min: 0.000000, max: 195.000000, N=763 \n"
       ]
      }
     ],
     "prompt_number": 15
    },
    {
     "cell_type": "code",
     "collapsed": false,
     "input": [
      "resl2 = test_neutral_counts(data.train, {'bow':vct.transform(first), 'target':data.test.target},\n",
      "                           thres, penalties, vct, sent_tk, min_size=25)\n",
      "print_thresholds(thres, penalties, resl2)"
     ],
     "language": "python",
     "metadata": {},
     "outputs": [
      {
       "output_type": "stream",
       "stream": "stdout",
       "text": [
        " Penalty 0.01\n",
        "UNC: Mean: 0.494, Median: 0.500, Std.: 0.014, min: 0.460490, max: 0.500000, N=763 \n",
        "None\n",
        "Accuracy: 0.496723460026\n",
        "Penalty 0.1\n",
        "UNC: Mean: 0.385, Median: 0.446, Std.: 0.135, min: 0.044545, max: 0.500000, N=763 \n",
        "None\n",
        "Accuracy: 0.684141546527\n",
        "Penalty 1.0\n",
        "UNC: Mean: 0.258, Median: 0.285, Std.: 0.156, min: 0.000443, max: 0.499846, N=763 \n",
        "None\n",
        "Accuracy: 0.672346002621\n",
        "Penalty"
       ]
      },
      {
       "output_type": "stream",
       "stream": "stdout",
       "text": [
        " 10.0\n",
        "UNC: Mean: 0.156, Median: 0.107, Std.: 0.150, min: 0.000000, max: 0.499485, N=763 \n",
        "None\n",
        "Accuracy: 0.699868938401\n",
        "Penalty 100.0\n",
        "UNC: Mean: 0.137, Median: 0.072, Std.: 0.151, min: 0.000000, max: 0.499815, N=763 \n",
        "None\n",
        "Accuracy: 0.689384010485\n",
        "\n",
        "\t0.3\t0.35\t0.4\t0.45\n",
        "0.01 =\t1.000\t1.000\t1.000\t1.000\n",
        "0.1 =\t0.754\t0.705\t0.654\t0.484\n",
        "1.0 =\t0.474\t0.371\t0.220\t0.119\n",
        "10.0 =\t0.210\t0.149\t0.097\t0.043\n",
        "100.0 =\t0.182\t0.136\t0.092\t0.048\n"
       ]
      }
     ],
     "prompt_number": 17
    },
    {
     "cell_type": "code",
     "collapsed": false,
     "input": [
      "resl2 = test_neutral_counts(data.train, {'bow':vct.transform(first), 'target':data.test.target},\n",
      "                           np.arange(.35, .45, .025), [1,10], vct, sent_tk, min_size=25)\n",
      "print_thresholds(np.arange(.35, .45, .025), [1,10], resl2)"
     ],
     "language": "python",
     "metadata": {},
     "outputs": [
      {
       "output_type": "stream",
       "stream": "stdout",
       "text": [
        " Penalty 1\n",
        "UNC: Mean: 0.258, Median: 0.285, Std.: 0.156, min: 0.000441, max: 0.499924, N=763 \n",
        "None\n",
        "Accuracy: 0.672346002621\n",
        "Penalty 10\n",
        "UNC: Mean: 0.156, Median: 0.109, Std.: 0.150, min: 0.000000, max: 0.499013, N=763 \n",
        "None\n",
        "Accuracy: 0.695937090433\n",
        "\n",
        "\t0.35\t0.375\t0.4\t0.425\t0.45\n",
        "1 =\t0.370\t0.270\t0.221\t0.161\t0.118\n",
        "10 =\t0.147\t0.123\t0.093\t0.062\t0.047\n"
       ]
      }
     ],
     "prompt_number": 19
    },
    {
     "cell_type": "code",
     "collapsed": false,
     "input": [
      "def get_data_size(data, target, size, tk):\n",
      "    x = [\" \".join(tk(d)[:size]) for d in data]\n",
      "    return x, target"
     ],
     "language": "python",
     "metadata": {},
     "outputs": [
      {
       "metadata": {},
       "output_type": "pyout",
       "prompt_number": 21,
       "text": [
        "<module 'utilities.datautils' from '/Users/maru/MyCode/structured/utilities/datautils.pyc'>"
       ]
      }
     ],
     "prompt_number": 21
    },
    {
     "cell_type": "code",
     "collapsed": false,
     "input": [
      "x_snip, target = get_data_size(data.test.data, data.test.target, 25, tk)\n",
      "print thres\n",
      "print penalties\n",
      "resl2 = test_neutral_counts(data.train, {'bow':vct.transform(x_snip), 'target':target},\n",
      "                           thres, penalties, vct, sent_tk, min_size=25)\n",
      "print_thresholds(thres, penalties, resl2)"
     ],
     "language": "python",
     "metadata": {},
     "outputs": [
      {
       "output_type": "stream",
       "stream": "stdout",
       "text": [
        "[ 0.3   0.35  0.4   0.45]\n",
        "[  1.00000000e-02   1.00000000e-01   1.00000000e+00   1.00000000e+01\n",
        "   1.00000000e+02]\n",
        "Penalty"
       ]
      },
      {
       "output_type": "stream",
       "stream": "stdout",
       "text": [
        " 0.01\n",
        "UNC: Mean: 0.493, Median: 0.500, Std.: 0.015, min: 0.460490, max: 0.500000, N=763 \n",
        "None\n",
        "Accuracy: 0.496723460026\n",
        "Penalty 0.1\n",
        "UNC: Mean: 0.359, Median: 0.421, Std.: 0.134, min: 0.037025, max: 0.500000, N=763 \n",
        "None\n",
        "Accuracy: 0.720838794233\n",
        "Penalty"
       ]
      },
      {
       "output_type": "stream",
       "stream": "stdout",
       "text": [
        " 1.0\n",
        "UNC: Mean: 0.223, Median: 0.211, Std.: 0.156, min: 0.000676, max: 0.499605, N=763 \n",
        "None\n",
        "Accuracy: 0.744429882045\n",
        "Penalty 10.0\n",
        "UNC: Mean: 0.131, Median: 0.059, Std.: 0.153, min: 0.000000, max: 0.494939, N=763 \n",
        "None\n",
        "Accuracy: 0.737876802097\n",
        "Penalty"
       ]
      },
      {
       "output_type": "stream",
       "stream": "stdout",
       "text": [
        " 100.0\n",
        "UNC: Mean: 0.099, Median: 0.025, Std.: 0.137, min: 0.000000, max: 0.495765, N=763 \n",
        "None\n",
        "Accuracy: 0.737876802097\n",
        "\n",
        "\t0.3\t0.35\t0.4\t0.45\n",
        "0.01 =\t1.000\t1.000\t1.000\t1.000\n",
        "0.1 =\t0.693\t0.630\t0.554\t0.350\n",
        "1.0 =\t0.370\t0.290\t0.182\t0.081\n",
        "10.0 =\t0.190\t0.149\t0.106\t0.046\n",
        "100.0 =\t0.121\t0.104\t0.063\t0.034\n"
       ]
      }
     ],
     "prompt_number": 22
    },
    {
     "cell_type": "code",
     "collapsed": false,
     "input": [
      "resl2 = test_neutral_counts(data.train, {'bow':vct.transform(x_snip), 'target':target},\n",
      "                           np.arange(.35, .45, .025), penalties, vct, sent_tk, min_size=25)\n",
      "print_thresholds(np.arange(.35, .45, .025), penalties, resl2)"
     ],
     "language": "python",
     "metadata": {},
     "outputs": [
      {
       "output_type": "stream",
       "stream": "stdout",
       "text": [
        "Penalty 0.01\n",
        "UNC: Mean: 0.493, Median: 0.500, Std.: 0.015, min: 0.460490, max: 0.500000, N=763 \n",
        "None\n",
        "Accuracy: 0.496723460026\n",
        "Penalty 0.1\n",
        "UNC: Mean: 0.359, Median: 0.421, Std.: 0.134, min: 0.037023, max: 0.500000, N=763 \n",
        "None\n",
        "Accuracy: 0.720838794233\n",
        "Penalty 1.0\n",
        "UNC: Mean: 0.223, Median: 0.211, Std.: 0.156, min: 0.000678, max: 0.499207, N=763 \n",
        "None\n",
        "Accuracy: 0.744429882045\n",
        "Penalty"
       ]
      },
      {
       "output_type": "stream",
       "stream": "stdout",
       "text": [
        " 10.0\n",
        "UNC: Mean: 0.131, Median: 0.063, Std.: 0.153, min: 0.000000, max: 0.499574, N=763 \n",
        "None\n",
        "Accuracy: 0.737876802097\n",
        "Penalty 100.0\n",
        "UNC: Mean: 0.101, Median: 0.026, Std.: 0.139, min: 0.000000, max: 0.499477, N=763 \n",
        "None\n",
        "Accuracy: 0.741808650066\n",
        "\n",
        "\t0.35\t0.375\t0.4\t0.425\t0.45\n",
        "0.01 =\t1.000\t1.000\t1.000\t1.000\t1.000\n",
        "0.1 =\t0.630\t0.596\t0.554\t0.490\t0.350\n",
        "1.0 =\t0.290\t0.231\t0.181\t0.131\t0.081\n",
        "10.0 =\t0.142\t0.122\t0.101\t0.080\t0.050\n",
        "100.0 =\t0.094\t0.081\t0.066\t0.055\t0.042\n"
       ]
      }
     ],
     "prompt_number": 25
    },
    {
     "cell_type": "markdown",
     "metadata": {},
     "source": [
      "# IMDB and SRAA Testing the thersholds"
     ]
    },
    {
     "cell_type": "code",
     "collapsed": false,
     "input": [
      "vct1 = exputil.get_vectorizer({'vectorizer':\"bow\", 'limit':None, 'min_size':100})\n",
      "imdb, vct1 = load_data('imdb', IMDB_DATA, vct1)\n",
      "vct2 = exputil.get_vectorizer({'vectorizer':\"bow\", 'limit':None, 'min_size':100})\n",
      "sraa, vct2 = load_data('sraa', SRAA_DATA, vct2)\n"
     ],
     "language": "python",
     "metadata": {},
     "outputs": [],
     "prompt_number": 30
    },
    {
     "cell_type": "code",
     "collapsed": true,
     "input": [
      "print tk"
     ],
     "language": "python",
     "metadata": {},
     "outputs": [
      {
       "output_type": "stream",
       "stream": "stdout",
       "text": [
        "<utilities.datautils.StemTokenizer object at 0x112a95510>\n"
       ]
      }
     ],
     "prompt_number": 31
    },
    {
     "cell_type": "markdown",
     "metadata": {},
     "source": [
      "## IMDB test"
     ]
    },
    {
     "cell_type": "code",
     "collapsed": false,
     "input": [
      "thres1 = thres\n",
      "penalties1 = np.arange(.1, .5, .1)\n",
      "x_snip, target = get_data_size(imdb.test.data, imdb.test.target, 25, tk)\n",
      "resl2 = test_neutral_counts(imdb.train, {'bow':vct1.transform(x_snip), 'target':target},\n",
      "                           thres1, penalties, vct1, sent_tk, min_size=25)\n",
      "print_thresholds(thres1, penalties, resl2)"
     ],
     "language": "python",
     "metadata": {},
     "outputs": [
      {
       "output_type": "stream",
       "stream": "stdout",
       "text": [
        "Penalty 0.01\n",
        "UNC: Mean: 0.411, Median: 0.438, Std.: 0.083, min: 0.014718, max: 0.499999, N=24989 \n",
        "None\n",
        "Accuracy: 0.65676897835\n",
        "Penalty"
       ]
      },
      {
       "output_type": "stream",
       "stream": "stdout",
       "text": [
        " 0.1\n",
        "UNC: Mean: 0.351, Median: 0.376, Std.: 0.112, min: 0.005261, max: 0.499999, N=24989 \n",
        "None\n",
        "Accuracy: 0.700068029933\n",
        "Penalty"
       ]
      },
      {
       "output_type": "stream",
       "stream": "stdout",
       "text": [
        " 1.0\n",
        "UNC: Mean: 0.247, Median: 0.247, Std.: 0.146, min: 0.000037, max: 0.499986, N=24989 \n",
        "None\n",
        "Accuracy: 0.694945776142\n",
        "Penalty"
       ]
      },
      {
       "output_type": "stream",
       "stream": "stdout",
       "text": [
        " 10.0\n",
        "UNC: Mean: 0.173, Median: 0.132, Std.: 0.153, min: 0.000000, max: 0.499985, N=24989 \n",
        "None\n",
        "Accuracy: 0.690944015367\n",
        "Penalty"
       ]
      },
      {
       "output_type": "stream",
       "stream": "stdout",
       "text": [
        " 100.0\n",
        "UNC: Mean: 0.169, Median: 0.126, Std.: 0.153, min: 0.000000, max: 0.499972, N=24989 \n",
        "None\n",
        "Accuracy: 0.702709192044\n",
        "\n"
       ]
      },
      {
       "output_type": "stream",
       "stream": "stdout",
       "text": [
        "\t0.3\t0.35\t0.4\t0.45\n",
        "0.01 =\t0.881\t0.793\t0.659\t0.435\n",
        "0.1 =\t0.704\t0.578\t0.417\t0.220\n",
        "1.0 =\t0.396\t0.294\t0.198\t0.100\n",
        "10.0 =\t0.243\t0.179\t0.120\t0.061\n",
        "100.0 =\t0.240\t0.178\t0.116\t0.058\n"
       ]
      }
     ],
     "prompt_number": 34
    },
    {
     "cell_type": "code",
     "collapsed": false,
     "input": [
      "x_snip, target = get_data_size(imdb.test.data, imdb.test.target, 25, tk)\n",
      "resl2 = test_neutral_counts(imdb.train, {'bow':vct1.transform(x_snip), 'target':target},\n",
      "                           thres, [.1,.2,.3,.4], vct1, sent_tk, min_size=25)\n",
      "print_thresholds(thres, [.1,.2,.3,.4], resl2)"
     ],
     "language": "python",
     "metadata": {},
     "outputs": [
      {
       "output_type": "stream",
       "stream": "stdout",
       "text": [
        "Penalty 0.1\n",
        "UNC: Mean: 0.351, Median: 0.376, Std.: 0.112, min: 0.005254, max: 0.499997, N=24989 \n",
        "None\n",
        "Accuracy: 0.700148065149\n",
        "Penalty"
       ]
      },
      {
       "output_type": "stream",
       "stream": "stdout",
       "text": [
        " 0.2\n",
        "UNC: Mean: 0.328, Median: 0.350, Std.: 0.122, min: 0.002770, max: 0.499996, N=24989 \n",
        "None\n",
        "Accuracy: 0.702188963144\n",
        "Penalty"
       ]
      },
      {
       "output_type": "stream",
       "stream": "stdout",
       "text": [
        " 0.3\n",
        "UNC: Mean: 0.310, Median: 0.330, Std.: 0.128, min: 0.001182, max: 0.499968, N=24989 \n",
        "None\n",
        "Accuracy: 0.699347712994\n",
        "Penalty"
       ]
      },
      {
       "output_type": "stream",
       "stream": "stdout",
       "text": [
        " 0.4\n",
        "UNC: Mean: 0.295, Median: 0.312, Std.: 0.133, min: 0.000580, max: 0.499968, N=24989 \n",
        "None\n",
        "Accuracy: 0.698107167154\n",
        "\n"
       ]
      },
      {
       "output_type": "stream",
       "stream": "stdout",
       "text": [
        "\t0.3\t0.35\t0.4\t0.45\n",
        "0.1 =\t0.704\t0.579\t0.417\t0.220\n",
        "0.2 =\t0.631\t0.500\t0.346\t0.178\n",
        "0.3 =\t0.574\t0.445\t0.305\t0.156\n",
        "0.4 =\t0.529\t0.408\t0.276\t0.139\n"
       ]
      }
     ],
     "prompt_number": 39
    },
    {
     "cell_type": "code",
     "collapsed": false,
     "input": [
      "penalties1 = np.arange(.1, .5, .1)\n",
      "### Acording to user studies C=0.3, T=.4 -> 25 words = 32% neutrals, 10 words = 55% neutrals\n",
      "\n",
      "x_snip, target = get_data_size(imdb.test.data, imdb.test.target, 10, tk)\n",
      "resl2 = test_neutral_counts(imdb.train, {'bow':vct1.transform(x_snip), 'target':target},\n",
      "                           thres, penalties1, vct1, sent_tk, min_size=25)\n",
      "print_thresholds(thres, penalties1, resl2)"
     ],
     "language": "python",
     "metadata": {},
     "outputs": [
      {
       "output_type": "stream",
       "stream": "stdout",
       "text": [
        "Penalty 0.1\n",
        "UNC: Mean: 0.403, Median: 0.429, Std.: 0.085, min: 0.036256, max: 0.499988, N=24989 \n",
        "None\n",
        "Accuracy: 0.639961583097\n",
        "Penalty"
       ]
      },
      {
       "output_type": "stream",
       "stream": "stdout",
       "text": [
        " 0.2\n",
        "UNC: Mean: 0.384, Median: 0.409, Std.: 0.094, min: 0.019110, max: 0.499997, N=24989 \n",
        "None\n",
        "Accuracy: 0.64096202329\n",
        "Penalty"
       ]
      },
      {
       "output_type": "stream",
       "stream": "stdout",
       "text": [
        " 0.3\n",
        "UNC: Mean: 0.371, Median: 0.395, Std.: 0.101, min: 0.012055, max: 0.499997, N=24989 \n",
        "None\n",
        "Accuracy: 0.641362199368\n",
        "Penalty"
       ]
      },
      {
       "output_type": "stream",
       "stream": "stdout",
       "text": [
        " 0.4\n",
        "UNC: Mean: 0.360, Median: 0.384, Std.: 0.107, min: 0.008561, max: 0.499999, N=24989 \n",
        "None\n",
        "Accuracy: 0.641482252191\n",
        "\n"
       ]
      },
      {
       "output_type": "stream",
       "stream": "stdout",
       "text": [
        "\t0.3\t0.35\t0.4\t0.45\n",
        "0.1 =\t0.875\t0.785\t0.636\t0.371\n",
        "0.2 =\t0.827\t0.717\t0.540\t0.286\n",
        "0.3 =\t0.784\t0.661\t0.480\t0.250\n",
        "0.4 =\t0.746\t0.617\t0.437\t0.226\n"
       ]
      }
     ],
     "prompt_number": 38
    },
    {
     "cell_type": "markdown",
     "metadata": {},
     "source": [
      "## SRAA test\n"
     ]
    },
    {
     "cell_type": "code",
     "collapsed": false,
     "input": [
      "print thres\n",
      "print penalties\n",
      "### Acording to user studies C=0.01, T=.3 -> 25 words = 48% neutrals, 10 words = 58% neutrals\n",
      "x_snip, target = get_data_size(sraa.test.data, sraa.test.target, 25, tk)\n",
      "resl2 = test_neutral_counts(sraa.train, {'bow':vct2.transform(x_snip), 'target':target},\n",
      "                           thres, penalties, vct2, sent_tk, min_size=25)\n",
      "print_thresholds(thres, penalties, resl2)"
     ],
     "language": "python",
     "metadata": {},
     "outputs": [
      {
       "output_type": "stream",
       "stream": "stdout",
       "text": [
        "[ 0.3   0.35  0.4   0.45]\n",
        "[  1.00000000e-02   1.00000000e-01   1.00000000e+00   1.00000000e+01\n",
        "   1.00000000e+02]\n",
        "Penalty"
       ]
      },
      {
       "output_type": "stream",
       "stream": "stdout",
       "text": [
        " 0.01\n",
        "UNC: Mean: 0.246, Median: 0.260, Std.: 0.180, min: 0.000021, max: 0.499360, N=36609 \n",
        "None\n",
        "Accuracy: 0.803927995848\n",
        "Penalty"
       ]
      },
      {
       "output_type": "stream",
       "stream": "stdout",
       "text": [
        " 0.1\n",
        "UNC: Mean: 0.156, Median: 0.075, Std.: 0.168, min: 0.000000, max: 0.499973, N=36609 \n",
        "None\n",
        "Accuracy: 0.902045944986\n",
        "Penalty"
       ]
      },
      {
       "output_type": "stream",
       "stream": "stdout",
       "text": [
        " 1.0\n",
        "UNC: Mean: 0.083, Median: 0.008, Std.: 0.135, min: 0.000000, max: 0.499980, N=36609 \n",
        "None\n",
        "Accuracy: 0.940205960283\n",
        "Penalty"
       ]
      },
      {
       "output_type": "stream",
       "stream": "stdout",
       "text": [
        " 10.0\n",
        "UNC: Mean: 0.049, Median: 0.001, Std.: 0.108, min: 0.000000, max: 0.499898, N=36609 \n",
        "None\n",
        "Accuracy: 0.946625146822\n",
        "Penalty"
       ]
      },
      {
       "output_type": "stream",
       "stream": "stdout",
       "text": [
        " 100.0\n",
        "UNC: Mean: 0.044, Median: 0.002, Std.: 0.100, min: 0.000000, max: 0.499932, N=36609 \n",
        "None\n",
        "Accuracy: 0.959763992461\n",
        "\n"
       ]
      },
      {
       "output_type": "stream",
       "stream": "stdout",
       "text": [
        "\t0.3\t0.35\t0.4\t0.45\n",
        "0.01 =\t0.478\t0.464\t0.439\t0.053\n",
        "0.1 =\t0.267\t0.214\t0.142\t0.069\n",
        "1.0 =\t0.117\t0.089\t0.059\t0.029\n",
        "10.0 =\t0.063\t0.046\t0.031\t0.015\n",
        "100.0 =\t0.052\t0.038\t0.025\t0.012\n"
       ]
      }
     ],
     "prompt_number": 40
    },
    {
     "cell_type": "code",
     "collapsed": false,
     "input": [
      "x_snip, target = get_data_size(sraa.test.data, sraa.test.target, 10, tk)\n",
      "resl2 = test_neutral_counts(sraa.train, {'bow':vct2.transform(x_snip), 'target':target},\n",
      "                           thres, penalties, vct2, sent_tk, min_size=25)\n",
      "print_thresholds(thres, penalties, resl2)"
     ],
     "language": "python",
     "metadata": {},
     "outputs": [
      {
       "output_type": "stream",
       "stream": "stdout",
       "text": [
        "Penalty 0.01\n",
        "UNC: Mean: 0.285, Median: 0.422, Std.: 0.175, min: 0.000340, max: 0.499101, N=36609 \n",
        "None\n",
        "Accuracy: 0.748504466115\n",
        "Penalty"
       ]
      },
      {
       "output_type": "stream",
       "stream": "stdout",
       "text": [
        " 0.1\n",
        "UNC: Mean: 0.206, Median: 0.169, Std.: 0.177, min: 0.000003, max: 0.499980, N=36609 \n",
        "None\n",
        "Accuracy: 0.84350842689\n",
        "Penalty"
       ]
      },
      {
       "output_type": "stream",
       "stream": "stdout",
       "text": [
        " 1.0\n",
        "UNC: Mean: 0.134, Median: 0.035, Std.: 0.165, min: 0.000000, max: 0.499982, N=36609 \n",
        "None\n",
        "Accuracy: 0.899751427245\n",
        "Penalty"
       ]
      },
      {
       "output_type": "stream",
       "stream": "stdout",
       "text": [
        " 10.0\n",
        "UNC: Mean: 0.088, Median: 0.005, Std.: 0.143, min: 0.000000, max: 0.499985, N=36609 \n",
        "None\n",
        "Accuracy: 0.91335463957\n",
        "Penalty"
       ]
      },
      {
       "output_type": "stream",
       "stream": "stdout",
       "text": [
        " 100.0\n",
        "UNC: Mean: 0.081, Median: 0.008, Std.: 0.133, min: 0.000000, max: 0.499930, N=36609 \n",
        "None\n",
        "Accuracy: 0.931601518752\n",
        "\n"
       ]
      },
      {
       "output_type": "stream",
       "stream": "stdout",
       "text": [
        "\t0.3\t0.35\t0.4\t0.45\n",
        "0.01 =\t0.592\t0.583\t0.564\t0.049\n",
        "0.1 =\t0.396\t0.341\t0.236\t0.071\n",
        "1.0 =\t0.225\t0.177\t0.122\t0.061\n",
        "10.0 =\t0.135\t0.102\t0.067\t0.034\n",
        "100.0 =\t0.114\t0.084\t0.056\t0.028\n"
       ]
      }
     ],
     "prompt_number": 41
    },
    {
     "cell_type": "markdown",
     "metadata": {},
     "source": [
      "## Testing sentences tokenizer on SRAA \n",
      "\n",
      "Check that the sentences is split correctly for the subject line of the documents \n",
      "\n",
      "Check if 20 news groups has a subject"
     ]
    },
    {
     "cell_type": "code",
     "collapsed": false,
     "input": [
      "tmp = sent_tk.tokenize_sents(sraa.train.data[:10])\n",
      "\n",
      "for t in tmp:\n",
      "    print t[0]\n",
      "    print \"-\" * 20"
     ],
     "language": "python",
     "metadata": {},
     "outputs": [
      {
       "output_type": "stream",
       "stream": "stdout",
       "text": [
        "Subject: Re: <HELP>GPL crashes in win98\n",
        "Hi Eric,\n",
        "\n",
        "I'm using the intergraph reactor with the default rendition v1000\n",
        "driver.\n",
        "--------------------\n",
        "Subject: PP99 in UK?\n",
        "--------------------\n",
        "Subject: Re: next weekend at Suzuka (was: Possible to insert cars from Monoco...)\n",
        "Paul,\n",
        "\n",
        "Try the setups from this site.\n",
        "--------------------\n",
        "Subject: Re: Driving standards\n",
        "Sometimes if there is a large gap in speed people can misjudge braking and\n",
        "get over their heads.\n",
        "--------------------\n",
        "Subject: Real A320 simulators\n",
        "A while back in one of the aviation newsgroups, there was a story of a\n",
        "guy who\n",
        "for whatever reason, had to take the controls of his 757 airliner and\n",
        "land the\n",
        "plane.\n",
        "--------------------\n",
        "Subject: Re: Max framerate GPL\n",
        "On Sun, 04 Oct 1998 10:41:21 GMT,\n",
        "in msg <36174edd.30591353@news.sgi.net>,\n",
        "dafney1@sgi.net said :\n",
        "\n",
        ">Fooling around with different resolutions  and detail between\n",
        ">Stealth2 and V2 it appears frame rate maxes out at 36 fps.\n",
        "--------------------\n",
        "Subject: Re: Clicking noise\n",
        "It might be pinging.\n",
        "--------------------\n",
        "Subject: Re: ADDICTION -New NG\n",
        "\n",
        "--WebTV-Mail-87243911-1786\n",
        "Content-Type: Text/Plain; Charset=US-ASCII\n",
        "Content-Transfer-Encoding: 7Bit\n",
        "\n",
        "Rec.Airportbum.aviation,I expect lots of posts from this crowd.\n",
        "--------------------\n",
        "Subject: Re: PitsPatch99 for N99\n",
        "Where would one find these patches?\n",
        "\n",
        "--------------------\n",
        "Subject: TOCA 2 (PC) cheats for all tracks / cars\n",
        "can anyone give me the cheat codes for all tracks / all cars ?\n",
        "--------------------\n"
       ]
      }
     ],
     "prompt_number": 42
    },
    {
     "cell_type": "code",
     "collapsed": false,
     "input": [
      "tmp = sent_tk.tokenize_sents(data.train.data[:10])\n",
      "\n",
      "for t in tmp:\n",
      "    print t[0]\n",
      "    print \"-\" * 20"
     ],
     "language": "python",
     "metadata": {},
     "outputs": [
      {
       "output_type": "stream",
       "stream": "stdout",
       "text": [
        ": Does anyone out there have any info on the up and coming fall comdex '93?\n",
        "--------------------\n",
        "...\n",
        "--------------------\n",
        "[stuff deleted]\n",
        "\n",
        "  Not only do you lose AccuColor, you also had to give up 1280x1024\n",
        "non-interlaced mode, the wider 135 Mhz bandwidth and the Mac\n",
        "and BNC inputs of the 5FG.\n",
        "--------------------\n",
        "I recently purchased a Diamond Stealth 24 Video card\n",
        "and received the wrong drivers.\n",
        "--------------------\n",
        "If anyone has any experience with the ALR ProVEISA 486DX2 system I would \n",
        "be interested to hear your impressions of it, and of ALR in general.\n",
        "--------------------\n",
        "I have a like new Hayes JT FAX for sale $125 or offer or trade!\n",
        "--------------------\n",
        "\n",
        " :Because of some contract, IBM is not allowed to sell its\n",
        " :486 chips to third parties, so these chips are unlikely to become\n",
        " :available in any non-IBM machines.\n",
        "--------------------\n",
        "-------------------------------------------------------------------------\n",
        "Anonymous,\n",
        "\n",
        "I saw a posting about the choice between 80486DX-50 and a 80486DX2-50.\n",
        "--------------------\n",
        "Due to the resolution and size it is in 14 parts.\n",
        "--------------------\n",
        "Please reply via EMail...\n",
        "--------------------\n"
       ]
      }
     ],
     "prompt_number": 43
    },
    {
     "cell_type": "code",
     "collapsed": false,
     "input": [
      "rndx = np.random.RandomState(2)\n",
      "inx = rndx.randint(0,25000,5000)\n",
      "for d in imdb.train.data[inx]:\n",
      "    if \"starts with\" in d:\n",
      "        print d\n",
      "        print \"=\" * 20"
     ],
     "language": "python",
     "metadata": {},
     "outputs": [
      {
       "output_type": "stream",
       "stream": "stdout",
       "text": [
        "It all starts with a suicide. Or is it a car crash? I guess it all depends on whether you choose to start at the beginning or the end. Director Gabriele Muccino gives you the ability to enter his new film Seven Pounds whichever way you prefer as he starts at the end and works his way back to the beginning, showing us the course of events that led us to that heartbreaking 911 call. This is one powerful movie; maybe that is because I'm a softy when it comes to dramas of this ilk, dripping with weighty moments and chock full of devastating performances, but either way, a film works best when it truly touches me, when it lingers in the back of my head hours after leaving the theatre. And this is from the team that brought us the overrated, sappy, and not all that redeeming Pursuit of Happiness, so I'll just say my anticipation was closely guarded for a big letdown. With all that, though, I was with Seven Pounds from the opening frame all the way until the credits rolled. Even though you figure out what Will Smith's character is doing, that secret mission he is trying to complete, it is the way in which he fulfills his penance that shines bright and leaves you with a tear-filled smile at the end.<br /><br />Our entry point is a bit jarring, leaving us off-kilter trying to comprehend what is going on. Smith's Thomas has lists of names, one of people we don't know and one of people it appears he is attempting to follow and audit. Working with the IRS allows him access to these strangers for a glimpse into their lives in order to see whether they are worthy of a gift he has the power to give them\u00c2\u0097a gift that could completely alter their circumstances. He calls an old childhood friend (Barry Pepper) and reminds him to do what it is he promised, to not second guess his decision because there is no changing his mind. Even in a role as small as Pepper's, you can't help but feel the utter grief held aloft in the background, hanging above everyone's head. It is his character, seen maybe three times, that really encompasses the primal level of emotion being dealt with. His breakdowns, whether tear-streaked and composed or head in hands convulsions, show the bond these two men have is one that stands the test of time and any circumstance to come its way.<br /><br />After that phone call, begins the journey to meet new people. Thomas is on some sort of mission to help alleviate the monetary troubles of mortally ill folk, trying to stay afloat despite the heavy burden of medical bills and survival. This progression takes many turns, from a \"blind, vegan, meat salesman\" that he berates to see whether he can get him to explode; to a phase two donor-necessity heart patient, unable to print her line of stationary, or even run with her Great Dane Duke; to an abused and scared Latino mother of two, too afraid to leave her boyfriend; to a dying hockey coach that instills faith in a downtrodden youth community; to a little boy in need of a bone marrow transplant. There are people who live with the pain and inevitable future with a disposition of hope and wanting to cherish each day, and there are those attempting to beat it by cutting corners and spending all their money at the expense of those who need it to go out in style. Why it is up to Thomas to weed through the mix and find those that deserve his \"gift\" is unknown at first, as is why this man, seen in flashbacks as an aeronautical engineer with a beautiful wife and huge beachfront home, is now living in a motel, driving a beat-up car, going door to door in order to audit for the IRS. As he says, though, \"he kind of stumbled into the job\".<br /><br />Smith's quest as Thomas is a long and painful one, tempered with moments of clarity and honest compassion. As a man with the means to help, he takes his job seriously, crossing off people undeserving and testing those he believes are worthy to the nth degree. If that means he must yell and make fun of them, he must do it. At every step, though, you see the suffering in his eyes, the pain eating away at his soul, taking each step towards his fate, one as a saint of redemption, not only for those he wants to help, but for himself as well. It is an award-worthy performance and I only wish Smith would do more dramas like this instead of his blockbuster action summer tentpoles, because, while they are fun, this guy is too good for them. The man better win an Oscar before he is done or it will be a travesty\u00c2\u0097at least in my mind.<br /><br />The rest of the cast is stellar across the board. Woody Harrelson as the blind salesman is pitch-perfect handicap with a joy of life. His shy smile and belief in humanity comes across throughout, whether on the phone being yelled at, sitting in a diner eating his pie, or at the piano in the park, playing for all who will listen. Elpidia Carrillo, as the abused mother, is fantastic, showing the hard evolution from prideful to scared to completely overwhelmed by the kindness of a stranger, allowing her family to finally be safe. And Rosario Dawson shines as the \"once hot\" young woman, beaten and broken by lengthy hospital stays, all but given up on living life to find love and happiness. It is the introduction of Smith's Thomas that opens her eyes again to be a woman, a free-spirited sexual creature that can just live without fear of wondering what day will be her last.\n",
        "====================\n",
        "Back in 1997, do I remember that year: Clinton bans cloning research, the unfortunate death of Princess Diana, the Marlins won the world series and a woman gave birth to septuplets. This was also the big year in the release of Titanic, one of the biggest films of all time: a tale about the ship of dreams, about a boy and a girl who fall in love but are torn apart by their social class and at the height of their emotional commitment the ship meets with disaster. I don't think anybody could have expected Titanic to be as HUGE as it was, the movie was bigger than life and had millions of fans, 85% of them being teenage girls, I was 12 years old at the time, and of course saw the movie multiple times. It was the film that made me believe that the love that Jack and Rose shared was so real and beautiful. At the time I felt that Titanic could do no wrong, of course I grew up and didn't watch the film since I was 14, a couple years ago I saw the film on DVD for 5.99 and figured that it was a good price and to see what I thought about the movie now. Was it worth the hype? Was it really the best movie of all time? Was that Leonardo's real nose? OK, I know that's silly to say, but I did re-watch the film. Being completely honest here, Titanic is a great movie, best movie of all time, no, just depends on your idea of a good movie, but Titanic delivered in romance, humor, disaster, emotions and never let us go on this maiden voyage.<br /><br />The film starts with Brock Lovett and his team exploring the wreck of the RMS Titanic, searching for a necklace set with a valuable blue diamond called the Heart of the Ocean. Unsuccessful, they instead discover a drawing of a young woman reclining nude, wearing the Heart of the Ocean, dated the day the Titanic sank. 101-year-old Rose Dawson Calvert learns of the drawing, and contacts Lovett to inform him she is the woman in the drawing. She and her granddaughter Elizabeth \"Lizzy\" Calvert visit Lovett and his skeptical team on his salvage ship. When asked if she knew the whereabouts of the necklace, Rose Calvert recalls her memories aboard the Titanic, revealing for the first time that she was Rose DeWitt Bukater. In 1912, the upper-class 17-year-old Rose boards the ship with her fianc\u00c3\u00a9, Cal Hockley and her mother, Ruth DeWitt Bukater, both of whom stress the importance of Rose's engagement to Cal since the marriage will mean the eradication of the Dewitt-Bukater debts: while they have the outward appearance of the upper-class, Rose and her mother are financially broke. Distraught and frustrated by her engagement to the controlling Cal and the pressure her mother is putting on her to go through with the marriage, Rose attempts suicide by jumping from the stern. Before she leaps, a drifter and artist named Jack Dawson intervenes. Jack and Rose strike up a tentative friendship as she thanks him for saving her life, and he shares stories of his adventures traveling and sketching; their bond deepens when they leave a stuffy first-class formal dinner of the rapport-building wealthy for a much livelier gathering of Irish dance, music and beer in third-class. But after Cal's servant informs him of Rose's whereabouts', Rose is forbidden from seeing Jack again. However, after witnessing a woman encouraging her seven-year-old daughter to behave like a \"proper lady\" at tea, Rose defies him and her mother, asking Jack to sketch her nude and wearing only the Heart of the Ocean, an engagement present from Cal. After a beautiful moment together in the very first backseat fun time, they go to the deck of the ship.<br /><br />They then witness the ship's fatal collision with an iceberg. After overhearing the ship's lookouts discussing how serious the collision is, Rose tells Jack they should warn her mother and Cal. Meanwhile, Cal discovers Rose's nude drawing and her taunting note in his safe, so he frames Jack for stealing the Heart of the Ocean by having Lovejoy plant it in Jack's pocket. Upon learning Cal intends to leave Jack to die below deck, Rose runs away from him and her mother to rescue him. Jack and Rose return to the top deck. Cal and Jack, though enemies, both want Rose safe, so they persuade her to board a lifeboat. But after realizing that she cannot leave Jack, Rose jumps back on the ship and reunites with Jack in the ship's first class staircase. Jack and Rose return to the top deck, the lifeboats have gone, and the ship finally goes down into the freezing Atlantic taking Jack and Rose down.<br /><br />So does Titanic live up to it's hype? I still say that this is a great movie to watch, I think that there were and still are quite a few haters that for some reason just want to trash the movie because it had won a ton of awards and everyone was in love with the movie. But it has great acting, amazing effects, a well-written story and still looks flawless. Love it or hate it, you have to admit this movie didn't get a lot of hype just because of Leo's baby face or Kate's amazing ability to cry on sight, this film is something special. It will always hold a special place in my heart, it has too seeing that I saw this film 8 times in the theater when it was released. But all that aside, I do recommend this movie, it's a great one and sure to go down in the classics one day.<br /><br />10/10\n",
        "====================\n",
        "First week of May, every year brings back the memories of the holocaust, through movies on televisions. Among many movies they showed, this was the one I had not seen.<br /><br />The story is about Hilter's life and how he came to power. It starts with his childhood and ends with his holding the top most position of power in Germany.<br /><br />The movie was earlier presented as a TV series and later converted into a movie format. Scottish actor Robert Carlyle plays Adolf Hitler with great guts, conviction and flare to give a real portrayal of this man.<br /><br />It is a good screenplay and narrative, that educates the audiences on the main events that lead Hitler into power, and also tries to show the probable psychological make up of Hitler. The movie is a biased viewpoint of the director Christian Duguay \u00c2\u0096 who shows Hitler as a one-track, menacing, angry, and shouting person \u00c2\u0096 who had such a strong hold on the Germans and people around him. Hitler is not shown as someone having charishma and attraction, and there the movie fails to convince Hitler's portrayal.<br /><br />Even though the venture was for TV, all the ingredients of production are first class and at par with any main stream movie. The production value, sets, costumes, etc. were perfect.<br /><br />There is a lot of criticism of this movie, in the authenticity about the historic events that is presented. But still the movie is gripping, every engaging and entertaining. Robert Carlyle overpowers and dominates the screen as no one else does. He is amazingly good \u00c2\u0096 brilliant! I would have liked a more balanced view of Hitler's life, because I think, Hitler was able to bring out the dormant feelings of million of Germans and it is not only him who should be blamed for the holocaust. As I have told several times, that \u00c2\u0096 very sadly - our society loves to garland or prosecute one person, as a representative of the society's good or evil respectively.\n",
        "====================\n",
        "This movie was the worst i've ever seen.<br /><br />It doesn't seem to have a plot but the time you realize this is far beyond the beginning of the movie so you have to watch the shut for a long time to recognize the total incompetence of the director, aka the sloth that plays the tampon chick in the movie, and we do not believe the Willem Dafoe in this movie, he's a clone, because the real Dafoe, like we know from \"apocalypse now\" and \"the boon dock saints\", would never agreed to such a script.<br /><br />Duh, (Da)foe wrote this bill shut together with his twenty years minus baby. This movie starts with the credits of the two main characters, Dafoe and Colagrande, and then the two script writers, Dafoe and Colagrande, and then the director, Colagrande.<br /><br />Bottomline (the story); Widow meets guy, guy bangs widow, widow smashes windscreen with guy who banged her.<br /><br />Title in Netherlands; The black widow (different title, same bullshit).<br /><br />DO NOT WATCH THIS MOVIE!!! It's a total waist of time!!!\n",
        "====================\n",
        "Vampires Vs. Zombies starts with the breaking news that the unidentified disease that is spreading across America leaves the sufferer with homicidal & cannibalistic tendencies... Travis Fontaine (C.S. Munro) & his teenage daughter Jenna (Bonny Giroux) listen to the radio as they drive along the isolated backwoods roads to try & escape the disease when Travis runs over a guy who I assume is meant to be a zombie. Slightly further down the road he stops to help Julia (Brinke Stevens) & her teenage daughter Carmilla (Maratama Carlson) who are waving at the side of the road, at this point there is also a third teenage girl named Tessa (Melanie Crystal) sitting in the back of Julia's car bound & gagged. To me this situation would seem strange but Travis, like the trooper he is, takes it all in his stride & agrees to 'take' Carmilla off Julia's hands &, well I don't know actually. So, with a complete stranger, Travis drives off leaving Julia & Tessa. Carmilla seems like a nice girl but she turns out to be a Vampire & she likes to bite people & turn them into Vampires, oh & she's partial to a bit of lesbianism too. Travis, Carmilla & Jenna continue to travel while some guy who calls himself The General (Peter Ruginis) who appears to be some sort of Vampire killer & probably has something to do with it all but the film is such a mess it doesn't really matter & I really don't know how to carry on this plot outline as my head hurts just thinking about it...<br /><br />Co-edited, co-executive produced, written & directed by the supremely untalented Vince D'Amato Vampires Vs. Zombies is one of the worst horror films ever & therefore one of the worst films ever period. The script by D'Amato was apparently based on a classic story entitled 'Carmilla' by Sheridan Le Fanu (he should sue) & is an absolute mess, the holes in the plot & logic are so big you could drive a tank through them! What is the disease that turns people into zombies? Why is Carmilla a Vampire? Who is Julia to her? Who the hell is The General? What does he want? Where are Travis & Jenna going? How can Travis run a man over & yet not have the slightest bit of human emotion over it? What's with the mental ward at the end? There are also some confusing & unnecessary dream sequences just to annoy the viewer even more. There are just so many things wrong with this film, the narrative doesn't make a blind bit of sense, the concept is terrible & never really explained properly plus it's incredibly boring. I have not one positive thing to say about Vampire Vs. Zombies, not one. Forget about any Vampires fighting Zombies because it just doesn't happen, tell me again why is this film called Vampires Vs. Zombies?<br /><br />Director D'Amato has served up one of the most incompetent, rubbishy, badly made, poorly thought out & excruciatingly painful viewing experiences ever made. Vampires Vs. Zombies really has no redeeming qualities at all, there is not one single aspect that I can praise. The gore is really fake looking, there are some blood splats which look like red water, some really cheap staking effects & a half decent climax where the zombies feast on Carmilla's & Jenna's intestines, this fairly gory scene is probably the best part of the whole wretched film but it only lasts for a couple of minutes & in no way makes up for the other turgid 85.<br /><br />The budget on Vampires Vs. Zombies must have been small, in fact did it even have a budget because most of it is set on a road in a couple of cars. This is one of the most badly made horror films it's been my misfortune to watch, the entire thing just sucks. The acting is predictably awful, & I mean awful.<br /><br />There isn't much else left to say, Vampires Vs. Zombies is easily one of the worst films ever made. The (V) next to the title on the IMDb's main page for Vampires Vs. Zoimbies indicates that it went straight to video, well that's far too good for this pile of crap as it deserves to go straight on the nearest fire.\n",
        "====================\n",
        "One of the worst films I have ever seen. Got so bored that I switched it off midway through to watch the news. When I switched it back on, I fell asleep. The film starts with a dream, continues with a dream, and ends with a dream. Then there are a few more dreams in between. Come on, what is supposed to keep me interested in that? A film needs to have a reason to be interesting. The minute you felt the film was only a dream is when any sensible film-goer switches off. Ever had someone insist on telling you their dreams and what it means to them? This is it!!!<br /><br />Absolutely awful.\n",
        "====================\n",
        "This is, by all categories, the best movie I have ever seen. Forget Hollywood - their movies always sucked - this is art! Moon Child's story starts with Kei - a Japanese vampire, who loathes what he has become and lives in denial. His wish for final death leads him to Mallepa, where refugees from several Asian countries live. Here, he meets Sho, an orphan living on the street.<br /><br />From here, the movie is an intense experience which bases on the visual and emotional part of the movie. It has everything; you laugh, you cry, you get angry, excited, sad, happy... Never has a movie touched me the way this movie do. And the actors are amazing - never have I heard anyone speak so many languages without it sounding strange. A big praise to the editor for creating this masterpiece...<br /><br />A last comment on this brilliant movie, is that it stars Gackt (ex-vocalist of Malice Mizer) and Hyde (vocalist of L'Arc~en~ciel) in excellent roles as Sho and Kei. I am amazed at how Gackt can change his way of speaking and acting depending on what age he is acting out.<br /><br />This is a must see. If you never see any films, see Moon Child, the Crow (Brandon Lee) and the newly released masterpiece Final Fantasy VII - Advent Children. All in their original languages, of course!\n",
        "====================\n",
        "Wow, the plot for this film is all over the place! There is so much plot and so many things that happen that it practically made my head spin!! And, as a result, none of it seemed particularly believable.<br /><br />The movie starts with Kay Francis as a housewife living in a small town. She's had some experience with local theater and has ambitions of going to Broadway. When a big-time actor arrives in town, she pursues him in hopes that he can give her a career boost. But, her husband is worried about shenanigans--as this actor is a cad. So, the hubby bursts in on them and hits the actor--and the actor dies! As a result, he's convicted of First Degree Murder!!! Not Manslaughter, but Murder 1! Now, pregnant and in need of funds, Kay goes to New York. But Broadway jobs aren't to be found, so she's forced to take any job--even Burlesque. Unable to adequately care for her young daughter, she gives it to another woman to raise. However, eventually she does find a job in a real Broadway play and everything looks rosy. But, the jealous diva starring in the play hates her for some inexplicable reason and forces her to be thrown off the play. Despondent, she makes her way to England and becomes a real star. Years later, she returns to New York to get her kid--but the child is older and thinks the woman caring for her is her real mother. At the same time, her husband's lawyer now thinks that if he gets $10,000 he can get the man out of prison. As another reviewer wrote, is this to bribe people?! How can $10,000 get him out otherwise--maybe it will buy a helicopter so they can fly into the prison yard and scoop him up!! Wow--this is enough for 2 or 3 films! And, all this occurs by the 45 minute mark!!! Believe it or not, there's quite a bit more to it. If you really care, see it yourself to find out how it all unfolds.<br /><br />This is sort of like 'kitchen sink writing'--throwing in practically everything and hoping, somehow, it will all work. Unfortunately, the film turns out to be hopelessly unbelievable and mushy despite Ms. Francis' best efforts. It's the sort of film no one could really have saved thanks to a 2nd-rate plot. It's almost as if someone just took a few dozen plot elements, threw them into a box and then began randomly picking them in order to make a movie!! Overall, unless you are a die-hard Kay Francis fan or love anything Hollywood made in the 1930s, this one is one you can easily skip. Not terrible but certainly not good.<br /><br />By the way, the child who plays Francis' daughter upon her return to New York (Sybil Jason) really was terrible. I think she was supposed to be...I think.\n",
        "====================\n",
        "Put yourself into Carla's shoes. She is an overworked, unappreciated administrative drudge who is invisible. You know her: she's trained three of her last three bosses, knows where all of the bodies are buried and might even look back at you in the mirror when you brush your teeth. Always having time for another thankless task and does it better than most despite a serious disability, she has the desk on the way to the restroom that becomes the repository of half-finished cups of coffee begging to be spilled. What? You don't want to hear it? Well, she can't and neither can you until your hearing aid is in place. Prepare to experience life from the perspective of the hearing impaired.<br /><br />Carla (Emmanuelle Devos) needs a change in her life. Work is leading nowhere; friends are relying on her to meet their domestic needs and the only way out starts with a collapse that goes virtually unnoticed. She won't take a vacation - a contract is going critical - so the only alternative is to hire an assistant. Carla submits requirements that convey her real needs: a 'well-groomed' man. This brings an applicant for approval that reminds us that we should be careful with our wishes. <br /><br />Paul (Vincent Cassell) does everything wrong from the start of his job interview and his getting hired clearly demonstrates Carla's interest in his non-job-related qualities. She sees potential in this former thief and as the story unfolds, their relationship grows in a very unusual pattern of co-dependence. <br /><br />Paul has a difficult transition returning to the world outside of prison walls and finds himself in another sort of prison: one of the office variety and another of indentured servitude to pay off an old debt. His skills as a thief help Carla win a political battle in the office. But Paul sees a grander opportunity with Carla's skill in lip reading and draws her even further into a world of intrigue.<br /><br />This is a brutal film noir unrated and probably suitable for older teens. Carla grows more powerful, professionally as well as personally, as the story progresses and her disability gives her clear advantages over the rest of us. She grows as a woman discovering her sensual side while she uses her resources to overcome the obstacles of competing in a man's world.<br /><br />The two main characters are meant for each other, in a strange way. Without Paul, Carla will remain in her role of a doormat. She has our sympathy, hopes and best wishes even if she doesn't make the best decisions along the way. <br /><br />You will hear the world through Carla's ears, from awkward adjustments of your hearing aid, muffled sounds, all but inaudible without it to relatively distinct voices when you can see who's talking. With one major sense disabled, we see Carla's heightened intuitive power to compensate. And we can all use that sense to hear not only what people say, but also what they really mean.\n",
        "====================\n",
        "Somebody owes Ang Lee an apology. Actually, a lot of people do. And I'll start. I was never interested in the Ang Lee film Hulk, because of the near unanimous bad reviews. Even the premium cable channels seemed to rarely show it. I finally decided to watch it yesterday on USA network and, wow....<br /><br />SPOILERS FOR ANG LEE'S HULK AND THE INCREDIBLE HULK <br /><br />Was it boring! I almost didn't make it through Ang Lee's Hulk. Eric Bana was expressionless, Nick Nolte was horrible, Sam Elliott was unlikeable (and that's no fun, he's usually a cool character). In fact, I honestly think they chose Eric Bana because his non-descript face was the easiest to mimic with computer graphics - and it was clear that the Ang Lee Hulk was meant to facially resemble Bruce Banner in his non-angry state. When Hulk fought a mutant poodle I was ready to concede Hulk as the worst superhero movie ever.<br /><br />But then something happened. About 3/4 of the way through this tedious movie, there was a genuinely exciting and - dare I say it - reasonably convincing - extended action scene that starts with Hulk breaking out of a containment chamber in a military base, fighting M1 tanks and Comanche helicopters in the desert, then riding an F22 Raptor into the stratosphere, only to be captured on the streets of San Francisco. This was one of the best action sequences ever made for a superhero movie. And I have to say, the CGI was quite good. That's not to say that the Hulk was totally convincing. But it didn't require much more suspension of disbelief than is required in a lot of non-superhero action movies. And that's quite a feat.<br /><br />Of course, the ending got really stupid with Bruce Banner's father turning into some sort of shape-shifting villain but the earlier long action sequence put any of Iron Man's brief heroics to shame. And overall, apart from the animated mutant dogs, it really did seem like the CGI in Hulk tried hard to convince you that he was real and really interacting with his environment. It was certainly better than I expected.<br /><br />OK, but what about The Incredible Hulk? Guess what... It's boring too! It has just a few appearances by the Hulk and here's the thing - the CGI in this movie is horrible. Maybe the Hulk in Ang Lee's version looked fake at times and cartoonish at others - but it had its convincing moments also. The Incredible Hulk looked positively ridiculous. It had skin tone and muscle tone that didn't even look like a living creature, just some sort of computer-generated texture. It was really preposterous. The lighting, environment and facial effects didn't look 5 years newer than Ang Lee's, they looked 10 years older. And there really is no excuse for that. We truly are living in an era where computer programmers can ruin a movie just as thoroughly as any director, actor or cinematographer ever could.<br /><br />Worse, the writer and director of this movie seemed to learn almost nothing from Ang Lee's \"failure\". All the same mistakes are made. Bruce Banner is practically emotionless. The general is so relentlessly, implausibly one-dimensional that he seems faker than the Hulk. The love interest is unconvincing (I have to give Liv Tyler credit for being more emotional than Jennifer Connelly, though both are quite easy on the eyes). Tim Blake Nelson overacts almost as much as Nick Nolte, even though he's only in the movie for a few minutes. The Hulk really doesn't do much in this movie, certainly not any more than in Ang Lee's version. The Incredible Hulk was slightly more fast-paced, but since nothing really happened anyway that's not worth much. Oh yeah, the villain is every bit as phony looking as the Hulk. He's actually much more interesting as a human than as a monster. <br /><br />This is how I can definitively say Ang Lee's version was better: if I ever have the chance to see Ang Lee's version again, I might be able to sit through it to see the good action sequences, or else to try to appreciate the dialogue a little more (more likely I'd just fast forward to the good parts). But there is absolutely not a single scene in The Incredible Hulk that is worth seeing once, let alone twice. It is truly at the bottom of the heap of superhero movies. The cartoonish CGI is an insult to the audience - at least in Ang Lee's version it seems like they were trying to make it realistic (except for the giant poodle, of course).<br /><br />It is absolutely mind-boggling how the filmmakers intended to erase the bad feelings associated with Ang Lee's Hulk by making almost exactly the same movie. <br /><br />It is to Edward Norton's credit that he seems to be distancing himself from this film.\n",
        "====================\n",
        "A very silly movie, this starts with a soft porn sequence, ventures into farcelike comedy in the art gallery, adds a shocker of a discovery in the hotel room then introduces a random murder for no obvious reason.<br /><br />What follows is bizarre and surreal (the stopwatch scene in particular is exquisitely unnecessary), culminating in a revelatory \"twist\" ending which is as obvious as it is unfair on the viewer (see the trivia section for precisely why it's deliberately unfair).<br /><br />The movie goes out of its way to be offensive to as many groups as possible - transsexuals, the insane, and the wonderful \"Huggie Bear\"-style racial stereotyping on the subway - and condescendingly treats the viewer like an idiot in the closing scenes, as characters endlessly explain to one another in great detail and over and over again what just happened in the film. Though the background female characters in the restaurant scene at the end are a joy to watch.<br /><br />In fact, the whole movie is a joy to watch: Despite its many, many flaws, the whole package just, well, works.\n",
        "====================\n",
        "La Chute de la Maison Usher, or The Fall of the House of Usher as it's know amongst English audiences, starts with Allan (Charles Lamy) heading for the Castle of his good friend Sir Roderick Usher (Jean Debucourt) who sent him a letter saying that his wife Madeleine is ill. Once there Allan finds Madeleine very sick & her husband Roderick determined & almost obsessed to paint her portrait. As Roderick paints Madeleine becomes weaker & weaker almost as if the picture is draining the life out of her, Allan tries to help his friend but tragedy soon strikes...<br /><br />This French production was co-written, produced & directed by Jean Epstein & was the second of two filmed The Fall of the House of Usher adaptations during 1928, honestly I don't know the original novel was published in 1839, I mean you wait 89 years for a filmed adaptation & two come along at the same time! Anyway, I feel that I have a bit of a problem here as I have read plenty of positive comments about La Chute de la Maison Usher & maybe I'm not the right sort of person to write a comment on it but I have to say that it simply didn't do anything for me. I didn't like it, obviously the first thing to say is that this is a silent film & therefore it relies on imagery but even so I thought the story was weak, I thought as a whole the film was boring & dull even though it only lasts for about an hour & it really didn't do anything for me at all. La Chute de la Maison Usher was made almost 80 years ago & that is literally a lifetime, the world, cinema & tastes have moved on a lot since then & I found no enjoyment in this film. I feel this film has dated badly & probably wasn't that good to start with anyway. I never felt for any of the character's, I never cared about anything that was happening & I found it all rather tedious to sit through, I'm sorry if I've offended any silent film fans out there but that's the way I felt.<br /><br />Director Epstein does an OK job, a lot of people ramble on about the imagery in La Chute de la Maison Usher & I will freely admit it definitely has it's moments but I thought they were few & far between. Shots of people's mouths moving & not actually hearing what they say just seemed weird to me, I didn't like the music & the version I saw kept the original French language insert cards which were narrated by guy with the most awful sounding thick French accent which was also off putting. Based on the story by Edgar Allen Poe I doubt this has much resemblance to it apart from one or two basic elements, stick with the fantastic Roger Corman House of Usher starring Vincent Price.<br /><br />Technically the film was OK considering when it was made. You simply cannot tell about the acting as no one ever speaks although the film is full of unnatural exaggerated movements to try & suggest emotions or reflect what's happening which works to an extent but after a while just looks a bit daft.<br /><br />La Chute de la Maison Usher will appeal to those who crave a bygone era, who live in caves or who are stuck in the past, for me I like my films to have a story, not to bore me & to have sound & I'm sorry if that last statement makes me sound like an uneducated idiot but that's how I feel. The world has moved on since 1928 & for the better.\n",
        "====================\n",
        "It's easy to forget, once later series had developed the alien conspiracy plot arc more, that once upon a time, The X-Files' wrote episodes like \"GenderBender\" and \"Fearful Symmetry\", where the aliens weren't all little grey men or mind-control goop, but could actually surprise you.<br /><br />\"Fearful Symmetry\" starts with an \"invisible elephant\" - actually an elephant somehow dislocated in space and time, not a mile away from \"The Walk\" - and ends with a pregnant gorilla being abducted. And it's very much an episode of wonderful moments. The subplot is annoyingly worthy - yeah, we get it, zoos are bad except when they're not - but the ideas that within it are fascinating, visually powerful, and very memorable, and it covers an angle on abduction that is largely overlooked - why *would* humans be the only things that aliens are interested in?<br /><br />In the end, it wasn't an instant classic, but it was enjoyable viewing while it lasted, again, very memorable, and mainly, it's something that you couldn't imagine many other shows doing.\n",
        "====================\n",
        "Without being one of my favorites, this is good for being a change of pace... even if only for a few minutes.<br /><br />It all starts with a big fight between Tom, Jerry and Spike (who is renamed \"Butch\" here). They're all beating each other, but suddenly Spike makes a heroic and admirable decision: he stops the fight and suggests that they all should be friends. So, all of them sign a peace treaty and become friends... which isn't going to last for long.<br /><br />Meanwhile, the three become affectionate, patient and kind to each other. They even save each other when one of them is in danger of life. The relationship goes nothing but excellent, until a very big steak appears and they all become greedy. The three are guilty to return to their usual fights and rivalries.<br /><br />But still... to see Tom, Jerry and Spike as friends is truly a delightful and grateful experience, even if only for a while.<br /><br />Oh, by the way, as a curious fact, two songs from \"The Wizard of Oz\" are played here in instrumental versions: \"We're off to see the Wizard\" and \"Somewhere over the rainbow\".\n",
        "====================\n",
        "When we talk Hollywood Hotel we could be talking about one of three things, the actual hotel, the radio program, and this film which was partially inspired by the first two. Dick Powell was the host of the Hollywood Hotel program on CBS radio network in which Louella Parsons dished out the weekly scoop on the stars.<br /><br />Powell and Parsons debuted the Hollywood Hotel program in 1934 so by 1937 it had its fair share of the radio audience. Powell hosted, sang, and kibitzed with Louella and her movie star guests. With the power she had with her column, she was able to get the various stars to go on and plug their latest films for nothing.<br /><br />Then the American Federation of Radio Artists stepped in and demanded she pay wages accordingly and they won the case. That ended the Hollywood Hotel program in 1938. Of course both Powell and Louella went on to other radio venues. The whole story is covered in the Tony Thomas book, The Films Of Dick Powell.<br /><br />But before the plug was pulled this film came out from Powell's home studio of Warner Brothers inspired by the radio program. Powell plays a singer/saxophonist with the Benny Goodman band who gets signed to a Hollywood contract. But when he gets out to Hollywood he gets himself tangled up with an egotistical film star Lola Lane, her lookalike double real life sister Rosemary Lane, and a ham actor in Alan Mowbray.<br /><br />When Mowbray is called upon to sing in a Civil War epic he's making with Lola Lane, it's Powell's voice they use. Then Mowbray develops a Lina Lamont problem when he's asked to go on the Hollywood Hotel radio program, broadcast from the Hollywood Hotel. That's got the studio in a tizzy. Let's say the problem isn't solved the way it is Singing In The Rain, but Powell's manager Ted Healy proves to be resourceful.<br /><br />Richard Whiting and Johnny Mercer provide a really nice score for the film. The big hit song comes right at the beginning as the Benny Goodman band with scat singing Johnnie Davis sing Hollywood's anthem, Hooray for Hollywood. My favorite however is Powell and Rosemary Lane singing, I'm Like A Fish Out Of Water. Just listening to Johnny Mercer's lyrics about Ginger Rogers running the Brooklyn Dodgers or Sally Rand without her fan, it's a compendium of American popular culture in the Thirties.<br /><br />Busby Berkeley does the choreography here and while the film doesn't have the soaring imaginary stuff that his earlier work with Warner Brothers has, the numbers are well staged. Berkeley's big moment is in a drive-in eatery where Powell and Healy have been forced to take jobs. The number starts with Benny Goodman broadcasting from the Hollywood Hotel doing Let That Be A Lesson To You and then at the drive-in Powell, Lane and the entire place start joining in song to the exasperation of owner Edgar Kennedy. And you know what you can expect from Edgar Kennedy exasperation.<br /><br />Benny Goodman gets to show why he was named the King Of Swing when the band with drummer Gene Krupa and xylophonist Lionel Hampton as part of his ensemble. That together with Frances Langford singing as well. And possibly the last surviving cast member of the group was a fellow who had a small bit as a radio announcer. He died in 2004, but not before he became the 40th President of the United States. Ronald Reagan always credited Dick Powell and Pat O'Brien as being the two guys on Warner Brothers who were the most helpful to an eager young player looking to make his mark.<br /><br />Hollywood Hotel is one delightful and entertaining motion picture, dated, but charmingly so.\n",
        "====================\n",
        "La Chute de la Maison Usher, or The Fall of the House of Usher as it's know amongst English audiences, starts with Allan (Charles Lamy) heading for the Castle of his good friend Sir Roderick Usher (Jean Debucourt) who sent him a letter saying that his wife Madeleine is ill. Once there Allan finds Madeleine very sick & her husband Roderick determined & almost obsessed to paint her portrait. As Roderick paints Madeleine becomes weaker & weaker almost as if the picture is draining the life out of her, Allan tries to help his friend but tragedy soon strikes...<br /><br />This French production was co-written, produced & directed by Jean Epstein & was the second of two filmed The Fall of the House of Usher adaptations during 1928, honestly I don't know the original novel was published in 1839, I mean you wait 89 years for a filmed adaptation & two come along at the same time! Anyway, I feel that I have a bit of a problem here as I have read plenty of positive comments about La Chute de la Maison Usher & maybe I'm not the right sort of person to write a comment on it but I have to say that it simply didn't do anything for me. I didn't like it, obviously the first thing to say is that this is a silent film & therefore it relies on imagery but even so I thought the story was weak, I thought as a whole the film was boring & dull even though it only lasts for about an hour & it really didn't do anything for me at all. La Chute de la Maison Usher was made almost 80 years ago & that is literally a lifetime, the world, cinema & tastes have moved on a lot since then & I found no enjoyment in this film. I feel this film has dated badly & probably wasn't that good to start with anyway. I never felt for any of the character's, I never cared about anything that was happening & I found it all rather tedious to sit through, I'm sorry if I've offended any silent film fans out there but that's the way I felt.<br /><br />Director Epstein does an OK job, a lot of people ramble on about the imagery in La Chute de la Maison Usher & I will freely admit it definitely has it's moments but I thought they were few & far between. Shots of people's mouths moving & not actually hearing what they say just seemed weird to me, I didn't like the music & the version I saw kept the original French language insert cards which were narrated by guy with the most awful sounding thick French accent which was also off putting. Based on the story by Edgar Allen Poe I doubt this has much resemblance to it apart from one or two basic elements, stick with the fantastic Roger Corman House of Usher starring Vincent Price.<br /><br />Technically the film was OK considering when it was made. You simply cannot tell about the acting as no one ever speaks although the film is full of unnatural exaggerated movements to try & suggest emotions or reflect what's happening which works to an extent but after a while just looks a bit daft.<br /><br />La Chute de la Maison Usher will appeal to those who crave a bygone era, who live in caves or who are stuck in the past, for me I like my films to have a story, not to bore me & to have sound & I'm sorry if that last statement makes me sound like an uneducated idiot but that's how I feel. The world has moved on since 1928 & for the better.\n",
        "====================\n",
        "I commented on this when it first debuted and gave it a \"thumbs in the middle\" review, remarking that I'd give it the benefit of the doubt beyond just the first episode. I've seen a total of six episodes now up to this point in June 2006. And as a lifelong Batman fanatic, I can say without hesitation: this show is utter crap.<br /><br />Everything's wrong with it. Everything. Getting past just the lousy animation and design, the stories are ridiculously convoluted and with no character development or apparent interest by the writers of this dreck to give any substance to any stories.<br /><br />And for God's sake...is it just me, or is the Joker in EVERY EPISODE?? Is Gotham that much of a revolving-door justice system? Or, again, is it just a complete lack of interest in the writers to put any effort into other villains (see \"no character development\", above).<br /><br />And to make matters worse, every single Joker tale is the same 3-part formula.<br /><br />1) Joker gasses people.<br /><br />2) Joker sets out to gas the whole city.<br /><br />3) Batman saves the day.<br /><br />Pfeh.<br /><br />There was one episode I saw that wasn't a Joker story. The title escapes me, but the villain was that nefarious Cluemaster...the \"Think Thank Thunk\" episode with the quiz show. That was the single-worst Batman story I've ever seen, heard or read. Yes, worse than \"I've Got Batman in My Basement.\" <br /><br />I can't really say what I feel this show is because it's probably against the ToS, but it starts with \"B\" and rhymes with \"fastardization\". Thank goodness for the existence of the Timm/Dini/etc. era of Bat-entertainment, back from the Fox and Kids WB days. Stuff that good, and I should have known this, just couldn't possibly have lasted forever, unfortunately.\n",
        "====================\n",
        "When we talk Hollywood Hotel we could be talking about one of three things, the actual hotel, the radio program, and this film which was partially inspired by the first two. Dick Powell was the host of the Hollywood Hotel program on CBS radio network in which Louella Parsons dished out the weekly scoop on the stars.<br /><br />Powell and Parsons debuted the Hollywood Hotel program in 1934 so by 1937 it had its fair share of the radio audience. Powell hosted, sang, and kibitzed with Louella and her movie star guests. With the power she had with her column, she was able to get the various stars to go on and plug their latest films for nothing.<br /><br />Then the American Federation of Radio Artists stepped in and demanded she pay wages accordingly and they won the case. That ended the Hollywood Hotel program in 1938. Of course both Powell and Louella went on to other radio venues. The whole story is covered in the Tony Thomas book, The Films Of Dick Powell.<br /><br />But before the plug was pulled this film came out from Powell's home studio of Warner Brothers inspired by the radio program. Powell plays a singer/saxophonist with the Benny Goodman band who gets signed to a Hollywood contract. But when he gets out to Hollywood he gets himself tangled up with an egotistical film star Lola Lane, her lookalike double real life sister Rosemary Lane, and a ham actor in Alan Mowbray.<br /><br />When Mowbray is called upon to sing in a Civil War epic he's making with Lola Lane, it's Powell's voice they use. Then Mowbray develops a Lina Lamont problem when he's asked to go on the Hollywood Hotel radio program, broadcast from the Hollywood Hotel. That's got the studio in a tizzy. Let's say the problem isn't solved the way it is Singing In The Rain, but Powell's manager Ted Healy proves to be resourceful.<br /><br />Richard Whiting and Johnny Mercer provide a really nice score for the film. The big hit song comes right at the beginning as the Benny Goodman band with scat singing Johnnie Davis sing Hollywood's anthem, Hooray for Hollywood. My favorite however is Powell and Rosemary Lane singing, I'm Like A Fish Out Of Water. Just listening to Johnny Mercer's lyrics about Ginger Rogers running the Brooklyn Dodgers or Sally Rand without her fan, it's a compendium of American popular culture in the Thirties.<br /><br />Busby Berkeley does the choreography here and while the film doesn't have the soaring imaginary stuff that his earlier work with Warner Brothers has, the numbers are well staged. Berkeley's big moment is in a drive-in eatery where Powell and Healy have been forced to take jobs. The number starts with Benny Goodman broadcasting from the Hollywood Hotel doing Let That Be A Lesson To You and then at the drive-in Powell, Lane and the entire place start joining in song to the exasperation of owner Edgar Kennedy. And you know what you can expect from Edgar Kennedy exasperation.<br /><br />Benny Goodman gets to show why he was named the King Of Swing when the band with drummer Gene Krupa and xylophonist Lionel Hampton as part of his ensemble. That together with Frances Langford singing as well. And possibly the last surviving cast member of the group was a fellow who had a small bit as a radio announcer. He died in 2004, but not before he became the 40th President of the United States. Ronald Reagan always credited Dick Powell and Pat O'Brien as being the two guys on Warner Brothers who were the most helpful to an eager young player looking to make his mark.<br /><br />Hollywood Hotel is one delightful and entertaining motion picture, dated, but charmingly so.\n",
        "====================\n",
        "The Mummy's Tomb starts with a review of the events in The Mummy's Hand and then moves the story forward several years and across the ocean to the United States of America where the current high priest and the mummy Kharis set out to wreak havoc and take revenge on those who violated the tomb in the past.<br /><br />While I absolutely loved \"The Mummy\" with Boris Karloff as the mummy Imhotep, and quite liked \"The Mummy's Hand\" with Tom Tyler as Kharis (which is the direct prequel to this film), I was not as taken with \"The Mummy's Tomb\".<br /><br />It is made in a similar style as the previous film and has a somewhat similar plot albeit in a new setting. Lon Chaney Jr is okay as Kharis, but doesn't really stand out. And I guess that's my main criticism of this movie-that nothing really stands out. There's nothing really terrible here, but nothing really outstanding either, so the viewer is left with a rather bland mummy's tale.\n",
        "====================\n",
        "One of the worst films I have ever seen. Got so bored that I switched it off midway through to watch the news. When I switched it back on, I fell asleep. The film starts with a dream, continues with a dream, and ends with a dream. Then there are a few more dreams in between. Come on, what is supposed to keep me interested in that? A film needs to have a reason to be interesting. The minute you felt the film was only a dream is when any sensible film-goer switches off. Ever had someone insist on telling you their dreams and what it means to them? This is it!!!<br /><br />Absolutely awful.\n",
        "====================\n"
       ]
      }
     ],
     "prompt_number": 56
    },
    {
     "cell_type": "code",
     "collapsed": false,
     "input": [
      "for d in imdb.train.data:\n",
      "#     if \"best and worst\" in d.lower():\n",
      "\n",
      "    if \"abhorrent, abominable, appalling, awful\" in d.lower():\n",
      "        print d\n",
      "        print \"=\" * 20"
     ],
     "language": "python",
     "metadata": {},
     "outputs": [
      {
       "output_type": "stream",
       "stream": "stdout",
       "text": [
        "Acting is horrible. This film makes Fast and Furious look like an academy award winning film. They throw a few boobs and butts in there to try and keep you interested despite the EXTREMELY weak and far fetched story. There is a reason why people on the internet aren't even downloading this movie. This movie sunk like an iron turd. DO NOT waste your time renting or even downloading it. This film is and always will be a PERMA-TURD. I am now dumber for having watched it. In fact this title should be referred to as a \"PERMA-TURD\" from now on. Calling it a film is a travesty and insult. abhorrent, abominable, appalling, awful, beastly, cruel, detestable, disagreeable, disgusting, dreadful, eerie, execrable, fairy, fearful, frightful, ghastly, grim, grisly, gruesome, heinous, hideous, horrendous, horrid, loathsome, lousy, lurid, mean, nasty, obnoxious, offensive, repellent, repulsive, revolting, scandalous, scary, shameful, shocking, sickie, terrible, terrifying, ungodly, unholy, unkind\n",
        "====================\n"
       ]
      }
     ],
     "prompt_number": 68
    },
    {
     "cell_type": "code",
     "collapsed": false,
     "input": [],
     "language": "python",
     "metadata": {},
     "outputs": []
    }
   ],
   "metadata": {}
  }
 ]
}